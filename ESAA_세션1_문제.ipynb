{
  "nbformat": 4,
  "nbformat_minor": 0,
  "metadata": {
    "colab": {
      "provenance": [],
      "authorship_tag": "ABX9TyMEMAlw2sUv5r5s/pFGmxUn",
      "include_colab_link": true
    },
    "kernelspec": {
      "name": "python3",
      "display_name": "Python 3"
    },
    "language_info": {
      "name": "python"
    }
  },
  "cells": [
    {
      "cell_type": "markdown",
      "metadata": {
        "id": "view-in-github",
        "colab_type": "text"
      },
      "source": [
        "<a href=\"https://colab.research.google.com/github/Jihyun13579/ESAA/blob/main/ESAA_%EC%84%B8%EC%85%981_%EB%AC%B8%EC%A0%9C.ipynb\" target=\"_parent\"><img src=\"https://colab.research.google.com/assets/colab-badge.svg\" alt=\"Open In Colab\"/></a>"
      ]
    },
    {
      "cell_type": "markdown",
      "source": [
        "**HW #10 (2022. 5. 27 (금) 9:30 AM 수업시간 전까지 제출) - 2129014 박지현**"
      ],
      "metadata": {
        "id": "a_RPfKTe-uaV"
      }
    },
    {
      "cell_type": "markdown",
      "source": [
        "1. 각자의 학번을 입학년도, 학과 코드, 그리고 학과내에서의 번호를 나누어서 출력하시오.\n",
        "* 예시: 0029001의 경우 입학년도는 2000, 학과코드는 29, 학과내 번호는 001임."
      ],
      "metadata": {
        "id": "G8ccVT2b-j1a"
      }
    },
    {
      "cell_type": "code",
      "source": [
        "ID_Stu = '2129014'   #각자의 학번 입력한 것"
      ],
      "metadata": {
        "id": "8u6LVuCW-tCl"
      },
      "execution_count": null,
      "outputs": []
    },
    {
      "cell_type": "markdown",
      "source": [
        "1-1. 입학년도 출력"
      ],
      "metadata": {
        "id": "0jV2FVFp_RSi"
      }
    },
    {
      "cell_type": "code",
      "source": [
        "Year = \"20\" + ID_Stu[0:2]\n",
        "Year"
      ],
      "metadata": {
        "colab": {
          "base_uri": "https://localhost:8080/",
          "height": 35
        },
        "id": "TTFYKVLP_W0l",
        "outputId": "a6303bb3-26e0-48bc-fdf1-a53f8ebb38c4"
      },
      "execution_count": null,
      "outputs": [
        {
          "output_type": "execute_result",
          "data": {
            "text/plain": [
              "'2021'"
            ],
            "application/vnd.google.colaboratory.intrinsic+json": {
              "type": "string"
            }
          },
          "metadata": {},
          "execution_count": 31
        }
      ]
    },
    {
      "cell_type": "markdown",
      "source": [
        "1-2.학과 코드 출력"
      ],
      "metadata": {
        "id": "4NwB7ybWAV-f"
      }
    },
    {
      "cell_type": "code",
      "source": [
        "Depart = ID_Stu[2:4]\n",
        "Depart"
      ],
      "metadata": {
        "colab": {
          "base_uri": "https://localhost:8080/",
          "height": 35
        },
        "id": "2vO-kpBIAbzh",
        "outputId": "b5a5f618-1b71-4547-eb68-75c2d9d21f9a"
      },
      "execution_count": null,
      "outputs": [
        {
          "output_type": "execute_result",
          "data": {
            "text/plain": [
              "'29'"
            ],
            "application/vnd.google.colaboratory.intrinsic+json": {
              "type": "string"
            }
          },
          "metadata": {},
          "execution_count": 30
        }
      ]
    },
    {
      "cell_type": "markdown",
      "source": [
        "1-3.학과 내에서의 번호 출력"
      ],
      "metadata": {
        "id": "OfpL0dO5BCPr"
      }
    },
    {
      "cell_type": "code",
      "source": [
        "Num = ID_Stu[4:]\n",
        "Num"
      ],
      "metadata": {
        "colab": {
          "base_uri": "https://localhost:8080/",
          "height": 35
        },
        "id": "A4mJy50_BsVX",
        "outputId": "600e3a06-33a4-474b-f7f6-219db40bc083"
      },
      "execution_count": null,
      "outputs": [
        {
          "output_type": "execute_result",
          "data": {
            "text/plain": [
              "'014'"
            ],
            "application/vnd.google.colaboratory.intrinsic+json": {
              "type": "string"
            }
          },
          "metadata": {},
          "execution_count": 29
        }
      ]
    },
    {
      "cell_type": "markdown",
      "source": [
        "2. 1의 결과를 StudentID라는 이름의 딕셔너리로 만드시오. 단, 입학년도는 “year”, 학과코\n",
        "드는 “department”, 학과내 번호는 “ID”로 표시.\n",
        "* 예시: “year”는 2000, “department”는 29, “ID”는 001"
      ],
      "metadata": {
        "id": "QrNDveHeBywI"
      }
    },
    {
      "cell_type": "code",
      "source": [
        "StudentID = {'year': Year, 'department': Depart, 'ID': Num}\n",
        "StudentID"
      ],
      "metadata": {
        "colab": {
          "base_uri": "https://localhost:8080/"
        },
        "id": "Epba_x9GB1R0",
        "outputId": "9f3a0492-9a46-4dad-a7f0-e0aba8d31a60"
      },
      "execution_count": null,
      "outputs": [
        {
          "output_type": "stream",
          "name": "stdout",
          "text": [
            "{'year': '2021', 'department': '29', 'ID': '014'}\n"
          ]
        }
      ]
    },
    {
      "cell_type": "markdown",
      "source": [
        "3. 2에서 만든 딕셔너리 StudentID에서 “department”에 해당하는 값을 추출하시오."
      ],
      "metadata": {
        "id": "SI9LY0xtCMLR"
      }
    },
    {
      "cell_type": "code",
      "source": [
        "StudentID.get('department')"
      ],
      "metadata": {
        "colab": {
          "base_uri": "https://localhost:8080/",
          "height": 35
        },
        "id": "NGnHkFyACKBV",
        "outputId": "627b92e4-d174-41c4-aa47-60c300194c43"
      },
      "execution_count": null,
      "outputs": [
        {
          "output_type": "execute_result",
          "data": {
            "text/plain": [
              "'29'"
            ],
            "application/vnd.google.colaboratory.intrinsic+json": {
              "type": "string"
            }
          },
          "metadata": {},
          "execution_count": 32
        }
      ]
    },
    {
      "cell_type": "markdown",
      "source": [
        "4.자연수 13과 14가 각각 소수인지를 python을 이용하여 판별해 보시오. "
      ],
      "metadata": {
        "id": "LHF1o6WMCUDE"
      }
    },
    {
      "cell_type": "markdown",
      "source": [
        "4-1. a = 13, 즉 자연수 13의 경우"
      ],
      "metadata": {
        "id": "yIbdIbAfCXi5"
      }
    },
    {
      "cell_type": "code",
      "source": [
        "a = 13\n",
        "i = 2\n",
        "k = list()\n",
        "for i in range(2,a):\n",
        "  num=0\n",
        "  num = a%i\n",
        "  k.append(num)\n",
        "\n",
        "if 0 in k:\n",
        "  print(\"%d은 소수가 아닙니다.\" % a)\n",
        "else:\n",
        "   print(\"%d은 소수입니다.\" % a)"
      ],
      "metadata": {
        "colab": {
          "base_uri": "https://localhost:8080/"
        },
        "id": "xOYR_3qmCWnV",
        "outputId": "7db2496d-5749-410c-a8a3-c5adb875a20c"
      },
      "execution_count": null,
      "outputs": [
        {
          "output_type": "stream",
          "name": "stdout",
          "text": [
            "13은 소수입니다.\n"
          ]
        }
      ]
    },
    {
      "cell_type": "markdown",
      "source": [
        "4-1. b = 14, 즉 자연수 14의 경우"
      ],
      "metadata": {
        "id": "iwqpLtk7Dz1E"
      }
    },
    {
      "cell_type": "code",
      "source": [
        "b = 14\n",
        "i = 2\n",
        "k = list()\n",
        "for i in range(2,b):\n",
        "  num=0\n",
        "  num = b%i\n",
        "  k.append(num)\n",
        "\n",
        "if 0 in k:\n",
        "  print(\"%d은 소수가 아닙니다.\" % b)\n",
        "else:\n",
        "   print(\"%d은 소수입니다.\" % b)"
      ],
      "metadata": {
        "colab": {
          "base_uri": "https://localhost:8080/"
        },
        "id": "K_L1H9e4CVrA",
        "outputId": "8500f977-2aa2-479e-de50-17825b77a6eb"
      },
      "execution_count": null,
      "outputs": [
        {
          "output_type": "stream",
          "name": "stdout",
          "text": [
            "14은 소수가 아닙니다.\n"
          ]
        }
      ]
    },
    {
      "cell_type": "markdown",
      "source": [
        "5. [‘A’,’C’,’D’,’E’,’H’,’G’,’B’,’F’] 리스트를 ‘ABCDEFGH’ 문자열로 만들어서 출력해 보시오."
      ],
      "metadata": {
        "id": "lPofwtekEByR"
      }
    },
    {
      "cell_type": "code",
      "source": [
        "a = ['A','C','D','E','H','G','B','F']\n",
        "a.sort()\n",
        "\"\".join(a)"
      ],
      "metadata": {
        "colab": {
          "base_uri": "https://localhost:8080/",
          "height": 35
        },
        "id": "IahbHdUgEMZB",
        "outputId": "ff9eef9a-3a11-43bd-8aae-252815bd1d3e"
      },
      "execution_count": null,
      "outputs": [
        {
          "output_type": "execute_result",
          "data": {
            "text/plain": [
              "'ABCDEFGH'"
            ],
            "application/vnd.google.colaboratory.intrinsic+json": {
              "type": "string"
            }
          },
          "metadata": {},
          "execution_count": 57
        }
      ]
    }
  ]
}