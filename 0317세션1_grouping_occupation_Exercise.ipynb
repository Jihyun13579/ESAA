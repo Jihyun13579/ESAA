{
  "nbformat": 4,
  "nbformat_minor": 0,
  "metadata": {
    "kernelspec": {
      "display_name": "Python 2",
      "language": "python",
      "name": "python2"
    },
    "language_info": {
      "codemirror_mode": {
        "name": "ipython",
        "version": 2
      },
      "file_extension": ".py",
      "mimetype": "text/x-python",
      "name": "python",
      "nbconvert_exporter": "python",
      "pygments_lexer": "ipython2",
      "version": "2.7.11"
    },
    "colab": {
      "provenance": [],
      "include_colab_link": true
    }
  },
  "cells": [
    {
      "cell_type": "markdown",
      "metadata": {
        "id": "view-in-github",
        "colab_type": "text"
      },
      "source": [
        "<a href=\"https://colab.research.google.com/github/Jihyun13579/ESAA/blob/main/0317%EC%84%B8%EC%85%981_grouping_occupation_Exercise.ipynb\" target=\"_parent\"><img src=\"https://colab.research.google.com/assets/colab-badge.svg\" alt=\"Open In Colab\"/></a>"
      ]
    },
    {
      "cell_type": "markdown",
      "metadata": {
        "id": "RYQSB73_akvl"
      },
      "source": [
        "# Occupation"
      ]
    },
    {
      "cell_type": "markdown",
      "metadata": {
        "id": "Ez-pV6Jaakvs"
      },
      "source": [
        "### Introduction:\n",
        "\n",
        "Special thanks to: https://github.com/justmarkham for sharing the dataset and materials.\n",
        "\n",
        "### Step 1. Import the necessary libraries"
      ]
    },
    {
      "cell_type": "code",
      "metadata": {
        "id": "s-DFQmeNakvu"
      },
      "source": [
        "import numpy as np\n",
        "import pandas as pd\n"
      ],
      "execution_count": null,
      "outputs": []
    },
    {
      "cell_type": "markdown",
      "metadata": {
        "id": "ShhIzySnakvw"
      },
      "source": [
        "### Step 2. Import the dataset from this [address](https://raw.githubusercontent.com/justmarkham/DAT8/master/data/u.user). "
      ]
    },
    {
      "cell_type": "markdown",
      "metadata": {
        "id": "03hsscjRakvx"
      },
      "source": [
        "### Step 3. Assign it to a variable called users."
      ]
    },
    {
      "cell_type": "code",
      "metadata": {
        "id": "5RdM7Sj-akvy"
      },
      "source": [
        "users = pd.read_csv('https://raw.githubusercontent.com/justmarkham/DAT8/master/data/u.user', sep ='|')"
      ],
      "execution_count": null,
      "outputs": []
    },
    {
      "cell_type": "markdown",
      "metadata": {
        "id": "p4rTx11Sakvz"
      },
      "source": [
        "### Step 4. Discover what is the mean age per occupation"
      ]
    },
    {
      "cell_type": "code",
      "metadata": {
        "id": "PNUZKNafakv1",
        "colab": {
          "base_uri": "https://localhost:8080/"
        },
        "outputId": "9ee4d9f3-6837-4c86-be58-a26fb121535a"
      },
      "source": [
        "users.groupby(\"occupation\").age.mean()"
      ],
      "execution_count": null,
      "outputs": [
        {
          "output_type": "execute_result",
          "data": {
            "text/plain": [
              "occupation\n",
              "administrator    38.746835\n",
              "artist           31.392857\n",
              "doctor           43.571429\n",
              "educator         42.010526\n",
              "engineer         36.388060\n",
              "entertainment    29.222222\n",
              "executive        38.718750\n",
              "healthcare       41.562500\n",
              "homemaker        32.571429\n",
              "lawyer           36.750000\n",
              "librarian        40.000000\n",
              "marketing        37.615385\n",
              "none             26.555556\n",
              "other            34.523810\n",
              "programmer       33.121212\n",
              "retired          63.071429\n",
              "salesman         35.666667\n",
              "scientist        35.548387\n",
              "student          22.081633\n",
              "technician       33.148148\n",
              "writer           36.311111\n",
              "Name: age, dtype: float64"
            ]
          },
          "metadata": {},
          "execution_count": 8
        }
      ]
    },
    {
      "cell_type": "markdown",
      "metadata": {
        "id": "b9Va6b3Qakv3"
      },
      "source": [
        "### Step 5. Discover the Male ratio per occupation and sort it from the most to the least\n",
        "\n",
        "(Define 'function' to solve this probelm)"
      ]
    },
    {
      "cell_type": "code",
      "source": [
        "def gender_to_numeric(x):\n",
        "    if x == 'M':\n",
        "        return 1\n",
        "    if x == 'F':\n",
        "        return 0\n",
        "\n",
        "users['gender_n'] = users['gender'].apply(gender_to_numeric)\n",
        "print(users)\n",
        "a = users.groupby('occupation').gender_n.sum()/users.occupation.value_counts()*100\n",
        "print(a)\n",
        "a.sort_values(ascending=False)\n"
      ],
      "metadata": {
        "colab": {
          "base_uri": "https://localhost:8080/"
        },
        "id": "Q1FSOq0rECgX",
        "outputId": "805ab9d5-c776-413f-e233-4b09b2eb3948"
      },
      "execution_count": null,
      "outputs": [
        {
          "output_type": "stream",
          "name": "stdout",
          "text": [
            "     user_id  age gender     occupation zip_code  gender_n\n",
            "0          1   24      M     technician    85711         1\n",
            "1          2   53      F          other    94043         0\n",
            "2          3   23      M         writer    32067         1\n",
            "3          4   24      M     technician    43537         1\n",
            "4          5   33      F          other    15213         0\n",
            "..       ...  ...    ...            ...      ...       ...\n",
            "938      939   26      F        student    33319         0\n",
            "939      940   32      M  administrator    02215         1\n",
            "940      941   20      M        student    97229         1\n",
            "941      942   48      F      librarian    78209         0\n",
            "942      943   22      M        student    77841         1\n",
            "\n",
            "[943 rows x 6 columns]\n",
            "administrator     54.430380\n",
            "artist            53.571429\n",
            "doctor           100.000000\n",
            "educator          72.631579\n",
            "engineer          97.014925\n",
            "entertainment     88.888889\n",
            "executive         90.625000\n",
            "healthcare        31.250000\n",
            "homemaker         14.285714\n",
            "lawyer            83.333333\n",
            "librarian         43.137255\n",
            "marketing         61.538462\n",
            "none              55.555556\n",
            "other             65.714286\n",
            "programmer        90.909091\n",
            "retired           92.857143\n",
            "salesman          75.000000\n",
            "scientist         90.322581\n",
            "student           69.387755\n",
            "technician        96.296296\n",
            "writer            57.777778\n",
            "dtype: float64\n"
          ]
        },
        {
          "output_type": "execute_result",
          "data": {
            "text/plain": [
              "doctor           100.000000\n",
              "engineer          97.014925\n",
              "technician        96.296296\n",
              "retired           92.857143\n",
              "programmer        90.909091\n",
              "executive         90.625000\n",
              "scientist         90.322581\n",
              "entertainment     88.888889\n",
              "lawyer            83.333333\n",
              "salesman          75.000000\n",
              "educator          72.631579\n",
              "student           69.387755\n",
              "other             65.714286\n",
              "marketing         61.538462\n",
              "writer            57.777778\n",
              "none              55.555556\n",
              "administrator     54.430380\n",
              "artist            53.571429\n",
              "librarian         43.137255\n",
              "healthcare        31.250000\n",
              "homemaker         14.285714\n",
              "dtype: float64"
            ]
          },
          "metadata": {},
          "execution_count": 36
        }
      ]
    },
    {
      "cell_type": "markdown",
      "metadata": {
        "id": "V8iyNzOiakv6"
      },
      "source": [
        "### Step 6. For each occupation, calculate the minimum and maximum ages"
      ]
    },
    {
      "cell_type": "code",
      "metadata": {
        "id": "_XxSd_XWakv7",
        "colab": {
          "base_uri": "https://localhost:8080/"
        },
        "outputId": "5a281844-d661-4006-deb2-5d878b594935"
      },
      "source": [
        "print(users.groupby(\"occupation\").age.max())\n",
        "\n",
        "print(users.groupby(\"occupation\").age.min())"
      ],
      "execution_count": null,
      "outputs": [
        {
          "output_type": "stream",
          "name": "stdout",
          "text": [
            "occupation\n",
            "administrator    70\n",
            "artist           48\n",
            "doctor           64\n",
            "educator         63\n",
            "engineer         70\n",
            "entertainment    50\n",
            "executive        69\n",
            "healthcare       62\n",
            "homemaker        50\n",
            "lawyer           53\n",
            "librarian        69\n",
            "marketing        55\n",
            "none             55\n",
            "other            64\n",
            "programmer       63\n",
            "retired          73\n",
            "salesman         66\n",
            "scientist        55\n",
            "student          42\n",
            "technician       55\n",
            "writer           60\n",
            "Name: age, dtype: int64\n",
            "occupation\n",
            "administrator    21\n",
            "artist           19\n",
            "doctor           28\n",
            "educator         23\n",
            "engineer         22\n",
            "entertainment    15\n",
            "executive        22\n",
            "healthcare       22\n",
            "homemaker        20\n",
            "lawyer           21\n",
            "librarian        23\n",
            "marketing        24\n",
            "none             11\n",
            "other            13\n",
            "programmer       20\n",
            "retired          51\n",
            "salesman         18\n",
            "scientist        23\n",
            "student           7\n",
            "technician       21\n",
            "writer           18\n",
            "Name: age, dtype: int64\n"
          ]
        }
      ]
    },
    {
      "cell_type": "markdown",
      "metadata": {
        "id": "IITVNpN_akv8"
      },
      "source": [
        "### Step 7. For each combination of occupation and gender, calculate the mean age"
      ]
    },
    {
      "cell_type": "code",
      "metadata": {
        "id": "xDKQPz57akv9",
        "colab": {
          "base_uri": "https://localhost:8080/"
        },
        "outputId": "2ac29dec-bb49-4a82-d9a3-f371888bd152"
      },
      "source": [
        "users.groupby([\"occupation\", \"gender\"]).age.mean()"
      ],
      "execution_count": null,
      "outputs": [
        {
          "output_type": "execute_result",
          "data": {
            "text/plain": [
              "occupation     gender\n",
              "administrator  F         40.638889\n",
              "               M         37.162791\n",
              "artist         F         30.307692\n",
              "               M         32.333333\n",
              "doctor         M         43.571429\n",
              "educator       F         39.115385\n",
              "               M         43.101449\n",
              "engineer       F         29.500000\n",
              "               M         36.600000\n",
              "entertainment  F         31.000000\n",
              "               M         29.000000\n",
              "executive      F         44.000000\n",
              "               M         38.172414\n",
              "healthcare     F         39.818182\n",
              "               M         45.400000\n",
              "homemaker      F         34.166667\n",
              "               M         23.000000\n",
              "lawyer         F         39.500000\n",
              "               M         36.200000\n",
              "librarian      F         40.000000\n",
              "               M         40.000000\n",
              "marketing      F         37.200000\n",
              "               M         37.875000\n",
              "none           F         36.500000\n",
              "               M         18.600000\n",
              "other          F         35.472222\n",
              "               M         34.028986\n",
              "programmer     F         32.166667\n",
              "               M         33.216667\n",
              "retired        F         70.000000\n",
              "               M         62.538462\n",
              "salesman       F         27.000000\n",
              "               M         38.555556\n",
              "scientist      F         28.333333\n",
              "               M         36.321429\n",
              "student        F         20.750000\n",
              "               M         22.669118\n",
              "technician     F         38.000000\n",
              "               M         32.961538\n",
              "writer         F         37.631579\n",
              "               M         35.346154\n",
              "Name: age, dtype: float64"
            ]
          },
          "metadata": {},
          "execution_count": 35
        }
      ]
    },
    {
      "cell_type": "markdown",
      "metadata": {
        "id": "6cfimN8Eakv-"
      },
      "source": [
        "### Step 8.  For each occupation present the percentage of women and men"
      ]
    },
    {
      "cell_type": "code",
      "metadata": {
        "id": "jCOC0CHGakv_",
        "colab": {
          "base_uri": "https://localhost:8080/"
        },
        "outputId": "6f25d523-59ea-4ff4-8099-11768c7fd8de"
      },
      "source": [
        "a.sort_values(ascending=False)\n",
        "#남자 비율"
      ],
      "execution_count": null,
      "outputs": [
        {
          "output_type": "execute_result",
          "data": {
            "text/plain": [
              "administrator    45.569620\n",
              "artist           46.428571\n",
              "doctor            0.000000\n",
              "educator         27.368421\n",
              "engineer          2.985075\n",
              "entertainment    11.111111\n",
              "executive         9.375000\n",
              "healthcare       68.750000\n",
              "homemaker        85.714286\n",
              "lawyer           16.666667\n",
              "librarian        56.862745\n",
              "marketing        38.461538\n",
              "none             44.444444\n",
              "other            34.285714\n",
              "programmer        9.090909\n",
              "retired           7.142857\n",
              "salesman         25.000000\n",
              "scientist         9.677419\n",
              "student          30.612245\n",
              "technician        3.703704\n",
              "writer           42.222222\n",
              "dtype: float64"
            ]
          },
          "metadata": {},
          "execution_count": 39
        }
      ]
    },
    {
      "cell_type": "code",
      "source": [
        "b = 100 - a\n",
        "b.sort_values(ascending=False)\n",
        "#여자 비율"
      ],
      "metadata": {
        "colab": {
          "base_uri": "https://localhost:8080/"
        },
        "id": "4xvBZYDyEya6",
        "outputId": "f906be00-6b08-4b9f-97b7-50bf815be4fd"
      },
      "execution_count": null,
      "outputs": [
        {
          "output_type": "execute_result",
          "data": {
            "text/plain": [
              "homemaker        85.714286\n",
              "healthcare       68.750000\n",
              "librarian        56.862745\n",
              "artist           46.428571\n",
              "administrator    45.569620\n",
              "none             44.444444\n",
              "writer           42.222222\n",
              "marketing        38.461538\n",
              "other            34.285714\n",
              "student          30.612245\n",
              "educator         27.368421\n",
              "salesman         25.000000\n",
              "lawyer           16.666667\n",
              "entertainment    11.111111\n",
              "scientist         9.677419\n",
              "executive         9.375000\n",
              "programmer        9.090909\n",
              "retired           7.142857\n",
              "technician        3.703704\n",
              "engineer          2.985075\n",
              "doctor            0.000000\n",
              "dtype: float64"
            ]
          },
          "metadata": {},
          "execution_count": 42
        }
      ]
    }
  ]
}