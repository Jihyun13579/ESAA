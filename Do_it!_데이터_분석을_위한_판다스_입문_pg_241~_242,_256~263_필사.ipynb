{
  "nbformat": 4,
  "nbformat_minor": 0,
  "metadata": {
    "colab": {
      "provenance": [],
      "authorship_tag": "ABX9TyNnSLODwYltkvoLCjtL/zCr",
      "include_colab_link": true
    },
    "kernelspec": {
      "name": "python3",
      "display_name": "Python 3"
    },
    "language_info": {
      "name": "python"
    }
  },
  "cells": [
    {
      "cell_type": "markdown",
      "metadata": {
        "id": "view-in-github",
        "colab_type": "text"
      },
      "source": [
        "<a href=\"https://colab.research.google.com/github/Jihyun13579/ESAA/blob/main/Do_it!_%EB%8D%B0%EC%9D%B4%ED%84%B0_%EB%B6%84%EC%84%9D%EC%9D%84_%EC%9C%84%ED%95%9C_%ED%8C%90%EB%8B%A4%EC%8A%A4_%EC%9E%85%EB%AC%B8_pg_241~_242%2C_256~263_%ED%95%84%EC%82%AC.ipynb\" target=\"_parent\"><img src=\"https://colab.research.google.com/assets/colab-badge.svg\" alt=\"Open In Colab\"/></a>"
      ]
    },
    {
      "cell_type": "markdown",
      "source": [
        "# Do it! 데이터 분석을 위한 판다스 입문 pg. 241~ 242, 256~263 필사"
      ],
      "metadata": {
        "id": "M6jEX45iNrdL"
      }
    },
    {
      "cell_type": "markdown",
      "source": [
        "## CH12. 시계열 데이터\n",
        ": 일정 시간 간격으로 어떤 값을 기록한 데이터(ex. 날씨 관측 데이터, 빌보드 차트 데이터...)에서는 시계열 데이터가 매우 중요"
      ],
      "metadata": {
        "id": "MAOszS90Nvrw"
      }
    },
    {
      "cell_type": "markdown",
      "source": [
        "### 12-1. datetime 오브젝트(pg. 241~ 242)\n",
        "\n",
        "datetime 라이브러리: 날짜와 시간을 처리하는 등의 다양한 기능을 제공하는 파이썬 라이브러리 \n",
        " - date 오브젝트: 날짜 처리\n",
        " - time 오브젝트: 시간 처리\n",
        " - datetime 오브젝트: 날짜와 시간을 모두 처리\n",
        "등의 오브젝트들이 존재"
      ],
      "metadata": {
        "id": "2Y2mFTGAOVfR"
      }
    },
    {
      "cell_type": "markdown",
      "source": [
        "#### datetime 오브젝트 사용하기\n",
        "\n",
        "1. datetime 오브젝트를 사용하기 위해 datetime 라이브러리를 불러옴"
      ],
      "metadata": {
        "id": "DnSDNN40O41G"
      }
    },
    {
      "cell_type": "code",
      "source": [
        "from datetime import datetime"
      ],
      "metadata": {
        "id": "gnnadgopNq8M"
      },
      "execution_count": 1,
      "outputs": []
    },
    {
      "cell_type": "markdown",
      "source": [
        "2. now, today 메서드를 사용 시 아래와 같이 현재 시간 출력 가능"
      ],
      "metadata": {
        "id": "z28YBGc8PNq8"
      }
    },
    {
      "cell_type": "code",
      "execution_count": 2,
      "metadata": {
        "colab": {
          "base_uri": "https://localhost:8080/"
        },
        "id": "ngRfngboNidk",
        "outputId": "eb4229a9-6eb5-420f-db85-ad0c9fd53cd2"
      },
      "outputs": [
        {
          "output_type": "stream",
          "name": "stdout",
          "text": [
            "2023-04-05 15:07:04.303987\n",
            "2023-04-05 15:07:04.305083\n"
          ]
        }
      ],
      "source": [
        "now1 = datetime.now()\n",
        "print(now1)\n",
        "\n",
        "now2 = datetime.today()\n",
        "print(now2)"
      ]
    },
    {
      "cell_type": "markdown",
      "source": [
        "3. datetime 오브젝트 생성할 때 시간 직접 입력하여 인자로 전달한 것\n",
        "> 각 변수를 출력하여 확인 시, 입력한 시간 바탕으로 datetime 오브젝트가 생성된 것 확인 가능"
      ],
      "metadata": {
        "id": "qXdATufjPe50"
      }
    },
    {
      "cell_type": "code",
      "source": [
        "t1 = datetime.now()\n",
        "t2 = datetime(1970, 1, 1)\n",
        "t3 = datetime(1960, 12, 12, 13, 24, 34)\n",
        "\n",
        "print(t1)\n",
        "print(t2)\n",
        "print(t3)"
      ],
      "metadata": {
        "colab": {
          "base_uri": "https://localhost:8080/"
        },
        "id": "cwOYUtFhPc7S",
        "outputId": "a6beea45-eaf4-4874-fe8c-35c53de36a0a"
      },
      "execution_count": 3,
      "outputs": [
        {
          "output_type": "stream",
          "name": "stdout",
          "text": [
            "2023-04-05 15:07:04.344147\n",
            "1970-01-01 00:00:00\n",
            "1960-12-12 13:24:34\n"
          ]
        }
      ]
    },
    {
      "cell_type": "markdown",
      "source": [
        "4. datetime 오브젝트 사용 시, 시간 계산 가능"
      ],
      "metadata": {
        "id": "-akUCy9CQg4G"
      }
    },
    {
      "cell_type": "code",
      "source": [
        "# 두 datetime 오브젝트의 차이 알 수 있는 예시\n",
        "\n",
        "diff1 = t1 - t2\n",
        "\n",
        "print(diff1)\n",
        "print(type(diff1))\n",
        "\n",
        "diff2 = t2 - t1\n",
        "\n",
        "print(diff2)\n",
        "print(type(diff2))"
      ],
      "metadata": {
        "colab": {
          "base_uri": "https://localhost:8080/"
        },
        "id": "jhSsmcXDQXNZ",
        "outputId": "60c4aac3-7444-4787-ed14-b1b63cd501ae"
      },
      "execution_count": 4,
      "outputs": [
        {
          "output_type": "stream",
          "name": "stdout",
          "text": [
            "19452 days, 15:07:04.344147\n",
            "<class 'datetime.timedelta'>\n",
            "-19453 days, 8:52:55.655853\n",
            "<class 'datetime.timedelta'>\n"
          ]
        }
      ]
    },
    {
      "cell_type": "markdown",
      "source": [
        "### 12-2. 사례별 시계열 데이터 계산하기(pg.256~263)"
      ],
      "metadata": {
        "id": "Z8Y9jJE9RH2l"
      }
    },
    {
      "cell_type": "markdown",
      "source": [
        "#### 테슬라 주식 데이터로 시간 계산하기\n",
        "\n",
        "- pandas-datareader 라이브러리로 주식 데이터 불러오기"
      ],
      "metadata": {
        "id": "tIx7lFyMRRAl"
      }
    },
    {
      "cell_type": "code",
      "source": [
        "!pip install pandas-datareader"
      ],
      "metadata": {
        "colab": {
          "base_uri": "https://localhost:8080/"
        },
        "id": "2hK0i0ucQ9zr",
        "outputId": "69097a65-7c10-48b5-b869-037bf2e0ad74"
      },
      "execution_count": 5,
      "outputs": [
        {
          "output_type": "stream",
          "name": "stdout",
          "text": [
            "Looking in indexes: https://pypi.org/simple, https://us-python.pkg.dev/colab-wheels/public/simple/\n",
            "Requirement already satisfied: pandas-datareader in /usr/local/lib/python3.9/dist-packages (0.10.0)\n",
            "Requirement already satisfied: requests>=2.19.0 in /usr/local/lib/python3.9/dist-packages (from pandas-datareader) (2.27.1)\n",
            "Requirement already satisfied: lxml in /usr/local/lib/python3.9/dist-packages (from pandas-datareader) (4.9.2)\n",
            "Requirement already satisfied: pandas>=0.23 in /usr/local/lib/python3.9/dist-packages (from pandas-datareader) (1.4.4)\n",
            "Requirement already satisfied: pytz>=2020.1 in /usr/local/lib/python3.9/dist-packages (from pandas>=0.23->pandas-datareader) (2022.7.1)\n",
            "Requirement already satisfied: python-dateutil>=2.8.1 in /usr/local/lib/python3.9/dist-packages (from pandas>=0.23->pandas-datareader) (2.8.2)\n",
            "Requirement already satisfied: numpy>=1.18.5 in /usr/local/lib/python3.9/dist-packages (from pandas>=0.23->pandas-datareader) (1.22.4)\n",
            "Requirement already satisfied: charset-normalizer~=2.0.0 in /usr/local/lib/python3.9/dist-packages (from requests>=2.19.0->pandas-datareader) (2.0.12)\n",
            "Requirement already satisfied: certifi>=2017.4.17 in /usr/local/lib/python3.9/dist-packages (from requests>=2.19.0->pandas-datareader) (2022.12.7)\n",
            "Requirement already satisfied: idna<4,>=2.5 in /usr/local/lib/python3.9/dist-packages (from requests>=2.19.0->pandas-datareader) (3.4)\n",
            "Requirement already satisfied: urllib3<1.27,>=1.21.1 in /usr/local/lib/python3.9/dist-packages (from requests>=2.19.0->pandas-datareader) (1.26.15)\n",
            "Requirement already satisfied: six>=1.5 in /usr/local/lib/python3.9/dist-packages (from python-dateutil>=2.8.1->pandas>=0.23->pandas-datareader) (1.16.0)\n"
          ]
        }
      ]
    },
    {
      "cell_type": "markdown",
      "source": [
        "1. get_data_quanal 메서드에 TSLA 문자열 전달 > 테슬라 주식 데이터 내려받기 & to_csv 메서드: data 폴더 안에 'tesIa_stock_quandl.csv' \n",
        "라는 이 름으로 저 장"
      ],
      "metadata": {
        "id": "KSRV8Q9ERrNP"
      }
    },
    {
      "cell_type": "code",
      "source": [
        "import pandas as pd\n",
        "\n",
        "pd.core.common.is_list_like = pd.api.types.is_list_like\n",
        "import pandas_datareader as pdr\n",
        "\n",
        "# tesla에는 데이터프레임이 저장됩니다.\n",
        "#tesla = pdr.get_data_quandl('TSLA', api_key = '받은 key')\n",
        "# tesla에 저장된 데이터프레임을 파일로 저장합니다 .\n",
        "#tesla.to_csv('tesla_stock_quandl.csv')\n",
        "\n",
        "tesla = pd.read_csv('/content/tesla_stock_quandl.csv')"
      ],
      "metadata": {
        "id": "_Chnvfc1Rat7"
      },
      "execution_count": 7,
      "outputs": []
    },
    {
      "cell_type": "markdown",
      "source": [
        "2. teska 데이터프레임의 Date 열: 문자열 > datetime 오브젝트로 자료형 변환해야 시간 계산 가능"
      ],
      "metadata": {
        "id": "QUhdsJi1VUMi"
      }
    },
    {
      "cell_type": "code",
      "source": [
        "print(tesla.head( ))"
      ],
      "metadata": {
        "colab": {
          "base_uri": "https://localhost:8080/"
        },
        "id": "4iDOO5tETnsy",
        "outputId": "844e98ee-c03c-4be4-a4af-b399e028f1fa"
      },
      "execution_count": 8,
      "outputs": [
        {
          "output_type": "stream",
          "name": "stdout",
          "text": [
            "         Date    Open    High     Low   Close    Volume  ExDividend  \\\n",
            "0  2018-03-27  304.00  304.27  277.18  279.18  13696168           0   \n",
            "1  2018-03-26  307.34  307.59  291.36  304.18   8324639           0   \n",
            "2  2018-03-23  311.25  311.61  300.45  301.54   6600538           0   \n",
            "3  2018-03-22  313.89  318.82  308.18  309.10   4914307           0   \n",
            "4  2018-03-21  310.25  322.44  310.19  316.53   5927881           0   \n",
            "\n",
            "   SplitRatio  AdjOpen  AdjHigh  AdjLow  AdjClose  AdjVolume  \n",
            "0           1   304.00   304.27  277.18    279.18   13696168  \n",
            "1           1   307.34   307.59  291.36    304.18    8324639  \n",
            "2           1   311.25   311.61  300.45    301.54    6600538  \n",
            "3           1   313.89   318.82  308.18    309.10    4914307  \n",
            "4           1   310.25   322.44  310.19    316.53    5927881  \n"
          ]
        }
      ]
    },
    {
      "cell_type": "markdown",
      "source": [
        "3. Date 열을 Datetime 형으로 변환\n",
        ": read_csv 메서드로 데이터 집합 불러올 때 parse_dates 인자에 Date 열 전달하기"
      ],
      "metadata": {
        "id": "pHKPQtB7tfsP"
      }
    },
    {
      "cell_type": "code",
      "source": [
        "tesla = pd.read_csv('/content/tesla_stock_quandl.csv', parse_dates=[0])\n",
        "print(tesla.info())"
      ],
      "metadata": {
        "id": "8SLCQkKbVfMw",
        "colab": {
          "base_uri": "https://localhost:8080/"
        },
        "outputId": "ccf2be1e-d680-4025-990c-3e68e19b4b05"
      },
      "execution_count": 9,
      "outputs": [
        {
          "output_type": "stream",
          "name": "stdout",
          "text": [
            "<class 'pandas.core.frame.DataFrame'>\n",
            "RangeIndex: 1949 entries, 0 to 1948\n",
            "Data columns (total 13 columns):\n",
            " #   Column      Non-Null Count  Dtype         \n",
            "---  ------      --------------  -----         \n",
            " 0   Date        1949 non-null   datetime64[ns]\n",
            " 1   Open        1949 non-null   float64       \n",
            " 2   High        1949 non-null   float64       \n",
            " 3   Low         1949 non-null   float64       \n",
            " 4   Close       1949 non-null   float64       \n",
            " 5   Volume      1949 non-null   int64         \n",
            " 6   ExDividend  1949 non-null   int64         \n",
            " 7   SplitRatio  1949 non-null   int64         \n",
            " 8   AdjOpen     1949 non-null   float64       \n",
            " 9   AdjHigh     1949 non-null   float64       \n",
            " 10  AdjLow      1949 non-null   float64       \n",
            " 11  AdjClose    1949 non-null   float64       \n",
            " 12  AdjVolume   1949 non-null   int64         \n",
            "dtypes: datetime64[ns](1), float64(8), int64(4)\n",
            "memory usage: 198.1 KB\n",
            "None\n"
          ]
        }
      ]
    },
    {
      "cell_type": "markdown",
      "source": [
        "4. Date 열의 자료형이 datetime 오브젝트로 변환된 것을 확인할 수 있음 > dt 접근자 사용 가능\n",
        "\n",
        "- 불린 추출로 2010.06 데이터만 추출한 식"
      ],
      "metadata": {
        "id": "NeCQuHmJ9XII"
      }
    },
    {
      "cell_type": "code",
      "source": [
        "print(tesla.loc[(tesla.Date.dt.year == 2010) & (tesla.Date.dt.month == 6)])"
      ],
      "metadata": {
        "id": "JFwiH01SV2Xb",
        "colab": {
          "base_uri": "https://localhost:8080/"
        },
        "outputId": "ca0d716e-8be9-45f6-f688-5259965b7095"
      },
      "execution_count": 10,
      "outputs": [
        {
          "output_type": "stream",
          "name": "stdout",
          "text": [
            "           Date   Open     High    Low  Close    Volume  ExDividend  \\\n",
            "1947 2010-06-30  25.79  30.4192  23.30  23.83  17187100           0   \n",
            "1948 2010-06-29  19.00  25.0000  17.54  23.89  18766300           0   \n",
            "\n",
            "      SplitRatio  AdjOpen  AdjHigh  AdjLow  AdjClose  AdjVolume  \n",
            "1947           1    25.79  30.4192   23.30     23.83   17187100  \n",
            "1948           1    19.00  25.0000   17.54     23.89   18766300  \n"
          ]
        }
      ]
    },
    {
      "cell_type": "markdown",
      "source": [
        "### datetime 오브젝트와 인덱스 - DatetimeIndex\n",
        "\n",
        "datetime 오브젝트를 데이터프레임의 인덱스로 설정 시, 원하는 시간의 데이터 바로 추출 가능"
      ],
      "metadata": {
        "id": "KxV0o6cB9_wW"
      }
    },
    {
      "cell_type": "markdown",
      "source": [
        "#### datetime 오브젝트를 인덱스로 설정해 데이터 추출하기\n",
        "\n",
        "1. Date 열을 tesla 데이터 프레임의 인덱스로 지정하기"
      ],
      "metadata": {
        "id": "Vnuyzz_V-MGj"
      }
    },
    {
      "cell_type": "code",
      "source": [
        "tesla.index = tesla['Date']\n",
        "print(tesla.index)"
      ],
      "metadata": {
        "colab": {
          "base_uri": "https://localhost:8080/"
        },
        "id": "3MYrtO_l9-Ok",
        "outputId": "1cfaf9ce-8865-42d0-9b6e-68e5da2d5476"
      },
      "execution_count": 11,
      "outputs": [
        {
          "output_type": "stream",
          "name": "stdout",
          "text": [
            "DatetimeIndex(['2018-03-27', '2018-03-26', '2018-03-23', '2018-03-22',\n",
            "               '2018-03-21', '2018-03-20', '2018-03-19', '2018-03-16',\n",
            "               '2018-03-15', '2018-03-14',\n",
            "               ...\n",
            "               '2010-07-13', '2010-07-12', '2010-07-09', '2010-07-08',\n",
            "               '2010-07-07', '2010-07-06', '2010-07-02', '2010-07-01',\n",
            "               '2010-06-30', '2010-06-29'],\n",
            "              dtype='datetime64[ns]', name='Date', length=1949, freq=None)\n"
          ]
        }
      ]
    },
    {
      "cell_type": "markdown",
      "source": [
        "2. datetime 오브젝트 인덱스로 지정했을 때, 원하는 시간의 데이터를 바로 추출하는 방법 - 2015년 데이터 추출하기"
      ],
      "metadata": {
        "id": "nfaVBO9I-dml"
      }
    },
    {
      "cell_type": "code",
      "source": [
        "print(tesla['2015'].iloc[:5, :5])"
      ],
      "metadata": {
        "colab": {
          "base_uri": "https://localhost:8080/"
        },
        "id": "L_-n63AR-chZ",
        "outputId": "9570da9c-48c2-43b4-afc3-bf4f22ce76ea"
      },
      "execution_count": 12,
      "outputs": [
        {
          "output_type": "stream",
          "name": "stdout",
          "text": [
            "                 Date    Open     High       Low   Close\n",
            "Date                                                    \n",
            "2015-12-31 2015-12-31  238.51  243.450  238.3700  240.01\n",
            "2015-12-30 2015-12-30  236.60  243.634  235.6707  238.09\n",
            "2015-12-29 2015-12-29  230.06  237.720  229.5470  237.19\n",
            "2015-12-28 2015-12-28  231.49  231.980  225.5400  228.95\n",
            "2015-12-24 2015-12-24  230.56  231.880  228.2800  230.57\n"
          ]
        },
        {
          "output_type": "stream",
          "name": "stderr",
          "text": [
            "<ipython-input-12-846783a4896c>:1: FutureWarning: Indexing a DataFrame with a datetimelike index using a single string to slice the rows, like `frame[string]`, is deprecated and will be removed in a future version. Use `frame.loc[string]` instead.\n",
            "  print(tesla['2015'].iloc[:5, :5])\n"
          ]
        }
      ]
    },
    {
      "cell_type": "markdown",
      "source": [
        "3. 2010.06 의 데이터 추출하기"
      ],
      "metadata": {
        "id": "NDtCNEaB-rwx"
      }
    },
    {
      "cell_type": "code",
      "source": [
        "print(tesla['2010-06'].iloc[:, :5])"
      ],
      "metadata": {
        "colab": {
          "base_uri": "https://localhost:8080/"
        },
        "id": "swjM_6YR-rA8",
        "outputId": "d5229c3a-e34d-47e6-83bb-0bc01f69210c"
      },
      "execution_count": 13,
      "outputs": [
        {
          "output_type": "stream",
          "name": "stdout",
          "text": [
            "                 Date   Open     High    Low  Close\n",
            "Date                                               \n",
            "2010-06-30 2010-06-30  25.79  30.4192  23.30  23.83\n",
            "2010-06-29 2010-06-29  19.00  25.0000  17.54  23.89\n"
          ]
        },
        {
          "output_type": "stream",
          "name": "stderr",
          "text": [
            "<ipython-input-13-01bd23607ac5>:1: FutureWarning: Indexing a DataFrame with a datetimelike index using a single string to slice the rows, like `frame[string]`, is deprecated and will be removed in a future version. Use `frame.loc[string]` instead.\n",
            "  print(tesla['2010-06'].iloc[:, :5])\n"
          ]
        }
      ]
    },
    {
      "cell_type": "markdown",
      "source": [
        "### 시간 간격과 인덱스 - TimedeltaIndex\n",
        "\n",
        "- 시간 간격(ex.최초 5일간)을 인덱스로 지정하여 데이터 추출하기"
      ],
      "metadata": {
        "id": "OnC5RR7C-1uc"
      }
    },
    {
      "cell_type": "markdown",
      "source": [
        "#### 시간 간격을 인덱스로 지정해 데이터 추출하기\n",
        "\n",
        "1. Date 열에서 Date 열의 최솟값(2010-06-29) 뺀 다음 ref_date 열로 추가하기"
      ],
      "metadata": {
        "id": "Bjzu_nsL_Fqr"
      }
    },
    {
      "cell_type": "code",
      "source": [
        "tesla['ref_date'] = tesla['Date'] - tesla['Date'].min()\n",
        "print(tesla.head())"
      ],
      "metadata": {
        "colab": {
          "base_uri": "https://localhost:8080/"
        },
        "id": "jARq8gFt-0z_",
        "outputId": "20f95cd6-cdab-4f33-8e61-5b48faa01662"
      },
      "execution_count": 14,
      "outputs": [
        {
          "output_type": "stream",
          "name": "stdout",
          "text": [
            "                 Date    Open    High     Low   Close    Volume  ExDividend  \\\n",
            "Date                                                                          \n",
            "2018-03-27 2018-03-27  304.00  304.27  277.18  279.18  13696168           0   \n",
            "2018-03-26 2018-03-26  307.34  307.59  291.36  304.18   8324639           0   \n",
            "2018-03-23 2018-03-23  311.25  311.61  300.45  301.54   6600538           0   \n",
            "2018-03-22 2018-03-22  313.89  318.82  308.18  309.10   4914307           0   \n",
            "2018-03-21 2018-03-21  310.25  322.44  310.19  316.53   5927881           0   \n",
            "\n",
            "            SplitRatio  AdjOpen  AdjHigh  AdjLow  AdjClose  AdjVolume  \\\n",
            "Date                                                                    \n",
            "2018-03-27           1   304.00   304.27  277.18    279.18   13696168   \n",
            "2018-03-26           1   307.34   307.59  291.36    304.18    8324639   \n",
            "2018-03-23           1   311.25   311.61  300.45    301.54    6600538   \n",
            "2018-03-22           1   313.89   318.82  308.18    309.10    4914307   \n",
            "2018-03-21           1   310.25   322.44  310.19    316.53    5927881   \n",
            "\n",
            "            ref_date  \n",
            "Date                  \n",
            "2018-03-27 2828 days  \n",
            "2018-03-26 2827 days  \n",
            "2018-03-23 2824 days  \n",
            "2018-03-22 2823 days  \n",
            "2018-03-21 2822 days  \n"
          ]
        }
      ]
    },
    {
      "cell_type": "markdown",
      "source": [
        "2. ref_date열을 인덱스로 지정 > 시간 간격(ref_date) 이용하여 데이터 추출 가능해짐"
      ],
      "metadata": {
        "id": "22hbCy-aCaEo"
      }
    },
    {
      "cell_type": "code",
      "source": [
        "tesla.index = tesla['ref_date']\n",
        "print(tesla.iloc[:5,:5])"
      ],
      "metadata": {
        "colab": {
          "base_uri": "https://localhost:8080/"
        },
        "id": "6F8QJHyW_adh",
        "outputId": "f17c0409-83ee-4000-af03-fbbc3941e406"
      },
      "execution_count": 15,
      "outputs": [
        {
          "output_type": "stream",
          "name": "stdout",
          "text": [
            "                Date    Open    High     Low   Close\n",
            "ref_date                                            \n",
            "2828 days 2018-03-27  304.00  304.27  277.18  279.18\n",
            "2827 days 2018-03-26  307.34  307.59  291.36  304.18\n",
            "2824 days 2018-03-23  311.25  311.61  300.45  301.54\n",
            "2823 days 2018-03-22  313.89  318.82  308.18  309.10\n",
            "2822 days 2018-03-21  310.25  322.44  310.19  316.53\n"
          ]
        }
      ]
    },
    {
      "cell_type": "markdown",
      "source": [
        "3. 데이터를 수집한 이후 최초 5일의 데이터를 추출하기"
      ],
      "metadata": {
        "id": "Xm2-fKgfDGU0"
      }
    },
    {
      "cell_type": "code",
      "source": [
        "print(tesla['5 days':].iloc[:5, :5])"
      ],
      "metadata": {
        "colab": {
          "base_uri": "https://localhost:8080/"
        },
        "id": "gZH2AhJHCsCR",
        "outputId": "9b05f96d-4c3d-431b-b532-2ceb752e73b3"
      },
      "execution_count": 16,
      "outputs": [
        {
          "output_type": "stream",
          "name": "stdout",
          "text": [
            "               Date   Open     High    Low  Close\n",
            "ref_date                                         \n",
            "3 days   2010-07-02  23.00  23.1000  18.71  19.20\n",
            "2 days   2010-07-01  25.00  25.9200  20.27  21.96\n",
            "1 days   2010-06-30  25.79  30.4192  23.30  23.83\n",
            "0 days   2010-06-29  19.00  25.0000  17.54  23.89\n"
          ]
        }
      ]
    },
    {
      "cell_type": "markdown",
      "source": [
        "### 시간 범위와 인덱스\n",
        "\n",
        "특정 일에 누락된 데이터도 포함시켜 데이터를 살펴보기 > 임의로 시간 범위 생성하여 인덱스로 지정 필요"
      ],
      "metadata": {
        "id": "AMxBBmNhDVOg"
      }
    },
    {
      "cell_type": "markdown",
      "source": [
        "#### 시간 범위 생성해 인덱스로 지정하기\n",
        "\n",
        "1. 에볼라 데이터 집합 살펴보기 - 2015.01.01. 데이터 누락 확인 가능"
      ],
      "metadata": {
        "id": "8S51qiOlDenl"
      }
    },
    {
      "cell_type": "code",
      "source": [
        "ebola = pd.read_csv('/content/country_timeseries.csv', parse_dates=[0])\n",
        "print(ebola.iloc[:5, :5])"
      ],
      "metadata": {
        "colab": {
          "base_uri": "https://localhost:8080/"
        },
        "id": "whTkMG-zDSdY",
        "outputId": "5eb6f2a5-cdc0-43b4-e39e-5792447c4d44"
      },
      "execution_count": 18,
      "outputs": [
        {
          "output_type": "stream",
          "name": "stdout",
          "text": [
            "        Date  Day  Cases_Guinea  Cases_Liberia  Cases_SierraLeone\n",
            "0 2015-01-05  289        2776.0            NaN            10030.0\n",
            "1 2015-01-04  288        2775.0            NaN             9780.0\n",
            "2 2015-01-03  287        2769.0         8166.0             9722.0\n",
            "3 2015-01-02  286           NaN         8157.0                NaN\n",
            "4 2014-12-31  284        2730.0         8115.0             9633.0\n"
          ]
        }
      ]
    },
    {
      "cell_type": "markdown",
      "source": [
        "2. 에볼라의 뒤쪽 데이터 : 2014.03.23 데이터 누락 확인 가능"
      ],
      "metadata": {
        "id": "XSQi-IlQEHaz"
      }
    },
    {
      "cell_type": "code",
      "source": [
        "print(ebola.iloc[-5:, :5])"
      ],
      "metadata": {
        "colab": {
          "base_uri": "https://localhost:8080/"
        },
        "id": "CRZ_fxaZEFLZ",
        "outputId": "59aa64ae-cde7-47e8-ffe7-6dcd45c0c189"
      },
      "execution_count": 19,
      "outputs": [
        {
          "output_type": "stream",
          "name": "stdout",
          "text": [
            "          Date  Day  Cases_Guinea  Cases_Liberia  Cases_SierraLeone\n",
            "117 2014-03-27    5         103.0            8.0                6.0\n",
            "118 2014-03-26    4          86.0            NaN                NaN\n",
            "119 2014-03-25    3          86.0            NaN                NaN\n",
            "120 2014-03-24    2          86.0            NaN                NaN\n",
            "121 2014-03-22    0          49.0            NaN                NaN\n"
          ]
        }
      ]
    },
    {
      "cell_type": "markdown",
      "source": [
        "3. date_range 메서드 > 2014.12.31 ~ 2015.01.05 사이의 시간 인덱스 생성하기"
      ],
      "metadata": {
        "id": "I72KAth1GUOC"
      }
    },
    {
      "cell_type": "code",
      "source": [
        "head_range = pd.date_range(start='2014-12-31', end='2015-01-05')\n",
        "print(head_range)"
      ],
      "metadata": {
        "colab": {
          "base_uri": "https://localhost:8080/"
        },
        "id": "UB7CEGrvEQrD",
        "outputId": "60fd2140-b249-4033-ae1b-3b2221107f28"
      },
      "execution_count": 22,
      "outputs": [
        {
          "output_type": "stream",
          "name": "stdout",
          "text": [
            "DatetimeIndex(['2014-12-31', '2015-01-01', '2015-01-02', '2015-01-03',\n",
            "               '2015-01-04', '2015-01-05'],\n",
            "              dtype='datetime64[ns]', freq='D')\n"
          ]
        }
      ]
    },
    {
      "cell_type": "markdown",
      "source": [
        "4. ebola 데이터프레임의 앞쪽 5개의 데이터를 추출하여 새로운 데이터프레임 만들기 - Date 열 인덱스로 지정 > 3에서 생성한 시간 범위 인덱스로 지정\n",
        "\n",
        "이때, Date 열을 인덱스로 먼저 지정하지 않을 시, 오류 발생"
      ],
      "metadata": {
        "id": "gy1XIdnvGzTG"
      }
    },
    {
      "cell_type": "code",
      "source": [
        "ebola_5 = ebola.head( ) \n",
        "ebola_5.index = ebola_5['Date']\n",
        "ebola_5.reindex(head_range) \n",
        "print(ebola_5.iloc[:5, :5])"
      ],
      "metadata": {
        "colab": {
          "base_uri": "https://localhost:8080/"
        },
        "id": "gsgdSZrvGoja",
        "outputId": "f5d8e093-7990-47ae-88f1-0ae2f7027359"
      },
      "execution_count": 23,
      "outputs": [
        {
          "output_type": "stream",
          "name": "stdout",
          "text": [
            "                 Date  Day  Cases_Guinea  Cases_Liberia  Cases_SierraLeone\n",
            "Date                                                                      \n",
            "2015-01-05 2015-01-05  289        2776.0            NaN            10030.0\n",
            "2015-01-04 2015-01-04  288        2775.0            NaN             9780.0\n",
            "2015-01-03 2015-01-03  287        2769.0         8166.0             9722.0\n",
            "2015-01-02 2015-01-02  286           NaN         8157.0                NaN\n",
            "2014-12-31 2014-12-31  284        2730.0         8115.0             9633.0\n"
          ]
        }
      ]
    },
    {
      "cell_type": "markdown",
      "source": [
        "### 시간 범위의 주기 설정하기\n",
        "\n",
        "시간 범위 인덱스로 지정 시, **DatetimeIndex** 자료형이 만들어짐\n",
        "\n",
        "DatetimeIndex\n",
        "- freq 속성 포함되어 있음 > freq 속성값 지정 시 시간 간격 조절하여 DatetimeIndex 생성 가능 \n",
        "\n",
        "> freq 속성값으로 사용할 수 있는 시간 주기\n",
        ": **Pg.263 참고!**"
      ],
      "metadata": {
        "id": "ryq8SHpWHSZ8"
      }
    }
  ]
}