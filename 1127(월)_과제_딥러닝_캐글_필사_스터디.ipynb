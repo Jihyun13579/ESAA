{
  "nbformat": 4,
  "nbformat_minor": 0,
  "metadata": {
    "colab": {
      "provenance": [],
      "authorship_tag": "ABX9TyMsfRtfluIw0nq8H4Hs1hB6",
      "include_colab_link": true
    },
    "kernelspec": {
      "name": "python3",
      "display_name": "Python 3"
    },
    "language_info": {
      "name": "python"
    }
  },
  "cells": [
    {
      "cell_type": "markdown",
      "metadata": {
        "id": "view-in-github",
        "colab_type": "text"
      },
      "source": [
        "<a href=\"https://colab.research.google.com/github/Jihyun13579/ESAA/blob/main/1127(%EC%9B%94)_%EA%B3%BC%EC%A0%9C_%EB%94%A5%EB%9F%AC%EB%8B%9D_%EC%BA%90%EA%B8%80_%ED%95%84%EC%82%AC_%EC%8A%A4%ED%84%B0%EB%94%94.ipynb\" target=\"_parent\"><img src=\"https://colab.research.google.com/assets/colab-badge.svg\" alt=\"Open In Colab\"/></a>"
      ]
    },
    {
      "cell_type": "markdown",
      "source": [
        "# 1127(월) 과제_딥러닝_캐글 필사 스터디\n",
        "### 2129014 박지현\n",
        "\n",
        "\n",
        "\n",
        "- 데이터가 큰 관계로, 필사만 진행함"
      ],
      "metadata": {
        "id": "H_xqKJYnDPx5"
      }
    },
    {
      "cell_type": "markdown",
      "source": [
        "# 1. Import Library"
      ],
      "metadata": {
        "id": "gl1YUnAJVlQu"
      }
    },
    {
      "cell_type": "code",
      "execution_count": null,
      "metadata": {
        "id": "TH1b2uJYVhuj"
      },
      "outputs": [],
      "source": [
        "import numpy as np\n",
        "import pandas as pd\n",
        "from keras.preprocessing.image import ImageDataGenerator, load_img\n",
        "from keras.utils import to_categorical\n",
        "from sklearn.model_selection import train_test_split\n",
        "import matplotlib.pyplot as plt\n",
        "import random\n",
        "import os\n",
        "print(os.listdir(\"../input\"))"
      ]
    },
    {
      "cell_type": "markdown",
      "source": [
        "# 2. Degine Constants"
      ],
      "metadata": {
        "id": "cn6F3k_iZoGc"
      }
    },
    {
      "cell_type": "code",
      "source": [
        "FAST_RUN = False\n",
        "IMAGE_WIDTH=128\n",
        "IMAGE_HEIGHT=128\n",
        "IMAGE_SIZE=(IMAGE_WIDTH, IMAGE_HEIGHT)\n",
        "IMAGE_CHANNELS=3"
      ],
      "metadata": {
        "id": "Qg5PASBsZrl-"
      },
      "execution_count": null,
      "outputs": []
    },
    {
      "cell_type": "markdown",
      "source": [
        "# 3. Prepare Traning Data\n",
        "\n"
      ],
      "metadata": {
        "id": "YcsisKkIZuEA"
      }
    },
    {
      "cell_type": "code",
      "source": [
        "filenames = os.listdir(\"../input/train/train\")\n",
        "categories = []\n",
        "for filename in filenames:\n",
        "    category = filename.split('.')[0]\n",
        "    if category == 'dog':\n",
        "        categories.append(1)\n",
        "    else:\n",
        "        categories.append(0)\n",
        "\n",
        "df = pd.DataFrame({\n",
        "    'filename': filenames,\n",
        "    'category': categories\n",
        "})"
      ],
      "metadata": {
        "id": "f-OF6KDOZrvG"
      },
      "execution_count": null,
      "outputs": []
    },
    {
      "cell_type": "code",
      "source": [
        "df.head()"
      ],
      "metadata": {
        "id": "hrq-ghRbZrrw"
      },
      "execution_count": null,
      "outputs": []
    },
    {
      "cell_type": "code",
      "source": [
        "df.tail()"
      ],
      "metadata": {
        "id": "BQhVIVpVaL88"
      },
      "execution_count": null,
      "outputs": []
    },
    {
      "cell_type": "markdown",
      "source": [
        "### 3-1. 그래프를 통해 조금 더 살펴보기"
      ],
      "metadata": {
        "id": "eGS_4eiGaQNy"
      }
    },
    {
      "cell_type": "code",
      "source": [
        "df['category'].value_counts().plot.bar()"
      ],
      "metadata": {
        "id": "HS2ae0jjaL5g"
      },
      "execution_count": null,
      "outputs": []
    },
    {
      "cell_type": "markdown",
      "source": [
        "# 4. See sample image"
      ],
      "metadata": {
        "id": "8PN-lHFYabEB"
      }
    },
    {
      "cell_type": "code",
      "source": [
        "sample = random.choice(filenames)\n",
        "image = load_img(\"../input/train/train/\"+sample)\n",
        "plt.imshow(image)"
      ],
      "metadata": {
        "id": "w4a0lmGPaL2v"
      },
      "execution_count": null,
      "outputs": []
    },
    {
      "cell_type": "markdown",
      "source": [
        "# 5. Build Model"
      ],
      "metadata": {
        "id": "D_3PsPDeahlq"
      }
    },
    {
      "cell_type": "code",
      "source": [
        "from keras.models import Sequential\n",
        "from keras.layers import Conv2D, MaxPooling2D, Dropout, Flatten, Dense, Activation, BatchNormalization\n",
        "\n",
        "model = Sequential()\n",
        "\n",
        "model.add(Conv2D(32, (3, 3), activation='relu', input_shape=(IMAGE_WIDTH, IMAGE_HEIGHT, IMAGE_CHANNELS)))\n",
        "model.add(BatchNormalization())\n",
        "model.add(MaxPooling2D(pool_size=(2, 2)))\n",
        "model.add(Dropout(0.25))\n",
        "\n",
        "model.add(Conv2D(64, (3, 3), activation='relu'))\n",
        "model.add(BatchNormalization())\n",
        "model.add(MaxPooling2D(pool_size=(2, 2)))\n",
        "model.add(Dropout(0.25))\n",
        "\n",
        "model.add(Conv2D(128, (3, 3), activation='relu'))\n",
        "model.add(BatchNormalization())\n",
        "model.add(MaxPooling2D(pool_size=(2, 2)))\n",
        "model.add(Dropout(0.25))\n",
        "\n",
        "model.add(Flatten())\n",
        "model.add(Dense(512, activation='relu'))\n",
        "model.add(BatchNormalization())\n",
        "model.add(Dropout(0.5))\n",
        "model.add(Dense(2, activation='softmax')) # 2 because we have cat and dog classes\n",
        "\n",
        "model.compile(loss='categorical_crossentropy', optimizer='rmsprop', metrics=['accuracy'])\n",
        "\n",
        "model.summary()"
      ],
      "metadata": {
        "id": "2LzJMAaRaL0O"
      },
      "execution_count": null,
      "outputs": []
    },
    {
      "cell_type": "markdown",
      "source": [
        "# 6. Callbacks"
      ],
      "metadata": {
        "id": "aZQMSHcha6px"
      }
    },
    {
      "cell_type": "code",
      "source": [
        "from keras.callbacks import EarlyStopping, ReduceLROnPlateau"
      ],
      "metadata": {
        "id": "oGn5590PaLxn"
      },
      "execution_count": null,
      "outputs": []
    },
    {
      "cell_type": "markdown",
      "source": [
        "### 6-1. 조기 종료 설정"
      ],
      "metadata": {
        "id": "aUCZlFnVbAlp"
      }
    },
    {
      "cell_type": "code",
      "source": [
        "earlystop = EarlyStopping(patience=10)"
      ],
      "metadata": {
        "id": "0cCiqwv-aLu-"
      },
      "execution_count": null,
      "outputs": []
    },
    {
      "cell_type": "markdown",
      "source": [
        "### 6-2. Learning Rate Reduction"
      ],
      "metadata": {
        "id": "MEJ5q5rbbHTv"
      }
    },
    {
      "cell_type": "code",
      "source": [
        "learning_rate_reduction = ReduceLROnPlateau(monitor='val_acc',\n",
        "                                            patience=2,\n",
        "                                            verbose=1,\n",
        "                                            factor=0.5,\n",
        "                                            min_lr=0.00001)"
      ],
      "metadata": {
        "id": "8t17D-SnbKc8"
      },
      "execution_count": null,
      "outputs": []
    },
    {
      "cell_type": "code",
      "source": [
        "callbacks = [earlystop, learning_rate_reduction]"
      ],
      "metadata": {
        "id": "_SlFNFSFbKmK"
      },
      "execution_count": null,
      "outputs": []
    },
    {
      "cell_type": "markdown",
      "source": [
        "# 7. Prepare data"
      ],
      "metadata": {
        "id": "d4Do9kzSbNnp"
      }
    },
    {
      "cell_type": "code",
      "source": [
        "df[\"category\"] = df[\"category\"].replace({0: 'cat', 1: 'dog'})"
      ],
      "metadata": {
        "id": "8xEEOKU-bKio"
      },
      "execution_count": null,
      "outputs": []
    },
    {
      "cell_type": "code",
      "source": [
        "train_df, validate_df = train_test_split(df, test_size=0.20, random_state=42)\n",
        "train_df = train_df.reset_index(drop=True)\n",
        "validate_df = validate_df.reset_index(drop=True)"
      ],
      "metadata": {
        "id": "9JpjPpmvbYL0"
      },
      "execution_count": null,
      "outputs": []
    },
    {
      "cell_type": "code",
      "source": [
        "train_df['category'].value_counts().plot.bar()"
      ],
      "metadata": {
        "id": "dRU1rN2ubYIe"
      },
      "execution_count": null,
      "outputs": []
    },
    {
      "cell_type": "code",
      "source": [
        "validate_df['category'].value_counts().plot.bar()"
      ],
      "metadata": {
        "id": "TC-8y1ohbYGH"
      },
      "execution_count": null,
      "outputs": []
    },
    {
      "cell_type": "code",
      "source": [
        "total_train = train_df.shape[0]\n",
        "total_validate = validate_df.shape[0]\n",
        "batch_size=15"
      ],
      "metadata": {
        "id": "nbIL04oEbYDe"
      },
      "execution_count": null,
      "outputs": []
    },
    {
      "cell_type": "markdown",
      "source": [
        "# 8. Traning Generator"
      ],
      "metadata": {
        "id": "0BIsqJnsbexR"
      }
    },
    {
      "cell_type": "code",
      "source": [
        "train_datagen = ImageDataGenerator(\n",
        "    rotation_range=15,\n",
        "    rescale=1./255,\n",
        "    shear_range=0.1,\n",
        "    zoom_range=0.2,\n",
        "    horizontal_flip=True,\n",
        "    width_shift_range=0.1,\n",
        "    height_shift_range=0.1\n",
        ")\n",
        "\n",
        "train_generator = train_datagen.flow_from_dataframe(\n",
        "    train_df,\n",
        "    \"../input/train/train/\",\n",
        "    x_col='filename',\n",
        "    y_col='category',\n",
        "    target_size=IMAGE_SIZE,\n",
        "    class_mode='categorical',\n",
        "    batch_size=batch_size\n",
        ")"
      ],
      "metadata": {
        "id": "xOc98lKGbX-c"
      },
      "execution_count": null,
      "outputs": []
    },
    {
      "cell_type": "markdown",
      "source": [
        "### 8-2. Validation Generator"
      ],
      "metadata": {
        "id": "jaWygxfublg1"
      }
    },
    {
      "cell_type": "code",
      "source": [
        "validation_datagen = ImageDataGenerator(rescale=1./255)\n",
        "validation_generator = validation_datagen.flow_from_dataframe(\n",
        "    validate_df,\n",
        "    \"../input/train/train/\",\n",
        "    x_col='filename',\n",
        "    y_col='category',\n",
        "    target_size=IMAGE_SIZE,\n",
        "    class_mode='categorical',\n",
        "    batch_size=batch_size\n",
        ")"
      ],
      "metadata": {
        "id": "prPFYoqsbptZ"
      },
      "execution_count": null,
      "outputs": []
    },
    {
      "cell_type": "markdown",
      "source": [
        "# 9. See how our generator work"
      ],
      "metadata": {
        "id": "-dDLvI_Zbs-9"
      }
    },
    {
      "cell_type": "code",
      "source": [
        "example_df = train_df.sample(n=1).reset_index(drop=True)\n",
        "example_generator = train_datagen.flow_from_dataframe(\n",
        "    example_df,\n",
        "    \"../input/train/train/\",\n",
        "    x_col='filename',\n",
        "    y_col='category',\n",
        "    target_size=IMAGE_SIZE,\n",
        "    class_mode='categorical'\n",
        ")"
      ],
      "metadata": {
        "id": "c0c3cxcnbxmF"
      },
      "execution_count": null,
      "outputs": []
    },
    {
      "cell_type": "code",
      "source": [
        "plt.figure(figsize=(12, 12))\n",
        "for i in range(0, 15):\n",
        "    plt.subplot(5, 3, i+1)\n",
        "    for X_batch, Y_batch in example_generator:\n",
        "        image = X_batch[0]\n",
        "        plt.imshow(image)\n",
        "        break\n",
        "plt.tight_layout()\n",
        "plt.show()"
      ],
      "metadata": {
        "id": "YeSmKCTPbxjn"
      },
      "execution_count": null,
      "outputs": []
    },
    {
      "cell_type": "markdown",
      "source": [
        "# 10. Fit Model"
      ],
      "metadata": {
        "id": "s3MHOiyMb1J8"
      }
    },
    {
      "cell_type": "code",
      "source": [
        "epochs=3 if FAST_RUN else 50\n",
        "history = model.fit_generator(\n",
        "    train_generator,\n",
        "    epochs=epochs,\n",
        "    validation_data=validation_generator,\n",
        "    validation_steps=total_validate//batch_size,\n",
        "    steps_per_epoch=total_train//batch_size,\n",
        "    callbacks=callbacks\n",
        ")"
      ],
      "metadata": {
        "id": "fmb3hBoCbxhG"
      },
      "execution_count": null,
      "outputs": []
    },
    {
      "cell_type": "markdown",
      "source": [
        "# 11. Save Model"
      ],
      "metadata": {
        "id": "P_VZ_jvyb5wi"
      }
    },
    {
      "cell_type": "code",
      "source": [
        "model.save_weights(\"model.h5\")"
      ],
      "metadata": {
        "id": "4OpjhU_xbxe0"
      },
      "execution_count": null,
      "outputs": []
    },
    {
      "cell_type": "markdown",
      "source": [
        "# 12. Virtualize Training"
      ],
      "metadata": {
        "id": "wq7y_Qd7b8w_"
      }
    },
    {
      "cell_type": "code",
      "source": [
        "fig, (ax1, ax2) = plt.subplots(2, 1, figsize=(12, 12))\n",
        "ax1.plot(history.history['loss'], color='b', label=\"Training loss\")\n",
        "ax1.plot(history.history['val_loss'], color='r', label=\"validation loss\")\n",
        "ax1.set_xticks(np.arange(1, epochs, 1))\n",
        "ax1.set_yticks(np.arange(0, 1, 0.1))\n",
        "\n",
        "ax2.plot(history.history['acc'], color='b', label=\"Training accuracy\")\n",
        "ax2.plot(history.history['val_acc'], color='r',label=\"Validation accuracy\")\n",
        "ax2.set_xticks(np.arange(1, epochs, 1))\n",
        "\n",
        "legend = plt.legend(loc='best', shadow=True)\n",
        "plt.tight_layout()\n",
        "plt.show()"
      ],
      "metadata": {
        "id": "1-yjuO3Abxci"
      },
      "execution_count": null,
      "outputs": []
    },
    {
      "cell_type": "markdown",
      "source": [
        "# 13. Prepare Testing Data"
      ],
      "metadata": {
        "id": "b5tchaB7cCan"
      }
    },
    {
      "cell_type": "code",
      "source": [
        "test_filenames = os.listdir(\"../input/test1/test1\")\n",
        "test_df = pd.DataFrame({\n",
        "    'filename': test_filenames\n",
        "})\n",
        "nb_samples = test_df.shape[0]"
      ],
      "metadata": {
        "id": "NHIoRthvbxBa"
      },
      "execution_count": null,
      "outputs": []
    },
    {
      "cell_type": "markdown",
      "source": [
        "# 14. Create Testing Generator"
      ],
      "metadata": {
        "id": "rllDV8Q7cF-I"
      }
    },
    {
      "cell_type": "code",
      "source": [
        "test_gen = ImageDataGenerator(rescale=1./255)\n",
        "test_generator = test_gen.flow_from_dataframe(\n",
        "    test_df,\n",
        "    \"../input/test1/test1/\",\n",
        "    x_col='filename',\n",
        "    y_col=None,\n",
        "    class_mode=None,\n",
        "    target_size=IMAGE_SIZE,\n",
        "    batch_size=batch_size,\n",
        "    shuffle=False\n",
        ")"
      ],
      "metadata": {
        "id": "7ZQgK6ROcJZ5"
      },
      "execution_count": null,
      "outputs": []
    },
    {
      "cell_type": "markdown",
      "source": [
        "# 15. Predict"
      ],
      "metadata": {
        "id": "kzCc3HHmcMtg"
      }
    },
    {
      "cell_type": "code",
      "source": [
        "predict = model.predict_generator(test_generator, steps=np.ceil(nb_samples/batch_size))"
      ],
      "metadata": {
        "id": "I0Mvzhy4cJvi"
      },
      "execution_count": null,
      "outputs": []
    },
    {
      "cell_type": "code",
      "source": [
        "test_df['category'] = np.argmax(predict, axis=-1)"
      ],
      "metadata": {
        "id": "dCSmTFdHcJr3"
      },
      "execution_count": null,
      "outputs": []
    },
    {
      "cell_type": "code",
      "source": [
        "label_map = dict((v,k) for k,v in train_generator.class_indices.items())\n",
        "test_df['category'] = test_df['category'].replace(label_map)"
      ],
      "metadata": {
        "id": "v101rxgXcJpI"
      },
      "execution_count": null,
      "outputs": []
    },
    {
      "cell_type": "code",
      "source": [
        "test_df['category'] = test_df['category'].replace({ 'dog': 1, 'cat': 0 })"
      ],
      "metadata": {
        "id": "nLw-WmsjcJmC"
      },
      "execution_count": null,
      "outputs": []
    },
    {
      "cell_type": "markdown",
      "source": [
        "### 15-2. Virtaulize Result"
      ],
      "metadata": {
        "id": "Q33QhgShcZHy"
      }
    },
    {
      "cell_type": "code",
      "source": [
        "test_df['category'].value_counts().plot.bar()"
      ],
      "metadata": {
        "id": "BKr_bld1cdlH"
      },
      "execution_count": null,
      "outputs": []
    },
    {
      "cell_type": "markdown",
      "source": [
        "### 15-3. See predicted result with images"
      ],
      "metadata": {
        "id": "92Y-qzmtceoo"
      }
    },
    {
      "cell_type": "code",
      "source": [
        "sample_test = test_df.head(18)\n",
        "sample_test.head()\n",
        "plt.figure(figsize=(12, 24))\n",
        "for index, row in sample_test.iterrows():\n",
        "    filename = row['filename']\n",
        "    category = row['category']\n",
        "    img = load_img(\"../input/test1/test1/\"+filename, target_size=IMAGE_SIZE)\n",
        "    plt.subplot(6, 3, index+1)\n",
        "    plt.imshow(img)\n",
        "    plt.xlabel(filename + '(' + \"{}\".format(category) + ')' )\n",
        "plt.tight_layout()\n",
        "plt.show()"
      ],
      "metadata": {
        "id": "3CpOAtYOcik7"
      },
      "execution_count": null,
      "outputs": []
    },
    {
      "cell_type": "markdown",
      "source": [
        "# 16. Submission"
      ],
      "metadata": {
        "id": "fsbGkGsdclun"
      }
    },
    {
      "cell_type": "code",
      "source": [
        "submission_df = test_df.copy()\n",
        "submission_df['id'] = submission_df['filename'].str.split('.').str[0]\n",
        "submission_df['label'] = submission_df['category']\n",
        "submission_df.drop(['filename', 'category'], axis=1, inplace=True)\n",
        "submission_df.to_csv('submission.csv', index=False)"
      ],
      "metadata": {
        "id": "6JwLlqlocpmK"
      },
      "execution_count": null,
      "outputs": []
    }
  ]
}