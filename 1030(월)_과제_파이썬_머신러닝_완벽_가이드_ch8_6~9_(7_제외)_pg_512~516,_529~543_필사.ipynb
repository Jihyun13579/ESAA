{
  "nbformat": 4,
  "nbformat_minor": 0,
  "metadata": {
    "colab": {
      "provenance": [],
      "authorship_tag": "ABX9TyNfZHaw19SORqsAfkdIgEjO",
      "include_colab_link": true
    },
    "kernelspec": {
      "name": "python3",
      "display_name": "Python 3"
    },
    "language_info": {
      "name": "python"
    }
  },
  "cells": [
    {
      "cell_type": "markdown",
      "metadata": {
        "id": "view-in-github",
        "colab_type": "text"
      },
      "source": [
        "<a href=\"https://colab.research.google.com/github/Jihyun13579/ESAA/blob/main/1030(%EC%9B%94)_%EA%B3%BC%EC%A0%9C_%ED%8C%8C%EC%9D%B4%EC%8D%AC_%EB%A8%B8%EC%8B%A0%EB%9F%AC%EB%8B%9D_%EC%99%84%EB%B2%BD_%EA%B0%80%EC%9D%B4%EB%93%9C_ch8_6~9_(7_%EC%A0%9C%EC%99%B8)_pg_512~516%2C_529~543_%ED%95%84%EC%82%AC.ipynb\" target=\"_parent\"><img src=\"https://colab.research.google.com/assets/colab-badge.svg\" alt=\"Open In Colab\"/></a>"
      ]
    },
    {
      "cell_type": "markdown",
      "source": [
        "# 1030(월) 과제_파이썬 머신러닝 완벽 가이드 ch8. 6~9 (7 제외) pg. 512 ~ 516, 529 ~ 543 필사\n",
        "### 2129014 박지현"
      ],
      "metadata": {
        "id": "VX4TfnWEgx39"
      }
    },
    {
      "cell_type": "markdown",
      "source": [
        "# CH08. 텍스트 분석"
      ],
      "metadata": {
        "id": "7bfYxrsYg658"
      }
    },
    {
      "cell_type": "markdown",
      "source": [
        "## CH08.06. 토픽 모델링(Topic Modeling) - 20 뉴스그룹\n",
        "- 토픽 모델링(Topic Modeling) : 문서 집합에 숨어 있는 주제를 찾아내는 것\n",
        " - 더 함축적인 의미로 문장을 요약하는 사람의 토픽 모델링 <-> 숨겨진 주제를 효과적으로 표현할 수 있는 중심단어 함축적으로 추출하는 머신러닝 기반 토픽 모델\n",
        " - 자주 사용되는 기법 : LSA(Latent Semantic Analysis) & LDA(Latent Dirichlet Allocation, 차원 축소의 LDA와 다른 알고리즘)"
      ],
      "metadata": {
        "id": "e6_vrwNfhcvW"
      }
    },
    {
      "cell_type": "markdown",
      "source": [
        "**토픽 모델링의 기법인 LDA를 20 뉴스그룹 데이터 세트를 이용해 적용하기**\n",
        "- 데이터 : 20가지 주제를 가진 뉴스그룹의 데이터\n",
        "- 원본 20가지 > 8가지 주제 추출 후 텍스트에 LDA 기반 토픽 모델링 적용하기\n",
        "- 사이킷런: LDA 기반 토빅 모델링 LatentDirichetAllocation"
      ],
      "metadata": {
        "id": "cfLCtwe3iRbX"
      }
    },
    {
      "cell_type": "markdown",
      "source": [
        "1. fetch_20newsgroups() API의 categories 파라미터를 토해 필요한 주제만 필터링해 추출한 후 추출된 텍스트를 Count 기반으로 벡터화 변환하기\n",
        " - LDA : Count 기반의 벡터화만 사용"
      ],
      "metadata": {
        "id": "TDx1ERjPiykN"
      }
    },
    {
      "cell_type": "code",
      "execution_count": 1,
      "metadata": {
        "colab": {
          "base_uri": "https://localhost:8080/"
        },
        "id": "yOiA--wcgoin",
        "outputId": "051dd7b0-611d-4c4d-8285-213a7b711714"
      },
      "outputs": [
        {
          "output_type": "stream",
          "name": "stdout",
          "text": [
            "CountVectorizer Shape:  (7862, 1000)\n"
          ]
        }
      ],
      "source": [
        "from sklearn.datasets import fetch_20newsgroups\n",
        "from sklearn.feature_extraction.text import CountVectorizer\n",
        "from sklearn.decomposition import LatentDirichletAllocation\n",
        "\n",
        "# 모토사이클, 야구, 그래픽스, 윈도우즈, 중동, 기독교, 전자공학, 의학 8개 주제를 추출.\n",
        "cats = [\"rec.motorcycles\", \"rec.sport.baseball\", \"comp.graphics\", \"comp.windows.x\",\n",
        "        \"talk.politics.mideast\", \"soc.religion.christian\", \"sci.electronics\", \"sci.med\"]\n",
        "\n",
        "# 위에서 cats 변수로 기재된 카테고리만 추출. fetch_20newsgroups()의 categories에 cats 입력\n",
        "news_df = fetch_20newsgroups(subset = \"all\", remove = (\"headers\", \"footers\", \"quotes\"),\n",
        "                             categories = cats, random_state = 0)\n",
        "\n",
        "# LDA는 Count기반의 벡터화만 적용합니다.\n",
        "count_vect = CountVectorizer(max_df = 0.95, max_features = 1000, min_df = 2, stop_words = \"english\",\n",
        "                             ngram_range = (1, 2))\n",
        "feat_vect = count_vect.fit_transform(news_df.data)\n",
        "print(\"CountVectorizer Shape: \", feat_vect.shape)"
      ]
    },
    {
      "cell_type": "markdown",
      "source": [
        "> feat_vect : 7862개의 문서가 1000개의 피처로 구성된 피처 벡터화된 데이터셋"
      ],
      "metadata": {
        "id": "U3gyI6bfu_Tk"
      }
    },
    {
      "cell_type": "markdown",
      "source": [
        "2. 피처 벡터화된 feat_vect 데이터 세트 기반 LDA 토픽 모델링 수\n",
        " - n_components : 토픽의 개수 조정"
      ],
      "metadata": {
        "id": "Jp6etzl8vF6O"
      }
    },
    {
      "cell_type": "code",
      "source": [
        "lda = LatentDirichletAllocation(n_components = 8, random_state = 0)\n",
        "lda.fit(feat_vect)"
      ],
      "metadata": {
        "colab": {
          "base_uri": "https://localhost:8080/",
          "height": 74
        },
        "id": "L4NOzIc1vOBo",
        "outputId": "9a31a72e-d61d-4c6b-999c-d84a6bd44526"
      },
      "execution_count": 2,
      "outputs": [
        {
          "output_type": "execute_result",
          "data": {
            "text/plain": [
              "LatentDirichletAllocation(n_components=8, random_state=0)"
            ],
            "text/html": [
              "<style>#sk-container-id-1 {color: black;background-color: white;}#sk-container-id-1 pre{padding: 0;}#sk-container-id-1 div.sk-toggleable {background-color: white;}#sk-container-id-1 label.sk-toggleable__label {cursor: pointer;display: block;width: 100%;margin-bottom: 0;padding: 0.3em;box-sizing: border-box;text-align: center;}#sk-container-id-1 label.sk-toggleable__label-arrow:before {content: \"▸\";float: left;margin-right: 0.25em;color: #696969;}#sk-container-id-1 label.sk-toggleable__label-arrow:hover:before {color: black;}#sk-container-id-1 div.sk-estimator:hover label.sk-toggleable__label-arrow:before {color: black;}#sk-container-id-1 div.sk-toggleable__content {max-height: 0;max-width: 0;overflow: hidden;text-align: left;background-color: #f0f8ff;}#sk-container-id-1 div.sk-toggleable__content pre {margin: 0.2em;color: black;border-radius: 0.25em;background-color: #f0f8ff;}#sk-container-id-1 input.sk-toggleable__control:checked~div.sk-toggleable__content {max-height: 200px;max-width: 100%;overflow: auto;}#sk-container-id-1 input.sk-toggleable__control:checked~label.sk-toggleable__label-arrow:before {content: \"▾\";}#sk-container-id-1 div.sk-estimator input.sk-toggleable__control:checked~label.sk-toggleable__label {background-color: #d4ebff;}#sk-container-id-1 div.sk-label input.sk-toggleable__control:checked~label.sk-toggleable__label {background-color: #d4ebff;}#sk-container-id-1 input.sk-hidden--visually {border: 0;clip: rect(1px 1px 1px 1px);clip: rect(1px, 1px, 1px, 1px);height: 1px;margin: -1px;overflow: hidden;padding: 0;position: absolute;width: 1px;}#sk-container-id-1 div.sk-estimator {font-family: monospace;background-color: #f0f8ff;border: 1px dotted black;border-radius: 0.25em;box-sizing: border-box;margin-bottom: 0.5em;}#sk-container-id-1 div.sk-estimator:hover {background-color: #d4ebff;}#sk-container-id-1 div.sk-parallel-item::after {content: \"\";width: 100%;border-bottom: 1px solid gray;flex-grow: 1;}#sk-container-id-1 div.sk-label:hover label.sk-toggleable__label {background-color: #d4ebff;}#sk-container-id-1 div.sk-serial::before {content: \"\";position: absolute;border-left: 1px solid gray;box-sizing: border-box;top: 0;bottom: 0;left: 50%;z-index: 0;}#sk-container-id-1 div.sk-serial {display: flex;flex-direction: column;align-items: center;background-color: white;padding-right: 0.2em;padding-left: 0.2em;position: relative;}#sk-container-id-1 div.sk-item {position: relative;z-index: 1;}#sk-container-id-1 div.sk-parallel {display: flex;align-items: stretch;justify-content: center;background-color: white;position: relative;}#sk-container-id-1 div.sk-item::before, #sk-container-id-1 div.sk-parallel-item::before {content: \"\";position: absolute;border-left: 1px solid gray;box-sizing: border-box;top: 0;bottom: 0;left: 50%;z-index: -1;}#sk-container-id-1 div.sk-parallel-item {display: flex;flex-direction: column;z-index: 1;position: relative;background-color: white;}#sk-container-id-1 div.sk-parallel-item:first-child::after {align-self: flex-end;width: 50%;}#sk-container-id-1 div.sk-parallel-item:last-child::after {align-self: flex-start;width: 50%;}#sk-container-id-1 div.sk-parallel-item:only-child::after {width: 0;}#sk-container-id-1 div.sk-dashed-wrapped {border: 1px dashed gray;margin: 0 0.4em 0.5em 0.4em;box-sizing: border-box;padding-bottom: 0.4em;background-color: white;}#sk-container-id-1 div.sk-label label {font-family: monospace;font-weight: bold;display: inline-block;line-height: 1.2em;}#sk-container-id-1 div.sk-label-container {text-align: center;}#sk-container-id-1 div.sk-container {/* jupyter's `normalize.less` sets `[hidden] { display: none; }` but bootstrap.min.css set `[hidden] { display: none !important; }` so we also need the `!important` here to be able to override the default hidden behavior on the sphinx rendered scikit-learn.org. See: https://github.com/scikit-learn/scikit-learn/issues/21755 */display: inline-block !important;position: relative;}#sk-container-id-1 div.sk-text-repr-fallback {display: none;}</style><div id=\"sk-container-id-1\" class=\"sk-top-container\"><div class=\"sk-text-repr-fallback\"><pre>LatentDirichletAllocation(n_components=8, random_state=0)</pre><b>In a Jupyter environment, please rerun this cell to show the HTML representation or trust the notebook. <br />On GitHub, the HTML representation is unable to render, please try loading this page with nbviewer.org.</b></div><div class=\"sk-container\" hidden><div class=\"sk-item\"><div class=\"sk-estimator sk-toggleable\"><input class=\"sk-toggleable__control sk-hidden--visually\" id=\"sk-estimator-id-1\" type=\"checkbox\" checked><label for=\"sk-estimator-id-1\" class=\"sk-toggleable__label sk-toggleable__label-arrow\">LatentDirichletAllocation</label><div class=\"sk-toggleable__content\"><pre>LatentDirichletAllocation(n_components=8, random_state=0)</pre></div></div></div></div></div>"
            ]
          },
          "metadata": {},
          "execution_count": 2
        }
      ]
    },
    {
      "cell_type": "markdown",
      "source": [
        "3. LatentDirichletAllocation 객체의 속성값 components_의 형태와 속성값 확인하기\n",
        " - components_ : 개별 토픽별로 각 word 피처가 얼마나 많이 그 토픽에 할당되었는지에 대한 수치 가지고 있음, 높은 값일수록 해당 word 피처는 그 토픽의 중심 word"
      ],
      "metadata": {
        "id": "X6S5YRpcvZLV"
      }
    },
    {
      "cell_type": "code",
      "source": [
        "print(lda.components_.shape)\n",
        "lda.components_"
      ],
      "metadata": {
        "colab": {
          "base_uri": "https://localhost:8080/"
        },
        "id": "NSnpQxhpvsGY",
        "outputId": "9fd29498-855a-4f4b-cd52-9420fea3c00b"
      },
      "execution_count": 3,
      "outputs": [
        {
          "output_type": "stream",
          "name": "stdout",
          "text": [
            "(8, 1000)\n"
          ]
        },
        {
          "output_type": "execute_result",
          "data": {
            "text/plain": [
              "array([[3.60992018e+01, 1.35626798e+02, 2.15751867e+01, ...,\n",
              "        3.02911688e+01, 8.66830093e+01, 6.79285199e+01],\n",
              "       [1.25199920e-01, 1.44401815e+01, 1.25045596e-01, ...,\n",
              "        1.81506995e+02, 1.25097844e-01, 9.39593286e+01],\n",
              "       [3.34762663e+02, 1.25176265e-01, 1.46743299e+02, ...,\n",
              "        1.25105772e-01, 3.63689741e+01, 1.25025218e-01],\n",
              "       ...,\n",
              "       [3.60204965e+01, 2.08640688e+01, 4.29606813e+00, ...,\n",
              "        1.45056650e+01, 8.33854413e+00, 1.55690009e+01],\n",
              "       [1.25128711e-01, 1.25247756e-01, 1.25005143e-01, ...,\n",
              "        9.17278769e+01, 1.25177668e-01, 3.74575887e+01],\n",
              "       [5.49258690e+01, 4.47009532e+00, 9.88524814e+00, ...,\n",
              "        4.87048440e+01, 1.25034678e-01, 1.25074632e-01]])"
            ]
          },
          "metadata": {},
          "execution_count": 3
        }
      ]
    },
    {
      "cell_type": "markdown",
      "source": [
        "4. display_topics() 함수 만들어서 각 토픽별로 연관도가 높은 순으로 Word 나열하기\n",
        "- components: (8,1000) > 8개의 토픽별로 1000개의 word 피처가 해당 토픽별로 연관도 값 가지고 있음\n",
        "- lda_model.components_ 값만으로는 각 토픽별 word 연관도 보기 어려움 > 함수 생성하기"
      ],
      "metadata": {
        "id": "WUsovLivwBhz"
      }
    },
    {
      "cell_type": "code",
      "source": [
        "def display_topics(model, feature_names, no_top_words):\n",
        "  for topic_index, topic in enumerate(model.components_):\n",
        "    print(\"Topic #\", topic_index)\n",
        "\n",
        "    # components_array에서 가장 값이 큰 순으로 정렬했을 때, 그 값의 array 인덱스를 반환.\n",
        "    topic_word_indexes = topic.argsort()[::-1]\n",
        "    top_indexes = topic_word_indexes[:no_top_words]\n",
        "\n",
        "    # top_indexes 대상인 인덱스별로 feature_names에 해당하는 word features 추출 후 join으로 concat\n",
        "    feature_concat = \" \".join([feature_names[i] for i in top_indexes])\n",
        "    print(feature_concat)\n",
        "\n",
        "# CountVectorizer 객체 내의 전체 word의 명칭을 get_feature_names()를 통해 추출\n",
        "feature_names = count_vect.get_feature_names_out()\n",
        "\n",
        "# 토픽별 가장 연관도가 높은 word를 15개만 추출\n",
        "display_topics(lda, feature_names, 15)"
      ],
      "metadata": {
        "colab": {
          "base_uri": "https://localhost:8080/"
        },
        "id": "nhn3WbpHv2Qb",
        "outputId": "a7a642b9-c5a7-499d-a1e1-eecf9655246d"
      },
      "execution_count": 4,
      "outputs": [
        {
          "output_type": "stream",
          "name": "stdout",
          "text": [
            "Topic # 0\n",
            "year 10 game medical health team 12 20 disease cancer 1993 games years patients good\n",
            "Topic # 1\n",
            "don just like know people said think time ve didn right going say ll way\n",
            "Topic # 2\n",
            "image file jpeg program gif images output format files color entry 00 use bit 03\n",
            "Topic # 3\n",
            "like know don think use does just good time book read information people used post\n",
            "Topic # 4\n",
            "armenian israel armenians jews turkish people israeli jewish government war dos dos turkey arab armenia 000\n",
            "Topic # 5\n",
            "edu com available graphics ftp data pub motif mail widget software mit information version sun\n",
            "Topic # 6\n",
            "god people jesus church believe christ does christian say think christians bible faith sin life\n",
            "Topic # 7\n",
            "use dos thanks windows using window does display help like problem server need know run\n"
          ]
        }
      ]
    },
    {
      "cell_type": "markdown",
      "source": [
        "> 8개의 주제(모토사이클, 야구, 그래픽스, 윈도우즈, 중동, 기독교, 전자공학, 의학)를 주제로 모델링이 잘 되었는가?\n",
        " - Topic #0, Topic #5, Topic #7이 주로 애매한 주제어 추출됨, 특히 모토사이클, 야구 주제의 경우 명확한 주제어차 추출되지 않음"
      ],
      "metadata": {
        "id": "5XZrFk7hwlW6"
      }
    },
    {
      "cell_type": "markdown",
      "source": [
        "## CH08.08. 문서 유사도"
      ],
      "metadata": {
        "id": "mVOZKTIoxERX"
      }
    },
    {
      "cell_type": "markdown",
      "source": [
        "### 문서 유사도 측정 방법 - 코사인 유사도\n",
        "문서와 문서 간의 유사도 비교: 일반적으로 코사인 유사도(Cosine Similarity) 사용\n",
        "\n",
        "**코사인 유사도** : 두 벡터 사이의 사잇각을 구해서 얼마나 유사한지 수치로 적용한 것\n",
        "- 벡터와 벡터 간의 유사도를 비교할 때 벡터의 크기보다는 벡터의 상호 방향성이 얼마나 유사한지에 기반함\n",
        "\n",
        "\n",
        "![스크린샷 2023-11-03 152744.png](data:image/png;base64,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)"
      ],
      "metadata": {
        "id": "FTM0Bgw2xG52"
      }
    },
    {
      "cell_type": "markdown",
      "source": [
        "### 두 벡터 사잇각\n",
        "두 벡터의 사잇각에 따라서 상호관계는 다음과 같이 1.유사하거나, 2.관련이 없거나, 3. 아예 반대 관계가 될 수 있음\n",
        "\n",
        "![스크린샷 2023-11-03 152753.png](data:image/png;base64,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)"
      ],
      "metadata": {
        "id": "-HuHeDqE3W6Q"
      }
    },
    {
      "cell_type": "markdown",
      "source": [
        "- 두 벡터 A와 B의 코사인 값\n",
        ": 두 벡터 A와 B의 내적 값은 두 벡터의 크기를 곱한 값의 코사인 각도 값을 곱한 것\n",
        "\n",
        "![스크린샷 2023-11-03 152806.png](data:image/png;base64,iVBORw0KGgoAAAANSUhEUgAAAQsAAAA1CAYAAABWUs47AAAAAXNSR0IArs4c6QAAAARnQU1BAACxjwv8YQUAAAAJcEhZcwAAEnQAABJ0Ad5mH3gAACTYSURBVHhe7VwHfFTF9j7ZZEOAUELvCogKCAKCiOADASmK8MRCtyCgoiAiKkoRFf+Wh49epCkiHRtFiiBKU0RRkSbSBCEUpYUkpGzy/74zO8nNZhNWnwrv/e4Xhnvv1DNnzpw5Z+7cDUsHxIULFy4uAI//6sKFCxe5wlUWLly4CAmusnDhwkVIcJWFCxcuQoKrLFy4cBESXGXhwoWLkOAqCxcuXIQEV1m4cOEiJLjKwoULFyHBVRYuXLgICa6ycOHCRUhwlYULFy5CgqssXLhwERJcZeHChYuQ4CoLFy5chAT39yz+x2EGN13C9GphnpgW5v//j8IpPmFhudSDbOlMxtXmSg8zZcOc9NjqMjL5r7lUnRNCKWrzEMHzmRzmf1Cq/fXnzCjgiLuUoZ3w04p/WcdO/9f7nPBfpSzS09PE50uTtLR0CY+IEI/2GeSHhWYgsas2pKWlSXh4uHg8/7vGFfnkE/DLlyRhvnTxRHjJBElJTQXLIiTCy/5zqvLvj/EhKQl18w/1eFgLeKpKI0DufGjTlw5q0H5YSppERHolLSwNtKSINxx0aR0e8aWkqjyTVtaZgvq9EeGI8OhYse5ApZQ5ruaZyZQVo5zQ77BwTWe5jCt4o+kIyIk8HglHYBRlgyEMz+lpPsSAdqXPK5408E4iTEHyDmwD1XgEjVr60oGVc0L5rn1HvxGVnIqxQJo3wiMR4WbJ8IRHKvM8Afy1+K+aKegrOsqhpWBwEPEc4gCRcYQVBMLnM3X8z4JdBnuGDx8uPR/orhFnzp6VVi1bybQpb+YoFL8HXkzqZEzodChxy2PTcACQxvTJU6ZI/379JA3KIy4+Tu7ucI+8++5MncBJycnS66Ge8tKLL6jQ7tu3X5re3ETWr1+bUXegoiCYxsBx5WLCwGcqKMbZNBs47pQh+6xM8tdvofkQBg0aIiNHvMrcEnv0qDzYvbvs2rFN6YC+yUSQLl8KyOgvu4k+JpyLk9GjR0nDhjdJ/RsaSJfOneXnnw+Q3RfEJa0srBBkBMSl+FIhmMnQkrj644IhsKwFBzmVK6ufO4HpOcFZlzM405z3wZ5t3N8J9nPPnj2yffs2fU7DRDoI4Th88Gc+gEDSqEm/C+wLBfHYsaPStWtX2bBhg8aTq8HqIx1hWMGOHouV/fv2MUISz5+XHTt2yNHYWCgPH8bFJ1t/2Cq7d/+IMfZJUmKifLflGzmGSWotwGA8tLTQmlizepVMmTpNpk+fIW9NmyazZrwtU6dOlZkzZ8pbb70lM2bM0PDRRx8ZOmhhQB64CDnni9KL8Onq1bJi+XKNS05OkeW4P3nyBIqloD3DP4MQZttFQCbf0uRsXJz07NFD5syeLc8996xMB3/OxcfLsKHPw0JMRh72Iud+XLLKwgoFhcBqR16/37oVK2MLOfnbCYwTrYzssMJjy6hm9ccdOnRInn76aYkD4whnvmCCSGQKY7qWmzt3rsyaNUsFkNc5c+bI+++/LwsWLNDrvHnzNKyGoJ08eVLLUkHlVP9fBasQ2T5XQZraHpjSnJiYtxALRNL0pi0dIlhXMiwA9od8GzlypKz8ZKXs378/QzBtu1mAKLZPhUAuqPvjz5eUmCQRcCspjalYDCLC4RKoe5SO+HDJny+f5iOC1c04DeBvqdKlJF++aJk4cbIMfPIpmTFtuhQvXlxKlCgh5cqVk9KlS4vX65Vx48bJLbfcIi/D6kpG++mpWHr9w2Pr03HHJIuMzKMua3xCvD57I8Ezj1NegvT3EgHHi+NCxdy7d2/ZtOkrKNOp0rZtO7m21rXy1FMDZOnHy+T48WOmQC5duWSVhQUHxAYK2quvvSK7d+2Q48eOYGwxCfz5AqETBIECTfDKsA+rCSf3uXPnNN4KPfPadoLBppPxUVFR8uOPP0rfvn3l/vvvlyVLlqgA5smTR/Lmzavpp06d0vRmzZppuhXAiwH0CvSzb+CHXvGcmkLm+nOEBpZjH8gD8mPLli1Ypd/BxDZ7ArmBU1+vKB+O8qqgEEXe05WxGwisF3oCt6yPY54qiYkJLJojtE5MZu7B1KhxjXTq3FHqX19fhbsfxqBdu3bSsmVLadGihY7HPffcI7Nmz5Lo6GgZPXK0LPrwI+2DE6afVBiUoUwpowJLTT2PdIEiYwuG7ksZ5OHcufNk8eLF8trrr0n16tX9Y+mRUqVK6b7MN5u/1j7lJhOXrLKwE8sKJju3aMkiWbFipaSk+GBCHhQPBMzj6BvzWKG15RNhyn777bfqv6amJGNCeyUqTyQmd4Qyh6bk9m0/4KpOnT9kB7e+WCcVwW1tbpO+/fpI+fKl5YpyFWTY4CHSAsLYEsJIoWzTpo30gLk3Bf75kSOH5dHeD0HB7XS0kQlLs5P2C4P8cK5sQaBdYZ3IzXu/PIeRYYigS5DG0dd8mhQUgbTZe07yESNGSP6CRZS3J2J/MemO/7OAzIZwko/JSTDhcfX50nW/w+eD4gozE9LrzYOsGHPtn0geKIDw8FwIzAJO5TBJOp8on61dLeGREVKtRk2ll8qEoAXDzfGYYsXlxhsbIHeKLJj/riSnUiFltsOxZuCQUW4gaVBiUIpYe86dThCfX7nRmgkcVSe//ihyq8PGO/M48zrj2Yc9e36SF4cNlSZNGkurW9sgErwA+ZhakooOpmAR3r93H8poAS0XDJessnAygeE8zKhRMHljCsdISnKqxB4+ilQOqGbLAioXggLy8ccf62ry5IABcubMaSgKY1Jy9ToIv/2Rhx+W1q1byV4wlHHBWMU4Ki1eyXzWf+iXX+TQwYNSsEB+KVu2jK5CXDGdg1S3bl0pWLCgxJ05Ix9+8B7KZw5oIGw/QwvMn71MIAxvzEYc0y2vOBF9WE3Mq0tOrwvD2U5KSoq89957atLf3KwpJlSK7NuzE02B71pZdlpMDHfaPRLpjdR7MwHpGnFSpmoc5Nav3Eh3GFyKKInMY96wMOQG7QnK7tv3k8QeOSRVq1eTChUv17HTdOUBrRDznAJ3ipu84fCAVJcEVM80ykT+/PlQFpYqFCTpVWUH2hgU5CObdvAoMOSEYHkZgoHxduG0Mu68D4TNO378BMyfRBkw4EnwMgq6gpYgMoD+uPhzeIZsswsX4O9/hbIg3nzzTZiRLdXP4uBTeViZZB7LNBuYh+G2226T1157Tb6FydyhQ0fZ/dNPsAjKybp16+SuO++SAwcOyNixY6VSpUpaHWoylQbAMpJ1RsBs/vKLL7Gi+uSmm24SLxQQMuhKqa/kHLQwP5VTVFTeoDWzXk4+5rXlAvviDEyjZPJi4rgXYlytQGhWtJqlPP7YJukKFZYe68r99ttvuln4MBRtVFQeCGCEnD7zG+pl/SZkA2kxBMEs5mTDvbLUrwQQSFsyVnGm8bUp08kbWi6E6Xt2ZPQN6fzbsWMnrIvzUrlyZX1FS9g+Mx/rjI+Lk63fb0W8R9rf2UE8+vo2K5RElGGfqdo4jixvXw8bifCDbSM4aWE553Nu9AfmTUWf7b0F720em5+wVwtnnp8g71Ts9a+/XurXry+RkZGqBCNhdaFG8OB75EX/wAc0YCrIAZessuBgWOYcxAq+dOlSeeihh6RQocIZg07B4D+CeY8dO6aCwHvmYR358+eX7t27y6LFi6RXr54yftw42b17t0yfPl2GDXte/bg77rgjo73gMMJMhpo86ap8ImHO1sUgeKCZ2V4E24SQkzbWx4HiBmek16tuSjCwPual8qPLxJCQkKDPgcGmnTuXIAnxiRqXkBAPwUpGTcFXF9JOemh+sx0LblIGiHuOYHnnle5Vhw4d5IorrpCrq16NCZ4q8fFQ3iGA7CPdPh8UAOjhBqblAcGrPftBS42vL8O59OcCW5b18DzB52s+0zMTrVu39tdnZMGOLyf9gvnz5SfIQe069aRl6zYol9NUoHVh0nQTFlB68RdMWiyPOFGVHjwzOCd3IJx5bT7bJydsPhucdfLZwt7zSkVBGenQsYNEQA7VfdU0k775a+5VhOkm8IVwySoLCzJjzJgx8thjj0mRIkWkSAzcEKxMXDkCGVqsWDEVBAqHE8zHV4Z2F5918q0GNzmpXDQdcWReKBMoISFRNm3aJFGReeTGhg0ljQdd8KcChDrYPtsZPXo0JkaSPNijh1x5ZZWgAkCQlgceeEA33hjatm0rrVq1UmG//fbb5Z///KdeGXfrrbdKs6a3wLW6RVq2bCXNmjeTJUsX+2sKhBEaChXbNu0jhNhPC/aHdXCy0BL7HqvRXXfdpWllSpfDxIzAePD1I1ZciBSmuaZlgTZn2uTqphuKoMPyy5yfYQ4HXaA3OdmXsaKTfuYPBqZTUSQkJuhqGVOwkFSvcY1tMgMclzWffiovv/SS3N7mdnnr7RlYUAqibiqCrJlNSzwAmNkfKjLygeMdDJbGs2fP6mLB19aHDx/OQr8NFuQt39JxEeOVNDLdjFcmGMeNc+Zj4EJE2LotlJ/IS3nn2zluYjaEnHJ/iPLIg3RJSeflJOr6YetW5W+9enWV37khd5V9EcBO6sAjcKC4OclNQu4r0NX0erESYex27tyBPJgE4RQvs3Kw03ZAyHDenzlzRl+TvTPjHfjYpWTQ0IEy+l8j5In+A+TZIc/LqNFjdN+iY8dOYDLqRquBLDOCQa2OgUGIjT0GATgu11SqIjFFi2HlMZOEu62gXlIxSBPGjZf3Fy6Uvn0ek0GDB/nN3OCDUaBAARk0aJAKjZ3YVgBssGnKH7g7EV4IrK4SaXJF5UqaJztYFpOR9JOnUJjMpRzTyUGlmruAELbd1OQUeeXl/5NuXbspzWyzaExBPd2YgD6fT0qUqLzRqJItZAXLk1bjMpl7DywGDyaiKvcwL6jxQZFwBec4YLKAbG4gpqYEd7MstG4EugwH9h/ABPhOypcrh7E/K1u+3SoRaIfpnMB8vc0Nv5Ej/y23tr5NvGwQlkN2ig1n2MfkJFpuPJ8DPuA5nZvEynv2AgB5vnSz55IQHy+j3vi3fP3VZilTrozkh9KiAqha9UoZOPBpjFuU5mN5dpuTdeTrI8WDVT+maIwq4hrVrpEXXnpBoqPBY33TZObDG/96RT5bu1bqN7hRYgoXlW1bt0vNGlWl96OPqvurrhuQlgoLBS7hxo3r5AD6GgZ+3gnlnj9ffnLVz28q4vOyb98eKRCVX4oUK2nIIh+RFgyXrLIgqP3GjBkFJj+jby8o7CVLloAd6dHXaTy4E8Zjwf7OUVkQmcpG9KwDLZNePXrJgKeelIOH9+ihpOvqXCdLly2Xwc8+K88NGiw3YACuvvpqLZMdoAkDFsZdZMjJp1iZkqGhixQpLtu37YCcQ+Aj4BqBvv0/75PFH34ExhpTt1HjmzhPdZB0NDRkgrTztWutWrX8MX8S0IxpM128WAkj+XoSz2YvjgIDt8T/dyFQuMjPz9eswYRJUQuH5ThWlE8feHPy9Gko9UNSsfJVLJGtXg6RxuKGyoeThZFU0EqpugFUYmYcTWn8n27uVMCBYIJs00jj5q++0mvFipdj4v2AceMiYlban3/+WX744QcpUaK4lKtQTrxRkB1t05TPBjRFlRDJN2d4zMMj6nj2paXCmoJCR5xOUlz5Svpo7BHIWQ8pVayEumpFihfBYuZVa2fgUwPko/cXyh33dPaXSZdpU6ciTJMJYydJzdq1IMvci0uSe7t0ldGj/i3PYZFJheVLZcbF5MBPO2X27HehgAqjDo+cPPGb3Nets8TA2u7S7V5SrNCNVyyiq1athBSmS/8BA+SO9ncp3+0cIZYsWyQvDB4qbdq0kiJFiyKndjlH5MClSwAY3I+XLpXChQpJtWrVwBz4rhCswv63IQcP0lzjcGWadhYUKCtAfJW5efNmGTp0iOSPjoYLkQyTmb5eurotEyZMgAbeqJthuYJCqoLKU32rMBZpUiimkCxfuVw+Xr5MlkHxLF2yRMPXX38jFa+oKJdDYCmM1uLJCZb+nEKoeXICJw/zcLLqPw2kJ+dyznopZDRdJ06cJH37Pq5vlCx4roSc5l5KItwzbUNDdnCisV2eR9HVHPeZbDFt0ZUIxIX6Z8E9pa/hg7P+hx95WHr27Cm9HuolvXqZ8PLLL8tCWHvkR7t/tpM5s2eBUlJFF4bX7GDTfLXIm1QsBixLC8uCEsiS8fHnpC9cZSrlMWPHSkyxIvpqmop06tTpsnD+Avn+m+8yFNPKlZ/IK6+8KsNfHi616tXR1V/3Z6CQ2t9zl7w14y05fvworC8ouYN7Zf78OdK+/Z3gdz7UQZlPk/fQl++++1bWr1/nH08D3pNnn0K5c/7cATe2SpUqcIWvlKuuukoDnxMxZuzfP5o00Tci+pALDOWXENhJdpbMnz1rtjz+eD/JG0XTzaB48ZLap6TzyRQ9vXcKtgXdEILCzFd83MHmRhnGA2k8iRmPMmm6qpctWzYLs4MhDNo6LS0MpnYyzL+tUgarxiAooMHPD5UhuFLzD3v+eV0pZr47U96eOVMHae9Pe0ClUV7B2iDdKoCg1+6pcB+FVwZOVHsfGJifwSqDQNjmmJ4BzWbcnNzA+tgG8zF8+OGH8uuvv8revXt1wtEX/uCDD2Tjho3Kw/NQFOcT/ZucwWjxX6k4ucGpZxeUQK6xvJA/ZpW2eTk+3CMIVp8Ttu9UaFT8hQsX0p1/muX8Iyzvi2IFfaT3I5IIl2nkiBFyDq5JGl0jHmkNAtJLq5bQ/Qo+R0QqSVol4jjJJ785Wb4AL4a/OFyi6aJh8jOZtHFS5s0bJQ0aNFBeHj9+XE8R8wRp4yaN/bLp0cNpbK9kmdJy5vQZ3Z9gHdwjI8/mz1sAi/q8tk13vNWtLXRf684778rgAUG6Dh06KHv37JWKlSpJ5Ssqa/8pg3ZcyatlS5ZiAc0nDW5qqOncFDbKPjguOWVhB5UnA0lc7OEjsm7tOtm86SvZsH4DfNKDmq5WhSr87ILEOnQTTQchXO8p0Ky6bJkK8tBDj0rJElQ6PE4coYH5cgNNRy4w++ATHz54UKpUriiXVbpchYUrGtvUK/5q16kjbdu1lT379smYkaMyfMlgtDLuNEz4ATAVH3zwQT2Sy1WQG558i8PVkff33nuv3HfffRp4apR5efCL9ytWrPDXFhzaN5IAGkkB2wxGixMUavaJyoobaePHj5emTW/WjbVdu3bJzp07NZyA4EfDF+YkQqUIRlhzA5WhfgWJjOEwvfnWQ8v6wcnDZ0apsshFgC3YH37oFRsbK5UxQQoULGjMfR2XrKFgoQJa7/FjxzAhT5ra6Z8FwJBEV8tME31GoAtin0ElXLBT+jFc0yY3S/Xq12C8kZ9ywbyQ4sf7PS4bN30prdu1UX7OmzcfdB6Rrt26qoLgJA6HixuB4IFY/3L4F+V/ajIXgXCpXrWmNG7cTD7/fJ3cfXcHPT3Mg2yXXVZepk6fqmddnGAfyQe68dzYNLKtnVE+MX3Hju2oZ7c0gVVBZRICiy8NZcEOkDlcSTDCEnvkF3nvvQVSp9718hVciI0bv5D10Nqffb5G9h3Yo6cok5LPSXzCSeQ3m29OOJ+tgCBWn8uWKSMDBz8nkbA4+OrTplu3JTdw5TOvmtLlhhtugFBTyJHAATBZcDUT8/LKl2MSpMv33yI/4gNptGDbfL3LVaZz58765qNjx47SqVMnDXfffbderbLglR9udenSRa985hmRoECb5CmVpXntC3r9vIjk60im+/niRJbxgEYeO3aUdIMfPWTo8/LMwGdwHQq3DhbVkCHy/AvDpFiJUpKclCpnT8dpWYusfYbywWMYrDOex1AqUD33eSjMzEsaozAupI8lOSY0/alsA/lH2kww8bxsXL8Wq/g5ubZWbYnMY74nUavBD+Zlv/bu2SfJCed1D4IHxKiPSE92kH9oOwx1+BcCPvO1b7oqEC5YqbJly3eyF0q01S0tdO9Kt1+QBKliMfDfKyVKlkKHvHBL0mXmzHekQvlyctWVVyGdVgv7gLZQhkrj2OHj4oXL7Y3kaVaUAc9ef/V1ubHxP+SLTZvUtR49cozEn0tACxxHFMe4Wg6RLz/+uEs3dmvwBCvKc2NWLS3wlDK36KNFkp7sk/u7dYecGsvJSIOtJTvYrUsGZuDTZeKE8dK//xPy9DPPyJNPPSVPDxyoYfCQQdKnz2O68iQlJcip3475B5CDagJhFYAz4D+jwbnZBakNhxnHshnpjnLBQWFOl1WrVuj76mo1rtXy5pSfvwwuJIECRe0f4fVITKFordPSFgz0sWlOUgh4peLglRuJNjCN8fy+gaF58+YaGJfjfoufrOjo/ObUJOgCMYYek2TyKN1WQZgUfTMEodu1a4fsh+vRFcqCk0RXTX8ZrQchMioPBNKHVfpXRPrf2KCuLKCmUHGDOsVFfycioy07EY0VZMeAypgbh8H2MVAYgW2YcWeZTV9+BQUQIc2at0A86sHkUEWANFsn6Vq6eInkhQKtVrW6fmCm381QKWmOrOBbI90jQB7SzomXnArXj5vdgBc0rl27VvJhDK+sUhnxPn2VrtLl7wvLW2V9FNbMr78el2uqV5MiMUXYgvaEXbQTdf26DVKseDGEoso3yl2pUiXknVmz5F//GoE+Rsnw4S/LfffeL2fPxJm6/WUJDvPmrzZru6VKlaaaBg8NH3gK9fSp07JwwUKpVbOONGzQCE0Y3isDgjHBj4uqLDjIVrDoe9Ns4qtSHqPmJLCwA82e5IPJGx1dCP5xMvy3JC3vFIYLgYLJlZYhFGvCgMw23xzs/nGHFClSWOrUrasDRNoZaF6qaY0qT8MsXb92vUR4IqVx0+Ywu82pRIZAWLp1wgTc5xSYbgMnlz0slB2Z7aXCT7UcoiJwfslpx4B5tB+4p6Lg8wgIZ5euXeDbwtWAkmSbzG/zccJG5fWi76ly4MBexNPFMPUE6y9h/G6VXrLWn89MipSUVP12g/HsK1NIN+8JWycvlvcMbI+TtlTJklCeV2CimMnJ0uyHDczzySefSIECBfVtQxjaIj/0TVcQUOEUKJDfkIo6Ob5Ki58Ots3Jx5Os0bAQiQwaqeiQznbteR7u+8TFnYULcZmOHRUVrSueHaIy5gnjb7dslptvbiyFYwrKF19ukMGDn5GDh/ai/nz6ifnnn38u7WCBrt+4AQvrBD9t2qQCUqJ0cwO/ytVX6eJKTpIu6uyFCxfAej8i/Z8aIPnRN8NgBJJtSA+Ki6osLOyAk9CJEyeo/849Bjsh7AQhR6Ki8kuhQoWUGdz4UTORTHByKwiYHhi0zlzAei1t1MxHDh+Wn2Ax1KhRQ4oWLY50k4dgfbzn721MnTJNjhw6LBUvryz3PdATaZmTPxic9Nj+/pGQDf6BJ4mqUMAz5iOdTNJyKiVGQTn7y99umDx5sh4o4sacrqz+vlpFwAnAV335oHg4wfmbCFSYmYokE2yFJDLQjWTb2l/whpPJmPWwB2gKKGju8w2YR/Igv5PPBubZ0Jyu+ydHMAEuq1ARbhktLdSPOnUyghbSyrdiffr00XZffPEladCoETuOrOGaNxjYLDfJlVNKs7EW7DPJKVS4MPrgk/NY7IyS8vOJ39/gngsgN155TyuSR//5zZDWh+DznyPh+Y33PpiPuHQZ8MxA1Jkmw4YNkzcnTZKJ48aqa0LauWE/bvw4uaZmTa2X/fM3qWC7PJHJurknwjeJZBetJx7VHzdmjLRtc7s0b3mLbsQio9JC2Gsw5D5b/iYYpofJ3HnzVDir+l+VWqZbgLVqEeTLG62vTxPhd5J5fyWUeRAAXj9d/QkGNlluuKEBfGIKkJlkTFOBhNDPmjNL3nhjhBQvWkImTZwiMTHFUDxTgP5WkHaAO98EaWCMXv1pTth+LFu2TPr16ycvvPCC7hn17v0oVrPPMgSS+eLj4/VHZHr37iObvvhGzfPZs+bKlMnTYIGZV4vB2iBsNJUKAxWNzck3C5m8Ip3GNQkE88THJ8iaNWtk9uzZoPcJVXDHjh+HP75EPv54hSxf/ol+pcw3N3xtyj0fHlFfMH+BdKJbxYUG/rrqway6TWHIMMqPt9wUJZ26x+L/I9rcdpvy7bM1n2leygTpYxw3r/mDOXXq1FF+lC9fQTfXeVDLuld8u0KXa/vObTJ5yiR56aVhUq5cRfAlClZsSbn8sopwQ1srQVapUeFE5Y2SetfXQ3tGgVnwtmnTpvLbyVOyF5YK05jKw2UD4dpHwY158cUX9bsZ/ZjQUdbfpaD425UFmWgZScbS/fgSvmbv3o/Jk/0HyLbtO2QAzKNfoQEJ5mPg6TsO+r1du8qO7dvkXFKKvPh/r8inn67WVYN5/kyQNtZ74sQJCNxy/ZGXN94YiXZEvv9hm6xc9YkKx5rVn8rqlatkzqzZ0qVjJxk2dKgeI160eLHUrH2tfiadu6vwV8KMPPuhbxj0Qy/EQeg9/PEWdIbuBhI0H4WcdNKq4+fMY8eOk0mTJqvJWxQmbcY3MP6+FMaK2qJ5M5kwYbyMnTBJnh1KIa+gK3Fgf9UC5KTD2Kfinm2GpfPsp96BKh5xNvsGIBOmuZEVyrGdIHzOBI+gp6lZT/727NlDxoOOfk/0l8Tz8XL8RKwcPXpEvxfiNzW1a9fWX8fijxLxiH5EOC1XTDLUyX0sT8CrU1UQpC/MJ0kJ4Bra0jwI3McIRzkqSLqn19W5Vrp06ybjYYmtX79B0vnaDKC1w8/4eYSfvCLvCsOi6N//SVn5yWr57rvvTTtw5b75Zov0eayvPDvwOenUqTP454VVFS69H3lYKsGtKlWmnH9i051KkmnTJoO2NHmgR3e1sq2y4PiST3WurY1Ft7qMGT9ef5ho69at8mCPB2X/gQMyftJEKVmGX0pTCVMWzIJ3IYBXWUbgL4dtTk1P3PM6etRYmEcnJTmFlgLTkvW1Uq1rr1OhoyJgh3mAimVoXVBAKAR89cMvS5kv1E7nhkD6OOD8QtXWzcB280Tm0a8h+UxzLwFxPOxyJXzEChUqZNkT+U9p+qOgsKMXqmAP/LhH1n25UU6fiZN6UGL9+z4ij2E1lvAoEAg60Vfy2dJq+/pnQRUFNADN/1VQtMtXrJAkjHOjho2ke7f79CcE4jD+TW9qJDc3/Ie8+u/RsmvXTqlfp5a8/8ECadqyjY65pcsuDhwjS6cdOwvns3MsLtQvluMk5iS8qWEDqVi8rMyYP18O/XpMGtavLzOx+je9pbWkgW/8EWIPJu3Zs/Hy9ttv634IZZGuck24Ce3bt4c1UT5DPkk3z0zwF9aovKjI6cZVrFhRlQotEPaTgTJo3SdaT7Gxvwh/4IdnRSpUuEzuv/8+KQrLg3mt207aWYaLMF0OKisueGyfp4S7QalZxcVyli+h4KIpCw6GBRloviw0yoPmHrOxM4QdPIJxtg4OOuPZYRsuJAgXgq2bNNm6CVu3Tdcr7Fe6GNxhzsgL2m06BygU4fyrwM/XfWj74V49Zc+2nbJ63edy6nSc1K9bW/r16a3KIswTCa6DRvz/lyoLTCryicpi9epVaprzB3ob3HCj9Hqwpzz+xOOSCOXRFBbN9TXryJhJb+pZgAbX15G5c+fIrW3bZ9DEQP7asSByirOwfQtFRpiXgbuBjW68USqVLi8zFyyQn2MPS4O69WTG1EnS4tY2+kZELbO0FPDRq2Xo8vE0KycvlYBtk3LLe1u3VQS0mJmX39owH2WG4D37YuWeeePizqAO0Xq576N7OrCQWB8XJ9bPMlQUlg+sh20xjTQwL9tjnFUwoSJ8GHdQ/kbYTpBoEmo6watZIQxT2QEyOVNgmdcy0NlxXm06423+Pwpbh2WifWa7zvbZiqETbasZC7r13mhr0mVpuligIKejeX7cVLXK1VLrutokWk6dPClNbm4Kl6E8Cfb3JSvvAp//U1DoOV78wZkyMIF5wpJmcCT89UawJkqXLWfaA8HX179BKlWqCF8+HCt0Qbm5WXMp6P9pgmA0OgPzMDhh422eC4F0MtCy4JuLOrXqSPVra2JtSJO4U6elZesWUrhIUeTkxijrxq1fFjhp6YZxIlprwrZPWBoYmIcbnZz8BPMEkxvesy6ex2Hweo1isHsVth2bl4rAGcd7+2zml51nofHD4qJZFnbSmSvjGJTriGMHGI+LHzbvhfB7On8hONvLSm/wNgLT/kxa/gho9qdSCaMbHi5Q0KuYA0qXDZZme+8E4/4sqOLiKqz3ph2ILB7Qhn6ta2L0jw/aNJ0oPnDyZJ1AF4KzL7+3H7Ys9xKoIDyp4I3/9zbDsJqHRZAufqYOmpAV9i3aMJ+tZ/TNz1MLJz3OPIH3OdEaLI3PqtRwdaY527oQcmovGP52ZUFka5I7WhpFwm3ImiewUzmR/Xs6Hyqcbdn6A9v/K9r9T8HJqdMTtOpX1X4SOfHscWuIqJ/2v5Z+p6Jge3rVxQFx+n8mlB7lLzWbyWPxd/DZjq2d/Pyt13S/axxG1zOcG8Wki4HpTIDViT8nnLQGyouF5UUgbFmbFixfTrxw5nOWyyl/qLgoysKFCxf/fciqtl24cOEiB7jKwoULFyHBVRYuXLgICa6ycOHCRUhwlYULFy5CgqssXLhwERJcZeHChYuQ4CoLFy5chARXWbhw4SIEiPw/KjA4N5NnkgIAAAAASUVORK5CYII=)"
      ],
      "metadata": {
        "id": "Nsb6i14d4AjH"
      }
    },
    {
      "cell_type": "markdown",
      "source": [
        "- 즉, 유사도 **$cos(theta)$**는 다음과 같이 두 벡터의 내적으로 총 벡터 크기의 합으로 나눈 것 (= 내적 결과를 총 벡터의 크기로 정규화(L2 Norm)한 것)\n",
        "\n",
        "![스크린샷 2023-11-03 152801.png](data:image/png;base64,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)"
      ],
      "metadata": {
        "id": "bXI3U8Ay4QzZ"
      }
    },
    {
      "cell_type": "markdown",
      "source": [
        "- 코사인 유사도가 문서의 유사도 비교에 가장 많이 사용되는 이유\n",
        "1. 문서를 피처 벡터화 변호나 시 차원이 매우 많은 희소 행렬이 되기 쉬움 > 희소행렬 기반에서 문서와 문서 벡터 간의 크기에 기반한 유사도 지표는 정확도가 떨어지기 쉬웁\n",
        "2. 문서가 매우 긴 경우, 단어의 빈도수도 더 많음 > 빈도수에만 기반 시, 공정한 비교를 할 수 X (ex. 10페이지 '머신러닝' 5번 vs 1페이지 '머신러닝' 3번)"
      ],
      "metadata": {
        "id": "nLw2WdTe5Mix"
      }
    },
    {
      "cell_type": "markdown",
      "source": [
        "**간단한 문서에 대해서 서로 간의 문서 유사도를 코사인 유사도 기반으로 구해보기**\n"
      ],
      "metadata": {
        "id": "NkvNCs7v5vVf"
      }
    },
    {
      "cell_type": "markdown",
      "source": [
        "1. 두 개의 넘파이 배열에 대한 코사인 유사도를 구하는 cos_similarity() 함수 작성하기"
      ],
      "metadata": {
        "id": "YWa6oEZ_52Co"
      }
    },
    {
      "cell_type": "code",
      "source": [
        "import numpy as np\n",
        "\n",
        "def cos_similarity(v1, v2):\n",
        "  dot_product = np.dot(v1, v2)\n",
        "  l2_norm = (np.sqrt(sum(np.square(v1))) * np.sqrt(sum(np.square(v2))))\n",
        "  similarity = dot_product / l2_norm\n",
        "\n",
        "  return similarity"
      ],
      "metadata": {
        "id": "c5JQ43qX6Ekp"
      },
      "execution_count": 5,
      "outputs": []
    },
    {
      "cell_type": "markdown",
      "source": [
        "2. doc_list로 정의된 3개의 간단한 문서의 유사도를 비교하기 위해 이 문서를 TF-IDF로 벡터화된 행렬로 변환하기"
      ],
      "metadata": {
        "id": "PNX78eBJ6lHC"
      }
    },
    {
      "cell_type": "code",
      "source": [
        "from sklearn.feature_extraction.text import TfidfVectorizer\n",
        "\n",
        "doc_list = [\"if you take the blue pill, the story ends\",\n",
        "            \"if you take the red pill, you stay in Wonderland\",\n",
        "            \"if you take the red pill, I show you how deep the rabbit hole goes\"]\n",
        "\n",
        "tfidf_vect_simple = TfidfVectorizer()\n",
        "feature_vect_simple = tfidf_vect_simple.fit_transform(doc_list)\n",
        "print(feature_vect_simple.shape)"
      ],
      "metadata": {
        "colab": {
          "base_uri": "https://localhost:8080/"
        },
        "id": "ZxP2T0Zy6OuA",
        "outputId": "64ecb439-af99-471e-9de1-ac5d8a9bd2af"
      },
      "execution_count": 6,
      "outputs": [
        {
          "output_type": "stream",
          "name": "stdout",
          "text": [
            "(3, 18)\n"
          ]
        }
      ]
    },
    {
      "cell_type": "markdown",
      "source": [
        "> 반환된 행렬: 희소행렬"
      ],
      "metadata": {
        "id": "EcyM8osX6xkm"
      }
    },
    {
      "cell_type": "markdown",
      "source": [
        "3. 반환된 희소 행렬을 밀집 행렬로 변환한 뒤 각각을 배열로 변환 > 문서의 피처 벡터화 > 문서의 피처 벡터로 cos_similarity() 함수를 이용해 두 개 문서의 유사도 측정하기"
      ],
      "metadata": {
        "id": "8UInTSRC62w-"
      }
    },
    {
      "cell_type": "code",
      "source": [
        "# TFidfVectorizer로 transform()한 결과는 희소 행렬이므로 밀집 행렬로 변환.\n",
        "feature_vect_dense = feature_vect_simple.todense()\n",
        "\n",
        "# 첫 번째 문장과 두 번째 문장의 피처 벡터 추출\n",
        "vect1 = np.array(feature_vect_dense[0]).reshape(-1, )\n",
        "vect2 = np.array(feature_vect_dense[1]).reshape(-1, )\n",
        "\n",
        "# 첫 번째 문장과 두 번째 문장의 피처 벡터로 두 개 문장의 코사인 유사도 추출\n",
        "similarity_simple = cos_similarity(vect1, vect2)\n",
        "print(\"문장 1, 문장 2 Cosine 유사도: {0:.3f}\".format(similarity_simple))"
      ],
      "metadata": {
        "colab": {
          "base_uri": "https://localhost:8080/"
        },
        "id": "v2_PzD4i6PBF",
        "outputId": "8a295d1c-1612-41cb-ae5f-f2158413cddf"
      },
      "execution_count": 7,
      "outputs": [
        {
          "output_type": "stream",
          "name": "stdout",
          "text": [
            "문장 1, 문장 2 Cosine 유사도: 0.402\n"
          ]
        }
      ]
    },
    {
      "cell_type": "markdown",
      "source": [
        "> 첫 번째 문장과 두 번째 문장의 코사인 유사도 : 0.402"
      ],
      "metadata": {
        "id": "ySf79mA77ROs"
      }
    },
    {
      "cell_type": "markdown",
      "source": [
        "4. 첫 번째 문장과 세 번째 문장, 그리고 두 번째 문장과 세 번째 문상의 유사도 측정하기"
      ],
      "metadata": {
        "id": "OD9Ohluc7V-N"
      }
    },
    {
      "cell_type": "code",
      "source": [
        "vect1 = np.array(feature_vect_dense[0]).reshape(-1, )\n",
        "vect3 = np.array(feature_vect_dense[2]).reshape(-1, )\n",
        "similarity_simple = cos_similarity(vect1, vect3)\n",
        "print(\"문장 1, 문장 3 Cosine 유사도: {0:.3f}\".format(similarity_simple))\n",
        "\n",
        "vect2 = np.array(feature_vect_dense[1]).reshape(-1, )\n",
        "vect3 = np.array(feature_vect_dense[2]).reshape(-1, )\n",
        "similarity_simple = cos_similarity(vect2, vect3)\n",
        "print(\"문장 2, 문장 3 Cosine 유사도: {0:.3f}\".format(similarity_simple))"
      ],
      "metadata": {
        "colab": {
          "base_uri": "https://localhost:8080/"
        },
        "id": "RXGI5jH86Pa3",
        "outputId": "dca19f9a-51ac-482f-bb7f-a780755ec8e7"
      },
      "execution_count": 8,
      "outputs": [
        {
          "output_type": "stream",
          "name": "stdout",
          "text": [
            "문장 1, 문장 3 Cosine 유사도: 0.404\n",
            "문장 2, 문장 3 Cosine 유사도: 0.456\n"
          ]
        }
      ]
    },
    {
      "cell_type": "markdown",
      "source": [
        "> 각각 0.404, 0.456의 유사도"
      ],
      "metadata": {
        "id": "rg-9_53O7cvz"
      }
    },
    {
      "cell_type": "markdown",
      "source": [
        "5. 사이킷런의 코사인 유사도 측정 API sklearn.metrics.pairwise.cosine_similarity() 함수를 이용해 앞 예제의 문서 유사도 측정하기 - 첫 번째 문서, 두 번째, 세 번째 문서의 유사도 측정하기\n",
        "- cosine_similarity(비교 기준이 되는 문서의 피처 행렬, 비교되는 문서의 피처 행렬)\n",
        " - 2개의 입력 파라미터 존재\n",
        "  - 희소/밀집 행렬, 행렬/배열 모두 가능 > cos_similarity와 같은 별도의 변환 작업 필요 X"
      ],
      "metadata": {
        "id": "f31RUsak7hxK"
      }
    },
    {
      "cell_type": "code",
      "source": [
        "from sklearn.metrics.pairwise import cosine_similarity\n",
        "\n",
        "similarity_simple_pair = cosine_similarity(feature_vect_simple[0], feature_vect_simple)\n",
        "print(similarity_simple_pair)"
      ],
      "metadata": {
        "colab": {
          "base_uri": "https://localhost:8080/"
        },
        "id": "shjX9XNq6Pvu",
        "outputId": "eccaa0d4-e4ef-4bdc-e6d9-4d6386e9a651"
      },
      "execution_count": 9,
      "outputs": [
        {
          "output_type": "stream",
          "name": "stdout",
          "text": [
            "[[1.         0.40207758 0.40425045]]\n"
          ]
        }
      ]
    },
    {
      "cell_type": "markdown",
      "source": [
        "> [첫 번째 문서 자신에 대한 유사도, 첫 번째 문서와 두 번째 문서의 유사도, 첫 번째 문서와 세 번째 문서의 유사도] : feature_vect[1:] 시 자기 자신에 대한 유사도 측정 결과 1 생략 가능"
      ],
      "metadata": {
        "id": "6WSxpHc_8P6z"
      }
    },
    {
      "cell_type": "code",
      "source": [
        "from sklearn.metrics.pairwise import cosine_similarity\n",
        "\n",
        "similarity_simple_pair = cosine_similarity(feature_vect_simple[0], feature_vect_simple[1:])\n",
        "print(similarity_simple_pair)"
      ],
      "metadata": {
        "colab": {
          "base_uri": "https://localhost:8080/"
        },
        "id": "w8k5mQsI6ffk",
        "outputId": "15634014-b852-497a-b7cb-42749333ffb9"
      },
      "execution_count": 10,
      "outputs": [
        {
          "output_type": "stream",
          "name": "stdout",
          "text": [
            "[[0.40207758 0.40425045]]\n"
          ]
        }
      ]
    },
    {
      "cell_type": "markdown",
      "source": [
        "6. cosine_similarity()에서 쌍으로(pair) 코사인 유사도 값 제공해보기\n",
        "1번째 문서와 2,3번째 문서, 2번째 문서와 1,3번째 문서, 3번째 문서와 1,2번째 문서의 코사인 유사도를 ndarray 형태로 제공함"
      ],
      "metadata": {
        "id": "Y4CaUHOz82CW"
      }
    },
    {
      "cell_type": "code",
      "source": [
        "similarity_simple_pair = cosine_similarity(feature_vect_simple, feature_vect_simple)\n",
        "print(similarity_simple_pair)\n",
        "print(\"shape: \", similarity_simple_pair.shape)"
      ],
      "metadata": {
        "colab": {
          "base_uri": "https://localhost:8080/"
        },
        "id": "6cUxhPAG6is3",
        "outputId": "ad6515ff-e216-4c47-c0bb-f0bac893516c"
      },
      "execution_count": 11,
      "outputs": [
        {
          "output_type": "stream",
          "name": "stdout",
          "text": [
            "[[1.         0.40207758 0.40425045]\n",
            " [0.40207758 1.         0.45647296]\n",
            " [0.40425045 0.45647296 1.        ]]\n",
            "shape:  (3, 3)\n"
          ]
        }
      ]
    },
    {
      "cell_type": "markdown",
      "source": [
        "> 반환 값: (3,3) 형태의 ndarray\n",
        " - 첫 번째 로우 : 1번째 문서와 2,3번째 문서의 코사인 유사도"
      ],
      "metadata": {
        "id": "IrSqGA8k9Nr9"
      }
    },
    {
      "cell_type": "markdown",
      "source": [
        "### Opinion Review 데이터 세트를 이용한 문서 유사도 측정\n",
        "Opinion Review 데이터셋을 이용해 문서 간의 유사도 측정해보기"
      ],
      "metadata": {
        "id": "azR_5yek9WFD"
      }
    },
    {
      "cell_type": "markdown",
      "source": [
        "1. 데이터 셋 새롭게 DataFrame으로 로드 후 문서 군집화 적용하기"
      ],
      "metadata": {
        "id": "Y2QDfhka9kot"
      }
    },
    {
      "cell_type": "code",
      "source": [
        "from nltk.stem import WordNetLemmatizer\n",
        "import nltk\n",
        "import string\n",
        "\n",
        "nltk.download('punkt')\n",
        "nltk.download('wordnet')\n",
        "\n",
        "# 단어 원형 추출 함수\n",
        "lemmar = WordNetLemmatizer()\n",
        "def LemTokens(tokens):\n",
        "    return [lemmar.lemmatize(token) for token in tokens]\n",
        "\n",
        "# 특수 문자 사전 생성: {33: None ...}\n",
        "# ord(): 아스키 코드 생성\n",
        "remove_punct_dict = dict((ord(punct), None) for punct in string.punctuation)\n",
        "\n",
        "# 특수 문자 제거 및 단어 원형 추출\n",
        "def LemNormalize(text):\n",
        "    # 텍스트 소문자 변경 후 특수 문자 제거\n",
        "    text_new = text.lower().translate(remove_punct_dict)\n",
        "\n",
        "    # 단어 토큰화\n",
        "    word_tokens = nltk.word_tokenize(text_new)\n",
        "\n",
        "    # 단어 원형 추출\n",
        "    return LemTokens(word_tokens)"
      ],
      "metadata": {
        "colab": {
          "base_uri": "https://localhost:8080/"
        },
        "id": "dWV0nhcL_8lT",
        "outputId": "61607f24-78de-4c77-c72c-38a6bda074ca"
      },
      "execution_count": 17,
      "outputs": [
        {
          "output_type": "stream",
          "name": "stderr",
          "text": [
            "[nltk_data] Downloading package punkt to /root/nltk_data...\n",
            "[nltk_data]   Package punkt is already up-to-date!\n",
            "[nltk_data] Downloading package wordnet to /root/nltk_data...\n",
            "[nltk_data]   Package wordnet is already up-to-date!\n"
          ]
        }
      ]
    },
    {
      "cell_type": "code",
      "source": [
        "import pandas as pd\n",
        "import os, glob\n",
        "from sklearn.feature_extraction.text import TfidfVectorizer\n",
        "from sklearn.cluster import KMeans\n",
        "\n",
        "path = \"/content/topics\"\n",
        "all_files = glob.glob(os.path.join(path, \"*.data\"))\n",
        "filename_list = []\n",
        "opinion_text = []\n",
        "\n",
        "for file_ in all_files:\n",
        "  df = pd.read_table(file_, index_col=None, header=0, encoding='latin1')\n",
        "  filename_ = file_.split('\\\\')[-1]\n",
        "  filename = filename_.split('.')[0]\n",
        "  filename_list.append(filename)\n",
        "  opinion_text.append(df.to_string())\n",
        "\n",
        "document_df = pd.DataFrame({'filename':filename_list, 'opinion_text':opinion_text})\n",
        "\n",
        "tfidf_vect = TfidfVectorizer(tokenizer=LemNormalize, stop_words='english',\n",
        "                             ngram_range=(1,2), min_df=0.05, max_df=0.85)\n",
        "feature_vect = tfidf_vect.fit_transform(document_df['opinion_text'])\n",
        "\n",
        "km_cluster = KMeans(n_clusters=3, max_iter=10000, random_state=0)\n",
        "km_cluster.fit(feature_vect)\n",
        "cluster_label = km_cluster.labels_\n",
        "cluster_centers = km_cluster.cluster_centers_\n",
        "document_df['cluster_label'] = cluster_label\n",
        "\n",
        "tfidf_vect = TfidfVectorizer(tokenizer=LemNormalize, stop_words='english',\n",
        "                             ngram_range=(1,2), min_df=0.05, max_df=0.85)\n",
        "feature_vect = tfidf_vect.fit_transform(document_df['opinion_text'])\n",
        "\n",
        "km_cluster = KMeans(n_clusters=3, max_iter=10000, random_state=0)\n",
        "km_cluster.fit(feature_vect)\n",
        "cluster_label = km_cluster.labels_\n",
        "cluster_centers = km_cluster.cluster_centers_\n",
        "document_df['cluster_label'] = cluster_label"
      ],
      "metadata": {
        "colab": {
          "base_uri": "https://localhost:8080/"
        },
        "id": "hCBTnKmIAdr6",
        "outputId": "3d7bb2e8-1401-4815-c783-33a056aa6db5"
      },
      "execution_count": 23,
      "outputs": [
        {
          "output_type": "stream",
          "name": "stderr",
          "text": [
            "/usr/local/lib/python3.10/dist-packages/sklearn/feature_extraction/text.py:528: UserWarning: The parameter 'token_pattern' will not be used since 'tokenizer' is not None'\n",
            "  warnings.warn(\n",
            "/usr/local/lib/python3.10/dist-packages/sklearn/feature_extraction/text.py:409: UserWarning: Your stop_words may be inconsistent with your preprocessing. Tokenizing the stop words generated tokens ['ha', 'le', 'u', 'wa'] not in stop_words.\n",
            "  warnings.warn(\n",
            "/usr/local/lib/python3.10/dist-packages/sklearn/cluster/_kmeans.py:870: FutureWarning: The default value of `n_init` will change from 10 to 'auto' in 1.4. Set the value of `n_init` explicitly to suppress the warning\n",
            "  warnings.warn(\n",
            "/usr/local/lib/python3.10/dist-packages/sklearn/feature_extraction/text.py:528: UserWarning: The parameter 'token_pattern' will not be used since 'tokenizer' is not None'\n",
            "  warnings.warn(\n",
            "/usr/local/lib/python3.10/dist-packages/sklearn/feature_extraction/text.py:409: UserWarning: Your stop_words may be inconsistent with your preprocessing. Tokenizing the stop words generated tokens ['ha', 'le', 'u', 'wa'] not in stop_words.\n",
            "  warnings.warn(\n",
            "/usr/local/lib/python3.10/dist-packages/sklearn/cluster/_kmeans.py:870: FutureWarning: The default value of `n_init` will change from 10 to 'auto' in 1.4. Set the value of `n_init` explicitly to suppress the warning\n",
            "  warnings.warn(\n"
          ]
        }
      ]
    },
    {
      "cell_type": "code",
      "source": [
        "from sklearn.metrics.pairwise import cosine_similarity\n",
        "\n",
        "# cluster_label = 1인 데이터는 호텔로 군집화된 데이터임. DataFrame에서 해당 인덱스를 추출\n",
        "hotel_indexes = document_df[document_df['cluster_label']==1].index\n",
        "print('호텔로 군집화 된 문서들의 DataFrame Index:', hotel_indexes)\n",
        "\n",
        "# 호텔로 군집화된 데이터 중 첫 번째 문서를 추출해 파일명 표시.\n",
        "comparison_docname = document_df.iloc[hotel_indexes[0]]['filename']\n",
        "print('##### 비교 기준 문서명 ', comparison_docname, ' 와 타 문서 유사도#####')\n",
        "\n",
        "''' document_df에서 추출한 Index 객체를 feature_vect로 입력해 호텔 군집화된 feature_vect 추출\n",
        "이를 이용해 호텔로 군집화된 문서 중 첫 번째 문서와 다른 문서 간의 코사인 유사도 측정.'''\n",
        "similarity_pair = cosine_similarity(feature_vect[hotel_indexes[0]], feature_vect[hotel_indexes])\n",
        "print(similarity_pair)"
      ],
      "metadata": {
        "colab": {
          "base_uri": "https://localhost:8080/"
        },
        "id": "Zi2l4chSEzi4",
        "outputId": "f4b666d4-cabb-4770-fa20-cd4df7603585"
      },
      "execution_count": 24,
      "outputs": [
        {
          "output_type": "stream",
          "name": "stdout",
          "text": [
            "호텔로 군집화 된 문서들의 DataFrame Index: Int64Index([2, 8, 14, 15, 16, 20, 22, 30, 32, 34, 36, 38, 39, 41, 48, 50], dtype='int64')\n",
            "##### 비교 기준 문서명  /content/topics/food_holiday_inn_london  와 타 문서 유사도#####\n",
            "[[1.         0.21242179 0.11008256 0.06104731 0.09611626 0.34678827\n",
            "  0.15836737 0.12513566 0.18388305 0.05267947 0.0430688  0.14089226\n",
            "  0.12209189 0.28935552 0.24657221 0.84955849]]\n"
          ]
        }
      ]
    },
    {
      "cell_type": "code",
      "source": [
        "import seaborn as sns\n",
        "import numpy as np\n",
        "import matplotlib.pyplot as plt\n",
        "%matplotlib inline\n",
        "\n",
        "# 첫 번째 문서와 타 문서 간 유사도가 큰 순으로 정렬한 인덱스를 추출하되 자기 자신은은 제외\n",
        "sorted_index = similarity_pair.argsort()[:, ::-1]\n",
        "sorted_index = sorted_index[:, 1:]\n",
        "\n",
        "# 유사도 큰 순으로 hotel_index를 추출해 재정렬\n",
        "hotel_sorted_indexes = hotel_indexes[sorted_index.reshape(-1)]\n",
        "\n",
        "# 유사도가 큰 순으로 유사도 값을 재정렬하되 자기 자신은은 제외\n",
        "hotel_1_sim_value = np.sort(similarity_pair.reshape(-1))[::-1]\n",
        "hotel_1_sim_value = hotel_1_sim_value[1:]\n",
        "\n",
        "# 유사도가 큰 순으로 정렬된 인덱스와 유사도 값을 이용해 파일명과 유사도 값을 막대 그래프로 시각화\n",
        "hotel_1_sim_df = pd.DataFrame()\n",
        "hotel_1_sim_df['filename'] = document_df.iloc[hotel_sorted_indexes]['filename']\n",
        "hotel_1_sim_df['similarity'] = hotel_1_sim_value\n",
        "\n",
        "sns.barplot(x='similarity', y='filename', data=hotel_1_sim_df)\n",
        "plt.title(comparison_docname)"
      ],
      "metadata": {
        "colab": {
          "base_uri": "https://localhost:8080/",
          "height": 385
        },
        "id": "r0-2QcIOE8BM",
        "outputId": "9a846db7-e85c-4292-82c6-0769bf4a19da"
      },
      "execution_count": 25,
      "outputs": [
        {
          "output_type": "execute_result",
          "data": {
            "text/plain": [
              "Text(0.5, 1.0, '/content/topics/food_holiday_inn_london')"
            ]
          },
          "metadata": {},
          "execution_count": 25
        },
        {
          "output_type": "display_data",
          "data": {
            "text/plain": [
              "<Figure size 640x480 with 1 Axes>"
            ],
            "image/png": "[encoded data removed]"
          },
          "metadata": {}
        }
      ]
    },
    {
      "cell_type": "markdown",
      "source": [
        "## CH08.09. 한글 텍스트 처리 - 네이버 영화 평점 감성 분"
      ],
      "metadata": {
        "id": "oUYkyHTOFBhL"
      }
    },
    {
      "cell_type": "code",
      "source": [
        "!pip install konlpy"
      ],
      "metadata": {
        "colab": {
          "base_uri": "https://localhost:8080/"
        },
        "id": "-yrfC7UdE8Vs",
        "outputId": "7f54e24d-5345-48af-f77a-f36471322253"
      },
      "execution_count": 26,
      "outputs": [
        {
          "output_type": "stream",
          "name": "stdout",
          "text": [
            "Collecting konlpy\n",
            "  Downloading konlpy-0.6.0-py2.py3-none-any.whl (19.4 MB)\n",
            "\u001b[2K     \u001b[90m━━━━━━━━━━━━━━━━━━━━━━━━━━━━━━━━━━━━━━━━\u001b[0m \u001b[32m19.4/19.4 MB\u001b[0m \u001b[31m23.0 MB/s\u001b[0m eta \u001b[36m0:00:00\u001b[0m\n",
            "\u001b[?25hCollecting JPype1>=0.7.0 (from konlpy)\n",
            "  Downloading JPype1-1.4.1-cp310-cp310-manylinux_2_12_x86_64.manylinux2010_x86_64.whl (465 kB)\n",
            "\u001b[2K     \u001b[90m━━━━━━━━━━━━━━━━━━━━━━━━━━━━━━━━━━━━━━━━\u001b[0m \u001b[32m465.3/465.3 kB\u001b[0m \u001b[31m27.0 MB/s\u001b[0m eta \u001b[36m0:00:00\u001b[0m\n",
            "\u001b[?25hRequirement already satisfied: lxml>=4.1.0 in /usr/local/lib/python3.10/dist-packages (from konlpy) (4.9.3)\n",
            "Requirement already satisfied: numpy>=1.6 in /usr/local/lib/python3.10/dist-packages (from konlpy) (1.23.5)\n",
            "Requirement already satisfied: packaging in /usr/local/lib/python3.10/dist-packages (from JPype1>=0.7.0->konlpy) (23.2)\n",
            "Installing collected packages: JPype1, konlpy\n",
            "Successfully installed JPype1-1.4.1 konlpy-0.6.0\n"
          ]
        }
      ]
    },
    {
      "cell_type": "code",
      "source": [
        "# 데이터 로딩\n",
        "import pandas as pd\n",
        "\n",
        "train_df=pd.read_csv('/content/ratings_train.txt', sep='\\t')\n",
        "train_df.head(3)"
      ],
      "metadata": {
        "colab": {
          "base_uri": "https://localhost:8080/",
          "height": 143
        },
        "id": "O4s0JJ6yE8o8",
        "outputId": "5673eb70-b382-48e1-ae7d-e177841b99c3"
      },
      "execution_count": 27,
      "outputs": [
        {
          "output_type": "execute_result",
          "data": {
            "text/plain": [
              "         id                           document  label\n",
              "0   9976970                아 더빙.. 진짜 짜증나네요 목소리      0\n",
              "1   3819312  흠...포스터보고 초딩영화줄....오버연기조차 가볍지 않구나      1\n",
              "2  10265843                  너무재밓었다그래서보는것을추천한다      0"
            ],
            "text/html": [
              "\n",
              "  <div id=\"df-94b57d1c-6ecf-4525-b9f0-0304df7691d2\" class=\"colab-df-container\">\n",
              "    <div>\n",
              "<style scoped>\n",
              "    .dataframe tbody tr th:only-of-type {\n",
              "        vertical-align: middle;\n",
              "    }\n",
              "\n",
              "    .dataframe tbody tr th {\n",
              "        vertical-align: top;\n",
              "    }\n",
              "\n",
              "    .dataframe thead th {\n",
              "        text-align: right;\n",
              "    }\n",
              "</style>\n",
              "<table border=\"1\" class=\"dataframe\">\n",
              "  <thead>\n",
              "    <tr style=\"text-align: right;\">\n",
              "      <th></th>\n",
              "      <th>id</th>\n",
              "      <th>document</th>\n",
              "      <th>label</th>\n",
              "    </tr>\n",
              "  </thead>\n",
              "  <tbody>\n",
              "    <tr>\n",
              "      <th>0</th>\n",
              "      <td>9976970</td>\n",
              "      <td>아 더빙.. 진짜 짜증나네요 목소리</td>\n",
              "      <td>0</td>\n",
              "    </tr>\n",
              "    <tr>\n",
              "      <th>1</th>\n",
              "      <td>3819312</td>\n",
              "      <td>흠...포스터보고 초딩영화줄....오버연기조차 가볍지 않구나</td>\n",
              "      <td>1</td>\n",
              "    </tr>\n",
              "    <tr>\n",
              "      <th>2</th>\n",
              "      <td>10265843</td>\n",
              "      <td>너무재밓었다그래서보는것을추천한다</td>\n",
              "      <td>0</td>\n",
              "    </tr>\n",
              "  </tbody>\n",
              "</table>\n",
              "</div>\n",
              "    <div class=\"colab-df-buttons\">\n",
              "\n",
              "  <div class=\"colab-df-container\">\n",
              "    <button class=\"colab-df-convert\" onclick=\"convertToInteractive('df-94b57d1c-6ecf-4525-b9f0-0304df7691d2')\"\n",
              "            title=\"Convert this dataframe to an interactive table.\"\n",
              "            style=\"display:none;\">\n",
              "\n",
              "  <svg xmlns=\"http://www.w3.org/2000/svg\" height=\"24px\" viewBox=\"0 -960 960 960\">\n",
              "    <path d=\"M120-120v-720h720v720H120Zm60-500h600v-160H180v160Zm220 220h160v-160H400v160Zm0 220h160v-160H400v160ZM180-400h160v-160H180v160Zm440 0h160v-160H620v160ZM180-180h160v-160H180v160Zm440 0h160v-160H620v160Z\"/>\n",
              "  </svg>\n",
              "    </button>\n",
              "\n",
              "  <style>\n",
              "    .colab-df-container {\n",
              "      display:flex;\n",
              "      gap: 12px;\n",
              "    }\n",
              "\n",
              "    .colab-df-convert {\n",
              "      background-color: #E8F0FE;\n",
              "      border: none;\n",
              "      border-radius: 50%;\n",
              "      cursor: pointer;\n",
              "      display: none;\n",
              "      fill: #1967D2;\n",
              "      height: 32px;\n",
              "      padding: 0 0 0 0;\n",
              "      width: 32px;\n",
              "    }\n",
              "\n",
              "    .colab-df-convert:hover {\n",
              "      background-color: #E2EBFA;\n",
              "      box-shadow: 0px 1px 2px rgba(60, 64, 67, 0.3), 0px 1px 3px 1px rgba(60, 64, 67, 0.15);\n",
              "      fill: #174EA6;\n",
              "    }\n",
              "\n",
              "    .colab-df-buttons div {\n",
              "      margin-bottom: 4px;\n",
              "    }\n",
              "\n",
              "    [theme=dark] .colab-df-convert {\n",
              "      background-color: #3B4455;\n",
              "      fill: #D2E3FC;\n",
              "    }\n",
              "\n",
              "    [theme=dark] .colab-df-convert:hover {\n",
              "      background-color: #434B5C;\n",
              "      box-shadow: 0px 1px 3px 1px rgba(0, 0, 0, 0.15);\n",
              "      filter: drop-shadow(0px 1px 2px rgba(0, 0, 0, 0.3));\n",
              "      fill: #FFFFFF;\n",
              "    }\n",
              "  </style>\n",
              "\n",
              "    <script>\n",
              "      const buttonEl =\n",
              "        document.querySelector('#df-94b57d1c-6ecf-4525-b9f0-0304df7691d2 button.colab-df-convert');\n",
              "      buttonEl.style.display =\n",
              "        google.colab.kernel.accessAllowed ? 'block' : 'none';\n",
              "\n",
              "      async function convertToInteractive(key) {\n",
              "        const element = document.querySelector('#df-94b57d1c-6ecf-4525-b9f0-0304df7691d2');\n",
              "        const dataTable =\n",
              "          await google.colab.kernel.invokeFunction('convertToInteractive',\n",
              "                                                    [key], {});\n",
              "        if (!dataTable) return;\n",
              "\n",
              "        const docLinkHtml = 'Like what you see? Visit the ' +\n",
              "          '<a target=\"_blank\" href=https://colab.research.google.com/notebooks/data_table.ipynb>data table notebook</a>'\n",
              "          + ' to learn more about interactive tables.';\n",
              "        element.innerHTML = '';\n",
              "        dataTable['output_type'] = 'display_data';\n",
              "        await google.colab.output.renderOutput(dataTable, element);\n",
              "        const docLink = document.createElement('div');\n",
              "        docLink.innerHTML = docLinkHtml;\n",
              "        element.appendChild(docLink);\n",
              "      }\n",
              "    </script>\n",
              "  </div>\n",
              "\n",
              "\n",
              "<div id=\"df-0181d81a-efbf-4c93-aec0-af1d561d75b8\">\n",
              "  <button class=\"colab-df-quickchart\" onclick=\"quickchart('df-0181d81a-efbf-4c93-aec0-af1d561d75b8')\"\n",
              "            title=\"Suggest charts.\"\n",
              "            style=\"display:none;\">\n",
              "\n",
              "<svg xmlns=\"http://www.w3.org/2000/svg\" height=\"24px\"viewBox=\"0 0 24 24\"\n",
              "     width=\"24px\">\n",
              "    <g>\n",
              "        <path d=\"M19 3H5c-1.1 0-2 .9-2 2v14c0 1.1.9 2 2 2h14c1.1 0 2-.9 2-2V5c0-1.1-.9-2-2-2zM9 17H7v-7h2v7zm4 0h-2V7h2v10zm4 0h-2v-4h2v4z\"/>\n",
              "    </g>\n",
              "</svg>\n",
              "  </button>\n",
              "\n",
              "<style>\n",
              "  .colab-df-quickchart {\n",
              "      --bg-color: #E8F0FE;\n",
              "      --fill-color: #1967D2;\n",
              "      --hover-bg-color: #E2EBFA;\n",
              "      --hover-fill-color: #174EA6;\n",
              "      --disabled-fill-color: #AAA;\n",
              "      --disabled-bg-color: #DDD;\n",
              "  }\n",
              "\n",
              "  [theme=dark] .colab-df-quickchart {\n",
              "      --bg-color: #3B4455;\n",
              "      --fill-color: #D2E3FC;\n",
              "      --hover-bg-color: #434B5C;\n",
              "      --hover-fill-color: #FFFFFF;\n",
              "      --disabled-bg-color: #3B4455;\n",
              "      --disabled-fill-color: #666;\n",
              "  }\n",
              "\n",
              "  .colab-df-quickchart {\n",
              "    background-color: var(--bg-color);\n",
              "    border: none;\n",
              "    border-radius: 50%;\n",
              "    cursor: pointer;\n",
              "    display: none;\n",
              "    fill: var(--fill-color);\n",
              "    height: 32px;\n",
              "    padding: 0;\n",
              "    width: 32px;\n",
              "  }\n",
              "\n",
              "  .colab-df-quickchart:hover {\n",
              "    background-color: var(--hover-bg-color);\n",
              "    box-shadow: 0 1px 2px rgba(60, 64, 67, 0.3), 0 1px 3px 1px rgba(60, 64, 67, 0.15);\n",
              "    fill: var(--button-hover-fill-color);\n",
              "  }\n",
              "\n",
              "  .colab-df-quickchart-complete:disabled,\n",
              "  .colab-df-quickchart-complete:disabled:hover {\n",
              "    background-color: var(--disabled-bg-color);\n",
              "    fill: var(--disabled-fill-color);\n",
              "    box-shadow: none;\n",
              "  }\n",
              "\n",
              "  .colab-df-spinner {\n",
              "    border: 2px solid var(--fill-color);\n",
              "    border-color: transparent;\n",
              "    border-bottom-color: var(--fill-color);\n",
              "    animation:\n",
              "      spin 1s steps(1) infinite;\n",
              "  }\n",
              "\n",
              "  @keyframes spin {\n",
              "    0% {\n",
              "      border-color: transparent;\n",
              "      border-bottom-color: var(--fill-color);\n",
              "      border-left-color: var(--fill-color);\n",
              "    }\n",
              "    20% {\n",
              "      border-color: transparent;\n",
              "      border-left-color: var(--fill-color);\n",
              "      border-top-color: var(--fill-color);\n",
              "    }\n",
              "    30% {\n",
              "      border-color: transparent;\n",
              "      border-left-color: var(--fill-color);\n",
              "      border-top-color: var(--fill-color);\n",
              "      border-right-color: var(--fill-color);\n",
              "    }\n",
              "    40% {\n",
              "      border-color: transparent;\n",
              "      border-right-color: var(--fill-color);\n",
              "      border-top-color: var(--fill-color);\n",
              "    }\n",
              "    60% {\n",
              "      border-color: transparent;\n",
              "      border-right-color: var(--fill-color);\n",
              "    }\n",
              "    80% {\n",
              "      border-color: transparent;\n",
              "      border-right-color: var(--fill-color);\n",
              "      border-bottom-color: var(--fill-color);\n",
              "    }\n",
              "    90% {\n",
              "      border-color: transparent;\n",
              "      border-bottom-color: var(--fill-color);\n",
              "    }\n",
              "  }\n",
              "</style>\n",
              "\n",
              "  <script>\n",
              "    async function quickchart(key) {\n",
              "      const quickchartButtonEl =\n",
              "        document.querySelector('#' + key + ' button');\n",
              "      quickchartButtonEl.disabled = true;  // To prevent multiple clicks.\n",
              "      quickchartButtonEl.classList.add('colab-df-spinner');\n",
              "      try {\n",
              "        const charts = await google.colab.kernel.invokeFunction(\n",
              "            'suggestCharts', [key], {});\n",
              "      } catch (error) {\n",
              "        console.error('Error during call to suggestCharts:', error);\n",
              "      }\n",
              "      quickchartButtonEl.classList.remove('colab-df-spinner');\n",
              "      quickchartButtonEl.classList.add('colab-df-quickchart-complete');\n",
              "    }\n",
              "    (() => {\n",
              "      let quickchartButtonEl =\n",
              "        document.querySelector('#df-0181d81a-efbf-4c93-aec0-af1d561d75b8 button');\n",
              "      quickchartButtonEl.style.display =\n",
              "        google.colab.kernel.accessAllowed ? 'block' : 'none';\n",
              "    })();\n",
              "  </script>\n",
              "</div>\n",
              "    </div>\n",
              "  </div>\n"
            ]
          },
          "metadata": {},
          "execution_count": 27
        }
      ]
    },
    {
      "cell_type": "code",
      "source": [
        "train_df['label'].value_counts()"
      ],
      "metadata": {
        "colab": {
          "base_uri": "https://localhost:8080/"
        },
        "id": "PUuDESRZFrve",
        "outputId": "565c98eb-3ac1-44a7-c27a-4b027076ec02"
      },
      "execution_count": 28,
      "outputs": [
        {
          "output_type": "execute_result",
          "data": {
            "text/plain": [
              "0    75173\n",
              "1    74827\n",
              "Name: label, dtype: int64"
            ]
          },
          "metadata": {},
          "execution_count": 28
        }
      ]
    },
    {
      "cell_type": "code",
      "source": [
        "import re\n",
        "\n",
        "train_df = train_df.fillna(' ')\n",
        "# 정규 표현식을 이용해 숫자를 공백으로 변경 (정규 표현식으로 \\d는 숫자를 의미)\n",
        "train_df['document'] = train_df['document'].apply(lambda x: re.sub(r'\\d+', ' ', x))\n",
        "\n",
        "# 테스트 데이터 세트를 로딩하고 동일하게 null 및 숫자를 공백으로 변환\n",
        "test_df = pd.read_csv('/content/ratings_test.txt', sep='\\t')\n",
        "test_df = test_df.fillna(' ')\n",
        "test_df['document'] = test_df['document'].apply(lambda x: re.sub(r'\\d+', ' ', x))\n",
        "\n",
        "# id 칼럼 삭제 수행\n",
        "train_df.drop('id', axis=1, inplace=True)\n",
        "test_df.drop('id', axis=1, inplace=True)"
      ],
      "metadata": {
        "id": "dMo-urFyFsbr"
      },
      "execution_count": 30,
      "outputs": []
    },
    {
      "cell_type": "code",
      "source": [
        "from konlpy.tag import Twitter\n",
        "\n",
        "twitter = Twitter()\n",
        "def tw_tokenizer(text):\n",
        "  # 입력 인자로 들어온 텍스트를 형태소 단어로 토큰화해 리스트 형태로 반환\n",
        "  tokens_ko = twitter.morphs(text)\n",
        "  return tokens_ko"
      ],
      "metadata": {
        "colab": {
          "base_uri": "https://localhost:8080/"
        },
        "id": "tXWnEwNrFzfD",
        "outputId": "40ce923b-7d7f-4978-ac68-329223e32991"
      },
      "execution_count": 31,
      "outputs": [
        {
          "output_type": "stream",
          "name": "stderr",
          "text": [
            "/usr/local/lib/python3.10/dist-packages/konlpy/tag/_okt.py:17: UserWarning: \"Twitter\" has changed to \"Okt\" since KoNLPy v0.4.5.\n",
            "  warn('\"Twitter\" has changed to \"Okt\" since KoNLPy v0.4.5.')\n"
          ]
        }
      ]
    },
    {
      "cell_type": "code",
      "source": [
        "from sklearn.feature_extraction.text import TfidfVectorizer\n",
        "from sklearn.linear_model import LogisticRegression\n",
        "from sklearn.model_selection import GridSearchCV\n",
        "\n",
        "# twitter 객체의 morphs() 객체를 이용한 tokenizer 사용. ngram_range=(1,2)\n",
        "tfidf_vect = TfidfVectorizer(tokenizer=tw_tokenizer, ngram_range=(1,2), min_df=3, max_df=0.9)\n",
        "tfidf_vect.fit(train_df['document'])\n",
        "tfidf_matrix_train = tfidf_vect.transform(train_df['document'])"
      ],
      "metadata": {
        "colab": {
          "base_uri": "https://localhost:8080/"
        },
        "id": "CaYJEp9DF6Lv",
        "outputId": "5c5f43c3-cec8-41b7-b3bc-d23b4768803d"
      },
      "execution_count": 32,
      "outputs": [
        {
          "output_type": "stream",
          "name": "stderr",
          "text": [
            "/usr/local/lib/python3.10/dist-packages/sklearn/feature_extraction/text.py:528: UserWarning: The parameter 'token_pattern' will not be used since 'tokenizer' is not None'\n",
            "  warnings.warn(\n"
          ]
        }
      ]
    },
    {
      "cell_type": "code",
      "source": [
        "# 로지스틱 회귀를 이용해 감성 분석 분류 수행\n",
        "lg_clf = LogisticRegression(random_state=0)\n",
        "\n",
        "# 파라미터 C의 최적화를 위해 GridSearchCV 이용\n",
        "params = {'C':[1, 3.5, 4.5, 5.5, 10]}\n",
        "\n",
        "grid_cv = GridSearchCV(lg_clf, param_grid=params, cv=3, scoring='accuracy', verbose=1)\n",
        "grid_cv.fit(tfidf_matrix_train, train_df['label'])\n",
        "print(grid_cv.best_params_, round(grid_cv.best_score_, 4))"
      ],
      "metadata": {
        "colab": {
          "base_uri": "https://localhost:8080/"
        },
        "id": "0LIbNlnfF9XK",
        "outputId": "b9f0b1f7-d0b1-411d-95a5-64c2a4935799"
      },
      "execution_count": 33,
      "outputs": [
        {
          "output_type": "stream",
          "name": "stdout",
          "text": [
            "Fitting 3 folds for each of 5 candidates, totalling 15 fits\n"
          ]
        },
        {
          "output_type": "stream",
          "name": "stderr",
          "text": [
            "/usr/local/lib/python3.10/dist-packages/sklearn/linear_model/_logistic.py:458: ConvergenceWarning: lbfgs failed to converge (status=1):\n",
            "STOP: TOTAL NO. of ITERATIONS REACHED LIMIT.\n",
            "\n",
            "Increase the number of iterations (max_iter) or scale the data as shown in:\n",
            "    https://scikit-learn.org/stable/modules/preprocessing.html\n",
            "Please also refer to the documentation for alternative solver options:\n",
            "    https://scikit-learn.org/stable/modules/linear_model.html#logistic-regression\n",
            "  n_iter_i = _check_optimize_result(\n",
            "/usr/local/lib/python3.10/dist-packages/sklearn/linear_model/_logistic.py:458: ConvergenceWarning: lbfgs failed to converge (status=1):\n",
            "STOP: TOTAL NO. of ITERATIONS REACHED LIMIT.\n",
            "\n",
            "Increase the number of iterations (max_iter) or scale the data as shown in:\n",
            "    https://scikit-learn.org/stable/modules/preprocessing.html\n",
            "Please also refer to the documentation for alternative solver options:\n",
            "    https://scikit-learn.org/stable/modules/linear_model.html#logistic-regression\n",
            "  n_iter_i = _check_optimize_result(\n",
            "/usr/local/lib/python3.10/dist-packages/sklearn/linear_model/_logistic.py:458: ConvergenceWarning: lbfgs failed to converge (status=1):\n",
            "STOP: TOTAL NO. of ITERATIONS REACHED LIMIT.\n",
            "\n",
            "Increase the number of iterations (max_iter) or scale the data as shown in:\n",
            "    https://scikit-learn.org/stable/modules/preprocessing.html\n",
            "Please also refer to the documentation for alternative solver options:\n",
            "    https://scikit-learn.org/stable/modules/linear_model.html#logistic-regression\n",
            "  n_iter_i = _check_optimize_result(\n",
            "/usr/local/lib/python3.10/dist-packages/sklearn/linear_model/_logistic.py:458: ConvergenceWarning: lbfgs failed to converge (status=1):\n",
            "STOP: TOTAL NO. of ITERATIONS REACHED LIMIT.\n",
            "\n",
            "Increase the number of iterations (max_iter) or scale the data as shown in:\n",
            "    https://scikit-learn.org/stable/modules/preprocessing.html\n",
            "Please also refer to the documentation for alternative solver options:\n",
            "    https://scikit-learn.org/stable/modules/linear_model.html#logistic-regression\n",
            "  n_iter_i = _check_optimize_result(\n",
            "/usr/local/lib/python3.10/dist-packages/sklearn/linear_model/_logistic.py:458: ConvergenceWarning: lbfgs failed to converge (status=1):\n",
            "STOP: TOTAL NO. of ITERATIONS REACHED LIMIT.\n",
            "\n",
            "Increase the number of iterations (max_iter) or scale the data as shown in:\n",
            "    https://scikit-learn.org/stable/modules/preprocessing.html\n",
            "Please also refer to the documentation for alternative solver options:\n",
            "    https://scikit-learn.org/stable/modules/linear_model.html#logistic-regression\n",
            "  n_iter_i = _check_optimize_result(\n",
            "/usr/local/lib/python3.10/dist-packages/sklearn/linear_model/_logistic.py:458: ConvergenceWarning: lbfgs failed to converge (status=1):\n",
            "STOP: TOTAL NO. of ITERATIONS REACHED LIMIT.\n",
            "\n",
            "Increase the number of iterations (max_iter) or scale the data as shown in:\n",
            "    https://scikit-learn.org/stable/modules/preprocessing.html\n",
            "Please also refer to the documentation for alternative solver options:\n",
            "    https://scikit-learn.org/stable/modules/linear_model.html#logistic-regression\n",
            "  n_iter_i = _check_optimize_result(\n",
            "/usr/local/lib/python3.10/dist-packages/sklearn/linear_model/_logistic.py:458: ConvergenceWarning: lbfgs failed to converge (status=1):\n",
            "STOP: TOTAL NO. of ITERATIONS REACHED LIMIT.\n",
            "\n",
            "Increase the number of iterations (max_iter) or scale the data as shown in:\n",
            "    https://scikit-learn.org/stable/modules/preprocessing.html\n",
            "Please also refer to the documentation for alternative solver options:\n",
            "    https://scikit-learn.org/stable/modules/linear_model.html#logistic-regression\n",
            "  n_iter_i = _check_optimize_result(\n",
            "/usr/local/lib/python3.10/dist-packages/sklearn/linear_model/_logistic.py:458: ConvergenceWarning: lbfgs failed to converge (status=1):\n",
            "STOP: TOTAL NO. of ITERATIONS REACHED LIMIT.\n",
            "\n",
            "Increase the number of iterations (max_iter) or scale the data as shown in:\n",
            "    https://scikit-learn.org/stable/modules/preprocessing.html\n",
            "Please also refer to the documentation for alternative solver options:\n",
            "    https://scikit-learn.org/stable/modules/linear_model.html#logistic-regression\n",
            "  n_iter_i = _check_optimize_result(\n",
            "/usr/local/lib/python3.10/dist-packages/sklearn/linear_model/_logistic.py:458: ConvergenceWarning: lbfgs failed to converge (status=1):\n",
            "STOP: TOTAL NO. of ITERATIONS REACHED LIMIT.\n",
            "\n",
            "Increase the number of iterations (max_iter) or scale the data as shown in:\n",
            "    https://scikit-learn.org/stable/modules/preprocessing.html\n",
            "Please also refer to the documentation for alternative solver options:\n",
            "    https://scikit-learn.org/stable/modules/linear_model.html#logistic-regression\n",
            "  n_iter_i = _check_optimize_result(\n",
            "/usr/local/lib/python3.10/dist-packages/sklearn/linear_model/_logistic.py:458: ConvergenceWarning: lbfgs failed to converge (status=1):\n",
            "STOP: TOTAL NO. of ITERATIONS REACHED LIMIT.\n",
            "\n",
            "Increase the number of iterations (max_iter) or scale the data as shown in:\n",
            "    https://scikit-learn.org/stable/modules/preprocessing.html\n",
            "Please also refer to the documentation for alternative solver options:\n",
            "    https://scikit-learn.org/stable/modules/linear_model.html#logistic-regression\n",
            "  n_iter_i = _check_optimize_result(\n",
            "/usr/local/lib/python3.10/dist-packages/sklearn/linear_model/_logistic.py:458: ConvergenceWarning: lbfgs failed to converge (status=1):\n",
            "STOP: TOTAL NO. of ITERATIONS REACHED LIMIT.\n",
            "\n",
            "Increase the number of iterations (max_iter) or scale the data as shown in:\n",
            "    https://scikit-learn.org/stable/modules/preprocessing.html\n",
            "Please also refer to the documentation for alternative solver options:\n",
            "    https://scikit-learn.org/stable/modules/linear_model.html#logistic-regression\n",
            "  n_iter_i = _check_optimize_result(\n",
            "/usr/local/lib/python3.10/dist-packages/sklearn/linear_model/_logistic.py:458: ConvergenceWarning: lbfgs failed to converge (status=1):\n",
            "STOP: TOTAL NO. of ITERATIONS REACHED LIMIT.\n",
            "\n",
            "Increase the number of iterations (max_iter) or scale the data as shown in:\n",
            "    https://scikit-learn.org/stable/modules/preprocessing.html\n",
            "Please also refer to the documentation for alternative solver options:\n",
            "    https://scikit-learn.org/stable/modules/linear_model.html#logistic-regression\n",
            "  n_iter_i = _check_optimize_result(\n"
          ]
        },
        {
          "output_type": "stream",
          "name": "stdout",
          "text": [
            "{'C': 3.5} 0.8593\n"
          ]
        },
        {
          "output_type": "stream",
          "name": "stderr",
          "text": [
            "/usr/local/lib/python3.10/dist-packages/sklearn/linear_model/_logistic.py:458: ConvergenceWarning: lbfgs failed to converge (status=1):\n",
            "STOP: TOTAL NO. of ITERATIONS REACHED LIMIT.\n",
            "\n",
            "Increase the number of iterations (max_iter) or scale the data as shown in:\n",
            "    https://scikit-learn.org/stable/modules/preprocessing.html\n",
            "Please also refer to the documentation for alternative solver options:\n",
            "    https://scikit-learn.org/stable/modules/linear_model.html#logistic-regression\n",
            "  n_iter_i = _check_optimize_result(\n"
          ]
        }
      ]
    },
    {
      "cell_type": "code",
      "source": [
        "from sklearn.metrics import accuracy_score\n",
        "\n",
        "# 학습 데이터를 적용한 TfidfVectorizer를 이용해 테스트 데이터를 TF-IDF 값으로 피처 변환함\n",
        "tfidf_matrix_test = tfidf_vect.transform(test_df['document'])\n",
        "\n",
        "# classifier는 gridsearchcv에서 최적 파라미터로 학습된 calssifier를 그대로 이용\n",
        "best_estimator = grid_cv.best_estimator_\n",
        "preds = best_estimator.predict(tfidf_matrix_test)\n",
        "\n",
        "print('Logistic Regression 정확도:', accuracy_score(test_df['label'], preds))"
      ],
      "metadata": {
        "colab": {
          "base_uri": "https://localhost:8080/"
        },
        "id": "56RQMx47F9qR",
        "outputId": "9ce17c49-c335-475a-f7b1-f8a731df7bf1"
      },
      "execution_count": 34,
      "outputs": [
        {
          "output_type": "stream",
          "name": "stdout",
          "text": [
            "Logistic Regression 정확도: 0.86186\n"
          ]
        }
      ]
    }
  ]
}