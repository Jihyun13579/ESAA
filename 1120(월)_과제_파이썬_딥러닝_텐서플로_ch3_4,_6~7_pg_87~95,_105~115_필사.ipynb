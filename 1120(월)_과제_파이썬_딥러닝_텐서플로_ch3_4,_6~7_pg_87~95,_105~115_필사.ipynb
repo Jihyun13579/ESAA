{
  "nbformat": 4,
  "nbformat_minor": 0,
  "metadata": {
    "colab": {
      "provenance": [],
      "authorship_tag": "ABX9TyOv74kWPMiUQ4aJC5S8xeBf",
      "include_colab_link": true
    },
    "kernelspec": {
      "name": "python3",
      "display_name": "Python 3"
    },
    "language_info": {
      "name": "python"
    }
  },
  "cells": [
    {
      "cell_type": "markdown",
      "metadata": {
        "id": "view-in-github",
        "colab_type": "text"
      },
      "source": [
        "<a href=\"https://colab.research.google.com/github/Jihyun13579/ESAA/blob/main/1120(%EC%9B%94)_%EA%B3%BC%EC%A0%9C_%ED%8C%8C%EC%9D%B4%EC%8D%AC_%EB%94%A5%EB%9F%AC%EB%8B%9D_%ED%85%90%EC%84%9C%ED%94%8C%EB%A1%9C_ch3_4%2C_6~7_pg_87~95%2C_105~115_%ED%95%84%EC%82%AC.ipynb\" target=\"_parent\"><img src=\"https://colab.research.google.com/assets/colab-badge.svg\" alt=\"Open In Colab\"/></a>"
      ]
    },
    {
      "cell_type": "markdown",
      "source": [
        "# 1120(월) 과제_파이썬 딥러닝 텐서플로 ch3. 4, 6 ~ 7 pg. 87 ~ 95, 105 ~ 115 필사\n",
        "### 2129014 박지현"
      ],
      "metadata": {
        "id": "H_xqKJYnDPx5"
      }
    },
    {
      "cell_type": "markdown",
      "source": [
        "# PART 03. 케라스(Keras)\n",
        "- 앞에서 다룬 mnist 데이터셋 다시 사용"
      ],
      "metadata": {
        "id": "uJb5mbUAS7Dv"
      }
    },
    {
      "cell_type": "code",
      "source": [
        "import tensorflow as tf\n",
        "\n",
        "# 케라스의 내장 데이터셋에서 mnist 데이터셋 로드\n",
        "mnist = tf.keras.datasets.mnist\n",
        "\n",
        "# load_data()로 데이터셋 로드\n",
        "(x_train, y_train),(x_test, y_test) = mnist.load_data()\n",
        "\n",
        "# 로드된 데이터셋 확인\n",
        "print('train set: ', x_train.shape, y_train.shape)\n",
        "print('train set: ', x_train.shape, y_train.shape)\n",
        "\n",
        "# 데이터 정규화\n",
        "x_train = x_train/x_train.max()   # max: 255\n",
        "x_test = x_test/x_test.max()   # max: 255"
      ],
      "metadata": {
        "colab": {
          "base_uri": "https://localhost:8080/"
        },
        "id": "R2VGzE4iKJov",
        "outputId": "7500978e-2359-443a-9df5-9972530ceef1"
      },
      "execution_count": 1,
      "outputs": [
        {
          "output_type": "stream",
          "name": "stdout",
          "text": [
            "Downloading data from https://storage.googleapis.com/tensorflow/tf-keras-datasets/mnist.npz\n",
            "11490434/11490434 [==============================] - 0s 0us/step\n",
            "train set:  (60000, 28, 28) (60000,)\n",
            "train set:  (60000, 28, 28) (60000,)\n"
          ]
        }
      ]
    },
    {
      "cell_type": "markdown",
      "source": [
        "### 4-1. 초기값 설정\n",
        "- 레이어의 초기화 방법을 다르게 설정 가능\n",
        "- Dense 레이어의 기본 초기화 방법: Glorot Uniform 초기화 방법(디폴트)"
      ],
      "metadata": {
        "id": "00sDNJMGERI4"
      }
    },
    {
      "cell_type": "code",
      "source": [
        "dense = tf.keras.layers.Dense(256, activation='relu')\n",
        "dense.get_config()['kernel_initializer']"
      ],
      "metadata": {
        "colab": {
          "base_uri": "https://localhost:8080/"
        },
        "id": "jdMF7daAEZxM",
        "outputId": "ed9e9e32-0a6c-4f21-da89-402985d42dfd"
      },
      "execution_count": 2,
      "outputs": [
        {
          "output_type": "execute_result",
          "data": {
            "text/plain": [
              "{'module': 'keras.initializers',\n",
              " 'class_name': 'GlorotUniform',\n",
              " 'config': {'seed': None},\n",
              " 'registered_name': None}"
            ]
          },
          "metadata": {},
          "execution_count": 2
        }
      ]
    },
    {
      "cell_type": "markdown",
      "source": [
        "- 기본값 GlorotUniform 초기화 방법  HeNormal로 변경하기\n",
        " - kernel_initializer 매개변수에 설정하기\n",
        "  - 문자열로 지정하는 방법 / 클래스 인스턴스로 지정하는 방법"
      ],
      "metadata": {
        "id": "85M2ftf1MQxG"
      }
    },
    {
      "cell_type": "code",
      "source": [
        "# 문자열 초기화\n",
        "dense = tf.keras.layers.Dense(256, kernel_initializer='he_normal', activation='relu')\n",
        "print(dense.get_config()['kernel_initializer'])\n",
        "\n",
        "# 클래스 인스턴스 초기화\n",
        "he_normal = tf.keras.initializers.HeNormal()\n",
        "dense = tf.keras.layers.Dense(256, kernel_initializer=he_normal, activation='relu')\n",
        "print(dense.get_config()['kernel_initializer'])"
      ],
      "metadata": {
        "colab": {
          "base_uri": "https://localhost:8080/"
        },
        "id": "Jekilq1iTUpg",
        "outputId": "3a4d27c0-d649-4fc5-b523-814bea42a1ab"
      },
      "execution_count": 3,
      "outputs": [
        {
          "output_type": "stream",
          "name": "stdout",
          "text": [
            "{'module': 'keras.initializers', 'class_name': 'HeNormal', 'config': {'seed': None}, 'registered_name': None}\n",
            "{'module': 'keras.initializers', 'class_name': 'HeNormal', 'config': {'seed': None}, 'registered_name': None}\n"
          ]
        }
      ]
    },
    {
      "cell_type": "markdown",
      "source": [
        " - 케라스에서 지원하는 자주 사용되는 초기화 목록\n",
        "  - 'glorot_normal', 'glorot_uniform': 글로럿 초기화(Xavier 초기화)\n",
        "  - 'lecun_normal', 'lecun_uniform' : Yann Lecun 초기화\n",
        "  - 'he_normal', 'he_uniform': He 초기화\n",
        "  - 'random_normal', 'random_uniform': 정규 분포, 연속균등 분포 초기화"
      ],
      "metadata": {
        "id": "rMAYMuXlTVCA"
      }
    },
    {
      "cell_type": "markdown",
      "source": [
        "### 4-2. 규제(Regularization)\n",
        "- 모델의 과대적합의 해소를 위해 모델을 구성하는 레이어마다 L1, L2 규제를 적용하기도 함\n",
        "- 텐서플로 케라스 레이어 기본값: 규제 적용 X(디폴트: 'kernel_regularizer' : None)\n",
        " - 레이어에 규제 적용하기 위해서는 별도로 설정 필요\n"
      ],
      "metadata": {
        "id": "1-XTXpzjEaLc"
      }
    },
    {
      "cell_type": "code",
      "source": [
        "# 기본값\n",
        "dense = tf.keras.layers.Dense(256, activation='relu')\n",
        "dense.get_config()"
      ],
      "metadata": {
        "colab": {
          "base_uri": "https://localhost:8080/"
        },
        "id": "r0n0bNC-EfuN",
        "outputId": "c71dc303-352a-4a6a-cc89-85226ae5c798"
      },
      "execution_count": 4,
      "outputs": [
        {
          "output_type": "execute_result",
          "data": {
            "text/plain": [
              "{'name': 'dense_3',\n",
              " 'trainable': True,\n",
              " 'dtype': 'float32',\n",
              " 'units': 256,\n",
              " 'activation': 'relu',\n",
              " 'use_bias': True,\n",
              " 'kernel_initializer': {'module': 'keras.initializers',\n",
              "  'class_name': 'GlorotUniform',\n",
              "  'config': {'seed': None},\n",
              "  'registered_name': None},\n",
              " 'bias_initializer': {'module': 'keras.initializers',\n",
              "  'class_name': 'Zeros',\n",
              "  'config': {},\n",
              "  'registered_name': None},\n",
              " 'kernel_regularizer': None,\n",
              " 'bias_regularizer': None,\n",
              " 'activity_regularizer': None,\n",
              " 'kernel_constraint': None,\n",
              " 'bias_constraint': None}"
            ]
          },
          "metadata": {},
          "execution_count": 4
        }
      ]
    },
    {
      "cell_type": "markdown",
      "source": [
        "- 케라스에서 지원하는 규제: L1, L2 규제\n",
        " - 규제 적용 방법: 'kernel_regularizer'에 규제 지정하기"
      ],
      "metadata": {
        "id": "g-UwvxjjZaRn"
      }
    },
    {
      "cell_type": "code",
      "source": [
        "# L1 규제 적용\n",
        "dense = tf.keras.layers.Dense(256, kernel_regularizer='l1', activation='relu')\n",
        "print(dense.get_config()['kernel_regularizer'])\n",
        "\n",
        "# 클래스 인스턴스 적용, alpha=0.1 변경\n",
        "regularizer = tf.keras.regularizers.l1(l1=0.1)\n",
        "dense = tf.keras.layers.Dense(256, kernel_regularizer=regularizer, activation='relu')\n",
        "print(dense.get_config()['kernel_regularizer'])"
      ],
      "metadata": {
        "colab": {
          "base_uri": "https://localhost:8080/"
        },
        "id": "EkgbYqN9ZsCr",
        "outputId": "b1eff4ba-ed81-4fff-8861-fd1f27bf6fd2"
      },
      "execution_count": 5,
      "outputs": [
        {
          "output_type": "stream",
          "name": "stdout",
          "text": [
            "{'module': 'keras.regularizers', 'class_name': 'L1', 'config': {'l1': 0.009999999776482582}, 'registered_name': None}\n",
            "{'module': 'keras.regularizers', 'class_name': 'L1', 'config': {'l1': 0.10000000149011612}, 'registered_name': None}\n"
          ]
        }
      ]
    },
    {
      "cell_type": "markdown",
      "source": [
        "### 4-3. 드롭아웃(Dropout)\n",
        "2014년 'Dropout : A simple Way to Prevent Neural Networks from Overfitting' 논문에서 제안된 아이디어\n",
        "- 딥러닝 모델의 가장 큰 난제 : 과대적합 문제\n",
        " - 딥러닝 모델의 층이 넓고 깊어질 때(wide-and-deep), 모델은 훈련에 주어진 샘플에 과하게 적합하도록 학습하는 경향 존재 > 검증 데이터셋/테스트 데이터셋에 대해 일반화된 성능 갖지 못하는 문제 자주 발생\n",
        "\n",
        "- **드롭아웃** : 모델의 과대적합 문제를 해결하기 위해 제안된 아이디어, 실무적으로 상당히 좋은 효과를 보임\n",
        " - 모든 노드가 연결되어 있지 않고 **'확률적으로' 일부의 신호를 임의로 삭제하기** > 모델이 쉽게 과대적함 되는 것 방지 가능(모델 학습 가중치 파라미터 개수가 현저하게 줄어들기 때문)\n",
        " - 모델 훈련 시 : 드롭아웃 적용되어 노드 중 일부만 훈련, But 예측 시점에는 모든 노드들이 활용됨\n",
        "\n",
        "\n",
        "- 케라스에 드롭아웃 적용하기\n",
        " - Dropout 레이어 함수에 입력하는 숫자 = 노드에서 제거되는 비율"
      ],
      "metadata": {
        "id": "KkN4H6qYEg9V"
      }
    },
    {
      "cell_type": "code",
      "source": [
        "# Dropout 25% 비율 적용(25%의 노드가 삭제)\n",
        "tf.keras.layers.Dropout(0.25)"
      ],
      "metadata": {
        "colab": {
          "base_uri": "https://localhost:8080/"
        },
        "id": "wvic_eQMEkPS",
        "outputId": "6e96f10b-a8c5-4086-cceb-f65bf281d25d"
      },
      "execution_count": 6,
      "outputs": [
        {
          "output_type": "execute_result",
          "data": {
            "text/plain": [
              "<keras.src.layers.regularization.dropout.Dropout at 0x7e6a1b5eebf0>"
            ]
          },
          "metadata": {},
          "execution_count": 6
        }
      ]
    },
    {
      "cell_type": "markdown",
      "source": [
        "### 4-4. 배치 정규화(Batch Normalization)\n",
        ": 각 증에서 활성화 함수를 통과하기 전 미니 배치의 스케일 정규화하기\n",
        "- 다음 증으로 데이터가 전달되기 전에 스케일 조정 > 보다 안정적인 훈련 가능 + 성능을 크게 향상시킬 수 있음\n",
        "- 2015년 세로게이 이오페(Sergey Ioffe)와 크리스티안 세게디(Christian Szegedy)\n",
        "- 케라스 : 배치 정규화 층 클래스 함수로 지원 > 클래스 인스턴스 생성하여 추가해주면 됨\n",
        "- 더 크고 복잡한 데이터셋에 대해서는 배치 정규화 유무가 모델 성능에 크게 영향을 미치는 경우도 존재 > 배치 정규화 적극 적용해볼 필요 있음\n"
      ],
      "metadata": {
        "id": "3vNxrt3RElZw"
      }
    },
    {
      "cell_type": "markdown",
      "source": [
        "- Dense 레이어에 ReLU 활성화 함수를 추가한 모델을 model_a로 지정하여 생성하고, 배치 정규화를 적용 후 ReLU 활성화 함수 추가한 모델을 model_b에 지정하여 성능 비교해보기"
      ],
      "metadata": {
        "id": "CwxYdAKAcNpK"
      }
    },
    {
      "cell_type": "code",
      "source": [
        "# Model A : Dense + ReLU\n",
        "model_a = tf.keras.Sequential([\n",
        "          tf.keras.layers.Flatten(input_shape=(28,28)),\n",
        "          tf.keras.layers.Dense(64, activation='relu'),\n",
        "          tf.keras.layers.Dense(32, activation='relu'),\n",
        "          tf.keras.layers.Dense(10, activation='softmax')\n",
        "])\n",
        "model_a.summary()"
      ],
      "metadata": {
        "colab": {
          "base_uri": "https://localhost:8080/"
        },
        "id": "voNUyKJGErph",
        "outputId": "4b1f09ce-488a-4199-b647-f9dc1e9a165d"
      },
      "execution_count": 7,
      "outputs": [
        {
          "output_type": "stream",
          "name": "stdout",
          "text": [
            "Model: \"sequential\"\n",
            "_________________________________________________________________\n",
            " Layer (type)                Output Shape              Param #   \n",
            "=================================================================\n",
            " flatten (Flatten)           (None, 784)               0         \n",
            "                                                                 \n",
            " dense_6 (Dense)             (None, 64)                50240     \n",
            "                                                                 \n",
            " dense_7 (Dense)             (None, 32)                2080      \n",
            "                                                                 \n",
            " dense_8 (Dense)             (None, 10)                330       \n",
            "                                                                 \n",
            "=================================================================\n",
            "Total params: 52650 (205.66 KB)\n",
            "Trainable params: 52650 (205.66 KB)\n",
            "Non-trainable params: 0 (0.00 Byte)\n",
            "_________________________________________________________________\n"
          ]
        }
      ]
    },
    {
      "cell_type": "code",
      "source": [
        "# Model B: Dense + BatchNorm + ReLU\n",
        "model_b=tf.keras.Sequential([\n",
        "    tf.keras.layers.Flatten(input_shape=(28, 28)),\n",
        "    tf.keras.layers.Dense(64),\n",
        "    # 배치 정규화 적용\n",
        "    tf.keras.layers.BatchNormalization(),\n",
        "    # 배치 정규화 후 활성화 함수 적용\n",
        "    tf.keras.layers.Activation('relu'),\n",
        "\n",
        "    tf.keras.layers.Dense(32),\n",
        "    #  배치 정규화 적용\n",
        "    tf.keras.layers.BatchNormalization(),\n",
        "    #배치 정규화 후 활성화 함수 적용\n",
        "    tf.keras.layers.Activation('relu'),\n",
        "\n",
        "    tf.keras.layers.Dense(10, activation='softmax')\n",
        "])\n",
        "model_b.summary()"
      ],
      "metadata": {
        "colab": {
          "base_uri": "https://localhost:8080/"
        },
        "id": "Nc8hvu9ecS9b",
        "outputId": "c4b37eb0-8aad-470d-b591-8bbea992c481"
      },
      "execution_count": 8,
      "outputs": [
        {
          "output_type": "stream",
          "name": "stdout",
          "text": [
            "Model: \"sequential_1\"\n",
            "_________________________________________________________________\n",
            " Layer (type)                Output Shape              Param #   \n",
            "=================================================================\n",
            " flatten_1 (Flatten)         (None, 784)               0         \n",
            "                                                                 \n",
            " dense_9 (Dense)             (None, 64)                50240     \n",
            "                                                                 \n",
            " batch_normalization (Batch  (None, 64)                256       \n",
            " Normalization)                                                  \n",
            "                                                                 \n",
            " activation (Activation)     (None, 64)                0         \n",
            "                                                                 \n",
            " dense_10 (Dense)            (None, 32)                2080      \n",
            "                                                                 \n",
            " batch_normalization_1 (Bat  (None, 32)                128       \n",
            " chNormalization)                                                \n",
            "                                                                 \n",
            " activation_1 (Activation)   (None, 32)                0         \n",
            "                                                                 \n",
            " dense_11 (Dense)            (None, 10)                330       \n",
            "                                                                 \n",
            "=================================================================\n",
            "Total params: 53034 (207.16 KB)\n",
            "Trainable params: 52842 (206.41 KB)\n",
            "Non-trainable params: 192 (768.00 Byte)\n",
            "_________________________________________________________________\n"
          ]
        }
      ]
    },
    {
      "cell_type": "markdown",
      "source": [
        "- epoch 10번 동안 model_a, model_b 두 모델을 훈련한 결과\n",
        " - 배치 정규화만 추가했는데도, 손실은 이전 대비 더 안정적이고 빠르게 수렴하는 것 확인 가능\n",
        "\n",
        " ![스크린샷 2023-11-24 173450.png](data:image/png;base64,iVBORw0KGgoAAAANSUhEUgAAAdMAAAGdCAYAAABJrJmxAAAAAXNSR0IArs4c6QAAAARnQU1BAACxjwv8YQUAAAAJcEhZcwAAEnQAABJ0Ad5mH3gAAMIPSURBVHhe7P0HlF3Jfd6LfmfvEzpnoLuR0wyAATCRk3PgDElRFIekMnl97WsvW1q6V17vLcv2Xc/3yfK1fGVZoiWTT7RkLVOkJJIiOTPk5JzzDGYGGOScY+d48vu+2qcaBz0NDIAO6Eb/f0D13mfH2rVr11f/irEigWEYhmEYF0xQWhqGYRiGcYGYmBqGYRjGODExNQzDMIxxYmJqGIZhGOPExNQwDMMwxomJqWEYhmGMExNTwzAMwxgnJqaGYRiGMU5MTA3DMAxjnJiYGoZhGMY4seEEDWOaMNanGIvFRraPXhcT9fn664lz8YdhGKdjYmoY04RCoeCc8OIVhqHbpt9y+Xx+ZLt+++PL0bZ4PD6y79NEUPvH2ue36Z5BEDgnznQdw5jNWDGvYUwTJFKHDx/G1q1bnRBK5CRkWvfCWC5q2qZz5LxgCi/A3mm/tvljvHj68/z1PNqu8/z9PVof7crvaxizGRNTw5gmSJgeeugh/PZv/zay2ezINr/M5XKniZwXy9GC5vcJCaU/V0t/rJb+GK37c/x2CarHX8OLr/Z7ZxhGhBXzGsY0QeL0zW9+0wnqs88+i2QyGQkb/1EGncDu378ffX19iIdxLFy0EA0NDe7c4eFh7Nu3zy0lfo3cvmDhQnfO8ePH0dXV5darqqqwZMkSVKQq3DUPHjyIzs5Od5/W1la0tbW583XsoUOH0NPT4wS0pqYGixYtQiKRcPfzqDi5XHgNY7ZiYmoY0wR9il5Mn3nmGVRWViKfzXMHkM4M4x9+8mP81X//71GRbaGIG266Ef/69/61E9Tv/s138d3/+V2eU+Wus2TpYvzlf/8rvPnmm/iPf/gfkU6nEYQBYvki/uSbf4K1V1yFd9e/gz/4g3/vBDOIBU5Mf+/f/GtcfeXVvP/T+Pa3/3/IZNIU2qLzy3/nvdvnt5d8a0JqGOWYmBrGNOETYlpRiVwmJy3Fxo834Hd++3dw32fvw1e/+hXs2LkD/+WP/hj/x//xO/jFLz2ILz/4JXzxi1/CPffejQIFs6enGzfeeDP+3b/7/+Cjjz7EH/z7f4/Kmmr0dHXj8stXoqKiAv/sn/8zzJ07F//rN/4XleXiT//kT1Df2IA//L//EP/23/xbdHV34//1//6XqKmoxcmOo7j2MzegurY68iwxMTWMU1idqWFMY1wRbzGPbVu3YXhoAP/sn/1TrFt7JT573wNYd9VVeO75F1EMaDlSePfu2oOjR46ivX0ebr31NlqiMdTU1aC/pxc7d+9CZTKFm2++BS0tLa6h08YPN+JKXuvwoSPYv+8Ali9fji2bNmFoaBA1FM2THcdx6MAhVNdU4uZbb0d1VbWziA3D+CTh75PSumEYFwlZpXJvvfUWtmzZgq9//etIJBNOvORee+1VbNu+A//0n/5TJEJZhEVs3LgRe/ftxS9/5Vcwb/58vPr6a3jhhefx0ssvobe3B1dRbOe1teN4xwm88OKLePa559w5a9etcXWlf/Pd76GXQvvB+vX4kNbrgf0H0FDXgAdp+S5ZtAQHjxzCczzn6Weexp49e7Bm7RpUVFaMWKOqWzXL1DAizDI1jGmCGv1IUCVQcpEVGDU+qqurc42Lerv7oDa0aR577PgxVFVXIx4GuPPOu/C9v/kb/PEf/zEWL1rsiov3UGgvX3k5/vMf/WdX1/rlX/oynnjiCTz68M/Q1NCA5jmN+M5f/gUeefTn+Pkjj+DxJx7Hj37yE9d46cqrr8Y3/+Sbrt70/gcewA/+/gd4+cWXUchHLXi9Hw3DiDAxNYxpghcoiWpvby+OnziOk10nXOtdtaQtUkYfe/JR9Pb1YNOmTVhPi/Km629ErlDAu+++hZ7ePixYsAC33nozctkMujo68OEHH+DIkcOorKrGjdddj7nNTRikKDe1tGDpkuX4n//zu9x/CF20ZA8ePIwNGz7C0OAQPtrwoSsyrquvw2233o66hjr09HU7YTcM45NYAyTDmAboM8xkMrQEv40/+IM/cPWXbjut04baevyXP/1jvPTyy7Q+v4caWqOD6WGsW7vWWZ3VlbX4ytcepMj2oqqy0nWDufnWW/B//4f/gP/nP/0/eO6Zp12L36F0FtXVVfjP//mPcOW6q/Dam6/j3/yr30OB966uqcbA4CA+c+1n8B/+4Pfx/6Uf3nnrbR7Pew0Moqm5GX/2Z3+GxUsXjxTvqgGSYRgRJqaGMQ3QZyiLVA2D1L9TuD6m3B6PJ7By5UokU0ns2b0XA/29SCRSWLhwIRqaGmiFFnDk6GF0dpx0xbAVFZVonz8PjQ1N3H4IJ090IJtR15g45s5tQWtruxNEGZkHDx1Ad3c30txfnapGY0sT5syZi87ODleMnB5Ou/6uc1vnYk7LXCA4VQxtYmoYp5gRYqpERsirSgSUyOhDdgmCYVwCKG7LaSQi/1uCxZWRglVXQ1m2ze0n7li399SROsKfH505xjll6+LUNaLtwl1Hv/m//ByPdY8xZjp+WEzFY79UX+7zZUaJqcd/vPYRG4ZhGOPFy6A30C7EUJsxpl25gJqIGoZhGBNFuU15ofbljLFM1f/u6aefdl0EZJaboBqGYRjjRRLoqw/VCPB3f/d3R8a8Ph9mjJiqf5y8esstt5h1ahjGjMSnXUrL5MZKy5SoG5NL+XsQWspI++53v+sGRmlubnbbz4cZI6ZPPvmkG2z7rrvusoZHhmHMSHxy6xNyLb14+tbRky2mE51+Xmzx98J4rijc5bw16t+Dpin8i7/4C3zjG9+4dMVUXnz88cfd9FESU8/5BKBhGMbFRmlZeZKrNMy34J4qI+FCWqqeDe//i4XC8HzCzguofw9aei351re+dWmLqVAxbyqVwh133DESeFMV+QzDMCYCJbfektO66ugGBvqdIIVhfCSBNyYPhb8XT/Wh1ly9Qtu/853vuHGxL3kxVTGvxFQi6gPDMAxjJiHh9ILa0XECqYokXQUT44Bi6uvxaC3RVuDPsxLjocVRpaxKH3V9b2zoekov5bTunSjf7tNULzayYFX0WY4/9mxMdvos/32aHz4N77+BgQFnpGmkL70XFfOamBqGYcwAJAZyEiqNPtXUNAehlNNBcXMDZ5Q4h2QuNqrUVkm6hMGLqZa+KFb7Ro9cdTYJ8Nfx19Kxl0Laq/AXg4OD7pkmQkz9GzQMwzAuApE2UaRKyqk157hjZP0szotzuRPeiiy3LmVtar8XRAmIfuu4cif8cXL+utrnzzmbK7/WWPsvpvP+Ev7ZJgITU8MwjCnCJ+anyDFBz6AYZFAIshRH/g4oYgEFkL9j8bM7hFyWBK/cSTQlem+88Qb+03/6T/jTP/1TvPrqq66OVvvLReXHP/4xTpw44bZpXOinnnrK9aBQEejDDz/sZjDSOUJLXzJ4Jqdr6lre+fOmi5OffCMsv20iMDE1DMOYIpRw+yJTl6DHwpIFGtDRKuV6lmKUL4bI5QPkC3G6ALkCf3OZzce4PcZtEkvVjUZFuKPFyy+3bt3qBiC49dZbnTDu2LEDu3fvdtP3HTt2zInmSy+9hJ6eHnd8Z2cn3nzzTbeu+XO1nk6nT8sAeAE6k9NzqSjZu08T36l25UJ6esZmfJiYGoZhTBGjE3aapCjkk8imA7z47Ls4cawPmzfsxTtvbUJv5yCeevRVdB/PYP1bW7Dpw704fqgPr7+8AT0nh/HyC+9j/54TFL1M6epjU19f75xEUfPg/v3f/z0+/PBD/Pmf/7mzOj0SPRUJS2y0lCBLqMsZ7f8zuXLG2j9dnPffRGBiahiGcZGIEnIVPRbR2dWJ9HAOA30D6Ovux9BQDseOnHTWoyaIV7GrBLGjo3Ok8dLQ0LATPG9heavXo+MeeeQR/NEf/RGampp4bgcqKiqwZMkSN92frNRy60zn63rl1qRxbswiMVWEUdHHxJn1hmEY46GIPGLhMJIVRXzxl+7DvEWNuO7GK3DnvZ9B67x6/NrXv4jm1hrcetd1uPb6K7BwyRx8/ot3oqGlBp//xbtw2cqFqK6uHBFRX7zrUTHrL/7iL+Jf/at/5YRR4qkiXRXx3nnnnWhpaTmtaFjdRCSmchJunVMu0OXCbZzOrBFTVeznClnk8lxmCnRq5RbVNZxq7aZIpene5E7vX2UYhjHx0PIr0ArkWnVlEvFQdalFhHFZrRS3ihDJRIDKZByVqRCJMIYE9wWxvFvXMb5eUsWzcl7s/FIDE6xYsQKtra2uAZKKfDWxvFxtba2zfN99913XQElCq2u8/PLLri51/vz5rkuiWaifziyyTBk5GbkKeXWU7sFw+vQ5UiMUYdQHS8FikccwjMmFcsh/ElMVqwYUyYBiGaejcNLFQ22XsEZFrs5SHOXK97n9JUtS69deey3Wrl3rBPf+++/HF7/4RVxxxRXYvn27KzqWJfrZz37Wteb9+OOPMTQ0hK9+9avOctU5v/RLv+TEWNeS4eHvYXySS3jQBl/c4fMLBebAchgYSOPvvvdjfP6LX2DO7FTHXEUciySGYUwFvrhUdZiqy1TaozRoIlBJm66tdFICqHVZm744V4ze70WyfJvW/bla13W1fqmkk3o21UPreW3Qhk+lvP5AxSAJVFZUMYf2OTQ3Npa2e0qt1nhKkUZr8eKO3WwYhnHeeGEUEgcvkl5IJYbCb5dIljt/vpZCS11H53ux9/uM05k1xbyKDIV8ASEjSiKZxDtvr0d6OCrqLbrBLRVByupJLb4YhjFFeJGbCLwgehGVSGpdnGofEqWJ5aJZfp4/3lui2udF1S/Lz59I5Edd26P7yWm73OjfY+GPkfN+9m70OeX3Gg+zRkxdBAkYWYIY+vt6cezYUYorI1AhQFy1/Q5GjIAm6awJFcMwLjbl4jVR4uSF0VdfeUH19ynH79c5XiC1Tcvydc/o9bP9ngi8oHvrWev+t/Z5sfT31nr5MaL8PLnJ4BKWDQXYqdyeWr3J8mR0wbIVi/DZz97HgNfjazQRRRZ3GJHgcuvEZRQNwzA+FW81SRy889vOx5ULhhcY78ZC23W8Fyvhz9f95Q9dV/hj/fbx+nUsN9qfurbwzyCne3k/yD9a6lxt037vJ7/ul9ov/HHCP/N4ucTF9FQORCJa5E9Zp2ol99Zbb2Lz5q3uCAWCD1gdiRgjjhNfwzCMyUXTqKkKqsjEXumRF4o8t2kwByVNp9wpQfGOf6L10r+8rhMosYu5rjDqL6ruL+7YMZAI6RiJij9GS4nU5s2bXUtf7fOipGtp3YuY96/WPc4/F+hGo23+3noetTj2ouv3ebQu/8lvslq1PvpY71f9nkguYTEdDXNdJUu1SKFcvmIp2ufPp/Eao72aRpEiq6G9UNAxCmTlYExQDcOYPCSesQL/5ooI8nJMqeSYDsXoAsRRzHO/HI+j/ei6z4QlaypguhUyBQuYphVCigXTM6oIL1fE4SNH8B//8D/iv/23/4b/8T/+B/bv3+/OkdCUC4m6xLz11ltOdCQyXjjlHnvsMWzZssVt03kSsj/+4z/GCy+84IRNfVG134uVdzpWjBYtv6795a4cDXGobjte9PwxGoRf9/72t7+N7373u677jr+fR61zf/zjH+Po0aPu/AMHDrieIMosnDx5Ej/84Q/R1dVVOnpimTViynwKI0SCAa9uMDEsXbYYPd39GB4eQixUMPCF0nRVHapbNwzDmGSUXc/EA+TitPhitPiYsUdxiDsGKKASlH4EcVp+3FcspmnFZlDMDqKYHkCQoxEwPIx8hoKVozVGKzbGNEzLgC6bSaN/oB9f/vKX3eAMEj5Zau+//z6efPJJN9i9fj/33HP42c9+5n739/fjlVdewbPPPouDBw86odqzZ487XksNfv/222+7mWUkeNu2bXPDEmpdM9ToWhI5iZeuo4EgdL/XX38dL774ojtG4qvr63q6frmYSgDlzw0bNrjf2u8FWfeQ/770pS/h+PHj7lq6z3vvvYdnnnnG9Z2VwOtc+VPXkjDLutb52qdnlOBOBlMmpj5QvNPvs3G+x38a/jp6cQrkdDrjXnRvb38px8cXGvDvxHT1MgzD+FRUxBunRRpLZ7HznffwwbNPYyPdpmcfx9ZnH8OO157HcGcHTuzdjY59ezF04gQ2vfwSPniaxz3zJD5+7llseX89VYgWK9MxiagK2WTJ5tO0NHOZkTF9NUCDBEVCJLH5/ve/76zV8i4vEjIvuhIvpZmaeUaWnqw6na8hCOvq6pxoeatRIya99tpr2Lt3L37605+64//Lf/kv7vpyGlRf+370ox854ZaQ6jhdT+mxriHrV05+1Tb5xzufbst6lr9kIWvbRx995ARc4xQ/9NBDbqnjdZyeS+u+kZK3uCeLSRNT/+DlTtu8G71vLFd+/HgDwb8MX1yh8Sx/5VcfdNMTochAd0XAPofkrdMpy2sYhjELcalMPkdrsuB6FWj0ozjTKBXjxikCqSBEEFJkVHoWUiVDig63J1JxLrmeUImbBI3XcpYpLyhB1YXpdpfEbePGjW7Qm0QigcbGRicwEtSdO3di9erVbqSkq666ylmRDzzwgBspaeXKlS6tvPHGG/H5z3/eFY9K6CRS9913nxNQWX4SLAnl7bffjq997WuujlXb586d60ZdWr58OebNm4cvfOEL7pr6/bnPfc4d44cvFLJYH330UecHCbOKmCX8XgTlFxXbStQlxrqOxFTPoX0qBt61a5e7Vvk5WsqPWsrvup+2TzSTqhZ6ALnRD+QfxK9ru//tzxmNAmc86D4+p+Kuz98HDxzGE48/S+HO07O6vgRbrda0NCE1DGNyKTIpLKT4pyqJ5ddfg3X33YtV992Plfd+Divu/TyW3HI3Kmub0b54GVoXrUBV4xysuf0OrLv7PqyloK295y6suu5axBJxOoor07hYnJYYzdMiRWPVmjX4F//iX+Cf/JN/4kRKRZ6a11TpoYTVC5HSRC2982mw0l2N0KQhBbXut69atQpVVVVuSje/Ted5ERM6x4/rW1NT434rDda28gH1/f3kH41E5M/TOT7N1nV13OWXX47f/d3fdfOzSsC1T/7QeMMPPvggFi9efJquSDi9caYiYl3PX3OimVTFUADIlQeYXwqt6yG19Cgg/Msop/yYC6X8GsrNVVRWuNwTow9jtbbqj5x+m5gahjH5qOOAUpsgTCAWVCCWrAYqa+hqUYxzPUaBhMbHTfEgukQVHbcn64BUDY9P8DgaLEzTZArkmb4qjVVDy30HD7oGOCq6VVonEZOAyspUEavQAPiyXFUXKgtV9Y+y/lQfOlZarDRdgidLVPWlOkYD6atRkoqONTi+RFHprZwXNa1rqd/l15U+iKVLl7qZbK688kp85jOfwV133eWsaK8XOkf3lnhqWFlZsrJ4dU01LlJxtvylYuAf//jH+Lu/+zsnuBJpPY/qfZUJUP3xZBD+PimtTzh6eB9wqrD+yU9+4gJu0aJFTkT1cHrgtrY2l/t5+umn3dx7miZIRQ8KJKGXIPNdgaKch39JF4KLZHKMvo2N9cz91PM3o2qS5r9itS5bYA5M9aimp4ZhTAJeIIaHhlBTWYVYsTTSkPLxrqM7LTwmRvqtxr5qF5mnk2CqxW5eSx4vFwRMZ0eSQ16H144VCy69rG+oYxpXhzYK5j333OPER+POSlRl3SmdlfhpjlNZghIxWYVKexcsWODmPZXIqTpM6bSO1TbtU92pxElFt5dddpkTKdWlSugk0DpWx0lYtd7e3u7OUfqv62mbnARQ4eGtT1mZupdE06f10hD5S+cqUyC90HPovnPmzHHna5v8pnvr+XS8rn/DDTe48+UXCXT5daVDOtf7QY2ZJOY65nyZtIHu5Uk9gDys1l2anFbl8Moh/ct/+S9doCs3pApptTbTC/uv//W/urL0v/3bv8Uf/MEfuMAXCmQJrQLn3Ae6Hxv5SYKuOtJsJo/HHn0Oy5cvxdVXr2IEopWs2vsCc0+aFskaIxmGMQm4NIhJb2dHJ+Y0zY02Mv1xXfQcp9K3yG5jOqhdMui4VPpFOeC/ApMrHlE6vFikdZvlQYU899BoiOdpJCTd7DJK+6JjTlW9eUtRTunq6FLEcuf3+XUd79N4b/j4e5TvLzeK/HXLryXnzxPeLx79Fn6btEVFtTqn3A/CX0tLneev6+/jj/P3UEMmHTPtB7r3D6SiAAnhdddd57argjqVSGLtFWuwmDkNHaecQDXdiy+8gErmknwxgZAJr8pqHzBa+vULRZEwDAPccvNnsGjBfIUuA5Mvyjlev3ScYRjGRFGedinxVhkZs/e0MCWITC+5UKIccLt3iZILJADM5AfFAKHWqTFqcBQ1ndRZIf9RrHRxWrYSnESQcELqkYDISeC0Xyid9aLq6xTltE37fDqu83yarH3+OtrnjSet+2P9Uvjz/NJf319TSzl/b7/du/Lfsri11Pmi/Brlv7XfX8vj/af9E82pu0ww/uG0LI9A+q2H0cgeiXiKFiBfDF/8UP8gnxS4+657eUww0iFXOQe16pJFqzJ+vTR/3fGih6+uqsDW7dsxODik2zv/uKUOMAzDmEB8uuUTdTklRGqtqyQy5sYxTYzpYhTGWIJp34jj8VpyRTJK2XBCKmEuBpRoKnM+f2roPd3LW4TuviWUNpfvL9+nY7XNp+Hlzm8vFy2te+cFU9cb61zvtF/38f7y+/2xfp+n/Hx/jN821m/5y/vFO1F+z4lg0sRU6GH0ECrD9s2wJYiyQrXs61cn3D50dXehs6sTvX29aJ/f5nJSaoItdOw3vvEN16xa19LD+8AaD5opRpbp0PAQjh45jPSwKuMnPrdiGIbh8emXRwm5Gs6oX6cf+s6vX4jzFuLZnBei0eLj3ehrjnXMaFd+zfM9v/xc785n/6e50ed6P0mTfGvmiWDS60yVC5Bwqq+TRqjQrO+qfFZl8N7de/Dzn/+cv+vxz3/rt9wgCnt27UJjYzP+0T/+R65SXA+qnIUaMKmS+N5773XX9bmg88UHrh47CEJk0wUMDjBAeanaOlU6K6Irx6LiBneKYRjGhKB0R2mjX1faKDHVtihNiopHjclH4ayGSmo4paJj6cJ46kwnTUzlMQmX0C3ktE0CqHXNK1os0KSXhcgIxFjkBmj2QqmOy8WyHIPEVFaqGiCJCxVTH2mFFrwT3ntvAzo6O3Dfvbc7UZXIinh8Ug13wzBmGT4z7/HGgl/X/omylIxzx+vTtGyA5AVL+Agj9fci6H7HQ6S4TSN9qGhX23VMgsvRQunP8RHvQhkRUlqgmpZNMzUsXrzANRFXXa3uk89LcN1hhmEYk4pP15ROlqdz5qbOTQSTJqbyoCKGd5/Mbem3BDNyqjpXqaqc95R/yNEPq98XmntTvauQeMdiRVfxr/6mw0Np9PRqYGl1MFZlteUODcOYWLxgejdRCblx8ZlUMR3tyiORrMDo9t5J5NRqTctIyHSc0LnlKEJeqJjqvMhC1nVlMReRSWexfv0HOHr4qPOXLq3WxoZhGBOJ0p/R6aIxPbhQTfFM2ZscHYHkVD/5SUehdGIbPZjvU1SOfo/3wfXo0ssi/1XXVOArD/6iGzhCk/QWcioCNjE1DMOYLUiTxsPFyxbpzmd0FMpxPtin4QKuqC7RahwFHDveiZ8/8hSGB3PcIsbX9cYwDMOYPUyuYk1jCtRKGbfewK2qrkBre5tbDwNZxm7VMAzDMD6VWSumIjLroyLlpoYarL1yNYbTQ8g709TU1DAMwzg3Zq2YRnWuqruVeQrkC0W89856vPLKa67OtKBpGgzDMAzjHJjVYuobMRWK6iITw/WfuRq33Hwjt/C3GaaGYRjGOTJ7zS8V5Y402I0aG6UqU9i7dz9Odnac2mUYhmEYn8LsFtPTiDEwYujt7kE2nbURkAzDMIxzZvaKqZ8MUKuBpgsCkpUJ3H7nbaiqqYOGz/RDaJ4+nqasWK2fGl/TMAzDmN3M4lY2EtJIEN1ASxRWCeqevbvx+M+eQnowA40oKCH95ODTElQzXQ3DMIyIWSympyOt1Aw28xbMw0233OhGXlLDJFE+aL9hGIZhjMbEtESklwXUVFUhlUzi+Iku5HKa99TtNgzDMIwzMovFVMW2Kt+NiMbijbkuMlu2bcXGjzeUhNTU1DAMwzg7s1xMT9WDFjVJuZt2LY9777kDd991hyv6zeej+lIr6jUMwzDOhBXzjiCxLLghBoeHB/Hjf/gHHD9x3G0vH+DBMAzDMEZjYlpCwwo66zOWRzKVxJVXX4Xq6hrE4wm33SxTwzAM40yYmBL1IVU30iKDQ3OcplJxzJvfjv6eNNLpPGK0VosxdYfJ6mh3jgWdYRiG4TFFIFFfUoppIcY/AcUTOHToIF555S0MDuYotEXkchJSj4p8LegMwzCMCFOEMVCR7qqVK/GFLzyA6uoktTPmRkk6hdWfGoZhGKcwMR0DiWkYj+Od997D9u27uSVGa7VcTC3YDMMwjFOYKhC14B3t4mEM+Xw2asVLcS3kNT6vVmWVmmVqGIZhnMLElIRh+AkXxALcdfetmD+/3Y2EFEMY1atao17DMAxjFCamZ4LGZ1dXD37604fQ2dlJIZWKyiK1IDMMwzBOx5ThTFA3a2trcMstN6GmpgZBqKCy4DIMwzA+ianDmaCYasD76qoaHNh/GLms+pfKMpUzDMMwjFOYmJ4BjXsv2Tx6+Ch2bt+DQtbPYeoHbTAMwzCMCBPTM1Ao5hHEClh75RW44/bbEAvi3Cp5Le8iYxiGYRgmpmdE3WOKNE/VReapp5/Bzp27uNWKeQ3DMIxPYmJ6FjTMoLrJXHnVOrS3tbltRW5T9xh1kzEMwzAMYWJ6RgqIBRrkPoYF89txoqMLmeFhJ6LRwPhWd2oYhmFEmJiekQICWqWiv38Ab77+Ovr6BhC4icI1v6nbZRiGYRgmpmelGA151NzSiAe//ItoaKwvWaQq6jU1NQzDMCJMTM9AERrcPuBSjZBCrP/wY7z5xnuud4ys0iDQtG2nnE0ebhiGMXsxMT0DGovXz22qbjIVlUmkkik3ebh0M1/IWt2pYRiG4TAxPQNuthjXDaaIMAxw/bVXYeHCBUinS5OEc7+bXSYed8voeMMwDGM2YmJ6BlR06wVSjY4ymQwef/wpHDh42LXopZRaEa9hGIbhMDE9A15ItZRUplIp3H3XHZjX1opQZb+lBkheUOUMwzCM2YmJ6RmQiAZBDGEYQzwEEmGA+oYa7N69F/m8hPOU2Lr5TwMLSsMwjNmKKcBZkU2ap2JyyZDq6up1YprToPdFCzrDMAwjwhThXCi1LVqyZCHuu+8uyDCNqklLOwzDMIxZzaSJqRrllLvyxjpuWeD2UW5ke55K5cRqbPw1p4aSYKo4Nx7ihZdfwTtvv+N+a5+vW42Qn1QE7J1hGIYxG5g0MZUwqg/maDHNZrPROs0753LcR1eky2d5Ti7H7Vznuf4cuXIBnTohVfBo6jUuQz5TrIDLLrsMi5ctpZ+4NQhcfenpSETV99T6nxqGYcwWJtUydS1huSwXVb+vWJRwUnC0yf3O0SIt0NaTlyiwXPeDIpQLq871yymFt5NlunjxAgwODmJoSIPey2857vRWqKxUia8EdrTIGoZhGJcqkyamstq8CEr4duzYgRdffBH79u1zIpunEO3YsQ3PvvAMTpw8Tq0KMTDQh5defgGvv/EaMtl06Uqno+uJqRNTp/bUycgNDQ3hvffWO0EVhUIROWYKlDlw6PACg9UaKBmGYcwaJi3Fl+hJNOV6e3vxt3/7t9i1axd++MMfoq+vD9Ke3bt34yc//jF2cZnPZ/Doo49jz+696O7udoMknF4febGQOsr6jCzrhoY6/MIvfB61NbXRXm6TrstK5d9omwxunWIYhmHMCiZNTL2QisOHDztL7sEHH3RCeeLECWe53n7HHbhi1RpXVNrV1YUNGz9Ca1srli1fhuqaGidUqmPdsGGDs2y9QF8UYnkapgVX1Hv82Ak8++xLKORjCGNhqd5UoitBlQWrEwzDMIzZwqQW80r4JIiyRCsrK90oQnISSE26XVHBbckUD46hh9br4SOHceTwEfz1X/0P7N29x50rJLT9/f0lKzCqi506fH0oZZK31f2TqQRaW+foB7eqOFuZh+gYxHKgvk5iyBqGYRjTjUkt5vX1pfX19U4MJaoqvk0mk5H1xrvnChl1MEFtbS3a58/DF37hF5CqrMAhWrMaRD6RSOCuu+7Ctdde637LCtQ1L8qIQ6o3peW5aOF8LF60GH29Q05P5X/VnY7A45ygGoZhGLOCSVMkb0VK9ObPn4+2tjZXX9re3o5jx445C/T9d9/Dtu3b8fprryFMxHH1uivx2GOPOmFauGjhiBh7C1fXKl9ODaesYAWWhhjM5bN46ZWXsGnzNjclm4PbT3HKmjUMwzAufWIUpUlRpVwu50RPLXolhhJQ1Ze2tLS4Yt7q6mrXMlb1p0L9N9PpNI4cOYKqqirMmzdvpDhX13n66addUfEdd9zhfk91Ua8EXkFVLMoKLeDkiS4kkpVuvN5CLIeQxyTiPm+i7jFT6T/DMAzjQpFOiW9961v4+te/jubmZvf7fJg0y1Ri54VUtLa2YsWKFc6Tc+fORV1dHebMmYPVq1dj7dq1rghXRb0SVVmyEszpg/wi61jPFVmnEvYd2/cgo/lNCzHEwnLxNCE1DMOYTUyqmI7GF89qn1+qDtRbsd5I1nZZf9MJ7zct5dd0JoM9u/fQymaGIQzcqE2GYRjG7GTSxNQXxUp8JJheXPXbC5M/xg/J54VKbrrhBV5LWdxNjY34hS9+zv2OSfeLahilZ4iewzAMw5g9TKpq+da4XjC1rpa8ctrnhVPrctqu47RN6zpezovtxcT71VvMksv173+IRx99olSfGqOFrbriqL7YMAzDmD1MPxNwBrFk2WJcddVartE6da15ra7UMAxjNmJieoHQSEVrawtqa+swODDghke0we0NwzBmJyam50h5Xa9neHgY777zPo4f76JlWtpoQWoYhjHrsJT/HBmrUVFNVQXuuP1WtDQ1I5b3RbwFTIMqXsMwDGMKMTE9R9T4yDeIktP4DCG3aXjEF55/iUtrdGQYhjFbMTG9UGK0RNVKOR66UZ1c817DMAxjVmJieoEU+S8WFDGnpRFXrFmNgYEBJ6jqIlMsTuXYwYZhGMbFxsT0AlHfWQlqPl/Ae++9j3ff/QAFrktQhYmpYRjG7MHE9ILJIwg0WXiAW2+5GbfccpMr+ZWESkin23CIhmEYxuRhYnrByCrNIR4GCMMY3n1vPbo6exAG0RCKhmEYxuzBxHQchGEchWKBsprD0SPH0N83iEI+apukmWVGynwNwzCMSxoT0wuk6Aa2V71pwc2/+rWvfRGtbXO5I8ZADbg1q6Oigw3DMIxLGhPTC8TNFhPT4PfqIlPEx1u24e9++A/IZnPI5QsMWFmmhmEYxmzAxHQcjDQyopguW7IY99x5u5vbVLZpVG1qgmoYhjEbMDG9QNTIyLXeLRacZNbWVNNKTaKzo6u0X0FrYmoYhjEbMDEdByrq1ewx6m+aK+bxwUcfYNOmLcgXNMm5DdBrGIYxWzAxnRCKbrze++65Czdcfz2CWIBY0axSwzCM2YKJ6QShIl8apHjppVddUW+hYGJqGIYxWzAxHTdqhFRwdaiJeIjW1rlIJlNqnRTtNgzDMC55TEwvmBgKebXaTbj60TAsoqo6gSvWrkAul6W8xpDPRSJrGIZhXNqYmF4g6gCjfzJAC4VoLF6NhbR71268+upbGBocdqMj5XI55/L5fOlMwzAM41LDxHSCcBZoMYaVl6/EHXfcglRlqrQn2mcD3xuGYVy6mJheIL7wVl1jNApSGAJhXJOFB/jgow3YvXt/6YiIQAcahmEYlySWwo8DteAN3awxoRPUoprz0jrVHKeZbNoV/0bDDlrLXsMwjEsZE9MLRPI4WiLzhVw0v+mtN2LRgoUucFXEK2eCahiGceliYjqBxMO4E82+vn789KeP4NiJ4yakhmEYswAT0/HwCY1U+16guaEOX/iFz6GlqQVBEC81QFJrXjnrKmMYhnGpYWJ6oTDkYqcNv6uJwiWVtEQTIQb6+7Bl615ksxTSYgyFmERULXpzkZ6aphqGYVwymJhOCLJHNeh9EUE8Gvz+2Imj2LVrHy1S7hurlNfE1DAM45LBxHQCKdIClXJqec011+Duu29zrXw1v6kzSg3DMIxLEhPTCSUaPlB9TtVNRiMh7d9/KOoeo40eaa6FvGEYxiWDJekThBrsamAGN78pLdN4Io7GpnpUVGgkJO60WWQMwzAuWUxMJxBngbpuMKo3DXD11WuRz+eQzqSRd+W8NmG4YRjGpYiJ6SSh4t6Oji48+eSTGBwcchOGR+W7EtRsyRmGYRiXAiamk4Qs1JaWRnzhC19AKlVZKua1ol7DMIxLERPTSSFHV0AyEUdPZyc+3rAZMXVClXMDNwgr8jUMw7hUMDGdNIoIaIimMxnKJoP5E/1KLegNwzAuFSxFnzSonrEY1q25AgsWzkM6pzpSK+o1DMO4FDExnSRcV5mwiFwhi5///DHs2rEHRWedWpAbhmFcakxayp7PR3WDhUJhxKmFay6Xc0v/W0sd653fJjcT8c8XUUAqlcL9n30AixYt4jNpv54XyGatNa9hGMalwqSJqfpZSlTKhbJcIP0+Lb34aOlF1m8rp/y4sfZPL+S/ohtOsKqmChs3bi49r6xWDe5gFqphGMalwqSn6GEYIh6Pu6WEUl1GvIh6QYkGOoiWcl4sZeV5Vy7G01lI9ZzRc+h5IkHN5TI4cuxoqQ1SyGeJMgyGYRjGpcGkiakXQwmLlv39/ejp6cHw8HDpCGBgYADd3d0jx+kcHaftWh/typmuxcB6jijzQMvcWaYB2lpbcP999yKfZWaidIycYRiGcWkweWKap5QUiijkihgeHMKPfvAj/MW3/wIPP/QwRSWPzHAazzz1NP6vf/d/YeNHG1HMgdsy+N53/wZ/+Zd/KYPOWaPlwqOlRNVvn9YUQwTFOENYdagFvP3mh3j33c3aQWeWqWEYxqXEJFqmhVK9aQ4njp/Ahg0f4sEHv4yNGz7C8aPHEA8SuPrqa9DaOhfp9DAtzTz27t2NjR9vxPFjx1DIF5BMJp0F2tXV5axVod8qSp32OOFn8MY0i0wM89rb0DpnDp8rElPDMAzj0mHSxDQIKHgqnqVunDh+DFVV1Zg/fwECCmHfQB/CeMjf89DY0OAEcmhoCE89/TSuu+66Ur1jVLSrYuGHH34Yr7zyCjKZzIhFOiMsO3rV+ZZ/VqxcQJs0x2dQK96ocZZhGIZxaTB5lqmKM4uR8CVSKWQphPlc1hXRxhMJ5GmJqqWrO4YCuXv3LmzZvAXbtm7H9h07cPjIESc4VVVV+M3f/E088MADzlL1Rb3TnyLc2PYMYvm5v38QTz71HLq6+7lL2yYt6A3DMIwpZtJSdG+RyUJtn9fuhqV95dVXnGU6TCtUxbb7DxzEvv37sXfPHrS1zsXv/O//O1avXoU5c+agpqbGiaZcZWWla9TjrVItp3/XEgm++tqqG0wM9fU1+NVf/TIa6usYLLK8rajXMAzjUmESFSkqyixQNJoam/Dgg7/khPMXv/BF9PT2oqvzJHbu3EmRqcfRY0cRp9W5etVq3HXnnfjiF75A0WmIrkLR9E4i6oXUC+t0RWIpvQ9iKu6O0apmJiIziDdee4fhUjrICa5hGIYx04lR8CYlRS/kSi1W9V9L1YHSPI1JGGMBcoUcQgpNgdtc9WppnxouFQsUTW3jPwmn6lCfeOIJZ6HecccdM0JMo/lK8yjmKhQAQLyAHVv3Y8f2Q7j3/lsRT2SctW2zxxiGYVxcVP0ovvWtb+HrX/86mpub3e/zYdIsUwlhNNCCRDISPq/ahWLeCaqWznpVn1GKo1rwcoXH62x/9Eym/BkKWLJsMa697ioMDw4zQzDdMwOGYRjGuTJpYuqsRwlGGFmlsTD67WXSGZb8E5Nxpu3uGAqq+mCW6YyEVoM6+JzDjKEo0zrFZ8ojltD8pkAmm8XPfv44Pt68nc8ji3S61/sahmEY58KkpeYSTm+RSjQlrq5VknfaV9rtkcyOVXw7SSXRk0yAYk7PLGubFjhCxBNx3P/AvVi1ajmtch8QhmEYxkxnUk0j1QkmEglX5+kHW5Bzwkr873Nx07+O9EzI37JSowxBU3MNPt60FcNDaffbMAzDmPlMqpiORiLq3ejf5+JmJpG/lRmQy+WyOKYRntRXyHrHGIZhXBJMmUKNtixnrqV5jvDxYgmtqIVyAM0Uo1bLNbXVbtD7Ql4tyKIWz6oTNgzDMGYuUyam5ZalhHTmWprniUp3KaYFV8yrRlRFfLD+Qzz//CsMh2iScBVjuxbNhmEYxoxklijaxUDiqT6zXMvLCo9xPctMBLB48UKsXHm5E1jVKc+4lsqGYRjGaZiYTjZRuyNHUS2YGeKt89oQjyfQ2RXN5aqi3pnZYtkwDMMQJqaThqxR9a1V/9kCQi0LgZvnVQP+v/byaziw/yiPCUtCGvWnlfjqGMDqUQ3DMGYKJqaTDUM4FmiGnCIC1RVTPKsqk/jlX/lFLF+xnAKqVr6qRy6zTlU2XG7SGoZhGNMaE9MpI6o3DTTSE9Wzp6cPjz/2LPL5DEVU+8vEU5OKG4ZhGDMGS7WnlALyVM6o4VEcVVWVTjhlrxbdiEiGYRjGTOSCxVRFkurO4ZdqkRoNbH9qfbohv8mpO0q5Pyffr1EwB4FGg4ohEQ/Q1t6CO++6Dbl8zomr9wK9FWGlvIZhGDOGCxZTL0wSov7+fuc0ss/u3bvduvpOTjck/L5e0vtfbqSuclIoNUSKRaM4uaER3eiCBTzz9At49dU33P2jQSxooToxjaGYm37hZxiGYYzNBYtp+RB/7733Ht5//318//vfx5/92Z9h06ZNkyxQ549EU/71wjW1lrOE0oujwkUNkmK477678JnrPoP4yNjD5QJ6wa/GMAzDmGIuOMX2/SNFb28vNm7ciOHhYaxcuRJdXV0XXUx1d+eD0kokVtHg+irm9b+nFnlGIl4ADVUkEkls37EDPT290y7zYRiGYZw7FyymYRC6ybxj1IAlixY7Ab3hhhvcent7u7PFLiaSLCdbGv82pynQCq5+MjfUh13vv43ew/uc32MqUuWBOk4lrBp/XivaNjkoZBjsWsSyOHBgL4YG07yhXoV8yRsH9MQFvxnDMAxjqrnwJLtYQBgLXR1fe1s7Wue08mIBmhqbUVtdU6r7u3iUNDFa4ZrqKFVXGUMOwUA39qx/H9nBfupWMRpYQaMT8VgZiM5InJTcgC6qotyoWLeqKon7778XlVW13KNX4eSc/sw5vxqGYRgzg3GIqRrL5J08vPf+e9ixYzsOHjyAnbt2YPfuPbTwLq6ayl/lD1fkL1mdsbACi9dciaNHjqD/2BGar1kEIe1B7ZNRSFeM8TdXNFn5ZOFLdQ/uP4jHH38S6XSWv7yPTUkNwzBmEhcupsQZcKW6x+aWFnT1dKPj5ImRVqvTgViCop6IUSDlnzifOImKpjYsWXYZjm3bguxwv2zByJIe0c7IQizbMOFEwVZA27x2XHftdQgT9NtIFmBcr8UwDMOYYi481Wa6H1PrWK5edtkKDAz0471330W2UMCq1au4ffKE6FyIClPlzXKflESVQr9s7Tp00DLtofijVPc7lajBkazT5sZGl/E4evg4tTUactB32TEMwzBmBhcsplEdn4SqiLq6Rnzj69/AVx/8Cha0z0dtTY2zsS4mrnER9SiyMdUdRk7b+YeZgIrmRtS1zceR/YcRo5iODojJtg1l0cfjIbL5PDZt3Iwd2/coUCmwFHwntBc3M2IYhmGcOxesGQU3q4kGaQ/w5htvYOv2bfjo44145fVXXb/Tiw61SEW35fZdWJqIxTXUTSZx+Y03YekVq0FF44EZ5IMscnFVmgaIZeNulpfJRH1dU8kEvvil+3H77TdGfr7o2RDDMAzjfLlgtYgsUyb+tKDiyTjefecd1FRX46YbbsLw0LA74mKjvpyeoNRYyrkQyIUhwoYmCm6Iwzt2IJ8bQCHIIU9zViI8Fe2nwjDgfYGe7gE88siTGB7M0H/R4BKGYRjGzOGCU+2COmK6osgirrrqKlx79bV44P4HcNnll+GKNWu4dRoUU1I51Y80ElEv7lJKeZ2iSVEtBGp8pC4+AQox+pqiq8Hoi67D6WQTQyIhcS9gbnszcrRUo7lM6VRGfZpdbRiGYUxXxm2ZKt0/dOgg5s9vxzu0Tn/0wx+gf6A/2ncxkfeon7Q/+S/uGkvF1GCW22V1xvMUMu6vbK5D+4rlGOqkn4eziElIA7pQguauNEnE4OYCj+VR31CJz1x3JX/knD9dtyI3asRUCLphGIYxXi5cTGMavJ1qQ2vuxPET2LV7jxvofvmKy3D48GE3otD0QIpYcqct+DfPxw9CDA71YuMrLyF99BgDRIJaiJ5tUrWsqEbFI2MGb9q8GY8++ZSzTqmwZpMahmHMIC5YTFUM6gZBKAaoranDiy+8iKWLl6KhoR6JeBzxUGbgdIaPnpOZGiDRWIP6umoc3LAJYTarxr6Uusm2TCMk2iotv2LVKtxz510IVdGrLjJTcXPDMAxjQrhgMXVD8JW6m2jmk1/5tV9BkAyxatVq3HDDjbSspq9t5WaPoWhpmWAQxFNxtK9Zjs5DhzCw7zAzCHkUQvVJLZ0wKUhE1Ro6qs3VoPcHDh7EkWMnuD2ask1G6tTObmMYhmFcCBcsps5sK8RoRBXx5ttv4NVXXndW1SMPP4yPN24sHTP9GBmdKaDfKZiyAGP5GKrb56J+TjMObdqBfDpNu3RyMwOuhFwth1VHq76l3NDd2Yve7kEUXOOnwAZvMAzDmCGMS0yjwRBiGBgYxDXXXY0vfP4LmL9gPnp6e8Zz4SkhUGvZUFaf5DSOsKoObWvXobO7F4NdvXw87ZsiIaOwJhJx3HbnLWhvb3VWqYp+DcMwjJnBBWtesdRwRpbp4sWLsf799/Gnf/onOHH0KOa3z3fW1nQmoFhKUHNqtavWvvkU6hcuwoIrr3CBEkxJ15jT6aFl+sgjP0P/4JCryzUMwzBmBuedYo8UPVIrVRSqxjpXXLEav/1bv41f/83fwLqrr0Zvvyy70gnTGOdF+l99TQOKV5BIYd7KlW5bltZ2jnqa4SE5Pm8xy+fOFdxvrqoXiwLggoksT97IlffKAi6itqEG119/PVKJBPJTMWqEYRiGMSFckJi6RjE8Uy1eZYAmUknMbWvFsuXLkc3lcKLjpNs3vYkG6ZegSs804ZqKVxEGOHL0ELpoYRczmqpbhdl0BRX7RjWp7sn0Z5yPWCxEjY+CMEeXR0VlEo2NTdh34DDc/KqGYRjGjOC8xdQjQZX76KOP8JOf/AQ/+9nP8Mgjj+Ddd9+dIS1QZY3GENIFThg1EpKENcDi5Zehec5cBLkhBPk0BZT/pLjFkMdHAjxedI2QLh6nH2Jxanh01SPHjmLfvj3IyfydkDsZhmEYk80Fi6kb1IBks1nkaI0ODw9jaGgIV199Na688srp3wqV3nNFtdR9PYnr5qOhBTVeUqoCx/bvxfEdm4H0IPdSQWmxOgHU8RrDN55zIyVNHLRSef+Vq1bgmmuu0y+3zTAMw5j+XLCYCnUxueaaa/Crv/qrzv36r/86fuM3fgOLFi2Kup/MBJxVKjGNOYs6TIYI6PdEIoGdH65HpqsDMW5X1xUdSs2Nqji14rZcOG54w5FXUKA4yzTO4YknnsLBAye4jZKq+xaL1kXGMAxjGjMuMRVuAAQm9loKv+4t12lLZI66pVYDWpkBrU/ap3QhmtvnI0ZRPbpnH0IKGaUWBYld6dRxc0qV6ZTxUJ1tAfF4HCuWLUNFRQX9FAmpMDE1DMOYvoxbTIWEc9qL5yegcFIsNXOMpmQTeoJowARappXVWHzFFTiy+yAGT3QC+QytUzVHyvEgV9tJN57gU72yd07O6QoIEzGsWbcGfX19yGQyI+E6Yyx9wzCMWciEWKaypoQXVTlvUU1X1Aq5UHLyaeD+he6vxFRW6dyllyFejOPkzj0o5rLOMi1oGEVZ37moVnPc8ObFPK+k/7oul/39Q/jZQ08hk8648FWdtFmmhmEY05fzFtNywZQrL96VqMrJihpLTP02LcvXPVqXaJRvmwq8TKklb0AzVYJW5DJeVYN5V63G8RPHkRsapu6pK1DA4/ns8mu+1Od2nGicYz601pxlPLelFr/5ja8hlahCQaJNv8RiFFSkUShKWHW47ju14WQYhmGMzXmLqYTSi6acBNVv95SLbDkSHjXykaXlrS0JZ/lv4bvdTCbytexpOedzelcNgkacxh0OE6hftRyX33oj4mElgmwAzSyXK7qhHOjf/Iifz59SUbH6tlIo3ZZYglsSDMsABw/uw+OPPo98jgLOe0i483S5XIZhlo1yAKalhmEY04LzFtMLReLorVkJ72jx9U5MhwZMRWeeAtXxCiQqK7F782Zk+gZGQkxSPz4t0/P5Z4zWvUUunaytqUFTcwuG0kNIZ3K0hCu4I4UgTus5iDIhpqWGYRjTgykTUwmkFwsJpV/X0lux3lL17mJSCKN+p0GWlngyhYamZlqN/F3IuGJZDeQwMUhIR+xjN4xgnOGxYuVS3HjTWjzxxIt46cV33BjIqugt5lK0TuPIx2QdT5QfDMMwjPEwaWJaLooSyUOHDuG9997DkSNHRrbv2bPHjZjU1dXlBn/Yvn073nnnHRw+fNgJrs4rF1h/Xb9tMqFuOZ2jvYxkvBIt8+eh78RR5Hs17nDUUGh8yP+nxFDPq0xFSBHXvRNcjydC3PCZq7F65Urs338cXZ20jHmKuszEg0h8FQ6y+svDyDAMw5haJk1MlcBL9LTs7OzEX//1X+O1117DD37wAwwODrpuHxs3bsR3vvMdbN26Fd3d3Vi/fr1z2jYwMDAimrqGdxIdCa/2TSZOK/lHDY6KhUC9TLFz80Yc3bWTD5eVnjrGqhs+d06vF9azRXXRvG4YFYcvWjoP8+c346033se+PYcZHgzTXAbZTMjwwEhds8LGMAzDuDhMmpj6OlGJ4fHjx52g/tqv/ZqzUGV5aoSh2267DWvWrHFC0NDQgM9//vP42te+5o7p7+934iLR3bJlCw4cOOCuJeEYn4CdG4HEWl1WdC8NJZhKYO78VhzeuRPF/mH6pXTghKMLUxiDLF2OFrC6HgW4594bsWzFPLz91oc4cbSXAq9BHk5ZtGaVGoZhXDwmX5WIinGrqqqcgFZXVzuBVOJfW1uLZDLp1mWRad/bb7+NFStWOHGVyMoKlbUqQZWQyunYyUaWqbIDEisNJSjaFi9AMZtB1+79wKTOdyqrW3W2Bd6f1jn/zW1rRGV1Alu3bEfHyV6k07nSYPg8mmEifxqGYRgXh0kVU1/0WFdX5wbClzBqMPzKysoRa6rc0ty8ebOrQ/3GN77hBFPWrcRWY/5+9rOfdb8lGr64d3KhiLp/FHB6j/YfUrV1WLh8OXZv2YTsQB83Fmm88gg+RzHLZQ7gws2Dem7znZ75GdzzFeOIhXkECQlqiESYwG98/asU1jn4hx8+hq7OPl5BraADF47qrhMVHZuVahiGMZVMqphK/CSU8+fPd1bnQw89hMbGRnR0dODo0aPYsGEDtm3bhrfeegv79+/H9773PSci2q56VQmEF1AvuOXFx5OJm0GGelaQODnBT9BVo3n55cjSYuw8tId+oHVIy1EtcIt5Ciqt1REp05+zelFCOpaF7bfH3TNrEImQjx6GOfqniEQywQxGgIbGauQKMXR29fO+Cp8oTBRmBaq6lpMdRoZhGEZE+PuktD7h+MRc1qWKbmWhqp60pqbGFfFq/5IlS5xrbW11s80sW7YMTU1NmDt3rrNOJaRyO3fuRCqVcsc6q414gZ0cipQ1+r/IewQSdP6maGki9MqKFJKpClTUNdBqDZ1maoI2WYhal/d4uFs6bTxvRp8YFftqmzITCofLL1uOnp5u/OQnD2PtmisouAlayBp5SuEehb3Cx4eVYRiGMTZeq9SbRFOIqlryfInxItFVJhhZRiqOVYKudQmjlkIJvPaVW5l+m5Y6TvWr5ULwxBNPuOLhO+64w/3WvskU06KGOpJ1F6O/aSi60fu4LUQWyGUw1NuLXDaPiva5yNN01Fi9SYkZZbWYiK7h6lyj1XGg10OrlGGkoQZjMYomzd8izeaB/kEc2HcQc9vnobe3B4sWzyuFiRovqb9q8rQwNAzDMD6Jr5L81re+ha9//etobm52v8+HSVMjJf5e7LT0mu3FsnybX2qb9p+LAEy6SJSyGLoLdSn6Tf/lKGJ5CmxP3yCOHTiIIC+h4wGh7FhmHmRF6vjSKROLrsgMBz0UhEVU11Rh5RWXY//+A3j26ReQz5WGN3Tl0/SPE2Ar7jUMw5hsJk1MZXWWOwmlX/rGReW//X650VbpaLzoTiYaMteHDm+HuDMzaRmqAjMRx5x5bVh8+QrkKaop1ZcWKWTOSxTUKJMzoeh5o/BS2BbpeJOYLH/gilWX4Vd/7WvYsX0vNn64xdWhxij4GsvXhNQwDGPyKcmFMZoiVSofxktthKL601AmpypDBUW188QxfPzmmyj0DiJBQVW5bskonUCk0GM1VJLAymdFJFIhausq0NPbhSNHjiGTziM7XKCxHGVWJt2KNwzDmOWYmJ4B3yo3z78ah7dYyNEQLERWp/qYMuQqalPoO9qBnr0HgVKfT002Lv2TfE1c4Opqqog93cnqVD/UeIKWaFDADddfgzvvvhWvvfoePvhgC3L0r+oCfFGvRkuSM2vVMAxjYjExPQuR5OgvhbJkckrW5DTMYHVDIxYvW4J9m7eikB7iMaWDKFbRv8klKh6XoOYQhrREEwEqNFJTawvqamswMJDG8HA0DGMup/F7o3pqdemJ3Fg+1LZyZxiGYXwaJqZnQAam7L+QQRRwLaauJ5TRyGKVnFLIUnWYs2IJejMd6Dq2D2GOlms2dP1Bs0XZtJOLim/V/1X1o1pK8WMU1XVXLcOSFfPws5++hI8/3OHmRNWgE66E2gmqLFaJ6ViVuxr4wTvDMAzjXDAxPQPeApVzMKTUSNajBryFfAyVjQ1oW7wEe7bvRHZwmCcUUZDIqX/qlFHuUwonb52glXrjLavR3taGA3u60dc7RKnNRv7LawAKOflxtBUqUVYdrbIThmEYxrlgYnqBaAo2TYMWS6Ywf+UqWnkhMsND0WhI/JegmAaTbZqOwjc0ilr+xrD8svmorq3Ec8+/hpMdfRRRDT4R+b3Idc2Gc8oKLRNU5RpcZiC6nmEYhnF2TEwvFFqmblyHeBI1za248vpbEE+kaJWqHyhFqDS8YFRHOTWqWt5q13U/itFvdSn88q89gJqKGrz28vvo76OFqiJo+U3+L8TpP/VJjeZElaBqXOFzG1vYMAzDECam54EESn1g5eJhwvX7LHJZpIjGa6qxd+8udHUcR6xUH5kvRK1n5aYC30dXSyFxDBNF1DeEyMfS2L17P63nGNLDsp4LboD+XE71pwGdzii1YbZYYRiGcV5YsnnBRFacGvUUYyFi8QQaGutQleC6xHMaWHUSTBQkrAHa2mvxj/7xg+juGsA//PgxDA0P8AANfqgGSeWjTtGyDul5K+E1DMM4Z0xML5BYXC1kC5q/2xWXxlKhmzw829eDgc5OHiHr7yITo8e0QNwVPQfxPOqbKrBi6WLksoGbF9UV7fK/xv09lQPgs/H5TFANwzDODRPT8eD6mkTkNWUbg/PQnv3Yu2kjcpl+Z/l5iXKiJW2j0+9SgeqkImszFpSGncjSQo0FaJqbwE23XolNH+/GM0+/gkxauYFTPnHa6vqg+jpUwzAM49MwMb1Q1BJWk3fHGYiJGEJZf2EVFq9YhY59ezBwaD8PopgGFDKKmuok1a1Tzo1F7/ZOLhLDSA/5R4Pja4o4tegNA6xZuwh33X0rujp7cOzoSTcTTUGD4/PoHD3oGinJ5C4RiWzph2EYhnEaJqbjwQtVSRYlktXNTahubMDh3buBzDA1rEALUaLqjFKHSl/VbWZqAz/yoyYblyrWN9RiztwGbNi4Ees/+MgN7JDLBMhmmDFQDoEe1vyseiZlBFw1cHQJwzAMYxQmpuNF/WOQixrwhDEEYRxL163F0ZMn0H3iuBPTwI3wm3fzogqVDscoUCV9mzR8y2PvhFr6RsW/MSSTAe646xbcc/cd2PDRZuzdc4h+o29zEtLQCWg+X3SCahiGYZwZE9NxEtPYuFxKb9Sqt0ixqm9vQ82cFhzcuYM7VLZLQaI56i1UB4W0rBR1SpCIqpuOin81Xm++mEFlZQLxRIiBgWEMpTO0THMo0Eot5PRUvu7UPZ27hmEYhvFJTEwvECeK6nVCjVGRrWuLRLEqxALEK2pw2dp1aG1vjxST4hU4MaKp59A6RXiKW8tKRP2UbNFQgpFPgniIW2+9EYsWzsMTTz6P7dt3u7rdmOqEeayKd6P6VzNRDcMwxsLEdBxEk4ETamRInXHiGIvTSg3R2DYfDa3tOHb4BDQFWjREH8VJIw/JQk3Q6pvi0FcRrxtogsIoPwWByp0psLSak0kglYpjxfKlaGxsQGdPHzKZTEl8dS4ji1osO2E95QzDMAwT0wvGFXw68XQ/oy6dMjxlyVF08oUAmWwBR48fRz5HeaXyBipi5UF51Z/y0IuvRdHrL/BfMchRTEOsXXc54okEnnn6JZw82QHNLqPiaYlvls+jelTvTEwNwzAiTEwnCNqaFB2Zp1yTIRoGqG1qwtq1V6IwlKViaWNJgEZCXZI6dbh6UjpZm76YV1ZnggaqRj3SoA4q1m1sqMWdt9+KyqoabNiwGcPDGbddLuoh653PEpQ7bfNOvw3DMC59TEwvEFWXqpBUc4lCc4rSGo3Hg2ibDuAROe7LdHfj45eeR9fJQ9QfiUucgR7QcpUYTa3Y+GLeU06zy6heVD4KXbFvPBlDkhbqwkXNGBrM4OMNOzE8kEU+TXEs5pgnyPJ4WasSXj2DzPFyVy62JqaGYcwOTEzHC5VTXTflTqOo/poUprpqV4R6ZNMWFPJDiKnTpmaUcbI7+qSLhfwhV7JWS8/T1taEX/7lL6O7pxdvvPM2himoYZCkiCZoYWtMX52jLjdlrsjn0nYtLXoZhjFLsNRukoiKROkq41ixZjU6d+1BdqiPIU4xLUpKA1/dOj2Jqdi3iERSFm0RQ/1ZNy1bOp1npiDG3RLS058gGuEpxuM00tK0fjrDMIwJxcR0EnHdSqhGDfPaUDenETs3foRiYUg7aKFSTFWtOG2h9VxMO0FduKAd9917BzZu3ILnn38ZuUwuKrEeJabOoqVB6pYWswzDmEVYkjfBSEA12pDqTwsUm5DKEiarMe/yy3Foyw4MDvZSprinEA2cMJ1xz0GrNJEMuB5i6eIlWHX5KmQopsMDw24AiFwuzd/DyGbTbl2tf7P5LHKFDH9np/0zGoZhTAQmppOFRnGI5RDkQopnAg1LlqJ94RL0dvWhMNMERgYoY8qctnosXtyG1157C2+99Y4r1i0UNDxhVD8ajeVbRKhq02LBuahLjYmqYRiXNiamk0aeVmk01GAsqEAsWYvVt9+OOS1tbrzeXKC+ptO5nFf1nlJFldvSkg6z3JRFLB7DjTddi2uuuQYHDh5H54meqJ6UoppTXWmRgqrfbkQKi16GYcwOLLWbLFyHUg1vLxdDEEsgW53C/h07cWTfPhRotZ5W5cjDZelJX3XmtJBZTck20pCITxHSZ0EO9fU1SCbj+HD9BuzedQjbtu7H+vc2opAtoq9n0I3rGwZq3Rv1Z43H464rzifRk+qhx2u1KrT8deR03XNF53o3lfh7nq9/jZlFeRy3d30pY2I6SRQRuilPg7gGF1SfzCISsRTmLFuO5ra5SBQykDYVqKk5Gn15ddGkxVosZpnE5i5K8j4a35goiiYJZ33GihRYPktVbQU+/8V7cNV1VyCXH0bfQD/27T+Bb3/7ezh44ATeeH0Ldm0/jGy6iMH+DPJ8xlxG07wxc5GLRlIqFtQyOMfffOa8juF6tkCXd/1aC25GnlPkR/2OEiZe2CVSPsS8OxfKEzk5XavcFV0LZrnT00BdX/u1oxxtL7/eaH/w2VSfrOctZJHlM2ve2DyXqnNWkbjCReN7CCsan474dx85fa8antPj350nquoY5jcyhDw/9pziu9oVKI7zXStO67fig97/ae9c1/LX4y14q8iNRDutyB/GdMDEdJIoqmsMlUjj98ZCTcNWAO0z1FTXYqCjA4e3bqXAZlwfVE3NlqdoFePRR6lB8V3xsPt1ERnxhKJJ6CYXDwI/2EPRDe6QqAixet1luOW267FwcTN+8+u/guY5zejoPI6hoUHs2bUPf/93P0Ff7wDef/9DdHZ2MxGhoGaUoKgomSKNFBMSBoLuE1DAYkxUFDYUJNW3ZujUqIlbXcOmAjI8VomPhEh+Gx1Sui4XpwngWETPdcrJD+VO7y5yY6HJ1Om1MhfQhWVO++n3EacZeHg9eldppgbKKPIaDE1uSziLXlXtmvZOiWoQjEqZjWmA4sypOKLqDDXEUyYpahvgl3rXahEfY6YwhVihAgXGj5hy2MyUulKfAl82f8dK8VDxuUDBHYkvFNgcnRdM1zThNC56CmGUobdoTAJKIkcSaSWeXNOHpe4wQ1292PnhBgx2d3BbxgkEPxvkmJK67ptKaPX9lGVSpwOnj57ERICJvUZDCimASYpqsiKBBYtaUFEV4v7P3YYr1q7AnLlzcMcdt7iEZdOmLejuHsQHH23Ccy+8yvUMPt60F5nhAoaGM0jn8sjwmRlMDAeNb+wUJ+pmI5XhvYqurlmWe2QRFJgY5dx0cacSOBf655TO6CBd3Dv9PuV0f4l4lpakcz6RoyhywQRTYqeXdDZXTnQfCamKwd00d8xEqBHXqVkTIpSw5pjpMKYXendRJilyURxQfOS3y78RFFCuqpRBxxQZR5Xpk/D29WYY3/N44fk3sGXzTmQyzCymeT6P1RzCcu6tu6SD8Z0Z8Sw3+DjIVKIsc6f4ZEwX7G1MEkr7JYghlUFJqhsYiOmlPrk5ixYjQQvvwOYtiDFhDvUlqfWrPkd9SU5RpzvyqBIPOheLVJwVWYyyKNU/VcP/NjXXYcVlS1FdXYGv/fJXsGD+XMxpnuNmp+nr68GmLdtwsqMPP33oCWzZtgcdJ7uxZcsuXifJQEzxsgw4OjWGclZsli6XZOLE/Q4/36qcir1KRV8aHEP10i5Xfybnkq0y9PvUfs1V66YDkj5/4kvRBh2fPoNTWMhPOs6LPN+r618c4uTJXjdcY8fJLmzm8w5yvbOjF8MZnSdOF1fjYuHjlb5irWtZHodEwr3TWPl7lmP0UDqwe9dhbNu6BwcPHMMPf/QQevsGECYTiKdSWL9+A5597hUMU2DVcE/fvizVaPATOcWx0iUdumhp1aH7GdOB8PdJaX1as2PHDtfvcfHixcy9yfKY5omN0nIt+f1pAHwV++advwuIx0PksxkcopDMW7wMycoafiPqWsLj9T0FcXeuG4t+2j6mbG8V/ZaKf+lc3VHpW3fvR5Y2A0AuoKWZSvK5aNHW1VejqakR1XUpLFw8H9W1KVqmQ2htmYP9+w7jow2bsWThUjz+2HNYumQJRaaP11fRcpI5+IAZDoVVFDil8fp5bwa50jmtK9BdXRXvz2NVIpDLKSFkuOc1IYGmodN2vh5mZE6JseqsVG+tJY/TlHM8RwayHqfAE3RuXtfV8+uZlfAVE9ymYjo6JobDaWYmwhQtb/k7xOEDR3DseAePBZ575mW0ts7Du++sR3//oLvfe+++j+qqGjz77LNYuGghaqoqeb66GRVcKYBx8VApiOo5FZ9UhKt4oAnzR3JXijZ85yquV5xS8W5314CLQ0898TzqGpoopNtw4uRxrFy5HLWM++1tcxivF7oJJQb6h1GRrMDQUJZx4n3Mmz/Pxam4viknlIrriqhqd0HpjEdpSKSu7kujM8aLr/d+5513cOWVV6Kqqsr9Ph9MTCcLvRv3fgrOwlEpXoF+zquol8IiS+3kzh0IK6tQ2ziHiSc/HH00RMWnRVquTMunNWqMxByCHiwSHiYm+sj18cvrkiLlKpy4OdWLAsUlDkwQ+IhIVcaZcMSwcOEC1FTXoIUiu2LZUiQTcRw71oF58+bj1VfeQGdnD+Lc9sorb2I59x853IEEwzGhiVjdfel4Gydy7lYSUoltlOhoQP8I+a8k/Dw6m825fRJJHac6LI05HMbiTBglltrMxNJ194meqocimUlnMTCQxs7tR1FfU4vXX/2AQhrDsaNdeOP1D7Bg3kK88OwrLtPQ0dnhhLW9bS4T1ZNYtGg+LfZGzJ1LK721ic+zHA0N9WhobqKQVuPIkSOor29AqDjAZzQuHmokF8UXvQcfvxNRnTzjbW/3oGIXPt68zZUsdHZ0460338LSpUvR08t33j4Hy5YuwrIVi/nNV6FtbouL91E1SQzNzQ2MB3NcZm8oM+wyUo8//gzmtLSgqrKat2C8471CzT2sdRen5TMvqMZEYGI6jdG3V1QxIcXEJcFapegEsjT4HcTjCSa+WRw4dBRz5y92RT76UPR5uG+FCbhbTnMkXE683Lo+dLmoS4wa6PgEaMRyLUeCRytP+6RacS6SFUlaaSk3UfnSpQuQSAVOkOa2zuX1sjh08CATpxV46qlnUF9X5xIwNXJqb2tFV2cfxZnhSEMioBjKKlSdavQy5OhHvQ15g79d3SWFVBasrM9spoBMhuLP9ePHexnf4q5o7ujhYxT3BF54/hUmfi14/fW3KI49fLIE3nn7Qyy/bCn9cAD1DTVobKxDgg/SPn+O8/ec5nrMn9+GBQvbUVlZwWda7LoV1dZVM7FMuuLwVCpJl+C5jdh34ABeefUNXLVubRREjCxRwxQtzVIdLz4cFRfPxbkqF2UWGZ8GBrII+HtgYAgH9x9FKpnCc8+/iipmAo+fOM7rZnHZZcswZ24zWloamFbN5ztnXK5MOPGUiMb4Xci6lHWrTKWEUfG0uqYC89rb3DfU3dlJEW7Dpo3b0Ns7QAu2Ael0BvEwwWvoO6K3nP+ipZ9O0bhw3LsmJqbTEBlsal8iK9M1yuS7ko9j3BEVixZRVZ9CklZNTV0Lj/NToSmxl33lBiOMTpquaAo2FTmVXDQtm5Zy+tKjYiplC0IKjBdZ71S6GmcuX4/okgNtiKmuMkfH1VAWOq34mhRz9ZWoqanGytWXuVbE7e3tmDOnBQcPHkVPzwBa5rTiL/7ir7Fu7Vps2rydJ8saZcLXP+SEyo0lTNfZ2YVCLo90Jott23cwoWrEa6+8zePjOHG8G2++sR6tFOaHfvIk7zEPh44cppgep+U8n/s7KIrznUW5aNE8CnwzVq1eTmFM0fJYwN/1qK2vRPuCJiQqitxewTibdM+u6Bo12GKYqeSBih+EFEk+s0sMeYDefV1tDZYtWoYuivXRI8fRMrdJITOCWlK7B5nWEWMqKX1cI+70cFGxq9y5iSivMMqlh3M4eOgEM3hVePLx510GLJsu4IMPNmDlqhXMENVSBJuxeMlCl2mqYGawvqGO71ojgfE75lLvV/FZ/lNmM2qpHQmg+2aCPN+rjo2hIplkhmsJUhUV6O8bcMX/e/cdxLat27Fo8SJm9HS8/CZBjvx9Kk54Z3HjfFE4ChPTaYh8J6dPht8IUcMCyopKa/irqE6miRA1qRr07zsM1FWhSAvFNVhyaauKQ3lg9BVOU0aecEynek6nE/rJQ/178y5KZLSkU7EXnQQw2sdjFGLMtYc8LuTvOBONOI9RglFFK08z2rS1N2LJ4nm8ThHNTSoya8HHGzfSkqzC0eNdeO+dDWhpasXLL79FYZqLV199h0I1wP2VePyxZ7D2ynXYt/cgRbUOdbR0KyvjmDevFfMWtmJOayPjWztWqIiO1vLSZQtdYllTU+WWEsmqqqTzl8Yudl2GlIjyWV0dr0oX6Hf3LHRR0Z62lVpDMyOh4rvomCicQlofFdUpbN68A1u37MDaK66IwpOiG2UuJBC8B68Xhf9sRgkg1e00IZFT3WVU7x2Fkb4lxTmFb2SdKvHUN8ZV7aXxqfgaurpLNSTat/8448VRxss4/uGHD+OK1avR3z+AVlqd8xk3ZIFWMk40NtUwHsZdXEim+C55fb3L6J3qHcuV4nppOXrdxQ/e2x3LdX0L8UQMTS2NzJzVYGBw0Imr6uSffeY1xvclUF9vlzGLMeOJqI+q6mll8fqMgcJBeVqX6XXhpIyHz3yUr9PDs5yJENMYLxJdZZrzxBNPMKGrxB133DESGWcyOVomBbpcVy/2b9iK9jWrUNXc4qzYHBPkOCN6VM832xPMT+ItjSiRVJ9MJZKh614gq384nWZilEBfzxA6unpc/eRHH27E2nVXlBKuIi3daub8hyiilS7R1XmhK36TaJ3+SZzpE1Ec1OhO40fXV0Mo/nV9TdVHNYdhJuw7d+9FHS3ypcsWMJFVoW/klyQT2ygRnM0JoX8vXhSijIaSBlluURwhfN+uKsF9SwFyWVW9UPX4rvm2XbesEydOor2tDX/zve/j7rvvQl/fII4fPY5777sdfd39aGisYUZYdem8Bv/nKVrKEKkI3t1iwuLCKXI5pREURq5rwJTuzgFaqDuwevVKPP/i87j55uswt62JaUaAREr1uPSLSxtlASscVM2hkg8+6xlRmBhKU8S3vvUtfP3rX0dzc7P7fT5YluSioRalCVfMu/y6dUjxTcSGB5F3RaWqF9EHYBH9bChdU3qpRMwlZknm7pmeJWnhq76zobEay5e3o6khhVtvu5ofSCWaGitpgVZyP2jJVvFcWgFJOvXCUVcHdanhWr6YVbpEN3WfiERbCaFyVHqmisoEurq6mbD3uzrdfFalG2rpLT8pifVdNmYrzPyo+wjDpZjliy8N/BFpCsNH1Q/KfnChbifq95nPAAN9tOS4/t77m/Dee1vQcawPTz7xEtLpHG666SY0NdUz43UZ7r3/ViQq4mhpq0fI+KLMjDJaauHrim9DFdc6j0wiuifThDCDpjlVuP7mK1FZncBida8LK/D802/hww92IJuOIZ+Lu2eU8LoBRXLyn+KJwkFpScmpiFgN6hR2szn6TDBTl1IYp6HEP1ZkLpIW1TAj+5Y338TJHdsZ+TOIq7iGr0afgXFmZIVIdLylGnVZUCthJh4ximFciV7GjaaUpFhqgAklTPG4rM8805SsczEtNU6bznVfhIpR4y4x8jlW976k3pOJS+tUr0prhJkqCf0dt9+AFSuW4uc/exYHDhwpHeQ/W4np7GbE4JRG8FVphCE1PosV5RIYGlKjMqDjRA/efutDWqFZ/O3f/j127jmAWmZkK2jRqY77V3/ly6ipTWLdulWueFUDkCRSajgXZVjUd1rFqnk3IpFuRyFSNJvsOME7q5GebOgiM3thooBURYjrrl9Hfzagra0dLXNa8P67G/HzR592UUL1vBpSTda3Jp+IxNT3iSWKY6q/53fiws+YEC5aUCrxK3cq0jg1wswp5xOzSw0ZIEoAcrRAk9VVaGysx97NG5Dv72EumzlnfqkqjlIYGKcja1EimkwmmZhF64mE6luj4i2/dHWxAcM3rtaUoTvO1b+qTor79DsIEs6pD2sikYrWgySTIV4/kXTHuPN4vr9G+baJRAmz6kI1jGAiwYwCrSH5NZlMYM6cOaioqEB6MMfvpegskByFI5uNpribnUji0igEdFSRnDJU/Kiy6Tw2fLQdQ/05PP/sm1hP61ODYhw6dJThGuKBz9+LRQvnYOWqxbjy6uWorAowt60aqVSMYQ3GlxgSfA8aWEWZKlW3qCGZ4oZa4bv3r+5UEuxYKV5NcFwQumZC8RIppGIVXOdvptjxeN7FjxSf5eqrLsNCPktrWyOt1Xno6e3FD3/4E/T2DyGXZjpLMc3TClU80RjQmnNYY0LnFV76rdHXSmmtpTXjY8rEVKJY/tL0u9zNkKrbCYP5WoQUTDWVV/eNOcuWYmCgD137DzCNYA5UVTr8Z3wSbyV6FxXFyun3qf1u3NM8FSkXZ8acTstyV/CNnaI6+PJ+s647hLve2d3EIUui/Nn0gxYFMwXqJnTrbde4+rO//uu/wbEjHbRW5H/NzDO7OD3TrYyFhl3M8kspIE0T9NDhYxgcSuOZZ17EwOAAVq9ajSVLFmDe/Ln4wufuoxDFsHTZYtTUqVuSLL0c3/+wc1FrdDmVDoyOAz6OMJ6piNQVgpTvn8i4EOGuq38qwSpZ3FFPAMZZ+lH+V/WEulctWdqOq65ZQ6s1gcsvu5wZ8QIe+unjOHa0mxkwCalaz0v8FW9Un6y0RSnMpWmsXAymTEyN04kpEquciIlAnBG8oqEJbYuX4MBHm/ihMufIDIarPzPOESVmsg6YWIy4SGDP7EbBw2loRMVfcb2bqcL7p9zvcvSSiqwDjagENDZU4+abr0eC1lFP9yDzXHq+2f4Jp2g9VvKbiaPzZDe+/zd/7yzUf/S//DqamuuxbHmra6STTKovp6xLlUhQDPlpuYY5bsAPZUrk/HuIwnTMIlBum9I4wjRA93H3UmaPGUBfNxxRKn6muqtOt7KqAtdetxbVVUksXjoPFcyIvfjyW/jw/W2u3l1F3rGiSl4SDAOKtGubYUwEY0WXKcPn6CYjVzcT0McquQwYqQvxJJasuQK5gSF0Hz7CMMlFOx2R6EbOBPbM+MSw3J0NhaWKtspcTI6pjnOqL5sqPun3aHg6+scN7p9lQpnANbQ+Dhzajx/9w0O0vEaP46vnuZTjSPmzRWEki623awgvvfAWamrr8NWvfQXVlUk0NtcgjPMdBmkkEhogntan6tBDlYTpOhpakqKUT7rGS9GYz/zt+kaXwlOZWcWHixlH3D2kgFzy+V3DIblsJKrqXiVrU0XCstLjCXXRoauI4YYbr0R9QyUWzluChvoGvPvuRjz6s2do0RfR16cyYGUgJKY+/lwoeifjcZcGkyamvh5UywyzQ1pPp6M5G12rRSUU2Ryy6SwNNEZu/c8V3DGaz1JIZHWsrDShcz1+20xFDYz0ODHXuIAE/ACaWjHn6msxlMkj1AfPA1TkpDk/NboKkwHVdPCfGiW4ixhnQZkVlWqd0bnYz5VPOO2Qu7i5dhUtygxiLKB/+S2oaI9eWr58Kb7w+Qdw4mQnDu496awLfTsaUUuWChRDGD+y+jnD0djJannrpu1TxkLPpuoRPXM+QH9/BoMDWXR0dXFfkWGzEAlaY24sbCc2SV4jKiqNkgzVsavePLJQXb9vLl18GPN1l8eLcjdVccTfo5R54K2948MxLJQWltJU/nZdddSArfRPkyZfvnoelq5ox9y5jVi0sB2dnb346U8eQ0/PcFSvSnF1Q1cyDcpmVSoW1cvnM0zDM7yKbqJrOXcKFXXLZZm2axASvZsLcy4FPCNK68vT/umK3tSkoZcgp/qNH/7wh/jmN7+JRx991G3LZIfx88cexb/9P/8NNm3cyI8lh6eefAJ//l//DD/64d8jOzJ7RnQdH6AzXURPwQ+h9NdFUX4vQSKOhWvWoWFuKwb7+rmNCQYTDdV1FJhj9tEupjUmLC4TYpyZKP05ixtzI50SL5+AXVwSYcL1bZSLKxGlCNTWVGH+/Gbs27sPm7dsZUZV34aER90hIhHN8TvR4BEzHsb9fDHDTESab4PJVUFFtQyIoOBGpvq77//IFd1+8RfuQ3V1ytUfRgPBa3m6EPn36UvCtBgzCoww1k7vpiqO6BlkQerl817lXijduvQ4I8/ld0a/1ZCNmY8gj6VL5+G669ahiuG0bNlSl8H4wd//DB3d/ejvi6aG0xCZikcubdGtaRGrcdcpp/rpKCWKWgMXEHfF5czA8F1lZeXL4ue6d5HlfwbnSgO8v8dGVreEPorj0oPSjmnGpImpBDDK6WRx4sQJN7LE5z73ObzxhgYt79Q7xto1a1FXW4/BwUGc7OjAu++9jwd4zFs89iTPERJPb9nqelGg6mOZ+bhWgHQul6kPk8Kp/pHdzGXv2qo6jigHrsim+rF4JkSozDnDzrWfcX3IjEsVJYYShKjhiSKJ+ibzu6JK6ju47jPrcMutN2D9B5tw4NBxxJR4uWJKfdZqoDLTvxMKYqDvXkPwqVhW/a9jtEQz2PLxDsSTcVx3/ZWoqatERaVaY2u/+ugq40Hrk2m0MiC+9bWcwu1So/z5xnLR4Ph8bhefmBmjmN58yzWorA7RNq8RqWQCb771rmsBLVslT2tU/XLVOKnAjIwavqmg7JSjnBajuVVzKuZmOLttbsQpLrme5bp3KkmT/I7peIq6oJ1qVPZJFxlSMqgip3l+VVTtXdSY6uIzaTFLL02ipyEANQuGRpxZtmyZ684gMU2lKrB00TK0tLS43EZnRyeGhoawfMVyVNfU4BDP8VatrNnXX3/dBaq3UE/lwmYm8n7UctDnIKPnUcRvZJjMX7gQ2Y4TiGUHGOkybrztGCNRTP3GmHNUo1OfMzUudfzLjr6pQlF9ZPOora10wxke2L8f3Z29GB5WTkvH6bPWUqU4M7skRxUb0XR5tJiYkHb38DmHsvh443ZmMODEtKqa1mrIhFaNcJxmRNapDCb/fZW7S4mxnm+0G8lA8NFdETEDTl2u1Er83s/eSYOmyvVVraqqxN7dh/D4Yy/QgCmgv384OsnVLTMwS65IV8hxybRITuEu0S0ynQpDxjcNfFLuwgxd+oyuVDZ3RqISyTGluOQucTEVepESP71MiaLE0b9gBYBy2FpXblI+iSf0klTUEFmg2qcxEh944AHccMMNIzmt6JzpEYDjI3oGRlE3DZlmlHHPTGu9saUJO19/EYc+egeF3k6GyDDySUYqhpMicyIbMp5O6uszpimMIoRJkOseEeKLv/AAVixfjOeffw0dJ7qZ/PEARi2fY1epjtxM+GZcZoFOflVdYNRPkgkyE+z+/iG88uJ7LpvwpV/6rBsmUjqhUTdVoqvuZF43HC6cZjdKT5SWykXjQTOMGF7KaEjoAln+8QzWrFmGVauWcHscjY0Nbiq5F597A4ODRezaecQ18urryuDwgQ5I17pODCI7TCsxXUSay0IhwcwcfzNNylI7cxlm/Lie1/tj5l9VuZqiUEXImo/YDfdIVyzohXGdLqrnjtYjjwa0G7SU/cA4oeJ71QcHWpcEc0knoVX8Foo7F4vyqDehlAvnvHnz3EO+/fbbTlRFb38fjh0/hmNHj+HwoSNoaW5yQvnuO+9iYGAAixYuKn1QeWfVyvmAujSENEL1n/rm5RSBNI+pUoUiw6Jt3XLs3bEFm556Cp0fb0JxuJ+ZxDzUkE+RsXSWMUvQt6T6Iy2dWiruMIFRESfTSWRzzOXz2+ju7uZen1BF9U1yMwH/bTsBJcVi3E2Nt2Xrdtd3csnSBW50ooqqlBNQ9bn06cxMecapxodNtFRYRSKqOKTBYQqxLNNepq1MVxYvnovb77geNTRiNGtSGCTw2iuvY9/ew9i5aw+effYFDDJT89OfPIoTxzrw5hvv49mn38DJE7145KHn0duTxvtvbcXOrQfQfXIY7729FcP9Rezcdhwdx9IY7M3j+KFeCnGIk0cGMDRQxEB/Fv29Q3y/RQyn1QBK710NzORXqT6XoBGl+lxJlmtHwm+Awq+GnHJ6NgnqxYwDkzZrTLngybrUw27YsMENVD88POxGENm2fRv27tmDoeEhXHvNNWhqanZieuttt2LdunVOXIQSkF27drmlJt0Vl8bH43NRUkf+Vz1FnDkzRvYiny3R1Ih5bQsw3NGJfRTT7FA/6hobEUtVOAtVOU1LPi5lFD8kKlpGb1rxXs6V5nCfWqXqS0skQwrNYsahLB566GGsWrkaGtFJOXmfkPpvUuvTBW+FeueRn/VTjas6Owfw/DMv47JVS/mMrUhpmCImpirqVhIQNTTSM3nnvwqFka5pX8npRGHkwttnyrkcmUCfPzXNYVv7HMahEJdfvozrzW5qOU10Xltbg5qaWjfxuazLaq5rft7Ozm6K8QIcOHCQ8TFBrQuxfv1HrvX5M0+/4Ayi7q5evPn6ejel4UMPPY76+kbs3LkTO3fsRkvLXLzy4utuisPt2/bw2D6EfLebN0VTJe7efdC1IZHIdpzsQWVFJfp6Bl1LZHUJ0vN4TTjfOO7j3rScNUaX9Zakln595GH5z405qUY2zC1pZI+cKxePyvODeNTQyLfkUr1pTU2NE2N3PgPLX2tmomCPiibUWk9vIe/itrbLMTKkVTecZxgNoHMvI9yGj7H6mutQ074QhaQGaWfYuPMjFMKKQ7qWotIpK+Z0dHVxftHNmHoi6yEiiiMiesdqP6Ci2yhT5Yt0BweGsWnTdly+chXymRwaW2rd8bqOvkk1zDklPhcfWRPlSVAk+nq+Anp7+/Di82/hrrvupNWSRTOfRa11NVSk8hLqX+lqiNzz8HdJCyLKMyGybozTiUr9op40jBMMpgLDTBkUl7bqCL6IIsNOBa9KviW2GnVK7WDUCEhCp1a/edVRK1NXioOKWbqGiukzmSxSqRT6egegSfF13tDQMBoaaim6hzGnpQV9fX1ID+fdpOobP9qM1WtXYuOGTRTfGjQ1NuCVV97Al37p83jiiedxxRWXo6qyEh99tAn33XcXXnnpNVz3mSuweFl7KX6rwdUpUT1XfEnIeGaNmVQxHY3fFn0wKohyqYI2RL+5FFpXYKgIQtvkHn/8cZdbuFSmYONTlpxQUUWEgkPrDBHX4EgZx2yQQciEM93TxwhZgb279iLJiDZ/yeLSmQqjPNKMP0VGcM2JGuQptFx34ReVlLjkRfh7lTYb0xaJgZzeklryaht/uZemHxJI/uV3Eg1EEL1N1WEdOXICTzz6FP75v/hf3YsOw4IToaiYj7FGjUl4ro8bk4dinfyqxK2UwPGnK8pzz5ZVUk0v0CNqjcy1HDMBR4+dQE1tFT744CPccP21qKyucJlHF58DDT/Kc4rRqEUjScFpzxGFT7RxUh9wxqJ0VvGHIRiFlEQxJuGMBNWl1wrvkTD06fQpodIhbthLd4VP4qujovR61HtwJzMuuNMjv6gkQkaAqgO9IKokU5Oz9/UPojKV4FUCDA4NMU5U4tixY7Ra6xlXKt2xuo/Ouxhien53PA9cpB/l/EP6dVmkmhDaT4jrfpfWFe7+WH+9Sws9j4I/egX65bbwj5r0axlLMOKGeQQq2igmkapvRJCqQMvcVjTU16B773Yc2PYx0kMDtGrjiBeSiOfjjNsuL8mrMXbqvxIuGjkBTV/nGGsD5SKjuGxMWxQ3JDBSPH0DkYvQir4PuVOKqG8mRQuguaEB991/N06c6MLJ4yd5pI6JrqNjlR6WpYmTiCLZqIimqFdy+qFMn5sknQ+XpSXT29OPp555FoODQ7j77ltd1xcVZ0fX4TfBMAliyVJ6wU3aNRIunih8xthhlIjS4SgMGW3cb8WRINAEEpoAIslwjkZY8pOXawhGHeedztek6r771minIlhNLhGNJ8z7lDudS0cblveNhkXU1IgBM0upVODW5WprK6gJBdTXV1BAmQ5Whahv1AT9IRYtah8RUuEyABeJKfmcjAtBEVsxXDGdC6apLpowYta2NKC2sR6FdC+2vf8O1j//HPoPHmImn5Eyxxx7ngmsDlYz9VAqWnLqE1bIcUGnnJjKlY1LAvcmqZWuVIfL2vpKrFi+BBs+3oD339vgGu/k3fyVjEhqmMSEK4oTynRNJkpiJOK6D+8nF3Bd93fbkoyHCdf4REWBr776OqNlDr/4xS+gdW6LE0yfQEZWkb4L41LCV+WdK4oDOkfx4WKK52jO/QmMiwATjiJfkdIdJSK02POKPPEQOSYyjSvW4Ia770NtvoD1jz2MA+tfR264xxUNS33zcoykcgWXFeR2pWtuvwnpJYeK6ZirV58/V7fId33TDZ/BzbfciA8/3IqOE31Ov1TPGP2RuGk5mSjS+WRGcU7OCyn/UuDVEb+ro8/V+0o81eiltbXZTdoeNbSKUCLq214Ylw5eHM81o6R6dh8PplPmysR0BuCKSqSCKmrRhIYU1SCeQD5Vh5q5i7D6njuw8jNrsXfbR9j2zuso5oaRo8Uh3fWjhqj/lgb2LoBOAusKVzR91czpg2icGeav3MesxEWNjDQnakhBbWhkHKmuxO5de9DR0Y0sM145OtVTaSkB8+9e9UYTHQ9UABINd+jvofgoa1O/ooSwu3sIDz/8GLp6+nDrLTehvrGRGQElsJHzfctlvSjRNS5N9G4/zSkeqAGU1n18GO0ulsCamE5TlNbIbnCJSCyAZsdg9OHvU00WVY0USyURr2tC29U34TMPfAXzl12GocEO7N/6LgrpAZ7HRJXHaqkELeo8HdLg1Xi/UUJqQjqzUdrhEhYXV3x9Frfz61br8IqKBL7wC/dj3vw5FK3H0dXVR8NULTGj1pXK5SsOnE9R27ni/abO+syz8T66L5cU1IG+NF599W1kMsO4957bMaelHsmKFM9RcW5Uh6Zz9TwXM5E0pgaX1vF9n81FcdvX10a/xzrmYmBiOt2hzqkBkUrFYjlGHFcfKnlkDl9DeLniDtXU1yDRNh+1S5a6/H5iOIPCQD/6jhxEcXAAYSFLUc3xhdMK1TQcUlXjEkFvXJ+y4kW5U0JTQMzNcxkHDVbX8EPFwcPpKN4o4SkvMpvohEhVsoyxbl15NjnVj/b3p5FJ59Db1+ci+OKlC91cnFERsJzOiZ7BMGYCJqbTHJfMlRmOLnGioIYU1GQhgaColrs8gIkmM2U8No7K2jYsWnc9MkMD2Pj269j4zhvoO3EUyA4zHdUoIbwIl7HShfXXrZVWaKuO/DNmChIdRYByp+LUHAqxHMIEBbW6Al/+yhfR3zuAn/7DzzCgsVdpKXqrLyrmVYwbiRHnwJmOHXu7xtft7x/Aww89ip6ufnzhc/dibluL66KjOt5T5/jnMTE1ZgaKrcY0xeXLmZa4kl2fpug33xptDgpjwASITvMy0uRQC90E92tIwkKYQFXzXKxacxUGjhzBxy88h6M7NiOX6aeVGnW30RjUNFJ4/UADyqihL40EJqi0XjXAuOpUjZmL4o6E0hVEqCjXzfBRQG1dFVpaGl386e9Nu0ZAbvAU18JWUx/yOKLuVKrzPDMSXh0r57J9rk5U99I8pPlChjEoizwFWvdIDxaw5eO9GB4q4PrrP0MRbUSouOu6vaheVRnCU+JuGDMJE9NpipIS75yAUlBjiWjpM+z6rfWor2G0UUmamzGDkhjEqzBnxQrc8Pn70TBvLra/tx7bXnkTmf5BNyBGRmqthEtFx7nIIsnL0qXAqjguUEtiYwaj2OPr2KMiXDXoaWiox2fvvwt79+/Fc8+9jJy6VPFdaxotvX9NpZVjfFDL8UgYozrVT+JiZwmprhqyUUQ1166LQ4pggeuWMzA4jIGBYaz/8EM3fOjqNctRU5uKBL4s0yY/Xsx6L8O4UCy1vIRQjt47zUCjYtqcLNfGRqy65XZce+fdSKdzSPcPYKivm2kfE74iLQd1p2DapeSSSS6FlSpdSEiOowsbMxIJoFpql8eLyPpTTiyGBfPasfaqNW42lo6uXmoa33lOQ/RFXVIorbxKNO3h2A3VFGkYV5xoiiLvIafzKYhucugAgwNpPPLIY+jp6cFXvvpFLFzc5hpK6XRviXpnImrMVCy1vITwrdnk+AdpWa58xYFmEo9Vo3rxMqz77D2orKvFjvc/wPDx48DQEBPQIeRiaSabmr9Qdaka+IFSOpYxYswofCtd78JQkUKjCAG1DbVYtmQ+Xn31Nbz2ytsoaPhKlyTImtURpZnoiQRVQjwaFQW7vtAlcjxORb0aRi6dzmLbln3IpPO4Ys0q1Ddp9idNo8jruDoGRdOoi4N3JqbGTMXE9FKFaaBsy1ieiVMsQQOBv8IkwppqhFUprLnhalQ11mLPh+tx4v0NCDo6aS1kkI4PIxPLRl1pXMIYJaJaGjMPGnufQI19woT6b0bu9jtvxm233IQ9e4+gp7MfMWeBStQiazQS4bGtRsmrGhWpSFdRJBpGTnNa5jAwkMFLr7zuBqy/9up1aG6qZ1SkxetG5FIdbXQNw7gUMDG9RFGr3wQNTb3gHP/kQ+b6aS2EOaak6gRPIc3XJFBZU4sDH27C1ieeQ9/O3QgywxTeDPJxJXhR/ZUYu5jPmM5IrEqvbwT9jqxALaV+QF1tLaprq9xQfrv3HijVoWq/xmiNhvMrjwflxDSDC3dF/VUD19BoeCiHJx9/Fr39Pfj6b34NCxe2UprVd5TC63SacZELXdIE1bhUiL4Q49JEiRUTsUCzQCDPRI8JHlMw2gQU1gTCQhXmr16Lq77wWSQprh+/8gb2vPIOCl19yPLYrGb0oFXqLRLfEKXcGTMV3wI3qzmWkaSF+pWvfh5LF8/Hu+99hN6+QTewghtkge/Zl06Mfv+FohobKX4xk8bjjxzuwNBgFo1NTaitqWZmLemsYE3t5WaBUn2scncu6ji7ViuGMeMxMb1UYdpWSIXqdoowVkSSCVlIQXWjyuQTSOToNA1XWIH4gnYsv+9OLL/xOpw4chxHt+xBgtYFslFRnIaDU2thJahq0OKdm7/Q/T/9X2ljKcE0pjNFvl81NFIbooaGOiSScezatRMDfcOurtOLnS/m17I8Dmi/Wo9rvtFMpoDHHn8Ghw4dxe233USLt5oXT1Osc27MXdfinDdSt64o6bEIYlw6mJhe0vD1Bky8aHXIuWmQZJX6ojUmcEW17KRpEquqQeuqdbjxF7+MeZevQtfh4zi8dSvy6WFaFLRrnT4yYVX5MS8Qk0rLymAaS5uF9k0OGTr1T9V8iGqY4kZuMi4yVMkxiSJBUd2iYqGrO6Ukorq6Al/72leQHh7Go48+iyFmqtwUb3zfRb1zZ6lKYPVy9fIDWqIFvP76uzh+4gQe/MoXsOyyxS7qhRojWNULineBb7Xr61/lLzkfGQ1jZmNieomiJEptMuNOPqM1l3ipvkoLNeqkc41RKJMqpiuGKSRqapGqq0O8sgoVXE/3dKNz51YU+jrdYA8aeUnFeRpVp+DElf8ptiHFNk7nBoHQzRWzLJ28yPgXMRaKD1EkiOaolJVZdLPNpFIhUhVJNDY1oJABMsPKGanMIeouE81BKVEN0dU95AQ3mUi5TFRLS5MbCziKCDpWg9QnS/eQqNJHdFGGziKJcelwpi/NmAVoVEF1f5EF6SxMl2BGatjQ0oy5ixZhqL8fm99+Gdteex5Dx44xcU1zd5rCO4x8mKGoFhDLhQhyTJTdUhOZx6F2TgU6Y3ojYVPRrWuJ60WOEaOtfQ5uv/MWbNq8E08//QrS2SwCtfIOVW/OYwpx9PcW8MyzL+LokWO44aZrsWjBvJI2esvVMGYPJqazGAmoRpCTqCr904z4SlFjIS2PkOuFIprmz8c1d9/nGo68+8Tj2PPBm8gO9blWwQG3Rd0oZNPI0Vqh5avWnZEVowsb0xl1nVGxbUEZK5caqFg3jxgjhaZ1m0+BvHLdGnR39mBYkyfkA1BX8cRTr+D40eO4+85bsWhxG8/TBXR+FJlcrDCj05hFuOhvzGKY6gWlf74bhBsNSXWs8SJi8QrUty/BytvvxMK1l+Pgrm3Y9tZ7yPXTUlHJYC7LpJOWTVhEhi7Lc3SNQBNmat5MZ/WYlTKd8V1lhOozo/lQi1wWsGhRMxYsbMW773+AD9/fiZPHBpEZymNgYMCNvdvaOge1ddVIVfC8pIpx1Y2G14lHTm2ODGM2YFF9NqO372IArUw6WZ9xlwqGzsLMUUgLNE+CRAyJplosvv5mfOb+X0JdfSut02Gc2LcP2eE0z89Qk7N0slxo1WTzTmiDPIWZJo+cMX3xDYOieswIWayyTvMYQpgo4OYbrsfKlavw0x8/jh079+PLX3oAK1cvYYarNFsRUWYsGk6Q5/Na2mzGqTFbMDGdpbhqLyZ6rl7Tx4KoxHYENdp0zU5obWgkpVi8Gok587Fg3ZUuoT2yfy+G+3ox1NmBbOcxJLKDSNFaCYoa8JxnWko6g/ARodzxnevdxwpobmlAfUMl7rnnFixc0MoMlg5RkfDojNInr2EYswHFdmMWEtVxlvRT6WgJCagaJaneK5HPIMzT8lB/1EKqVL/KA1JAvLkWV955K1KVFdj0xmt445FHcOjd9Rg8fBiFHA+kaUL7tOw+7qKj8HsjTh1bvtWYOhQR1Lb7lNPgHm7UopDxIJ7FqrUL0Ty3htaoZiZSd5myyOOIrnHKmZgaswMT01nKJ5I4b0iUFi4ZlFUiWZP5qvpU/guKWdfoqJBIIB8LkaytxpW334HVV16DPTt34eXHHsXGF57G4NH9iNFKLboZafLIaX7LokbB4bnUWg2qriJhzZ1apGBLxFWzqqHVVRWrPSapE4tvtX1G50oiFPauFpx/o4yUBLPgBl1QdQCjgiIH40ZRGSuntBF+hCzDmI2YmM5SJKbqaSinddf3tOS0Qf0IYyGt0XiibB5VJqCBS0mRyKmRShy5IIWwoRnzrr4Otz74Ndx4zz0YHhrAtvffRUFTvR3rQJjNIVBDJc11CU0YXUCOKbfEuKBBAAoUaibm3Ewk4EzENfADBdgS58lDIathI9VwLEeXZ2qg16AdbmwO/QhUm864wJ35mCaRp7XK7TG+s0KcGSKe505RJsnqxo1ZjImpcc5ErT5LTokqLdY4xTAoxpnIJhBUVqNpyTLc8KUvY91ddyOfK2D3R1swfLIH2a4eFLt7ERvOMNJlqOIa95eymlNxYmQnh7RyErRSw3yOCTb3c11D1lkiPTEoo+TryeVUQhsywxJneAdqOEYX5osImVGKZZk00OVjGqBB+SjZqhmki5qmTwmHBqfUvESyXKN5Uy3jY8xmTEyNc+bUkHB0XI8KfpkwM5XO83c+jCNPSzbLZbG+AfGWBqy78yYkq6ux9a338MqPfop9b72NgSP7EKb7KcRZRkBdoeRknqqokNrJpF32qW5rXWsmCIViWWgzrCmwucgFKq5l2OdVekDTU32FCzFKJV+GCn1jQQ6pbAapNDNCBbXcVottZoN4joTUMGY7JqbGhcGYE81CEw1BF4YxBBTZGC3UMEi61Fr1bPlkiKA2iZW334jLb74W+/bvw+sPPYatjz6H9OEjiNHSiRWZQDuLJxLnPCjKYZLXjyxWY+JQPeeIk2AGIUVTxbdATl1hQrp4BrnEMAqpLDNJGWQLAygM9WHTU8/i44d+jv69eyiizAiFWV4wyuj40gOzTo3ZiompceEw4Y2FSkxlmeRo3eTcGL1q8ZvIx5Dg5niRVquG0mmsxdx1q3H7g1/Czfc/wNQX2LT+fQz2nMCJk4eQyTLx1kCwPF8JvUvgS+O5xuNxl1ibhXp+SNbKC8j5FhCqLyit0Lj6LeUYpvxdCAPk8jlmYQqIZ4dQ7O1Bz969GD52CEf27cL7r76BXDaHhpZGgJmjN559Dse2bQYGeuHabKuUQsXBdIYxW4kxJzkjspJPPPEEKisrcccdd4x8vMbFpUDxlGXKaORcKE0txSYtaLfyL/fxf7HUH1EtgWNMuIsUztxQFul8Fh9v3oR1V65DkM4hQYs0qKwCKpS0M4GmGOtdW4J9/sjOV2Mv5ZijN0SrPxu9IG3TmjMo9R4H+tC9/wCO7dmNo0ePIJvL4Yrrb0DrisuQp/hWNNRoOF4U0sM4uXUnPn7jbSxbtQJLbrrNvS//XuzbNGYiPqP+rW99C1//+tfR3Nzsfp8PZpkaFwYT4Vg+RJCNu4ZIgVq0RLYPd6kOlUtaPJqMXC1dwkICMR5bzKsIN4V8sgphTRNq6lpx1XU3oCJZgV0bPsSrP/kH7HjtBfQd2I5YemiknlZ5Pm+dejfbGyYpTMrD45POKaX7p3U16FIddZSZKaDv5Ankhrsootvx/EM/xJb33+QxGay9/jO489d+Ga1r1yLeUI9EUxOyiQrkUIFYog5tl6/BdffejZNdHejt7nZ+0btQ3alcNpsdcbP9HRmzB7NMjQuDaWSpusyZPBqD1cckN7ZvWTZNs3GVo0nFdTzNJia2tJ80ebQS4a5uHN+zC4e3b8fAUC/mLlqKRVesRv3c+Sgm48iqG41aD8corhQGyjOvI8HmtajjSrbVbMm1D1aH1SBGHddO7ZEnFGfKPOY4e9Hx2aRg9JVGo7udNZbS40UVt/JCWnhk7KsRluvD6VoIRdsZ6d0zSSPVQEvfgEoDTp0qW1RFtxRSXlPz1zJHwmNo42dpfQ5nke4bQE9XL1oWLMGOzR+jcX4z6uvrcPzQYcxtaUMF19UdKs/wzjEk+aXxutHfeI73lJ/44ou8bnZoiNcPsG/3XrS2zUfdnLnI0+M8ikfLJlaxMt+XXk7Jk3rvih8erZb9NIyLgjKfYjyWqYmpceGUx5yy1zE6Qp3pTWnAhpwT1kgkadYgyGeRH+xH7+EjTKS3O5Fcc9NN6OoZQsPcVoS0aGNMkZ1Ay8UlnRIODRigqyoBp6hwvcg4UlRccUcoaZdPRkvg2cW0dMkx+bQYONbdyinmeYQElQsnpnwGd7xrGSTRoTS6eUaj67jj6F3Jk2bo0R341E5jpbBF7eQ1NNRjkRmOAi3Q3IlD6D3Zgc79B9DT0cUQz6O+dT5WXX8T8onQTWRQWV3NoFfuw0ORZrhG35hcCQZG9CsKFWWKckP9OLZ/P5paWpChYNc0NPIFJKGZh1QyoWEoeSV3vBYS05x7yAiVZZTdwTAuChMhpmXR2jDOE6WC3pVRvnnUrlMoPWb67dovZXmUlELFuYkEUF2DxsuW4cr7P4sVN9zCQyuwd/tO5PsHMXzkIHLdh4FMJy3aIfV85AWGnQire0dIEXIj9uhaFFJFcCXmof5RuNwA/HISJbdO6+tMLs9zzuK0f8zzSk7F4JFcjO3cCFPxLJf0u7oJSQzp9LvIgFHJeS6Mc6n5YeMMojgzCm70DNdlxQ3tGKZpiQ4DyajlbUxW41AOHbv2Ihgs4ugHu7HttQ8x1J9H+/LLse6Ou7D27jsRa6wB6msQr6wodW1RvbT8Fb0xWZfRv1PvcURbtULnMjVhFeYtX+3Ec8d7b2Dvu69TYDuhxmR8DCe4KmbWi5CQWopjXKpY1DYuHkpgowXFiX9UjBtQPCiomYREpBLV9XORrKnH1TfdiFQNRXXnJrz62EPY9PLz6Nu7ixrSR+GiiMRpf9KKK2oKOF2Q13Mj+FC0ZZM6x5u5fbqptjjzlatncjpJyzMx+vgx3Mi9x3L0hyvy9M5tUDeVwBXT6gJqFa3i1ZBL2dhumEVan3k+ayFII8wMonDyGDq3bsO+19/Bgfc3IDcwgAP7DriAbbv5Olz/Kw/iyi99DotuvA61Cxc6cQ6RQKqQ5CG8KoXR10ufDypez9KCzfH8ZFUlFl2+HPsP7ML7LzyL4Y4T9GaGflCfVTplDph50B38K5AzjEsF98kaxpTDlFQj8ESiESWssipdFWExzgQ+USrO50HJBOJ1dYilKnD5tTfg8nXXITOQw3tPP4+Nz76Ek3t206DLRIm7yn9pnYWy2jQIMJNv1TGOiBePUV/KAhP3IpfyQ7nTOMKu/yyXGiov2q6lXx91vJYUt4KKVkddT2XRaoAjAclzKad171SoK3+ptFcjCWloRdd4i55UsbeO0ThDrvsJnyWW45LPGaMrpofRsXMHdj37MjY8+jQ2PM9wOHQYqaoUMx81uOa2mxGrSCLV0IBk0xzE1OI2maIFmUIQo4jmGb4Z3jjP56KI+mIuCavC/VwJmIlRa+BYkEALLd+r77wbhWwBG19+Cf3H91JQ03wOhg/fiVp/6166uoLHBZEuYhiXAFZnalwUFOnyUOLKSEjxUBGs3x4to38xiZgbB0+D7OtYtVLNIT88hKHjR7B302b08/eN99+P/oFhVNXXIUHxjWw4WatycSdJDsUd3rSogSJIGGousQgVSfJgOib/KnJ1dbOq09XeGLWZ+0Paci7uSRxLVpZ+a4AJbSjdRmhVx6qRlUaMkpi67dHpTtyZb+A9uE9FzvonL6gRD8XZTW8m647n5ylQGhSj60QX8ulB1NXX4o2nn0JTIon2pYtRt2ghwppKxCureaGku6YaMYUaWNndlM9EzxZUPKx/7ub8L6uxzM/n823Jnxo/2V1Hxc86L5tFurcL2999A120mK/77OdR3dLq3qWKkVU/7jJICk/3N3KGcTGxBkjGjEWRjrLIvxQ7JvzOKtUOpbAl8kzoZUXGZUX57Yyuef7IURwShSzyA0MUuTziiQq8//pruPL66zE83EdBDVFZW0MxTvAU1Z9G04UVQtX1lWxCXbNcSZxwyppUwq8NaroUfR5qdRvwXDegBDcp/sX523U/4W/FyTzFVvWIp9C5EkXejX6M0c+6TlgahCLGdWf9OhtNSsd9UsBcmqdSqLJp9B85jMOHDqCjtx8rrrwKfFA3wMW8xQuQVdehhCz4kGIdp3DzOq6IWFkJCWcctPFLT0BKj+oWegYunKyVBcF5IUubuYACrdOs6nNzDCOXocggO9yLPlrKNXPmoqt3AC2tajyWcqcx5GjRhsxKuad2+RDDuJhYAyRjxkJdQZAN6WQnqdi1gCxdLl4qMlWrVB4XVzlqpDPOqVg42ke7Vpmq6koEdXUoVlZgzY03UGtCHNi8Ba8+/BC2vPoyOg7sQ4FWrBrrBLEcBZgCItGj0+DuStK9cwKbi7rWuJRe5mJOx0l0eE/+luUo4Q9kpfLYQCLL44tuPRIn7/TbFaOqlTJ9LKeWxhqKz4kYr6m64rCo6/Je+TTFiQJ64ig+fv4ZvPLDH2D9yy+i48gxtLW1ob6hBXNa52P+0suYSeBzV9RQlCp5owpmLpLMeNACVy6AflK4Jbh0WWXv5G/norCIqf+QXsQForrdHC1fJ9oKV/cwFFfui1c0oH7pamSZgTm4bx/FdRg5daVRuMkz3k8XfnvDmFaYZWpcHJSeSrAEE+E8lUd5Q71V5fDcUsqp+sME02D+VjFpXEIrq045SVlhtMZk2+UpCnFeM8F9uf4BdOzZg8N7d+LYsWNobJ6DxjntWHb1lTi0fz/qm5qQoEW3Z8MGFDMaE1jWG+WZN21dtBAt8xfiIM+fv3QJuo4ex1GKQUKtbCniuq36vM5bugIVtbXoPX4Mc9rm4dCuXejr6nJWVhQz89S4aixetxb9fX0oZHOoa2hwxdK59CDFU/WivBityqqmBsxfvhw7du5AKy24wuAAjuzbj5bGRjQumI9UfT2t2QqGk8Y8juo09dnK6V5aulLykJkTFUMrsKRoZ4RCqkbBzqORrF8IuoU61ChzoUnki3FmcHKavED+o/WtYl1mDsAwTvf3YvvHH2H5qtWom9PGzIAyACoxYBAw0JSRkS+cT5Rr0trIBsOYXGaUZapirdHOmMUorVQ1m5yKKRFHki5Bp3U5V7+m/TxcaX+KvwMV2VL1KJ1MsLlfRbKMSmr1qnpA2ZqxmjrMWXcV1t59P26573Ooq2+iZTTIK9D6zdI6KmZRyA2jmO5HMNCNYLCb1msffw+gQFcspCkKaddPs5ihtTjEfb0dQPdxFPqOIz88QGHP8APMYGiwnx7MIzvYhxyvles7iVzPCeR76XjdPK3QbJbHZnk/3jM/0IV8D7d3nUShuxvp7g4UB/p5iSwa6qpRWVONlqXLsfbOu7Dg2utR0boAsYpaFOLJyDpnpkN9RfMUdq0rE+IGn+K+YkFPr/Ck82E7puMfF6JyF65WOpPyrmpkXlMSqkLlaFo2WbyytmO0loOKFJLVKW5K482nfo5j2z6mET7gnjmSZD5L6Z+rh1VGi5vlDGOmMGmW6Wix1O/yW8myVA7bM3q/R032dZxZpoZwVlhZZqw8Hvh4oVxmtD3vBKaYzbt6zjCZQJoiqDpLFcEWhocpAMqRUpx1uOpuGd8k7jpe9XquTjCT0RHcH5nSEraiJk1X3Sf38wwek3ZLCasOFWr8FKSqI//wgiFVJ8fjdIBGcNLoQBIM3S+WoJ94bz2Vq1N0+Vz+4j6f5fXPfjY0KcDFREMIngaVXi2hY7EMMyLd2P/BBhzYug1L1lyBBVetQ7yyhuGkjALDLoj8rsd14U2n92jfujHZTGvLVB+9POjdaKHU77Pt95xtnzH7UMIq0ZRojHZebLSu4wpBAjkm0LFUJWLJCqbrtHtTUaMkUBCD6joUqxsQq65HUFWPeJW63zBxD1IUvkpej+cmqhBUcn9FPcLKZq7TcT2WrEJeTXF5XI7HF2U9VlQDFXVApRyvm+RxxQSS8aroerpuZS3vVYOwth6oruX96Qda0vkkr0NRKWrqOTWUckWd0XN4d6bnLncXm3K/KNPCR6FYUlAZVgmG8RJa21fcdBN27dyBTW++5gbO10ATytwoX1PM8x1yXe2YcvbtGzOISRNT4T+E8g/iTDnrT8txC3+Mrmcf2eylXGDKkdjIKZ4ofgR0iRitvIIKIPmPyzBLuy/P9WyIeC5EWNB+tUSlcLlRjXiMK66kTmqZpQXpKiQpDG47j+cxCV4nyegYp+glaNFqqrkEBUP9NzWof8h7hPqtaKqGSzxTkwG4UZVy0f6ALuZaGfMglc3SclXRtVocq6S06EadOIWOK8+Ayk03yt+NXo8ak0ksQ1WOFlO01GvQcvkqXHv3vWhobqVFn4/G+M3pGDX+4jXct01rXpXg42ggZRhTyaSJqU/ofNGbGoJs2bIFJ0+edL+V4HV3d2PTpk04dOiQ23bkyBFs3rzZ/fZi6Y9VwuGvaUJqjIXih5zinIprFbvVOEkJsuuzCSbsqmB1halq8FKMWubSuZilxN+5gquHlJi5fq76SnQAnYqDFQ11PbXMlS3onXD79E/H88IFtU7mTg0SAZ6j7jG6rzRCAhvn5gRd3AlJAQE9FIQaySnvzi3/QvVseq5yN63hd5rUJOJBmtZ7Fsy7uNIBWfUN8xZi/ppr0TM4jM0bP0Yum6Z+ZhDLpekyfGxmiHL6zhWQhjH9mTQxFUrUxMDAAL73ve/h5z//OR566CEMD2si6AIefvhh/OhHP8Lf/d3fYffu3fj+97+P5557Dt/5zncwpNxqCZ9Iygkv0IZxNiSk6qtaoDDlnTjlmaBznU7rXkUlnDRMnegVKWDqnpPlvhwto3ycmTn+zpe2axldj1dXn1Vdr+z6hXjOHeOO5z4NMiSXDaLrqAtQ1I+ETqIqC4wu6qYTOdqnpX0zG2UYnKNln2dYZfjMLjPCAM8HFchXVqK6sQnLV6xwDbiO7duBXKafz01BVWWyShlksRvGDGDSYqqsRwmeRPPw4cPO2vzH//gfY8+ePTh69KgT2IMHD+LXf/3XXaMFbZf1etlllznr1RdhedH0RVxC15QzjLNDC5VmpRJzFfVGJqakyhW68icTawkoN7tYpiilomBujNOp+NcdQHNVw/mFdFqqUi/G7RKFIo/X9U8zXyWQKtrkebqOd7qW6g5dS2TVI5bEu0jB1tjC7lyeo5lWghz9nOcBMxo17Krg35QL0ySF1Q2PyIxKGKgYnlZ5RRVqGhpQyA5j24fvYcubr2Coq9M1GtPE8IYxU1AKMCnIevTFsZ2dnaitrUUqlUJVVRXS6TTyuRxSyaTrV1encVd5qJbPPfMsGvhxeRGVFfvOO++44mAvonJW1Gt8GqrPDDWDSz509aFaTzCBTjJJd7O6aAB5GYnUx5HlaOe2U2ApcNE2LXVN3sCVCZfqQbl0XXooGtF+CiLPi3MpV35NVYWq1NmdrgxnLI68+qyosFiiS5V1QqIDZjBFZ41TULlMMEwSDA/1w9VkBCo+TyhzokEtmLGobp6LK665GidPnMTHb7yBwc4TfD/DiGmCcX7rGWaks8pQq3WSPn3Xb0Yth/UiDOPiM2li6gVPrqamBoODg85lMhnXYV71PVrv6uzCYP8Auru7kBvO4t/+2/8TnSe73EclfN1QRQVzuCVL14TUOCdkcVKbyp0Sc0mU/+2OoW45V3bciBvZToEbcbIky47xx+m67nq0VkMdx+Xo47zj8epK4wSY58npAn6fP24mo/DQc6m2R71eYpojlSsBH0zNvGJauq4/CTeCVfOyVbjx3s+jIl6JD194Did2baJoqs9vLgrbko6qgxKz1G5da4YxHZg0MfX1pWLhwoXOIlVf0erqavT09KC3tw/19fX42SOPYHBoEAsWLHKz9L/4wou0YqtRw+OEhPeaa67B8uXLnZiqyX35tQ3jrLhUuMx5Rv8W5ceN6fjnE9tKbjRjHeNdiTE2RZxxx8xj5DHGeKZS4RMTC1qcWqfYVjU1YdXNt6BlyWLsOXAQRVqkgfryZrl0wzISHuuGMuSKapkNYzowaYM26LLlRbK7du3Cvn37sHjxYve7dU4r+vp6sW37NrTPm4fLll2GHTu3uxa9ra1zsXbtlRRXfiqlFotPP/20G7Thtttuc6Kq7SaqhjGDkaWpIYn5ieeDnBtgI54pOMHM5zIYTA8iNpjB8SNHsfSqtSgkZN4Grv5ZzbPUOlhoFCbDGA++Pc60nDXGd2XR5eUkfK64htsksE4IlR0N1F1AjULojYKahWhbVIzjz9exfgSkO++80wmptnuhNQxjBlKgmDKdKASqV2VyUGrkFeM/VzUaFjB49CR6jh9H29LFyOSzSNbVI9DoU6qrLrUcU0mxT2eUZshNFf6eo/H+EdFoVp5om9I7rbl9Zbv9OVP5DMbEiGn5W55QvOWopYpmFUn0W5HE7eMxQchtivyMVtoSV30KvwzVp/gIqON9BPPX9NcwDGOmw29ara1zARLFBH9pLtpS3SpSSLXPRdvqy9C5az8+eOw59O3Z58ZLzhUzzJTnadlSjEslYN5NFUqXlAiPdf+RfXTKMGj9lKOQ5nks/Z4fw//+GsbMYtLEdDReVL0L3MfihVNNMU73ikS1/HgTT8O4xJDxVTLA3CrzzG6QfH3v8TAau5i/i8kU6hcvQGt7K7a99haOv/8Rgv4h5II08olIoMRUphMSPJW0edEsd9ru/RRREscin1LdqLTKJ1aaJzOh/FwvprqGMbOYMjH9JPp8dHvvSl+VYRizAmmLutIWyvTPDWwRo5gUC856S2Vop/KAQmM1Ft96NZasXop9763H/rfeQaGvjydEpVZTiRe+M+FL0oTWNNZWBH8px+Aqsfh8XNfcvGOha3ixNmYGF1FMieLYmZxhGLOC0lgapXEvJC6RK9Jpth0NihFT95mqarSuW4uVd92Oo8eP4eCmHQjd/Kk5d5x0p6ClW5cQ5VxxcA4ZXinL66lfKi0+7SvQyRLMUtZyPD7afMpRK52VyItKr9XHlZu5jLrmyL9RMpWnIPLaMV7P93tlRsBNwM5zAt4nP9CDbNcx9B/bh459O3F45zYMnjyBbF83+jtP0u86XnXFap9c8iN9XOB13P1H/Kdl5Hz4MNsxytNccK+c5N47+U7Ttss5+eYBOlynuYONcWOTgxuGcdHwiY//mssTIxlxeab2kg391wD4AZWtQItVE7G7aew0JCTloqalFfkwiSCmOlhqSjELDQxR4EWia+svnQ5XZ+DSjXxxqz9GAhsLuI2HZHldjb+skZo0Cb264xQLOj6POP2VGx6inyikFHTVjWYzUQPLVFUdDu0/iLlt7eg+sh+HNr6H9HAamSz9pL61qUqsuuYaLlM4cuwEVl15DQ7t3YWKZAKNc5oRr6hwxxTiar2cQEziSQ/q2uo+qB+hhrKUf/lAel71TXYpuQb94H8J6Om4naVl3E2kLzF16NqzvBbNlzRMy9a8E42JqWHMPvLOpmLCTwvKpfe04rRBVltAcTu0bTNFIYP5K1chx98xCpRMXDd8JAmLpxowSjQ0x+ypUQpprUlRnCArMdTx3MptkqmYGjilh5EfyiKXKyBV34CB3j7E3aUL2PbRh8h19SIYGEYmR/uX1563dCkWrl2N7dt3YOnll2OQVmnfsUOorKhEqrqGQlmFMJnkerUTPw2lmognsOXtt9F14BCSvEZtYz0a5s9D3bwFzCQ0gQe4jg9FibmekQ8gA16zFSkVdI9K52YoikJLP10mREdoyMvT0EkMA6+lCo7ZnpqamBqGcUmjJE5fupcDtX6lomiNywDZ/CDCbAbHt++m0PVjyTXrEKurpRUZlsZDLlJSIus0JnmRZacJ3+VcIx9at/GQFl8RQ319qGloxIGtW9B15DCyg4PIZ9LOqkxUVOOaO27D0UNHUVlVhYbmRhzcvg1JCmMyUYFkdRUCrlc01CFZV4e86+5D25Gpa4Ku6PwciR8TMAogfcU0TMmYs6Ip2umuHgyc7KTrwrHDR1FVV49VN92Aw8cOMnFvRQXFOM/rhPEkDVZarAllFPQICh1dORJShY226Ja6P30wEn6ePDdo0nZmF0B7/hP7ZxsmpoZhzBqcTDDRkzhG4gFao5pGL4+Bvfvx8Uuvob6hGituvhHJxibkwzgFrYiBAYpkRQUyvT04eXA/shTd4b5uuj6kcwFWXnczUjW12L1zC9Zcex12rH8fwz3dqKFgJWprEDTWoqa+GfVz52KYlmSc102kKGi0YFWnqdbHDuctyZIchY6CruRVLYyLtKjlY+0pMBPghE6CRr8HmgldmQP9liWezSM9OMRNRd4nhX27dqG1sQUZWsF7P96ClrZW1LTPQWVLLSqYcQjiVafuyX8a79l5hUva7zQ9KZbcICeLVv5Q/bSmBVQxsboj6ezZjImpYRizBiV3zposS7JiFAK1ikVhCANHDmHry68goPWanNuCoK0FK1evwYY33sGKVavRe/QY9mzaiJpkiCqKYVVVBYpVjWi+fDUqKJpDmSFUU5wkcCrilbRpMviYRJGuwHRHCqg9Sn78OM9CS9d2SkWv9E6RQig0TZ9mBxISLDkZxy5D4E6i1/MapIJi6xRPF4lw1+bF8hTiMJPD8PEOHNy6FT3HjqJ/qBcVVQlUNTdh6VXX0d9NDJsCElXV9Ku63Mhq5XXl3yDDNJPPoUsX+ESuL7/8IAGX3CZKN5u9mJgahjGrGKWlSsCcxVVIqEXvMK23LuzbuBFDw1k0z2/H/JVr0NczhEoVkRbSkSVIgQs1EUFSFpv6uGtadoqP6hEjBaOjHFHI4rRcY3Qj6un2nNIev/Re0tI7/VU6RcOQHhzZSJyq0dEupNXq5mzlc2kGHTePK8+RX3RbWbChmhNLbHVQMYvsUB8yg33oPXkSJ46ewPwVVyCdzqK7swur1qxFd3cnUqlKVFbRqlYFbzIaUUotomWHylJWS+NYXtejN7jdGiCZmBqGMVtgSuXEtPTTQcFTgyFn/HGZp/nlii5VlJqh0FJM8hQLN84313WuswIlWExHgmIOoUYkon0mUaWy6KJOO2W1SfKcuPH8EbhPXXECiSs3F6h4Ej2nrNrH67puNbobhTJOp10eZyF6eB0JqHyglNj5g/dTNaiciocTdCqQ1WxF8rvqfV23G1m/LvlOoLe7B8P9vahvqMGbzz4DZIfRSqu1toGusQnVc9uQqK2lMsdpKUcj0oU5XlN+GCWmOVeXfAqJ7/mkt+crKQqr8nPGSt/Lf491/fPx31hMhJgq5hiGYUx7pGdK8yWc3gX8E1M/D6pBLJai8VjJ39XIhZUoVlXRYqVQxHNIJnkIrTrVr6aofMlCDClZg1zXnKtwXU2ihjhOTnnJYl4iqISbVi/N36Dk3MTvVERZxfqnFkbyg7riaNLzOKUvoQEnKHZJdz6vVea8UDqx5HnFBIWX18gl5QrIcT2gB5IUO02onnP+o78KIeL5BMW1EvFiFZ+XLqzh+SnUtcxB28JFqKiqxs1334Vrbr4JyXiIfdu34L1nX8TWt95Bvn8QPSc6kB8eBjK00vNpFHIZCnSGApVlhkN9cSXqdDJlZSRrTt3IiHZO78D1e1UGRBkb/pa2jTiel8uq9XOOSz5Ltogsj5fL0elcFUeruD6fVSMwjfrEd0CnYmndW92MtL+gLkdZ+i1PV5AfNYRkBrk8r5+l3+UywzTW1T2pdG353f2jX+hOrUw+ZpkahjFj8YmXSw30gyvlCVokhmVbmGBHZmQJWbZSTh4Zc/uizQ4dVnZopCqfRNakZ+Rwf6guedo1TnFqs7NhyanraIPzllZLm93x5V7QBl1fC/0pCUm0pGBlac8Wshjq6HR9XGsbG7H5ow1Ycfll6D9+FD0dJ9DU0oLq9nYkKqMuO7EE5Z8q77rTqN5YRdC0wJWt0O10Gw2Moc3aot/RhO1qaCV/UAC5TQ9djCXcCQVmVFxGRMZfgQrM42XpR3Xd3JZMUFhVAK270N8U+aKElta1xDSrJe9XN2cOOk52oaqqFvn0EI7v24v84BAqm9swb/kqxCsTKginoa1slvzMv9wgv5YH7VhYMa9hGIYxgpJzLwwRyizkXXqpouF0/xAS8QDHd+7Evm3b0N/ZSSs9ibqmRrQsW4zWyy9HUJFEVuJDy7ZA0dMUd+qvK+3TtHeySjUBvuvaU6AaUrRjzpqklagiaa4XmQOIp2Q5J2gE9yGVSiLd14t0bw9/D2FgYJDHRUXhC5dfht6+fl68iPrqamx46w0Md3VTCDV/bREZJFxL6rU33Yw9O3ehpW0+rfM8dm/c4AS4esF8LFx7JZLVSdc4TKquonYT0zNgYmoYhnF2lJz7wfKFBraQlSgTUP8cRTXW4joFJN3bjYEjJ3D8+HF0UOiuuuUWDA4OuiNb57djqL8X3OD696bTGQxR4KrratDUOg979+7G3NY2DHefwP7NW2gtppEbphXJaw9TcC9fdzUaKYIHKIDLVq2k+H2E4wf3I0VLtIJWcJxWcKqmBgvWXoVhWqIhLeDK6kqcOHyQopxHKpGgCKcQoyiHqWok1H9Xo17FafHyHjFarbKOJdixkNZoECJDSzxO4aa0mZieCRNTwzCMs1OenDtRlfi44laKLMXKNWAKNAaw1CVPi5OySeHSdHbZIdqAyQp0HzsBjVlcVZHC+ldfQUhLUiND6awMzdN5Cxdi+fU3YNeGDVi4bBkGhjpxZPduVMVTbjSnQMMhVlSjoXWu63LUMziM2rpaDNMaLVIAE/E4jV5aj5rlR8XKQcrVdWo6Tm9Fywx2Ikg0bCR/Icd0X429nJVNp+5Lslw13KKGkdQxmiTBNSxTi2Wea2I6BiamhmEY54ckQk6JvG+wq7rLqEVxVFdbcBMBRPLqCkcpwtou4evt6qRQFZCkhagBJNRQiyYlhTDhZvZxYyGrpjLHdV5TaiJLUf2BCrQUNRKUuhapiDi6vrsxUfqtGlL6T0XH3KktuobrIqRDTiPa4hptcenuwz+8A39FV9Z/tUrWFnctHTeFYvoptzAMwzBmKgFFJ6SgxCUqsuBozblmQzI1Ve+pQSVUTEpxLIYpClsCBVqYRVmYNF7q2+ehrnUBKhvmIF5ZiyBZjTBZxXOTNGqSFCpZlpW8QQWKCVqkiSpu43qM29XCWoNYhLSOEznuoycSFC25kI6qLqGO03xMUPU0eUAgq5n7CvRwnh6XixqI6WH4n07iSJ1GGKdQa/Qp9aWlfvvcghZe2GKuyXe0PtlM0W0MwzCMKYeWnrRIVlxMdaW0JgsSKYqWhmJ0g1Q4M5VWHn/L8JQoqP5S1arOqlNf3ZiKUDXARBL5ooZJVOlg1Go2pOUZFijIRQoypUxtidUPN07xTtDFixRHblNfWe80zGNkhnJJjdXQiRJ5FffKX24iOvpFTlarrum66yhDUHJad11iuCq7kgvnLhYmpoZhGJcomng9R6tNjnrnRlaS5UZjEfE8LcIcLUNnuRZoudJqlbBRcHN5Sh6tV9WTOlHliRotSv1yw7zOyTux1FLyWIjT0eLM0eXptM6L80a6Qpz/vOkoAY5TXOMo5im+9GCe1mWBlnCeYhzSo3G6VJlTAbSuV+T1NNKVln5d/XMltiLKElw8TEwNwzAuUZxh6ZwkSfWb2kKrUsKmhklqf5JQUSx/awQM7taoUa6RUEBh4zaNgBQmYu5wd1gYHR/TQBduH52rOw15H667v7ojnbumzF/5IShz9I920XlrWKW1uofqPd2GklPzGJ2hAfmjQfkjF/3WHv+M0SkXi4t5b8MwDGMSkYyd0iX9lVJJESWIEi4dUf6bP0v4c7Uc4dTFTrkS5Zuic/T3tLPHZNRl3A/vF+d4idP2T1Nmgh8NwzAMY1pjYmoYhmEY42RGiqm6xs6Q7rGGYRjGLGDGiqlhGIZhTBdmbDGvH3vyUsFb2+XOGB8WphOPhalxqXOhcTz8fVJan7boYXbs2IFEIoFFixaVtqqV16e3FBsPk3n10a9Hz6ghrfwg1XIaNnGmc7YwnIhk+GzX17ikuXzOha3LfPGGGtPTMxNkYLLD71zw35nCMad5Jsvi6ER8g596hfJ3do4J20QyniecDnFs/G/o7EzEM57Nj2NdvzzejY4To691Lv7TNeTeffddrF271g2w7+O4OJe0eEaMzZvNZvHUU0+hqqoKd955p3toBeZkimk0akjpxySgS/vOxmei/EX6Z55JaGCVs34k3OkmtLhAPv0dxZDXIN6uO3cMYSw4XUzHef+pQIPEnIlziUPjpTwRkZAKxUMvpOP9Dj8tjrg+iqV+ikLfwVQmWeNNB8Z6Rwo7PYMP28n+rs8WhyYCjZc7Hs43nRgd5zQovwbwV2AHjCtuppwyCT3X71zGzHe+8x382q/9GhobG902vSP1sz0XZoyYPv3000gmk7jnnnvcNgXmueQWLhi9G41RNYmog3I5Xjw9+i2nlznpzzsJaJDpsjj9CVyftnE8kns/Z00oaO0XcvBzG+pQdSwfgRvL+9VNOxh2LgzPwug4NNGUx0k/GHg8HnffpJbjjZOfFkc03NzI2KxkdEI62Xx6HPsU6FU36l4JJbfKlPjn8N93ORP6nZ9DHBovpVEFL5jzTScUhuWyVWC8dINQ8CLaLjHVEBWec0ln9E507re//W030H1DQ4PbfkmK6aOPPoqDBw9i3bp1LgKqyHdSPypFwvF8ROdAeUKu11CecHlc5OALVUKmZ55R8HHOFrtcBnI8r/BTrq8DFH76p7DVRxZoyJUSLvpMYLo14ZxDHJzKzIDioAtPOi8G55rQnJHJjiPj5VPj2NkZHccUdkq4FW6Kk6PTMP2ecDH9lDg0Xib7O/606xcZL13mLtTg+tFMNuUnfNr5eg8+7X388cfxe7/3e5e2Zbpr1y6sX7/eRTafM57QSDcNKH8ePd+Pf/xj/MZv/MZI4jWW2Bpnxhk0QQzbtm7FwMAArrn6agVytNM4bySmmgrx7rvvRm1trYuXPm4a547CS4bBsWPHcN1117kwNC6cvr4+fPD+etx2263UhiQKKk44jzipdFWa4pef+9znXJ2puOTEVF7Uh1wuJufzkBeEcksXqZhXS+VelUP65je/OSKketEziYtdzOssUh700ksvo6urE1/7yoPcqo+sFG9476m07M4bht3FLubVd6f4p29QGbw//MM/xG/91m9h7ty5btt44+Rkx5HxMhnFvHIbN27Eli1b8Mu//Mvut9Izv5zQzMk5xKHxMlXFvL4oVmHk00qtnzx+Ag899FP8b//bP0XcDe4ri1+RJoo4441D5/o+LmI0PXf0MF48vfOR7lJxQhFFeDFdsmSJ23epPetUOTVKUN1JY2MDmhrrXSOEsY4zd2anOCmndcXDBQsWuLYLfr/w6+bOzSk8q6ur0dbWNiIK2q7w9WFt7szOh5cycm6ZiKOttY3rVE13zMTGyXNlRlimFwXG8am0TPUaZAX4ddHZ2YmWlha3ro9uptWZXmzLVK14FW6ZTIbLHKqqKnk73VA3Jlx1fpiuMOymi2WqpRL7rq4u1NTUjGTwfMb2QpmNlqnCUnFSGWb1UFA4arsPx/GE5yc4hzg0XqbaMhVaKtwUVrlMzlXj1NbUupKoRDykd05FnKmKQzOin+lFQe/sLC94IhgrIdeHdvLkSfz0pz/Ftm3bUF9f7yrDfcSZUXxKIjTuhguf8o40mXCRntizdzdeeOF5rFi+HMlEkntK4aiEbroH6aeF4RhxaCLxiZdEU3VTr732Gl5//XUnAs3NzW674uYFM9lxZLyMNx0YFce8mL799tt49dVX3bc+f/58l1H2YT3h3/l4MgPnwLjf0TnGAW/FK5zefPNNPPnkk2hqamJ45vDM088wvdzqxiFIJVOMk6c8NVVxaILf2iWEPgLmuCbTjcYLpnKtKuJduHAhHnnkEfd7JqKEfqzn9m68EVwfyVjXHXG02oYzw3j8iSfw9DPPYDCdpirEUIjR2uL+gpuff3rziWca5SYbL5RKyDZs2OAGT7nmmmtcA6RxiWiJyY4j4+VT49inuVGZHYWZSpwkpPPmzcOLL76I/fv3u/DVvokI09GM6a8JdOPl0+JAvlREqIybL9qVoG7fvt2F3TPPPouevh4cOXYUL7/6CsIkj4kzLEvnT1UcMjE9E3oBk+1GoQ9KkUT1UrfccgtaW1vd9hlnkXrGeubRbjyMdb0yp/D8+OOPXfHQYmZOXPhqV8CPcVzmxhQxxjN9wk0y3lpSAqYGMypO27Rpk0vUJiRejvVMo93FZCz/nK8rQ+GpOmfx8ssvO4HwJU+TIaRj+mcy3HgY63rlroTCx2c61ApaFr1+q1W00subb74ZBw4cQEFxVmE5xjUmExPTaUT5x9Tb24u/+Zu/cYNU6IMzzh8VS2rkLLU81frg4OBIhkVMSuJ1ieHDSC15VV/qiyN/9rOfzdgSk4uN4mBFRQVuu+02t66iXqFw9XHTOIXPtKl4XOElp3jp00WFmaodVJfv910MTEynEYoIYmhoCH/5l3/pcl9r1qyxRP8CkfWkcTaVWCnHeuTIkdKeiBlr8U8hipNKrJRwLV26FKtXr3YWgTInxvmjb1nFvLLwly1b5jInPpNnjI1P/3xGQ78VXl5cVeWgrkaqhlAd6sXKkFhqMo1QgqWIoGI0NfKQ+8EPfmAWwAWi7gdf+tKX8Ku/+qu46667nBAojE1Ezx0lXHKKlzfccAM+/PBDN3CDxsiecSNyTQMUjuoSI/cXf/EXbti6FStWuDjpw9oYGx82ElCNVKT0USUkqg5744038NFHH+GOO+5wx1wMrGvMNEGvwVsBEk/lXH1lu3Je2meJ1/mhokmJp5ZylZWVI0VDxrmh+mYvpqK/v99ZBMqoKCx9HDXODYWj4qK+cR8/FZba7sPR4ujYeGtU4aTSO4Wfwk1F5gpPbfffuOLlVGNiOk3QayiPLEJLbfcfl1lU54fCTmKgD0sfnsLvYnxkMxkfL+V8fPRx0i99fDU+HYWjwk3fuVDYeaew1H77zsemPH2U07qPh3LaJhR+FyMM7a1NI3ziJHxk8EsfUYxzR+EpvAVgnD/lQioUjqPjqHF+KF4qU6fwK4+XXmiNs+PjpMLOh5fi58UOP7NMpxHlr8InXuWRxTg/xoraMzkc9Twqzjp06JDLIKjYv31uOxLqahFjQpKn6AVMYPgvjNHKKXJbgTn2QAlNMWo0xCBp0NCKGmoxFiCmfrclsZTzFpMvvh0dhqO3zeTwvFiMFS/LsTAdmzOF25ni6VRjWctphCKAd57Rv41zpzw8L4VwlP+Hh4fxV3/1V3jppZfwzjvvYHBgAPlcjtl1fsoUR4mkptxy87hKLPnISmg0/dxrr72CF156nsdTMJn2SERVDK6lRNQLaTljhd/o38b5UR5+YzljbMYKK7mx9l0MzDI1jBmCPlU1APrzP/9z10pZDVf6e/vx8CMPuX52a9eswYoVl+PnP/uZO/4XvvhF7Nu3Fx99+BGWLVvuLNN33n0LixYvdtNM9Xb3YP1HH7ruBF/72tecpesTIm+ZGoZxbphlahgzCFmR6i/77LPP4q233kJH50kc4+9bb70VD/30Ybz88ktYvmI5BXMRfvazR1yXgTvuvBO33HoTgjBw3QiWL1mGZ55+GuvXv+8EWX1xJZ7ldVCGYZwfJqaGMcO4/PLL8Tu/8zv46le/iqrKarS2z8OSJUvdOMT9A/1uMIDLLltBoe1w9aUrlq2g9dmMVCrpLNd5C+bRwh3ALbfcjr7ePjz22GPO4pVQC7NIDeP8MTE1jBmEBK+jowMvvPCCm3lE4rl582Y88fjjWLJ4sXNPPPkEnqTleeW6dc7ilIX67rvvIJfNIalBwEutcIfTg1hMC/bo0aOuQZOu7eucTFAN4/ywOlPDmCHoU1VndRXvqlWv6knz2Tyee/5ZN87rypWr0NTYiPXr1+toXH31dejt7cLObTtR21iHpoYmimuC51Xg6LFjCIMQBw8fQl19Ha699trTuryUd9kwDOPTMTE1jBmCPlXfad0Xye7ZtRu76O65514ngjIodZy3LF0XmGLUXUYTpAchLdNiHkVZnwiRB7eN6i9qYmoY54+JqWHMELyYln+yElX9lpXpkIZqvy+m1aFum/sVrYvRv0dhrXkN4/wwMTWMGYTE0wvoZGJiahjnh4mpYcww9Ml6C3W8xbG+uNjjkwMTU8M4P0xMDWMG4gVVojeReHH1dbMSaxNVw/h0TEwNY4aiT3eyhM6Lqq5vYmoYn46JqWEYhmGMExu0wTAMwzDGiYmpYRiGYYwTE1PDMAzDGCcmpoZhGIYxTkxMDcMwDGOcmJgahmEYxjgxMTUMwzCMcWJiahiGYRjjxMTUMAzDMMaJialhGIZhjBMbTtCYthTz+hOti67uLnR2HHcTXM+btwCJZDTIuya+DtzEnAHXCqem7CxqXNnoAj6WR+PM6kfMjW1bLO0/4/izBR7NY4Ii8508pog8zwy5Oc+7RXlR3V9TbeuaBXpal/K/iwVe390j2uLuxt9FXvf48WMYGBpEZWUl2tvbtcfh/eLGx9UQufyp60TbCwhi8ZF76hmCQP4qx9+Jjvt0HZ2rSb/Lx9x1n74Oc/f4/7d3peFVVud2hYxkDhlQb58CUWmgzGgvEhDi5SK9KoNeJikQEAEZKthahoQwKQRQW5khiOgFwiRjaCkFLMpMIGCBhJkwCWYiITlJyHTf9Z5sekAf//SHoc9e4eMb9vTufc551157OIf58xdoKqUOpj7MSc7yr6Kyovo3U1mWJNACJYAVkTJMbNolDSbXxl5eOcsxLaC2u7Ht+IPl8rzallryTNtVwyoZy/ncXV5XrSd//NyZp4VFTYMlU4saCyVTp+9XfPLpMqz8/DP8vH59zHx/JiIer1vteJ1uvJLERactzl3+k/tydb75eXnIK8gXRnCGVVRUITysDgKDQ7Bz1181fadOndRZE+YjQQIrLChEeXk5fP384O3tLeXRmQtBoVyo1F2Kc8YlmZcL4ZSXV8BRWCjhlfD3D9BfXSHZORzFKC0tgbenN7x9fOS6FPPmz8P+g/sRFhaGZcuWqa2Mz/JJeu5iT15uHhYsWIDi4mINDwwMwOBBQxAaFiptU4Wysnv4LjtbzwZ+YmtoaJjYXoAlnyTh3XffrQ4RyyUP84sw2ZLOtC/vaVtAYCCu37iKL/fsxWuvvapEzyauqnQSIeOxedhp+OuOvyBI2jC6bTt5xk6GxJBwXpSXlWvenh5SH72XcGkHEuOOHTsQERGB1q1aK3Fru8tZydb5EgikHBK4pCetEmwTT09PvbawqGmwZGpRY/EwmS5NWoormZcRHx8HDw8vFN69i2PHj0mIUJq8jd1FsRLlZaXwEKfbskVLBAWFYPPWTdiest2pfCoqcfP2TQwZPAQ9Xu2Bae9NVwKbOHGiOnUezKusrAxbNm/B7l17hCDL0PCppzF48CAhqXAhFJolChEews9C2MoAVSgtLsX/rfocBw8dVDH6i19EYejQYcjLz0PS0qW4ffs7+Pn6olfvnnjuuWgl3r9/9SXWr1+PpKQkJSqjHB0OBw7sP4BSRwkuXLogpCOUIuTJOj75ZCT8avvhP9u0QVHRXcyYkYhCOdOO21m30LHd8+jxvz2RmXkJvx0zBsePH1cSYr14sJz8/Hxpx3gUFzn0PjsnGx2fj0G79u1w4dw5bPhiI5Yv/xSXr1zE/v37lfSqpO3YhrX9fNG9ezfMmj0LDepH4s0336zu1JBIab8b/rLjz8jJysXr/fpp+3366Qr8snEjtG3bFgmTE9CkaRP06d0X392+jTXr1mpngMqXRM/XoELawcvDE9FiT6vWrfQ1MmFKvhYWNQz2XWnxyIAqhcrG28tbf8czOzsLGzdtxGYhvZSUP2PTFxuwaeMX+GLDBowZOxbnzp9XNdT2uXYY94fx+IMotAlxExDgHwgHlZ44ZRIJYc4kMxLO9evXkbI9BW+9NRTTpk7DVbnflpKCiipRXAKnKuWQsjMd05w8eQKpx44hPm4SpkydioyzZ7Hzbzuxft0GPP74f2D2rER0+XUXLFy4SFUhCY7Kj2Wa8kkUvKZyPXDwAA4fOYzMy5nISM/Q+lyWzsThw0dw8ps0qUORKNQwIbVEzJu3AHM/nouO7TsiW9Ts2nVrsEQI+t69e/Dy8lL7DBGxPH9/f0wVGxNnzkRc3ESN98TPnsDq5NXYuHmzKk/Wr0JUOZV5pRAZlT47ImvXrkGRo0j1IjsnJHFnfFGfVdIZET69fOkyzqSf1jpxiJj2Xr95Q+KQcOWQOBXSmWBaH1H8fr7+ovx9UFs6G2wTdyHnlJRtuHjp4vdeIwuLmghLphaPDCorypVMncqkCk893RAL5i/EvI/nY+6f5mK+XH88dz7iEyYLYQYgIDBA4rlh48YN+O3bozH9/feFQKYocQQGBTILddAkGsKc+cxXnPqYt8egcVRjRETURZMmjZF59arEITlwXtF5OId5nemCgwMxdMgQ1Pt5fSHPJxDVOApXrlzBf3f+L/Tv3x8hdcLwyyZNUHqvFDnZOZqOZbJjYIiC9zyCg4NFCQ9WW4tLi/FYRDjCwkJRIp0Aqrg+ffshPDwCuTm5mDJ5MsZPHIfxceOw9+uvlTy79+iOgf0HaN4kT3O41jEkJETJa3Vyss7ZPvvMs+jyYhe80LGDeAaxR6K2atUao0e/jZEjRmPUqLfRtWtXBAUHaRkkPNa/UsiSnQrnXLJTWZNkL124iOTklVi/Zp10CK5KOF8NZx05Iu/p4YXwiAhRtkNFwQ/B8OHD8dbwERg2bBgGxg6U9qqD8LBwtZswnQELi5oI+860eHSgQ4lOh8wrca3Ov/sOVs7ieO/cuSMkVKaOmIzAIdPIJyPxu3fewbhxEzBpUgJCg0NFLZ1U1UVicSUzIjw8HC2at0B2Th6SV6/Czp07EfNCDG7evIkTokCPpR1D2sk0UaMnceLECZw9m4H6kZFo2ZLzgOU4f/4cjqceR+tnWqNZ02bw86uNQ4cOYvGixWjUqBHq1a/3QLkPX9OOa0LeR1NT0S66HTp16YKX/udldOjQEWkn0nDu7DmN43CUYJ8o2M6dOuO1V3uK+v49+vbti+3bRKlv2ny/Pg+DbbRnzx5ti5ycHEyOj4e7dFSOiBI+k5GhqpHtyqHl/Pw8LF+xDIWFd3Wo2leUo4+oSHYm0tKO65BuiXQQtGPBf/KcC4wKCgtxSRTq+YsXVGnrwiYOA0s1q19KTeMQlbt7927k5uYgMzMTBw4clE5DKYodxUKoIWqHa/tYWNREGC9kYfFvAHHW7m7IzsqGr48PAgIClAzqiMK5des2Zs1KxKw5s7DskyRsTdmCS+LkuaiI6o2kQ2ftquBICrl5OTh67CgKCgp0zjAlJQWTRQlOf2+6KsKESZPkiMdHf/wIeXl3UFZepnOMfP6CkG90m+eEO9yUnNLTz+D0mVOajwq4H+A5JTApm+RDFZuYmKikdeTwESGZAygtKcXUKdPQokULOIq4KAnwqOWB9Ix0nDlzBkePporSXIXHHo9AQlz8/QU7psPBvFm/a9euCRGmoXPnF/HOmN/BT9qqdm1fDB82Qud5e/To4Zxnlfzz8vKwbu1aFBU5kCXt2KDBkxLmHDommB+Ha809FavcoHnzZogTGyZOmICnGz5VHf59l3PnTj4WSSfjxo0bSE09osPInMPla0nFzPlSC4uaDkumFv9GoLN2w+XMK3gqqiE83L10XnTQwFh89OGHeP03/dC7Z2+89OuX0KF9e52jCwoKQuvWrXVxi5JCtSqkcuNWnEZRjfDHj/6EkaNGYuXqlTpcu2XLFmzeuBlbt2zF1q3bsHXbNlGcSxAcHIJVEidpWRKGjxyB2IGD4e7hpWrO08MTsbGDsHRJEi5euoQv/75HVdnDoA1cuTt//nxMEBJasWK5EGkqTp0+JYo4TcjmKFauXInx48dh7oKP1f7YAQNVVXKrUFjdMKnPM2jZohVZrTrXB8E6NmvWDEOGDMGe3bvwwYcfYNr06ZiROAPT3puCDz+YjcMHD6GsjIurSMRcYcyUVXilazdJ96bkUQu13Nzx7DO/wssvvwIfH2+JJ90GOTj47Sb2cIFVUVGRzq+yfT10a82D4CpoLtZiW2jbq8lu2snp8HxHhIdydMHCoubDkqlFjQVVl75Dqw8KHjplOtz8uwU4nX7qwePMaaSLOvvHN9+gTkgdZJxNR37BHZSLsjt6LBVz583TRT1f7/sa+w4dxD5RkCRGDtVSuVGhElRCX331lcYvKi5CeUW5kIWPGkSHT8LgWQ3knlEnhyNVFOw2IVauDI5uGy3xKnG3qABzPpiDjPMZGp15c6VxhdjEMkmePLRekhEPzteOGDFCyW7kqFGipmeiebPmQpzBolRnYvbsWUKAczB69GgEhQSib7+++MepU3jxxc7o168funfvjkaNGusWmT59+midCNrsOmTKec82bdqgvXQsYjrGoJ3Y3DEmRuei80SRl5Q6kLxuDZLXJMNRUozPPv8My1d8gkWLF2D2nETpbOTqHCnrxAVIqn6ljrU8pC093XUYfeTokRjzzlhdSFSrepuMsaVY8r9x8xpuZ2XpcHtW1ne4IyrYUVQI/wDa3ls6Ird0VMB0dnhYWNRE2K0xFo8MlixZonOW3NJxSsiDezPN8CWhfpoqp5Iqh9tKq9CrVy8li9WrV+vc5vjx4++TJjFt2jQdShw7dqw6eAPOIyYkJOgQMRcDHTp0SOciOfxJsFx+dJjGkCBXx7KMhg0b6hApHX90dDRKSkqwfft2NG3aVIdXOYTLckNDQ7F3716sWrVKt8YYME+Sy4wZM3SoeuDAgTh9+rSuAI4RsiNYB5Iuy2V+3bp10yHh+vXr368Hy2c+rAMJT0lPnhnbv/32W3R7pSt69u6Fx8JFAWo6Z1hwnWDEdIjBHlHQHOZlWnYoWG5gYKAq4jVr1iAyMlIXDjGc6Vg2y6CtWUKSBiyzbt26mm7SpEnaFpw7Xrp4Me4WFkkbFcPHy1vyAO6V3YO/n2/1UiY39B/QHx06dNA8zGFhUdNgydTikQHJlHsmY2Nj0bx5c3iJY3clQH7jUVW5OPRacsgfv2eA8258i1MxLlq0SJ25a5rc3FwlIipBOmlX5UNFRIXKIV/OUTZp0uSBOK7XzPPChQu6f5PPzceKX05AsuZ8Jm0nsZEYuP3j4kXnHk7OhZovbSCowpjHwoULdWGObhURsjLqldf8ogcSMsmWZD1o0CAt29V+gvmQlGk/wXA+I0h2v3m9HxpENoCvV22RzWI3eyNihrenF+ImxsM/yP8+CZs60U5eT5kyBfXq1dOyDUwdTByCZx6mvWh3VFQUevfuTYMkjGkYTkIW+yvFDrcKyeOf9pg25dnYb2FRk2DJ1OKRwb59+7Br1y5VfW+88QbCQyNER/3TsXKLBr/6T/c6unEA0kkcdOyFhYWqsIxTNk6fzp1KiwdhnhMkLxIJ1R0VGePynjAfG0MarnkyHa9NmLlmenNNAtywYYNunSEhDRgw4D5ZMpx20mZ+eYQBw1i+OXNe0SwwYlzaaYjG1R6SMePyGW0wbcK8b928xdja+eB2GN03Kmd+01N4WF14eku9heBYf5OeaWkryZjls4NgwLxNGYzPgzCETFAR0ybt2LBcAc9KpLSZ/ClnLat63pf3pk6mjhYWNQmWTC0eKRiHrKDTdSFTcfVOp8w/nZPkXJ7T+fNt7uro1VHTcf8ATHziYVJ4+DnB+DyMba7pzXNDACYvQ8rGjoftYRxXO821CTNlmLOrna7E5YofKodtSJh2MzB5y+MHyiJc83B97oqHw3l+GD+WB8twbWPTfhYWNRWWTC0sLCwsLP5FWDK1sLD4yUD9/GMOiHr0+7rXwqLmwY6dWFhY/GQwZPpjh4XFowCrTC0sLH4yfH9m90FQlVplavEowJKphYWFhYXFvwTg/wEM00EUhaplswAAAABJRU5ErkJggg==)"
      ],
      "metadata": {
        "id": "BLSxAdx2daYV"
      }
    },
    {
      "cell_type": "markdown",
      "source": [
        "### 4-5. 활성화(activation) 함수\n",
        "- ReLU 활성화 함수 뿐만 아니라 케라스가 지원하는 다른 활성화 함수 적용해볼 수 O"
      ],
      "metadata": {
        "id": "Gez-FHTHEtAc"
      }
    },
    {
      "cell_type": "markdown",
      "source": [
        "- 클래스 인스턴스로 활성화함수 선언하여 하이퍼파라미터 값 변경하여 적용하기"
      ],
      "metadata": {
        "id": "xF81SHvseeRS"
      }
    },
    {
      "cell_type": "code",
      "source": [
        "# LeakyReLU 기본 설정\n",
        "tf.keras.layers.LeakyReLU()\n",
        "\n",
        "# LeakyReLU, alpha=0.2로 변경\n",
        "tf.keras.layers.LeakyReLU(alpha=0.2)"
      ],
      "metadata": {
        "colab": {
          "base_uri": "https://localhost:8080/"
        },
        "id": "3V8RFVkbExle",
        "outputId": "127febd9-eb59-40b7-e652-4acaa714ef70"
      },
      "execution_count": 9,
      "outputs": [
        {
          "output_type": "execute_result",
          "data": {
            "text/plain": [
              "<keras.src.layers.activation.leaky_relu.LeakyReLU at 0x7e69fd5b3d60>"
            ]
          },
          "metadata": {},
          "execution_count": 9
        }
      ]
    },
    {
      "cell_type": "markdown",
      "source": [
        "- LeakyReLU 모델에 적용하기"
      ],
      "metadata": {
        "id": "1Gbl6Ujwej8A"
      }
    },
    {
      "cell_type": "code",
      "source": [
        "# Model C: Dense + BatchNorm + LeakyReLU(0,2)\n",
        "model_c=tf.keras.Sequential([\n",
        "    tf.keras.layers.Flatten(input_shape=(28, 28)),\n",
        "    tf.keras.layers.Dense(64),\n",
        "    # 배치 정규화 적용\n",
        "    tf.keras.layers.BatchNormalization(),\n",
        "    # LeakyReLU, alpha=0.2 적용\n",
        "    tf.keras.layers.LeakyReLU(alpha=0.2),\n",
        "\n",
        "    tf.keras.layers.Dense(32),\n",
        "    # 배치 정규화 적용\n",
        "    tf.keras.layers.BatchNormalization(),\n",
        "    # LeakyReLU, alpha=0.2 적용\n",
        "    tf.keras.layers.LeakyReLU(alpha=0.2),\n",
        "\n",
        "    tf.keras.layers.Dense(10, activation='softmax')\n",
        "])\n",
        "\n",
        "# 모델 요약\n",
        "model_c.summary()"
      ],
      "metadata": {
        "colab": {
          "base_uri": "https://localhost:8080/"
        },
        "id": "9x_oB8viePj_",
        "outputId": "cc9ae73a-1c53-47a6-c1de-548fd700a89c"
      },
      "execution_count": 10,
      "outputs": [
        {
          "output_type": "stream",
          "name": "stdout",
          "text": [
            "Model: \"sequential_2\"\n",
            "_________________________________________________________________\n",
            " Layer (type)                Output Shape              Param #   \n",
            "=================================================================\n",
            " flatten_2 (Flatten)         (None, 784)               0         \n",
            "                                                                 \n",
            " dense_12 (Dense)            (None, 64)                50240     \n",
            "                                                                 \n",
            " batch_normalization_2 (Bat  (None, 64)                256       \n",
            " chNormalization)                                                \n",
            "                                                                 \n",
            " leaky_re_lu_2 (LeakyReLU)   (None, 64)                0         \n",
            "                                                                 \n",
            " dense_13 (Dense)            (None, 32)                2080      \n",
            "                                                                 \n",
            " batch_normalization_3 (Bat  (None, 32)                128       \n",
            " chNormalization)                                                \n",
            "                                                                 \n",
            " leaky_re_lu_3 (LeakyReLU)   (None, 32)                0         \n",
            "                                                                 \n",
            " dense_14 (Dense)            (None, 10)                330       \n",
            "                                                                 \n",
            "=================================================================\n",
            "Total params: 53034 (207.16 KB)\n",
            "Trainable params: 52842 (206.41 KB)\n",
            "Non-trainable params: 192 (768.00 Byte)\n",
            "_________________________________________________________________\n"
          ]
        }
      ]
    },
    {
      "cell_type": "markdown",
      "source": [
        "- 앞에서 생성한 2개의 모델 + LeakyReLU 활성화 함수로 변경한 모델까지 총 3개의 모델을 동일한 조건으로 10번의 epoch 동안 훈련한 후 수렴 속도 확인하기\n",
        " - model_a: Dense 레이어 + ReLU 활성화 함수\n",
        " - model_b: Dense 레이어 + 배치 정규화\n",
        " - model_c: Dense 레이어 + 배치 정규화 + LeakyReLU(0.2) 활성화 함"
      ],
      "metadata": {
        "id": "-uE9KLJgewEN"
      }
    },
    {
      "cell_type": "code",
      "source": [
        "model_a.compile(optimizer='adam', loss='sparse_categorical_crossentropy', metrics=['accuracy'])\n",
        "model_b.compile(optimizer='adam', loss='sparse_categorical_crossentropy', metrics=['accuracy'])\n",
        "model_c.compile(optimizer='adam', loss='sparse_categorical_crossentropy', metrics=['accuracy'])\n",
        "\n",
        "#Model A: Dense + ReLU\n",
        "history_a=model_a.fit(x_train, y_train,\n",
        "                      validation_data=(x_test, y_test), epochs=10)\n",
        "#Model B: Dense + BatchNorm + ReLU\n",
        "history_b=model_b.fit(x_train, y_train,\n",
        "                      validation_data=(x_test, y_test), epochs=10)\n",
        "#Model C: Dense + BatchNorm + LeakyReLU(0,2)\n",
        "history_c=model_c.fit(x_train, y_train,\n",
        "                      validation_data=(x_test, y_test), epochs=10)"
      ],
      "metadata": {
        "colab": {
          "base_uri": "https://localhost:8080/"
        },
        "id": "Oyk-_Hvae7V6",
        "outputId": "b346e9bc-7f0b-45e9-a0cc-d004688c5113"
      },
      "execution_count": 11,
      "outputs": [
        {
          "output_type": "stream",
          "name": "stdout",
          "text": [
            "Epoch 1/10\n",
            "1875/1875 [==============================] - 10s 5ms/step - loss: 0.2968 - accuracy: 0.9146 - val_loss: 0.1591 - val_accuracy: 0.9528\n",
            "Epoch 2/10\n",
            "1875/1875 [==============================] - 10s 5ms/step - loss: 0.1382 - accuracy: 0.9582 - val_loss: 0.1193 - val_accuracy: 0.9610\n",
            "Epoch 3/10\n",
            "1875/1875 [==============================] - 7s 4ms/step - loss: 0.0992 - accuracy: 0.9697 - val_loss: 0.0992 - val_accuracy: 0.9681\n",
            "Epoch 4/10\n",
            "1875/1875 [==============================] - 9s 5ms/step - loss: 0.0791 - accuracy: 0.9761 - val_loss: 0.0986 - val_accuracy: 0.9703\n",
            "Epoch 5/10\n",
            "1875/1875 [==============================] - 7s 4ms/step - loss: 0.0642 - accuracy: 0.9791 - val_loss: 0.1004 - val_accuracy: 0.9696\n",
            "Epoch 6/10\n",
            "1875/1875 [==============================] - 8s 4ms/step - loss: 0.0518 - accuracy: 0.9834 - val_loss: 0.1108 - val_accuracy: 0.9672\n",
            "Epoch 7/10\n",
            "1875/1875 [==============================] - 7s 4ms/step - loss: 0.0446 - accuracy: 0.9854 - val_loss: 0.0881 - val_accuracy: 0.9740\n",
            "Epoch 8/10\n",
            "1875/1875 [==============================] - 10s 5ms/step - loss: 0.0395 - accuracy: 0.9870 - val_loss: 0.0876 - val_accuracy: 0.9746\n",
            "Epoch 9/10\n",
            "1875/1875 [==============================] - 6s 3ms/step - loss: 0.0335 - accuracy: 0.9895 - val_loss: 0.0934 - val_accuracy: 0.9722\n",
            "Epoch 10/10\n",
            "1875/1875 [==============================] - 7s 4ms/step - loss: 0.0283 - accuracy: 0.9908 - val_loss: 0.1121 - val_accuracy: 0.9711\n",
            "Epoch 1/10\n",
            "1875/1875 [==============================] - 12s 5ms/step - loss: 0.3243 - accuracy: 0.9107 - val_loss: 0.1363 - val_accuracy: 0.9576\n",
            "Epoch 2/10\n",
            "1875/1875 [==============================] - 9s 5ms/step - loss: 0.1439 - accuracy: 0.9572 - val_loss: 0.0958 - val_accuracy: 0.9714\n",
            "Epoch 3/10\n",
            "1875/1875 [==============================] - 10s 5ms/step - loss: 0.1114 - accuracy: 0.9662 - val_loss: 0.0926 - val_accuracy: 0.9723\n",
            "Epoch 4/10\n",
            "1875/1875 [==============================] - 10s 5ms/step - loss: 0.0932 - accuracy: 0.9708 - val_loss: 0.0833 - val_accuracy: 0.9747\n",
            "Epoch 5/10\n",
            "1875/1875 [==============================] - 10s 5ms/step - loss: 0.0835 - accuracy: 0.9735 - val_loss: 0.0773 - val_accuracy: 0.9772\n",
            "Epoch 6/10\n",
            "1875/1875 [==============================] - 10s 5ms/step - loss: 0.0730 - accuracy: 0.9768 - val_loss: 0.0742 - val_accuracy: 0.9766\n",
            "Epoch 7/10\n",
            "1875/1875 [==============================] - 9s 5ms/step - loss: 0.0672 - accuracy: 0.9789 - val_loss: 0.0719 - val_accuracy: 0.9777\n",
            "Epoch 8/10\n",
            "1875/1875 [==============================] - 10s 5ms/step - loss: 0.0618 - accuracy: 0.9801 - val_loss: 0.0707 - val_accuracy: 0.9803\n",
            "Epoch 9/10\n",
            "1875/1875 [==============================] - 16s 9ms/step - loss: 0.0585 - accuracy: 0.9814 - val_loss: 0.0756 - val_accuracy: 0.9765\n",
            "Epoch 10/10\n",
            "1875/1875 [==============================] - 12s 6ms/step - loss: 0.0540 - accuracy: 0.9822 - val_loss: 0.0719 - val_accuracy: 0.9790\n",
            "Epoch 1/10\n",
            "1875/1875 [==============================] - 13s 6ms/step - loss: 0.3183 - accuracy: 0.9112 - val_loss: 0.1393 - val_accuracy: 0.9587\n",
            "Epoch 2/10\n",
            "1875/1875 [==============================] - 8s 4ms/step - loss: 0.1556 - accuracy: 0.9533 - val_loss: 0.1100 - val_accuracy: 0.9650\n",
            "Epoch 3/10\n",
            "1875/1875 [==============================] - 7s 4ms/step - loss: 0.1241 - accuracy: 0.9608 - val_loss: 0.0998 - val_accuracy: 0.9683\n",
            "Epoch 4/10\n",
            "1875/1875 [==============================] - 10s 5ms/step - loss: 0.1080 - accuracy: 0.9660 - val_loss: 0.0953 - val_accuracy: 0.9697\n",
            "Epoch 5/10\n",
            "1875/1875 [==============================] - 11s 6ms/step - loss: 0.0951 - accuracy: 0.9703 - val_loss: 0.0848 - val_accuracy: 0.9747\n",
            "Epoch 6/10\n",
            "1875/1875 [==============================] - 10s 5ms/step - loss: 0.0877 - accuracy: 0.9716 - val_loss: 0.0899 - val_accuracy: 0.9712\n",
            "Epoch 7/10\n",
            "1875/1875 [==============================] - 11s 6ms/step - loss: 0.0790 - accuracy: 0.9739 - val_loss: 0.0938 - val_accuracy: 0.9709\n",
            "Epoch 8/10\n",
            "1875/1875 [==============================] - 8s 4ms/step - loss: 0.0741 - accuracy: 0.9753 - val_loss: 0.0845 - val_accuracy: 0.9732\n",
            "Epoch 9/10\n",
            "1875/1875 [==============================] - 8s 4ms/step - loss: 0.0693 - accuracy: 0.9776 - val_loss: 0.0923 - val_accuracy: 0.9719\n",
            "Epoch 10/10\n",
            "1875/1875 [==============================] - 9s 5ms/step - loss: 0.0647 - accuracy: 0.9783 - val_loss: 0.0753 - val_accuracy: 0.9780\n"
          ]
        }
      ]
    },
    {
      "cell_type": "markdown",
      "source": [
        "- epoch별 검증 손실의 감소 추이 시각화하기\n",
        " - mnist 데이터셋 : 모델별 차이 크지 X\n",
        " - But, 좀 더 복잡한 데이터셋일 시, 배치 정규화와 다른 활성화 함수 적용해보면서 모델의 훈련 추이 관찰 필요하다!"
      ],
      "metadata": {
        "id": "nLvo7DMxfVkz"
      }
    },
    {
      "cell_type": "code",
      "source": [
        "import matplotlib.pyplot as plt\n",
        "import numpy as np\n",
        "\n",
        "plt.figure(figsize=(12, 9))\n",
        "plt.plot(np.arange(1, 11), history_a.history['val_loss'], color='navy', linestyle=':')\n",
        "plt.plot(np.arange(1, 11), history_b.history['val_loss'], color='tomato', linestyle='-.')\n",
        "plt.plot(np.arange(1, 11), history_c.history['val_loss'], color='green', linestyle='-')\n",
        "\n",
        "plt.title('Losses', fontsize=20)\n",
        "plt.xlabel('epochs')\n",
        "plt.ylabel('Losses')\n",
        "plt.legend(['ReLU', 'BatchNorm+ReLU', 'BatchNorm+LeakyReLU'], fontsize=12)\n",
        "plt.show()"
      ],
      "metadata": {
        "colab": {
          "base_uri": "https://localhost:8080/",
          "height": 589
        },
        "id": "ZVmP7uxxfkst",
        "outputId": "b8b8d649-f8a6-471c-de05-59edb45c646c"
      },
      "execution_count": 12,
      "outputs": [
        {
          "output_type": "display_data",
          "data": {
            "text/plain": [
              "<Figure size 1200x900 with 1 Axes>"
            ],
            "image/png": "[encoded data removed]"
          },
          "metadata": {}
        }
      ]
    },
    {
      "cell_type": "markdown",
      "source": [
        "## PART 03.06. 모델 저장 및 불러오기\n",
        "- 앞에서 사용한 mnist 데이터셋과 신경망 모델 활용하여 모델 훈련 완료된 모델을 사용함"
      ],
      "metadata": {
        "id": "8Tc1J4ldE87l"
      }
    },
    {
      "cell_type": "markdown",
      "source": [
        "### 6-1. 모델을 파일로 저장"
      ],
      "metadata": {
        "id": "OfybZnptFB_0"
      }
    },
    {
      "cell_type": "code",
      "source": [
        "# 모델명을 h5 포맷으로 저장\n",
        "model_b.save('h5-model.h5')"
      ],
      "metadata": {
        "colab": {
          "base_uri": "https://localhost:8080/"
        },
        "id": "h6sYlEfHFBkV",
        "outputId": "c099d3af-2e61-454c-c27b-197b6a31bd2f"
      },
      "execution_count": 13,
      "outputs": [
        {
          "output_type": "stream",
          "name": "stderr",
          "text": [
            "/usr/local/lib/python3.10/dist-packages/keras/src/engine/training.py:3079: UserWarning: You are saving your model as an HDF5 file via `model.save()`. This file format is considered legacy. We recommend using instead the native Keras format, e.g. `model.save('my_model.keras')`.\n",
            "  saving_api.save_model(\n"
          ]
        }
      ]
    },
    {
      "cell_type": "markdown",
      "source": [
        "### 6-2. 저장된 모델 복원"
      ],
      "metadata": {
        "id": "q0874hgzFFx1"
      }
    },
    {
      "cell_type": "code",
      "source": [
        "# 모델 복원\n",
        "h5_model=tf.keras.models.load_model('h5-model.h5')\n",
        "h5_model.summary()"
      ],
      "metadata": {
        "colab": {
          "base_uri": "https://localhost:8080/"
        },
        "id": "n8m_lcQxFFgj",
        "outputId": "41f7daf0-a8ae-4c01-cd90-fcc522637f36"
      },
      "execution_count": 14,
      "outputs": [
        {
          "output_type": "stream",
          "name": "stdout",
          "text": [
            "Model: \"sequential_1\"\n",
            "_________________________________________________________________\n",
            " Layer (type)                Output Shape              Param #   \n",
            "=================================================================\n",
            " flatten_1 (Flatten)         (None, 784)               0         \n",
            "                                                                 \n",
            " dense_9 (Dense)             (None, 64)                50240     \n",
            "                                                                 \n",
            " batch_normalization (Batch  (None, 64)                256       \n",
            " Normalization)                                                  \n",
            "                                                                 \n",
            " activation (Activation)     (None, 64)                0         \n",
            "                                                                 \n",
            " dense_10 (Dense)            (None, 32)                2080      \n",
            "                                                                 \n",
            " batch_normalization_1 (Bat  (None, 32)                128       \n",
            " chNormalization)                                                \n",
            "                                                                 \n",
            " activation_1 (Activation)   (None, 32)                0         \n",
            "                                                                 \n",
            " dense_11 (Dense)            (None, 10)                330       \n",
            "                                                                 \n",
            "=================================================================\n",
            "Total params: 53034 (207.16 KB)\n",
            "Trainable params: 52842 (206.41 KB)\n",
            "Non-trainable params: 192 (768.00 Byte)\n",
            "_________________________________________________________________\n"
          ]
        }
      ]
    },
    {
      "cell_type": "code",
      "source": [
        "# 모델 검증 : 손실함수와 평가지표\n",
        "loss, acc=h5_model.evaluate(x_test, y_test, verbose=0)\n",
        "print(f'h5_model] loss: {loss:.5f}, acc: {acc:.5f}')"
      ],
      "metadata": {
        "colab": {
          "base_uri": "https://localhost:8080/"
        },
        "id": "qKb6m-2FFJf-",
        "outputId": "1e6d9d29-f068-4136-8708-f05eb8253a3f"
      },
      "execution_count": 15,
      "outputs": [
        {
          "output_type": "stream",
          "name": "stdout",
          "text": [
            "h5_model] loss: 0.07186, acc: 0.97900\n"
          ]
        }
      ]
    },
    {
      "cell_type": "code",
      "source": [
        "# 모델을 SavedModel 포맷으로 저장\n",
        "model_b.save('saved-model')"
      ],
      "metadata": {
        "id": "GC8STVW8fy76"
      },
      "execution_count": 16,
      "outputs": []
    },
    {
      "cell_type": "code",
      "source": [
        "# 모델 복원\n",
        "saved_model=tf.keras.models.load_model('saved-model')\n",
        "saved_model.summary()"
      ],
      "metadata": {
        "colab": {
          "base_uri": "https://localhost:8080/"
        },
        "id": "fxKtuPbafy16",
        "outputId": "ba4081c9-ed61-4ec3-c90e-4894cdbdd7ba"
      },
      "execution_count": 17,
      "outputs": [
        {
          "output_type": "stream",
          "name": "stdout",
          "text": [
            "Model: \"sequential_1\"\n",
            "_________________________________________________________________\n",
            " Layer (type)                Output Shape              Param #   \n",
            "=================================================================\n",
            " flatten_1 (Flatten)         (None, 784)               0         \n",
            "                                                                 \n",
            " dense_9 (Dense)             (None, 64)                50240     \n",
            "                                                                 \n",
            " batch_normalization (Batch  (None, 64)                256       \n",
            " Normalization)                                                  \n",
            "                                                                 \n",
            " activation (Activation)     (None, 64)                0         \n",
            "                                                                 \n",
            " dense_10 (Dense)            (None, 32)                2080      \n",
            "                                                                 \n",
            " batch_normalization_1 (Bat  (None, 32)                128       \n",
            " chNormalization)                                                \n",
            "                                                                 \n",
            " activation_1 (Activation)   (None, 32)                0         \n",
            "                                                                 \n",
            " dense_11 (Dense)            (None, 10)                330       \n",
            "                                                                 \n",
            "=================================================================\n",
            "Total params: 53034 (207.16 KB)\n",
            "Trainable params: 52842 (206.41 KB)\n",
            "Non-trainable params: 192 (768.00 Byte)\n",
            "_________________________________________________________________\n"
          ]
        }
      ]
    },
    {
      "cell_type": "code",
      "source": [
        "#모델 검증 (HDF5 포맷)\n",
        "loss, acc=h5_model.evaluate(x_test, y_test, verbose=0)\n",
        "print(f'h5_model] loss: {loss:.5f}, acc: {acc:.5f}')\n",
        "\n",
        "#모델 검증 (SavedModel 포맷)\n",
        "loss, acc=saved_model.evaluate(x_test, y_test, verbose= 0)\n",
        "print(f'saved_model] loss: {loss:.5f}, acc: {acc:.5f}')"
      ],
      "metadata": {
        "colab": {
          "base_uri": "https://localhost:8080/"
        },
        "id": "5WsUOoidgN7R",
        "outputId": "8384a116-c66e-4bf2-b357-af4dabeaa24d"
      },
      "execution_count": 18,
      "outputs": [
        {
          "output_type": "stream",
          "name": "stdout",
          "text": [
            "h5_model] loss: 0.07186, acc: 0.97900\n",
            "saved_model] loss: 0.07186, acc: 0.97900\n"
          ]
        }
      ]
    },
    {
      "cell_type": "markdown",
      "source": [
        "## PART 03.07. 복잡한 모델 생성"
      ],
      "metadata": {
        "id": "_wN5oNQPFNPl"
      }
    },
    {
      "cell_type": "markdown",
      "source": [
        "### 7-1. 함수형 API(Functional API)\n",
        "- Sequential API 사용하는 경우 단방향의 Sequential 모델만 구현할 수 있다는 제약 존재\n",
        " - 데이터 흐름이 특정 레이어를 건너뛰거나, 병합 및 분리하는 등의 구조의 모델 구현 불가"
      ],
      "metadata": {
        "id": "TolxrMCnJm30"
      }
    },
    {
      "cell_type": "markdown",
      "source": [
        "- 기존 Sequential API로 구현한 mnist 분류기 모델을 함수형 API로 동일하게 구현하기\n",
        " - Input 레이어 정의 > 데이터의 입력 shape 정의>레이어마다 반환되는 출력 값을 변수에 저장한 뒤 다음 레이어의 입력으로 연결하기\n",
        " > 여러 개의 레이어를 마치 체인 구조로 입출력을 계속 연결 가능"
      ],
      "metadata": {
        "id": "ZGvZ7H21gj6G"
      }
    },
    {
      "cell_type": "code",
      "source": [
        "import tensorflow as tf\n",
        "\n",
        "#모델의 레이어를 체인 구조로 연결 input 레이어 정의\n",
        "input_layer=tf.keras.Input(shape=(28, 28), name='InputLayer')\n",
        "\n",
        "#모델의 레이어를 체인 구조로 연결\n",
        "x1=tf.keras.layers.Flatten(name='Flatten')(input_layer)\n",
        "x2=tf.keras.layers.Dense(256, activation='relu', name='Dense1')(x1)\n",
        "x3=tf.keras.layers.Dense(64, activation='relu', name='Dense2')(x2)\n",
        "x4=tf.keras.layers.Dense(10, activation='softmax', name='OutputLayer')(x3)"
      ],
      "metadata": {
        "id": "Gc0JTy60FLB5"
      },
      "execution_count": 19,
      "outputs": []
    },
    {
      "cell_type": "code",
      "source": [
        "#모델 생성\n",
        "func_model=tf.keras.Model(inputs=input_layer, outputs=x4, name='FunctionalModel')\n",
        "\n",
        "#모델 요약\n",
        "func_model.summary()"
      ],
      "metadata": {
        "colab": {
          "base_uri": "https://localhost:8080/"
        },
        "id": "nGpyn76Ngvjk",
        "outputId": "6881ae22-c1a3-4208-9601-1c78be4617b1"
      },
      "execution_count": 20,
      "outputs": [
        {
          "output_type": "stream",
          "name": "stdout",
          "text": [
            "Model: \"FunctionalModel\"\n",
            "_________________________________________________________________\n",
            " Layer (type)                Output Shape              Param #   \n",
            "=================================================================\n",
            " InputLayer (InputLayer)     [(None, 28, 28)]          0         \n",
            "                                                                 \n",
            " Flatten (Flatten)           (None, 784)               0         \n",
            "                                                                 \n",
            " Dense1 (Dense)              (None, 256)               200960    \n",
            "                                                                 \n",
            " Dense2 (Dense)              (None, 64)                16448     \n",
            "                                                                 \n",
            " OutputLayer (Dense)         (None, 10)                650       \n",
            "                                                                 \n",
            "=================================================================\n",
            "Total params: 218058 (851.79 KB)\n",
            "Trainable params: 218058 (851.79 KB)\n",
            "Non-trainable params: 0 (0.00 Byte)\n",
            "_________________________________________________________________\n"
          ]
        }
      ]
    },
    {
      "cell_type": "code",
      "source": [
        "from tensorflow.keras.utils import plot_model\n",
        "\n",
        "#구조도 시각화\n",
        "plot_model(func_model, show_shapes=True, show_layer_names=True, to_file='model.png')"
      ],
      "metadata": {
        "colab": {
          "base_uri": "https://localhost:8080/",
          "height": 533
        },
        "id": "_iJ3Tqn_gx6P",
        "outputId": "56c5b6d1-41af-4578-82a9-dd12538d8c0d"
      },
      "execution_count": 21,
      "outputs": [
        {
          "output_type": "execute_result",
          "data": {
            "image/png": "[encoded data removed]",
            "text/plain": [
              "<IPython.core.display.Image object>"
            ]
          },
          "metadata": {},
          "execution_count": 21
        }
      ]
    },
    {
      "cell_type": "code",
      "source": [
        "#컴파일\n",
        "func_model.compile(optimizer='adam', loss='sparse_categorical_crossentropy', metrics=['accuracy'])\n",
        "\n",
        "#훈련\n",
        "func_model.fit(x_train, y_train, epochs=3)\n",
        "\n",
        "#검증\n",
        "loss, acc=func_model.evaluate(x_test, y_test, verbose=0)\n",
        "print(f'Functional Model] loss: {loss:.5f}, acc: {acc:.5f}')"
      ],
      "metadata": {
        "colab": {
          "base_uri": "https://localhost:8080/"
        },
        "id": "wpnhZFmFg1nU",
        "outputId": "6a9728ba-9534-40c6-c2f5-dc54e3b07dc5"
      },
      "execution_count": 22,
      "outputs": [
        {
          "output_type": "stream",
          "name": "stdout",
          "text": [
            "Epoch 1/3\n",
            "1875/1875 [==============================] - 14s 7ms/step - loss: 0.2160 - accuracy: 0.9370\n",
            "Epoch 2/3\n",
            "1875/1875 [==============================] - 11s 6ms/step - loss: 0.0911 - accuracy: 0.9715\n",
            "Epoch 3/3\n",
            "1875/1875 [==============================] - 11s 6ms/step - loss: 0.0604 - accuracy: 0.9808\n",
            "Functional Model] loss: 0.08114, acc: 0.97610\n"
          ]
        }
      ]
    },
    {
      "cell_type": "markdown",
      "source": [
        "### 7-2. 모델 서브클래싱(Model Subclassing)\n",
        "- 텐서플로 케라스 : Model 클래스 제공, 이를 기반으로 딥러닝 모델 구현\n",
        "> 이 클래스를 직접 상속박아 사용자가 직접 서브클래스로 딥러닝 모델 생성 가능"
      ],
      "metadata": {
        "id": "CgAWm4UmJxzx"
      }
    },
    {
      "cell_type": "code",
      "source": [
        "class MyModel(tf.keras.Model):\n",
        "  def __init__(self):\n",
        "    super(MyModel, self).__init__()\n",
        "    #초기값 설정\n",
        "    self.flatten=tf.keras.layers.Flatten()\n",
        "    self.dense1=tf.keras.layers.Dense(256, activation='relu')\n",
        "    self.dense2=tf.keras.layers.Dense(64, activation='relu')\n",
        "    self.dense3=tf.keras.layers.Dense(10, activation='softmax')\n",
        "\n",
        "  #method overiding\n",
        "  #훈련용 함수 정의\n",
        "  #x는 input\n",
        "  def call(self, x):\n",
        "    x=self.flatten(x)\n",
        "    x=self.dense1(x)\n",
        "    x=self.dense2(x)\n",
        "    x=self.dense3(x)\n",
        "    return x"
      ],
      "metadata": {
        "id": "yvAW0iCfJ4a5"
      },
      "execution_count": 23,
      "outputs": []
    },
    {
      "cell_type": "code",
      "source": [
        "#모델 생성\n",
        "mymodel=MyModel()\n",
        "\n",
        "#모델의 이름 설정\n",
        "mymodel._name='subclass_model'\n",
        "\n",
        "#모델 input 정의\n",
        "mymodel(tf.keras.layers.Input(shape=(28, 28)))\n",
        "\n",
        "#모델 요약\n",
        "mymodel.summary()"
      ],
      "metadata": {
        "colab": {
          "base_uri": "https://localhost:8080/"
        },
        "id": "0GesCoXEg6DG",
        "outputId": "1aa8035b-5332-4a57-f467-8a5bf05812a0"
      },
      "execution_count": 24,
      "outputs": [
        {
          "output_type": "stream",
          "name": "stdout",
          "text": [
            "Model: \"subclass_model\"\n",
            "_________________________________________________________________\n",
            " Layer (type)                Output Shape              Param #   \n",
            "=================================================================\n",
            " flatten_3 (Flatten)         multiple                  0         \n",
            "                                                                 \n",
            " dense_15 (Dense)            multiple                  200960    \n",
            "                                                                 \n",
            " dense_16 (Dense)            multiple                  16448     \n",
            "                                                                 \n",
            " dense_17 (Dense)            multiple                  650       \n",
            "                                                                 \n",
            "=================================================================\n",
            "Total params: 218058 (851.79 KB)\n",
            "Trainable params: 218058 (851.79 KB)\n",
            "Non-trainable params: 0 (0.00 Byte)\n",
            "_________________________________________________________________\n"
          ]
        }
      ]
    },
    {
      "cell_type": "code",
      "source": [
        "#컴파일\n",
        "mymodel.compile(optimizer='adam', loss='sparse_categorical_crossentropy', metrics=['accuracy'])\n",
        "\n",
        "#훈련\n",
        "mymodel.fit(x_train, y_train, epochs=3)\n",
        "\n",
        "#검증\n",
        "loss, acc=mymodel.evaluate(x_test, y_test, verbose=0)\n",
        "print(f'Subclassing Model] loss: {loss:.5f}, acc: {acc:.5f}')"
      ],
      "metadata": {
        "colab": {
          "base_uri": "https://localhost:8080/"
        },
        "id": "-tVR4GWZg5_t",
        "outputId": "e9d45319-da05-4f37-c99a-7fe55b530054"
      },
      "execution_count": 25,
      "outputs": [
        {
          "output_type": "stream",
          "name": "stdout",
          "text": [
            "Epoch 1/3\n",
            "1875/1875 [==============================] - 10s 5ms/step - loss: 0.2150 - accuracy: 0.9366\n",
            "Epoch 2/3\n",
            "1875/1875 [==============================] - 11s 6ms/step - loss: 0.0886 - accuracy: 0.9722\n",
            "Epoch 3/3\n",
            "1875/1875 [==============================] - 11s 6ms/step - loss: 0.0597 - accuracy: 0.9810\n",
            "Subclassing Model] loss: 0.08246, acc: 0.97530\n"
          ]
        }
      ]
    },
    {
      "cell_type": "markdown",
      "source": [
        "### 7-3. 서브클래싱 모델 파라미터를 활용한 생성"
      ],
      "metadata": {
        "id": "84wF-dwzJ4uQ"
      }
    },
    {
      "cell_type": "code",
      "source": [
        "class MyModel(tf.keras.Model):\n",
        "\n",
        "  # 생성자 파라미터 추가\n",
        "  def __init__(self, units, num_classes):\n",
        "    super(MyModel, self).__init__()\n",
        "    # 초기값 설정\n",
        "    self.flatten=tf.keras.layers.Flatten()\n",
        "    self.dense1=tf.keras.layers.Dense(units, activation='relu')\n",
        "    self.dense2=tf.keras.layers.Dense(units/4, activation='relu')\n",
        "    self.dense3=tf.keras.layers.Dense(num_classes, activation='softmax')\n",
        "\n",
        "  # class overiding\n",
        "  # 훈련용 함수 정의\n",
        "  # x는 input\n",
        "  def call(self, x):\n",
        "    x=self.flatten(x)\n",
        "    x=self.dense1(x)\n",
        "    x=self.dense2(x)\n",
        "    x=self.dense3(x)\n",
        "    return x"
      ],
      "metadata": {
        "id": "09SnXGztg580"
      },
      "execution_count": 26,
      "outputs": []
    },
    {
      "cell_type": "code",
      "source": [
        "# 모델 생성\n",
        "mymodel=MyModel(256, 10)\n",
        "\n",
        "# 모델 input 정의\n",
        "mymodel(tf.keras.layers.Input(shape=(28, 28)))\n",
        "\n",
        "# 모델 요약\n",
        "mymodel.summary()"
      ],
      "metadata": {
        "colab": {
          "base_uri": "https://localhost:8080/"
        },
        "id": "ws3sHwr2hBAH",
        "outputId": "2d83ad5b-6531-4ad0-e425-545125960833"
      },
      "execution_count": 27,
      "outputs": [
        {
          "output_type": "stream",
          "name": "stdout",
          "text": [
            "Model: \"my_model_1\"\n",
            "_________________________________________________________________\n",
            " Layer (type)                Output Shape              Param #   \n",
            "=================================================================\n",
            " flatten_4 (Flatten)         multiple                  0         \n",
            "                                                                 \n",
            " dense_18 (Dense)            multiple                  200960    \n",
            "                                                                 \n",
            " dense_19 (Dense)            multiple                  16448     \n",
            "                                                                 \n",
            " dense_20 (Dense)            multiple                  650       \n",
            "                                                                 \n",
            "=================================================================\n",
            "Total params: 218058 (851.79 KB)\n",
            "Trainable params: 218058 (851.79 KB)\n",
            "Non-trainable params: 0 (0.00 Byte)\n",
            "_________________________________________________________________\n"
          ]
        }
      ]
    },
    {
      "cell_type": "code",
      "source": [
        "# 컴파일\n",
        "mymodel.compile(optimizer='adam', loss='sparse_categorical_crossentropy', metrics=['accuracy'])\n",
        "\n",
        "# 훈련\n",
        "mymodel.fit(x_train, y_train, epochs=3)\n",
        "\n",
        "# 검증\n",
        "loss, acc=mymodel.evaluate(x_test, y_test, verbose=0)\n",
        "print(f'Subclassing Model w.parameters] loss: {loss:.5f}, acc: {acc:.5f}')"
      ],
      "metadata": {
        "colab": {
          "base_uri": "https://localhost:8080/"
        },
        "id": "byQVJ4v6hA8t",
        "outputId": "59a55718-296b-485a-ffb1-8284e738f27c"
      },
      "execution_count": 28,
      "outputs": [
        {
          "output_type": "stream",
          "name": "stdout",
          "text": [
            "Epoch 1/3\n",
            "1875/1875 [==============================] - 11s 6ms/step - loss: 0.2191 - accuracy: 0.9351\n",
            "Epoch 2/3\n",
            "1875/1875 [==============================] - 10s 5ms/step - loss: 0.0893 - accuracy: 0.9733\n",
            "Epoch 3/3\n",
            "1875/1875 [==============================] - 11s 6ms/step - loss: 0.0607 - accuracy: 0.9806\n",
            "Subclassing Model w.parameters] loss: 0.08376, acc: 0.97460\n"
          ]
        }
      ]
    }
  ]
}