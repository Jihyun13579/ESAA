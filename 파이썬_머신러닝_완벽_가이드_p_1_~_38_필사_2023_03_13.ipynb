{
  "nbformat": 4,
  "nbformat_minor": 0,
  "metadata": {
    "colab": {
      "provenance": [],
      "authorship_tag": "ABX9TyOemUKiZ+xdXMAOMGVn4Vh6",
      "include_colab_link": true
    },
    "kernelspec": {
      "name": "python3",
      "display_name": "Python 3"
    },
    "language_info": {
      "name": "python"
    }
  },
  "cells": [
    {
      "cell_type": "markdown",
      "metadata": {
        "id": "view-in-github",
        "colab_type": "text"
      },
      "source": [
        "<a href=\"https://colab.research.google.com/github/Jihyun13579/ESAA/blob/main/%ED%8C%8C%EC%9D%B4%EC%8D%AC_%EB%A8%B8%EC%8B%A0%EB%9F%AC%EB%8B%9D_%EC%99%84%EB%B2%BD_%EA%B0%80%EC%9D%B4%EB%93%9C_p_1_~_38_%ED%95%84%EC%82%AC_2023_03_13.ipynb\" target=\"_parent\"><img src=\"https://colab.research.google.com/assets/colab-badge.svg\" alt=\"Open In Colab\"/></a>"
      ]
    },
    {
      "cell_type": "markdown",
      "source": [
        "**파이썬 머신러닝 완벽 가이드 p. 1 ~ 38 필사**\n",
        "\n",
        "2129014 박지현 "
      ],
      "metadata": {
        "id": "IgD_FKF8LIWK"
      }
    },
    {
      "cell_type": "markdown",
      "source": [
        "1. 머신러닝의 개념\n",
        "- 일반적으로, '애플리게이션을 수정하지 않고도 데이터를 기반으로 패턴을 학습하고 결과를 예측하는 알고리즘 기법' > 현재 기존 소프트웨어 코드에서 한계를 맞이했던 문제들을 머신러닝을 통해 해결하고 있음\n",
        "\n",
        "- 업무적으로 복잡한 조건, 규칙들이 다양하게 결합, 시시각각으로 변화하여 관통하는 일정한 패턴 찻기 어려운 경우 > 머신러닝 사용 \n",
        "ex. 금융거래 스팸메일 분류, 데이터마이닝, 영상 인식, 음성 인식, 자연어 처리\n",
        "\n",
        "- 머신러닝: 데이터를 기반으로 숨겨진 패턴을 인지해 해결\n",
        "머신러닝 알고리즘: 데이터를 기반으로 통계적인 신뢰도를 강화하고 예측 오류를 최소화하기 위한 다양한 수학적 기법 적용을 통해 데이터 내의 패턴을 스스로 인지하고 신뢰도 있는 예측 결과를 도출함\n",
        "> 데이터 분석 영역에 새로운 혁신 ' 머신러닝 기반의 예측 분석' 가져옴\n",
        "\n"
      ],
      "metadata": {
        "id": "NIOaFWdJLY9a"
      }
    },
    {
      "cell_type": "code",
      "source": [
        "import numpy\n",
        "import pandas\n",
        "import matplotlib.pyplot\n",
        "import seaborn\n",
        "from sklearn.model_selection import train_test_split"
      ],
      "metadata": {
        "id": "PqeZekbHuvnD"
      },
      "execution_count": 1,
      "outputs": []
    },
    {
      "cell_type": "markdown",
      "source": [
        "**3.넘파이**\n",
        "\n",
        "Numerical Python (=NumPy, 넘파이) : 파이썬에서 선형대수 기반의 프로그램을 쉽게 만들 수 있도록 지원하는 대표적인 패키지\n",
        "\n",
        "- 루프를 사용하지 않고 대량 데이터의 배열 연산 가능하게 함 > 대량 데이터 기반의 과학/공학 프로그램, 파이썬 기반 패키지가 의존하고 있음\n",
        "\n",
        "- C/C++ 등 저수준 언어 기반 호환 API 제공 > 수행성능이 좋은 C/C++ 등 타프로그램과 데이터 주고받거나 API 호출해 쉽게 통합할 수 있는 기능 제공\n",
        "\n",
        "- 다양한 데이터 핸들링 기능 제공, but 판다스(파이쎤의 대표적인 데이터 처리 패키지)의 편리성에는 미치지 못함 >교재에서는 판다스의 데이터프레임을 주로 이용할 것임\n",
        "\n",
        "- 넘파이를 이해하는 것은 파이썬 기반의 머신러닝에서 매우 중요함! \n",
        "< 많은 머신러닝 알고리즘이 넘파이 기반 / 입력 데이터와 출력 데이터가 넘파이 배열 타입이기 때문 / 다른 데이터 핸들링 패키지 이해하는 데도 도움\n",
        "\n",
        "\n"
      ],
      "metadata": {
        "id": "AjmiUa1fNtEi"
      }
    },
    {
      "cell_type": "markdown",
      "source": [
        "**넘파이 ndarray 개요\n",
        "1) 넘파이 모듈 임포트 (as np로 약어로 모듈 표현)**\n",
        "\n",
        "-넘파이 기반 데이터 타입: ndarray > 넘파이에서 다차원 배열 쉽게 생성 & 다양한 연산 수행 가능"
      ],
      "metadata": {
        "id": "voH0ySE9PS-Q"
      }
    },
    {
      "cell_type": "code",
      "source": [
        "import numpy as np"
      ],
      "metadata": {
        "id": "I4BolLqELbKi"
      },
      "execution_count": 3,
      "outputs": []
    },
    {
      "cell_type": "markdown",
      "source": [
        "**2) np.array() 함수 (넘파이)**\n",
        "\n",
        "- 다양한 인자(파이썬의 리스트...) 입력받아서 ndarray로 변환하는 기능 수행\n",
        "\n",
        "- array()함수의 인자: 주로 파이썬의 리스트 객체 \n",
        "- [] 1차원 /  [[]] 2차원, 배열의 차원과 크기 쉽게 표현 가능\n",
        "-ndarray: tolist() 메서드를 이용해 리스트 자료형으로 변환 가능\n",
        "\n",
        "사용법: ndarray로 변환을 원하는 객체를 인자로 입력 > ndarray 반환\n",
        "\n",
        "\n",
        ">생성된 ndarray 배열의 shape 변수: ndarray의 크기 = 행과 열의 수를 튜플 형태로 가지고 있음 > ndarray의 차원 알 수 있음 \n",
        "\n",
        "- 사용법: ndarray.shape > 결과: ( , ) 의 튜플 형태\n",
        "-1차원 데이터일 시, (데이터의 수, )\n",
        "-2차원 데이터일 시, 행(로우)의 수, 열(칼럼)의 수) <로우와 칼럼으로 이루어짐\n",
        "\n",
        "- ndarray의 차원과 크기를 튜플 형태로 나타냄\n",
        "\n",
        "-명확히 차원이 차수를 요구하는 입출력, 변환의 경우 차원의 차수가 달라 오류 발생 빈번 > 차원의 차수를 변환하는 방법 : reshape()함수\n"
      ],
      "metadata": {
        "id": "Fj7uEoeSwYQf"
      }
    },
    {
      "cell_type": "code",
      "execution_count": 6,
      "metadata": {
        "id": "pxJKpNu1LCjp",
        "colab": {
          "base_uri": "https://localhost:8080/"
        },
        "outputId": "e4127e62-a014-40ba-a728-e0efa0fd6d58"
      },
      "outputs": [
        {
          "output_type": "stream",
          "name": "stdout",
          "text": [
            "array1 type: <class 'numpy.ndarray'>\n",
            "array1 array 형태: (3,)\n",
            "array2 type: <class 'numpy.ndarray'>\n",
            "array2 array 형태: (2, 3)\n",
            "array3 type: <class 'numpy.ndarray'>\n",
            "array3 array 형태: (1, 3)\n"
          ]
        }
      ],
      "source": [
        "array1 = np.array([1,2,3])\n",
        "print('array1 type:', type(array1))\n",
        "print('array1 array 형태:', array1.shape)\n",
        "\n",
        "array2 = np.array([[1,2,3],\n",
        "                  [2,3,4]])\n",
        "print('array2 type:', type(array2))\n",
        "print('array2 array 형태:', array2.shape)\n",
        "\n",
        "array3 = np.array([[1,2,3]])\n",
        "print('array3 type:', type(array3))\n",
        "print('array3 array 형태:', array3.shape)"
      ]
    },
    {
      "cell_type": "markdown",
      "source": [
        ">ndarray.ndim\n",
        "\n",
        ": 각 array의 차원 확인 가능"
      ],
      "metadata": {
        "id": "q8qCIRYr2gGK"
      }
    },
    {
      "cell_type": "code",
      "source": [
        "#.format을 이용해 문자열 출력\n",
        "print('array1: {:0}차원, array2: {:1}차원, array3: {:2}차원'\n",
        ".format(array1.ndim, array2.ndim, array3.ndim))"
      ],
      "metadata": {
        "colab": {
          "base_uri": "https://localhost:8080/"
        },
        "id": "S-3uDWvy2u0H",
        "outputId": "a385480f-6222-4863-8b65-2b1b5dd6b648"
      },
      "execution_count": 8,
      "outputs": [
        {
          "output_type": "stream",
          "name": "stdout",
          "text": [
            "array1: 1차원, array2: 2차원, array3:  2차원\n"
          ]
        }
      ]
    },
    {
      "cell_type": "markdown",
      "source": [
        "**3) ndarray의 데이터타입**\n",
        "\n",
        "- ndarray내 데이터값 : 숫자형(int형, unsigned int형, float형, complex 타입), 문자열 값, 불 값 등 모두 가은\n",
        "\n",
        "> 연산 특성상 '같은 데이터 타입'만 가능 > dtype 속성으로 확인 가능\n",
        "- 다른 데이터 유형이 섞여 있는 리스트를 ndarray로 변경 시, 데이터 크기가 더 큰 데이터 타입으로 형 변환 일괄 적용\n",
        "- ex. 한 개의 ndarray 객체에 int와 float 함께 있을 수 X\n"
      ],
      "metadata": {
        "id": "Cn3P4JiV38iy"
      }
    },
    {
      "cell_type": "code",
      "source": [
        "#리스트 자료형 list1의 값: integer 숫자 1,2,3\n",
        "list1 = [1,2,3]\n",
        "print(type(list1))\n",
        "array1 = np.array(list1)\n",
        "print(type(array1))\n",
        "print(array1, array1.dtype)"
      ],
      "metadata": {
        "colab": {
          "base_uri": "https://localhost:8080/"
        },
        "id": "g2foT-4K4-7l",
        "outputId": "08f25495-34e0-43b4-8afc-ab3fe7db5625"
      },
      "execution_count": 9,
      "outputs": [
        {
          "output_type": "stream",
          "name": "stdout",
          "text": [
            "<class 'list'>\n",
            "<class 'numpy.ndarray'>\n",
            "[1 2 3] int64\n"
          ]
        }
      ]
    },
    {
      "cell_type": "code",
      "source": [
        "# int형 값과 문자열이 섞여있는 리스트\n",
        "list2 = [1,2, 'test']\n",
        "array2 = np.array(list2)\n",
        "print(array2, array2.dtype)\n",
        "#결과: 숫자형 값 1,2가 모두 문자열 값(=유니코드 문자열 값)으로 변환됨\n",
        "\n",
        "#int형 값과 float형이 섞여 있는 리스트\n",
        "list3 = [1,2,3.0]\n",
        "array3 = np.array(list3)\n",
        "print(array3, array3.dtype)"
      ],
      "metadata": {
        "colab": {
          "base_uri": "https://localhost:8080/"
        },
        "id": "e7tPpx5Z-Qc9",
        "outputId": "1efbc0dd-e2cb-415b-deb1-daba4fef89cf"
      },
      "execution_count": 10,
      "outputs": [
        {
          "output_type": "stream",
          "name": "stdout",
          "text": [
            "['1' '2' 'test'] <U21\n",
            "[1. 2. 3.] float64\n"
          ]
        }
      ]
    },
    {
      "cell_type": "markdown",
      "source": [
        "> astype 메서드: ndarray 내 데이터값의 타입 변경 가능\n",
        "\n",
        "- 사용법: astype(인자로 원하는 타입을 문자열로 지정)\n",
        "- 대용량 데이터를 ndarray로 만들 때, 메모리를 절약해야 할 경우 보통 이용됨 >수행곡도 느려지거나 메모리 부족으로 오류 발생 방지"
      ],
      "metadata": {
        "id": "_u7UA8nj9uvY"
      }
    },
    {
      "cell_type": "code",
      "source": [
        "#int형 데이터를 float64형 데이터로 변환\n",
        "array_int = np.array([1,2,3])\n",
        "array_float = array_int.astype('float64')\n",
        "print(array_float, array_float.dtype)\n",
        "\n",
        "#그 float64를 데이터를 int32형 데이터로 변환\n",
        "array_int1 = array_float.astype('int32')\n",
        "print(array_int1, array_int1.dtype)\n",
        "\n",
        "#float를 int형으로 변경할 시, 소수점 이하는 모두 없어짐\n",
        "array_float1 = np.array([1.1, 2.1, 3.1])\n",
        "array_int2 = array_float1.astype('int32')\n",
        "print(array_int2, array_int2.dtype)"
      ],
      "metadata": {
        "colab": {
          "base_uri": "https://localhost:8080/"
        },
        "id": "qFIDGIfHAIWx",
        "outputId": "16a93f8a-4ebf-4dab-db01-cf08b82d8768"
      },
      "execution_count": 11,
      "outputs": [
        {
          "output_type": "stream",
          "name": "stdout",
          "text": [
            "[1. 2. 3.] float64\n",
            "[1 2 3] int32\n",
            "[1 2 3] int32\n"
          ]
        }
      ]
    },
    {
      "cell_type": "markdown",
      "source": [
        "**4)ndarray를 편리하게 생성하기-arange,zeros,ones**\n",
        "\n",
        "- 특정 크기나 차원을가진 ndarray를 연속값 or 0 or 1로 초기화해 쉽게 생성해야 할 경우(ex.테스트용으로 데이터 생성, 대규모 데이터 일괄 초기화) \n",
        "\n",
        ": arange() / zeros(), ones()를 이용해 쉽게 ndarray 생성 가능\n",
        "\n",
        "> arange()\n",
        "\n",
        "- 파이썬 표준 함수 range()와 유사한 기능 = array를 range()로 표현하는 것\n",
        "\n",
        "- '0'부터 '함수 인자 값 -1'까지의 값을 순차적으로 ndarray의 데이터값으로 변환\n",
        "- 디폴트 함수 인자: stop 값 / start 값도 부여해 0이 아닌 다른 값부터 시작한 연속 값도 부여 가능"
      ],
      "metadata": {
        "id": "0jNpsOv3BF97"
      }
    },
    {
      "cell_type": "code",
      "source": [
        "sequence_array = np.arange(10)\n",
        "print(sequence_array)\n",
        "print(sequence_array.dtype, sequence_array.shape)\n",
        "#결과: 0부터 stop 값인 10에서 -1을 더한 값인 9까지의 연속 숫자 값으로 구성된 1차원 ndarray"
      ],
      "metadata": {
        "colab": {
          "base_uri": "https://localhost:8080/"
        },
        "id": "rtDfrKfVCOSO",
        "outputId": "6372cce7-574c-44f5-926b-43ca4756b6e8"
      },
      "execution_count": 13,
      "outputs": [
        {
          "output_type": "stream",
          "name": "stdout",
          "text": [
            "[0 1 2 3 4 5 6 7 8 9]\n",
            "int64 (10,)\n"
          ]
        }
      ]
    },
    {
      "cell_type": "markdown",
      "source": [
        "> zeros()\n",
        "\n",
        "- zeros(튜플 형태의 shape값) > 모든 값을 0으로 채운 해당 shape을 가진 ndarray 반환\n",
        "- dtype 지정 X 시, default로 float64형의 데이터로 ndarray를 채움 > 옵션 변경 시: zeros(튜플 형태의 shape값, dtype = ' ')"
      ],
      "metadata": {
        "id": "x3qNSHFcC5kU"
      }
    },
    {
      "cell_type": "markdown",
      "source": [
        "> ones()\n",
        "\n",
        "- ones(튜플 형태의 shape값) > 모든 값을 1으로 채운 해당 shape을 가진 ndarray 반환\n",
        "\n",
        "- dtype 지정 X 시, default로 float64형의 데이터로 ndarray를 채움 > 옵션 변경 시: ones(튜플 형태의 shape값, dtype = ' ')"
      ],
      "metadata": {
        "id": "0Hn8yNz0C_ot"
      }
    },
    {
      "cell_type": "code",
      "source": [
        "zero_array = np.zeros((3,2), dtype = 'int32')\n",
        "print(zero_array)\n",
        "print(zero_array.dtype, zero_array.shape)\n",
        "\n",
        "one_array = np.zeros((3,2))\n",
        "print(one_array)\n",
        "print(one_array.dtype, one_array.shape)"
      ],
      "metadata": {
        "colab": {
          "base_uri": "https://localhost:8080/"
        },
        "id": "GKQHr6HgC8tx",
        "outputId": "ec7dc120-1871-475b-c5be-91a528c51957"
      },
      "execution_count": 14,
      "outputs": [
        {
          "output_type": "stream",
          "name": "stdout",
          "text": [
            "[[0 0]\n",
            " [0 0]\n",
            " [0 0]]\n",
            "int32 (3, 2)\n",
            "[[0. 0.]\n",
            " [0. 0.]\n",
            " [0. 0.]]\n",
            "float64 (3, 2)\n"
          ]
        }
      ]
    },
    {
      "cell_type": "markdown",
      "source": [
        "**5)ndarray의 차원과 크기를 변경하는 reshape()**\n",
        "\n",
        "- reshape() 메서드: ndarray를 특정 차원 및 크기로 변환\n",
        "\n",
        "- 사용법: reshape(변환을 원하는 크기)\n",
        "\n",
        "- 지정된 사이즈로 변경이 불가능할 시, 오류 발생\n",
        "\n",
        "ex. (10,) 데이터 > (4,3) Shape 형태로 변경 불가"
      ],
      "metadata": {
        "id": "wBt2MMtcC9KP"
      }
    },
    {
      "cell_type": "code",
      "source": [
        "array1 = np.arange(10)\n",
        "print('array1:\\n', array1)\n",
        "\n",
        "array2 = array1.reshape(2,5)\n",
        "print('array2:\\n', array2)\n",
        "\n",
        "array3 = array1.reshape(5,2)\n",
        "print('array3:\\n', array3)"
      ],
      "metadata": {
        "colab": {
          "base_uri": "https://localhost:8080/"
        },
        "id": "bKlVTvTiTZPM",
        "outputId": "30f61fc7-e82b-4e93-baca-eba3404847cd"
      },
      "execution_count": 17,
      "outputs": [
        {
          "output_type": "stream",
          "name": "stdout",
          "text": [
            "array1:\n",
            " [0 1 2 3 4 5 6 7 8 9]\n",
            "array2:\n",
            " [[0 1 2 3 4]\n",
            " [5 6 7 8 9]]\n",
            "array3:\n",
            " [[0 1]\n",
            " [2 3]\n",
            " [4 5]\n",
            " [6 7]\n",
            " [8 9]]\n"
          ]
        }
      ]
    },
    {
      "cell_type": "code",
      "source": [
        "array1.reshape(4,3)\n",
        "#결과: 오류 발생!"
      ],
      "metadata": {
        "colab": {
          "base_uri": "https://localhost:8080/",
          "height": 193
        },
        "id": "qt58eixPUbsN",
        "outputId": "cf4daeb7-664b-4d1c-b1ae-a6a8e2f1e346"
      },
      "execution_count": 18,
      "outputs": [
        {
          "output_type": "error",
          "ename": "ValueError",
          "evalue": "ignored",
          "traceback": [
            "\u001b[0;31m---------------------------------------------------------------------------\u001b[0m",
            "\u001b[0;31mValueError\u001b[0m                                Traceback (most recent call last)",
            "\u001b[0;32m<ipython-input-18-192baf73872f>\u001b[0m in \u001b[0;36m<module>\u001b[0;34m\u001b[0m\n\u001b[0;32m----> 1\u001b[0;31m \u001b[0marray1\u001b[0m\u001b[0;34m.\u001b[0m\u001b[0mreshape\u001b[0m\u001b[0;34m(\u001b[0m\u001b[0;36m4\u001b[0m\u001b[0;34m,\u001b[0m\u001b[0;36m3\u001b[0m\u001b[0;34m)\u001b[0m\u001b[0;34m\u001b[0m\u001b[0;34m\u001b[0m\u001b[0m\n\u001b[0m\u001b[1;32m      2\u001b[0m \u001b[0;31m#결과: 오류 발생!\u001b[0m\u001b[0;34m\u001b[0m\u001b[0;34m\u001b[0m\u001b[0m\n",
            "\u001b[0;31mValueError\u001b[0m: cannot reshape array of size 10 into shape (4,3)"
          ]
        }
      ]
    },
    {
      "cell_type": "markdown",
      "source": [
        "> reshape() 실전에서 효율적으로 사용하는 경우: 인자로 -1 적용하는 경우\n",
        "\n",
        "- -1 인자로 사용 시 : 원래 ndarray와 호환되는 새로운 shape으로 변환해줌\n",
        "- -1을 사용하더라도 호환될 수 없는 형태는 변환할 수 없음"
      ],
      "metadata": {
        "id": "Uvnaak__UiLm"
      }
    },
    {
      "cell_type": "code",
      "source": [
        "#array1 : 0~9까지의 데이터를 가지고 있는 1차원 ndarray\n",
        "array1 = np.arange(10)\n",
        "print(array1)\n",
        "#array2 : 로우 인자가 -1. 칼럼 인자가 5 \n",
        "#array1과 호환될 수 있는 2차원 ndarray로 변환하되, \n",
        "#고정된 5개의 칼럼에 맞는 로우를 자동으로 생성해 변환하라. = 2*5\n",
        "array2 = array1.reshape(-1,5)\n",
        "print('array2 shape:', array2.shape)\n",
        "#array1과 호환될 수 있는 2차원 ndarray로 변환하되, \n",
        "#고정된 5개의 로우에 맞는 칼럼을을 자동으로 생성해 변환하라. = 5*2\n",
        "array3 = array1.reshape(5,-1)\n",
        "print('array3 shape:', array3.shape)"
      ],
      "metadata": {
        "colab": {
          "base_uri": "https://localhost:8080/"
        },
        "id": "AcyUhCCBUycE",
        "outputId": "921d2588-8200-4b4e-a847-4655052e0d0b"
      },
      "execution_count": 20,
      "outputs": [
        {
          "output_type": "stream",
          "name": "stdout",
          "text": [
            "[0 1 2 3 4 5 6 7 8 9]\n",
            "array2 shape: (2, 5)\n",
            "array3 shape: (5, 2)\n"
          ]
        }
      ]
    },
    {
      "cell_type": "code",
      "source": [
        "array1 = np.arange(10)\n",
        "array4 = array.reshape(-1,4)\n",
        "#오류 발생! <10개의 1차원 데이터를 고정된 4개의 칼럼을 가진 로우로 변경 불가하기 때문"
      ],
      "metadata": {
        "colab": {
          "base_uri": "https://localhost:8080/",
          "height": 211
        },
        "id": "X7CxjOoyV_Uk",
        "outputId": "8e0e0103-6a82-45a6-b439-c4eb3281dc11"
      },
      "execution_count": 21,
      "outputs": [
        {
          "output_type": "error",
          "ename": "NameError",
          "evalue": "ignored",
          "traceback": [
            "\u001b[0;31m---------------------------------------------------------------------------\u001b[0m",
            "\u001b[0;31mNameError\u001b[0m                                 Traceback (most recent call last)",
            "\u001b[0;32m<ipython-input-21-d99a2dccdccd>\u001b[0m in \u001b[0;36m<module>\u001b[0;34m\u001b[0m\n\u001b[1;32m      1\u001b[0m \u001b[0marray1\u001b[0m \u001b[0;34m=\u001b[0m \u001b[0mnp\u001b[0m\u001b[0;34m.\u001b[0m\u001b[0marange\u001b[0m\u001b[0;34m(\u001b[0m\u001b[0;36m10\u001b[0m\u001b[0;34m)\u001b[0m\u001b[0;34m\u001b[0m\u001b[0;34m\u001b[0m\u001b[0m\n\u001b[0;32m----> 2\u001b[0;31m \u001b[0marray4\u001b[0m \u001b[0;34m=\u001b[0m \u001b[0marray\u001b[0m\u001b[0;34m.\u001b[0m\u001b[0mreshape\u001b[0m\u001b[0;34m(\u001b[0m\u001b[0;34m-\u001b[0m\u001b[0;36m1\u001b[0m\u001b[0;34m,\u001b[0m\u001b[0;36m4\u001b[0m\u001b[0;34m)\u001b[0m\u001b[0;34m\u001b[0m\u001b[0;34m\u001b[0m\u001b[0m\n\u001b[0m\u001b[1;32m      3\u001b[0m \u001b[0;31m#오류 발생! <10개의 1차원 데이터를 고정된 4개의 칼럼을 가진 로우로 변경 불가하기 때문\u001b[0m\u001b[0;34m\u001b[0m\u001b[0;34m\u001b[0m\u001b[0m\n",
            "\u001b[0;31mNameError\u001b[0m: name 'array' is not defined"
          ]
        }
      ]
    },
    {
      "cell_type": "markdown",
      "source": [
        "- -1인자: reshape(-1,1) 형태로 자주 사용됨\n",
        "\n",
        "> reshape(-1,1)\n",
        "- 원본 ndarray가 어떤 형태더라도 '2차원'이고, 여러 개의 로우를 가지되 반드시 '1개의 칼럼을 가진 ndarray'로 변환됨을 보장함\n",
        "- 여러 개의 넘파이 ndarray를 stack, concat 등을 결합할 때 각각의 ndarray 형태 통일할 때 사용됨\n"
      ],
      "metadata": {
        "id": "SL1PTafqWRrN"
      }
    },
    {
      "cell_type": "code",
      "source": [
        "array1 = np.arange(8)\n",
        "array3d = array1.reshape((2,2,2))\n",
        "print('array3d:\\n', array3d.tolist())\n",
        "#ndarray: tolist() 메서드를 이용해 리스트 자료형으로 변환 가능\n",
        "\n",
        "#reshape(-1.1)을 이용해 3차원을 2차원으로 변경하는 예제\n",
        "array5 = array3d.reshape(-1,1)\n",
        "print('array5:\\n', array5.shape)\n",
        "print('array5 shape:', array5.shape)\n",
        "\n",
        "#reshape(-1.1)을 이용해 1차원을 2차원으로 변경하는 예제\n",
        "array6 = array1.reshape(-1,1)\n",
        "print('array6:\\n', array6.tolist())\n",
        "print('array6 shape:', array6.shape)"
      ],
      "metadata": {
        "colab": {
          "base_uri": "https://localhost:8080/"
        },
        "id": "6_ehTvUZWMWs",
        "outputId": "358968c8-7a37-4c55-922f-7bf92a7318ea"
      },
      "execution_count": 23,
      "outputs": [
        {
          "output_type": "stream",
          "name": "stdout",
          "text": [
            "array3d:\n",
            " [[[0, 1], [2, 3]], [[4, 5], [6, 7]]]\n",
            "array5:\n",
            " (8, 1)\n",
            "array5 shape: (8, 1)\n",
            "array6:\n",
            " [[0], [1], [2], [3], [4], [5], [6], [7]]\n",
            "array6 shape: (8, 1)\n"
          ]
        }
      ]
    },
    {
      "cell_type": "markdown",
      "source": [
        "**6)넘파이의 ndarray의 데이터 세트 선택하기 - 인덱싱(Indexing)**\n",
        "\n",
        "인덱싱 : ndarray의 일부 데이터 세트나 특정 데이터만을 선택할 수 있도록 함\n",
        "\n",
        "> 1. 특정 데이터만 추출: 원하는 위치의 인덱스 값을 지정하면 해당 위치의 데이터가 반환\n",
        "\n",
        "> 2. 슬라이싱(Slicing) : 연속된 인덱스상의 ndarray를 추출하는 방식\n",
        "- 사용법: '시작 인덱스:종료 인덱스' > 시작 인덱스~종료 인덱스-1 위치에 있는 데이터의 ndarray 반환\n",
        "- ex. 1:5 > 1과 4까지에 해당하는 ndarray 반환환\n",
        "\n",
        "> 3. 팬시 인덱싱(Fancy Indexing) : 일정한 인덱싱 집합을 리스트 또는 ndarray 형태로 지정해 해당 위치에 있는 데이터의 ndarray를 반환\n",
        "\n",
        "> 4. 불린 인덱싱(Boolean Indexing): 특정 조건에 해당하는지 여부인 True/False 값 인덱싱 집합을 기반으로 True에 해당하는 인덱스 위치에 있는 데이터의 ndarray만 반환"
      ],
      "metadata": {
        "id": "QzCjsX56YZlP"
      }
    },
    {
      "cell_type": "markdown",
      "source": [
        "- 단일 값 추출\n",
        "> 방법: [ndarray 객체에 해당하는 위치의 인덱스 값]"
      ],
      "metadata": {
        "id": "hB_tOqWEZ4kf"
      }
    },
    {
      "cell_type": "code",
      "source": [
        "# 1부터 9까지의 1차원 ndarray 생성\n",
        "array1 = np.arange(start=1, stop=10)\n",
        "print('array1:', array1)\n",
        "# index는 0부터 시작하므로 array[2]는 3번째 index 위치의 데이터값을 의미\n",
        "value = array1[2]\n",
        "# array1[2] : ndarray 내의 데이터값 (ndarray 타입 X)\n",
        "print('value:', value)\n",
        "print(type(value))"
      ],
      "metadata": {
        "colab": {
          "base_uri": "https://localhost:8080/"
        },
        "id": "IlJDJAOhYY02",
        "outputId": "a392f13d-1d9d-4882-e4c9-5ea69dc1a46c"
      },
      "execution_count": 25,
      "outputs": [
        {
          "output_type": "stream",
          "name": "stdout",
          "text": [
            "array1: [1 2 3 4 5 6 7 8 9]\n",
            "value: 3\n",
            "<class 'numpy.int64'>\n"
          ]
        }
      ]
    },
    {
      "cell_type": "markdown",
      "source": [
        "> - 인덱스 -1 : 맨 뒤의 데이터값 의미\n",
        "- 인덱스 -2 : 맨 뒤에서 두번째에 있는 데이터값"
      ],
      "metadata": {
        "id": "X3Me67DobJ0o"
      }
    },
    {
      "cell_type": "code",
      "source": [
        "print('맨 뒤의 값:', array1[-1], '맨 뒤에서 두 번째 값:', array1[-2])"
      ],
      "metadata": {
        "colab": {
          "base_uri": "https://localhost:8080/"
        },
        "id": "MsqIepNea8Qx",
        "outputId": "e9eca2db-e577-456d-d1bf-9ae4bfcc1cb2"
      },
      "execution_count": 26,
      "outputs": [
        {
          "output_type": "stream",
          "name": "stdout",
          "text": [
            "맨 뒤의 값: 9 맨 뒤에서 두 번째 값: 8\n"
          ]
        }
      ]
    },
    {
      "cell_type": "markdown",
      "source": [
        "> - 단일 인덱스의 이용 방법 중 하나: ndarray 내의 데이터값 간단히 수정 가능"
      ],
      "metadata": {
        "id": "RAk80xZFbmQq"
      }
    },
    {
      "cell_type": "code",
      "source": [
        "array1[0] = 9\n",
        "array1[8] = 0\n",
        "print('array1:', array1)"
      ],
      "metadata": {
        "colab": {
          "base_uri": "https://localhost:8080/"
        },
        "id": "KSq5aeW-btvO",
        "outputId": "53d884f7-5d72-4af3-f2c1-20ebb85f55ec"
      },
      "execution_count": 27,
      "outputs": [
        {
          "output_type": "stream",
          "name": "stdout",
          "text": [
            "array1: [9 2 3 4 5 6 7 8 0]\n"
          ]
        }
      ]
    },
    {
      "cell_type": "markdown",
      "source": [
        " - 다차원 ndarray에서 단일 값 추출\n",
        " > 방법: [로우 위치의 인덱스, 칼럼 위치의 인덱스]\n",
        " - axis 0 : 로우 방향 축\n",
        " - axis 1 : 칼럼 방향 축\n",
        " - (ndarray에서는 로우, 칼럼 형식으로 표현 X)\n",
        " - 인덱싱 : [axis 0=0, axis1=1] 이 맞음!!\n",
        " - 3차원 인덱싱 : [axis 0=0, axis1=1,axis2=2] (= 행(로우),열(칼럼),높이)\n",
        "  - 축 기반의 연산에서 axis 생략 시, axis 0 = 행을 의미\n"
      ],
      "metadata": {
        "id": "yUmQG2o2b95w"
      }
    },
    {
      "cell_type": "code",
      "source": [
        "# 앞의 예체 1차원 ndarray > 2차원의 3*3 ndarray로 변환\n",
        "array1d = np.arange(start=1, stop=10)\n",
        "array2d = array1d.reshape(3,3)\n",
        "print(array2d)\n",
        "#array2d 객체: 3개의 로우(행)이 0,1,2의 인덱스로, 3개의 칼럼(열)이 0,1,2의 인덱스로 되어 있음\n",
        "\n",
        "# [row, col] 이용해 2차원의 ndarray에서 데이터 추출\n",
        "print('(row=, col=0) index 가리키는 값:', array2d[0,0]) #첫번째 로우, 첫번째 칼럼\n",
        "print('(row=0, col=1) index 가리키는 값:', array2d[0,1]) #첫번째 로우, 두번째 칼럼\n",
        "print('(row=1, col=0) index 가리키는 값:', array2d[1,0]) #두번째 로우, 첫번째 칼럼\n",
        "print('(row=2, col=2) index 가리키는 값:', array2d[2,2]) #세번째 로우, 세번째 칼럼"
      ],
      "metadata": {
        "colab": {
          "base_uri": "https://localhost:8080/"
        },
        "id": "ofWkPmWxb9e9",
        "outputId": "af05b997-88f9-417b-fa13-7b9d8b1478f5"
      },
      "execution_count": 28,
      "outputs": [
        {
          "output_type": "stream",
          "name": "stdout",
          "text": [
            "[[1 2 3]\n",
            " [4 5 6]\n",
            " [7 8 9]]\n",
            "(row=, col=0) index 가리키는 값: 1\n",
            "(row=0, col=1) index 가리키는 값: 2\n",
            "(row=1, col=0) index 가리키는 값: 4\n",
            "(row=2, col=2) index 가리키는 값: 9\n"
          ]
        }
      ]
    },
    {
      "cell_type": "markdown",
      "source": [
        "- 슬라이싱\n",
        " - 데이터 세트: ndarray 타입\n",
        "\n",
        "> 방법: [시작 인덱스:종료 인덱스] > 시작 인덱스 ~ 종료 인덱스-1 위치에 있는 데이터의 ndarray를 반환\n",
        " - 슬라이싱 기호 ':' 사이 시작, 종료 인덱스 생략 가능\n",
        "  - ':' 기호 앞 시작 인덱스 생략 시, 맨 처음 인덱스 0으로 간주\n",
        "  - ':' 기호 뒤 종료 인덱스 생략 시, 맨 마지막 인덱스로 간주\n",
        "  ':' 기호 앞&뒤 시작&종료 인덱스 생략 시, 맨 처음&마지막 인덱스로 간주\n"
      ],
      "metadata": {
        "id": "c3_S85tlfrPy"
      }
    },
    {
      "cell_type": "code",
      "source": [
        "array1 = np.arange(start=1,stop=10)\n",
        "array3 = array1[0:3]\n",
        "print(array3)\n",
        "print(type(array3))"
      ],
      "metadata": {
        "colab": {
          "base_uri": "https://localhost:8080/"
        },
        "id": "YKzPPuprb5c2",
        "outputId": "14940a19-ad1d-44e8-e8d0-f06c57aed5a9"
      },
      "execution_count": 32,
      "outputs": [
        {
          "output_type": "stream",
          "name": "stdout",
          "text": [
            "[1 2 3]\n",
            "<class 'numpy.ndarray'>\n"
          ]
        }
      ]
    },
    {
      "cell_type": "code",
      "source": [
        "array1 = np.arange(start=1,stop=10)\n",
        "array4 = array1[:3]\n",
        "print(array4)\n",
        "\n",
        "array5 = array1[3:]\n",
        "print(array5)\n",
        "\n",
        "array6 = array1[:]\n",
        "print(array6)"
      ],
      "metadata": {
        "colab": {
          "base_uri": "https://localhost:8080/"
        },
        "id": "kMQR7WsihTpP",
        "outputId": "1dd68777-bac8-444b-bd8b-83dd27adcbcf"
      },
      "execution_count": 33,
      "outputs": [
        {
          "output_type": "stream",
          "name": "stdout",
          "text": [
            "[1 2 3]\n",
            "[4 5 6 7 8 9]\n",
            "[1 2 3 4 5 6 7 8 9]\n"
          ]
        }
      ]
    },
    {
      "cell_type": "markdown",
      "source": [
        "- \n",
        " - 2차원 ndarray : [로우 인덱스 지칭, 칼럼 인덱스 지칭] < 각 로우, 칼럼 인덱스 지칭하는 곳에 슬라이싱 혹은 단일 값 인덱스 적용 가능"
      ],
      "metadata": {
        "id": "Zfjx6Bjfiz2w"
      }
    },
    {
      "cell_type": "code",
      "source": [
        "array1d = np.arange(start=1,stop=10)\n",
        "array2d = array1.reshape(3,3)\n",
        "print('array2d:\\n', array2d)\n",
        "\n",
        "print('array2d[0:2, 0:2] \\n', array2d[0:2, 0:2])\n",
        "print('array2d[1:3, 0:3] \\n', array2d[1:3, 0:3])\n",
        "print('array2d[1:3, :] \\n', array2d[1:3, :])\n",
        "print('array2d[:, :] \\n', array2d[:, :])\n",
        "print('array2d[:2, 1:] \\n', array2d[:2, 1:])\n",
        "print('array2d[:2, 0] \\n', array2d[:2,0])"
      ],
      "metadata": {
        "colab": {
          "base_uri": "https://localhost:8080/"
        },
        "id": "0wKz-wjBjM1X",
        "outputId": "0d50895d-d3a7-45f9-9645-5e5be1853094"
      },
      "execution_count": 35,
      "outputs": [
        {
          "output_type": "stream",
          "name": "stdout",
          "text": [
            "array2d:\n",
            " [[1 2 3]\n",
            " [4 5 6]\n",
            " [7 8 9]]\n",
            "array2d[0:2, 0:2] \n",
            " [[1 2]\n",
            " [4 5]]\n",
            "array2d[1:3, 0:3] \n",
            " [[4 5 6]\n",
            " [7 8 9]]\n",
            "array2d[1:3, :] \n",
            " [[4 5 6]\n",
            " [7 8 9]]\n",
            "array2d[:, :] \n",
            " [[1 2 3]\n",
            " [4 5 6]\n",
            " [7 8 9]]\n",
            "array2d[:2, 1:] \n",
            " [[2 3]\n",
            " [5 6]]\n",
            "array2d[:2, 0] \n",
            " [1 4]\n"
          ]
        }
      ]
    },
    {
      "cell_type": "markdown",
      "source": [
        "- \n",
        " - 2차원 ndarray에서 뒤에 오는 인덱스 없애면, 1차원 ndarray 반환\n",
        " - 3차원 ndarray에서 뒤에 오는 인덱스 없애면, 2차원 ndarray 반환"
      ],
      "metadata": {
        "id": "1w5zL9N3mzr_"
      }
    },
    {
      "cell_type": "code",
      "source": [
        "print(array2d[0])\n",
        "#결과: 로우 축(axis 0)의 첫번째 로우 ndarray를 반환\n",
        "\n",
        "print(array2d[1])\n",
        "print('array2d[0] shape:', array2d[0].shape, 'array2d[1] shape:', array2d[1].shape)"
      ],
      "metadata": {
        "colab": {
          "base_uri": "https://localhost:8080/"
        },
        "id": "zJBwB8OUnFE0",
        "outputId": "0648039d-d0dc-4e92-a75b-27e2e0bf48fd"
      },
      "execution_count": 36,
      "outputs": [
        {
          "output_type": "stream",
          "name": "stdout",
          "text": [
            "[1 2 3]\n",
            "[4 5 6]\n",
            "array2d[0] shape: (3,) array2d[1] shape: (3,)\n"
          ]
        }
      ]
    },
    {
      "cell_type": "markdown",
      "source": [
        "- 팬시 인덱싱(Fancy Indexing)\n",
        " - 데이터 세트: ndarray 타입\n",
        " - 리스트나 ndarray로 인덱스 집합 지정 시, 해당 위치의 인덱스에 해당하는 ndarray 반환하는 인덱싱 방식"
      ],
      "metadata": {
        "id": "gWu5a0wMnsDb"
      }
    },
    {
      "cell_type": "code",
      "source": [
        "array1d = np.arange(start=1,stop=10)\n",
        "array2d = array1.reshape(3,3)\n",
        "\n",
        "#로우 축: 팬시 인덱싱 [0,1], 칼럼 축: 단일 값 인덱싱 2\n",
        "# > (row,col) 인덱스: (0,2), (1,2)로 적용됨 > [3,6] 반환\n",
        "array3 = array2d[[0,1],2]\n",
        "print('array2d[[0,1],2] =>', array3.tolist())\n",
        "\n",
        "# (row,col) 인덱스: ( (0,0),(0,1) ), ( (1,0),(1,1) )로 적용됨 > [[1,2],[4,5]] 반환\n",
        "array4 = array2d[[0,1], 0:2]\n",
        "print('array2d[[0,1], 0:2] =>', array4.tolist())\n",
        "\n",
        "# (row,col) 인덱스: ( (0,:),(1,:) )로 적용됨 > [[1,2,3],[4,5,6]] 반환\n",
        "array5 = array2d[[0,1]]\n",
        "print('array2d[[0,1]] =>', array5.tolist())"
      ],
      "metadata": {
        "colab": {
          "base_uri": "https://localhost:8080/"
        },
        "id": "vjq6bd-IoAFQ",
        "outputId": "7138c0ad-fcd5-4cdb-c09e-edb6de0b78db"
      },
      "execution_count": 38,
      "outputs": [
        {
          "output_type": "stream",
          "name": "stdout",
          "text": [
            "array2d[[0,1],2] => [3, 6]\n",
            "array2d[[0,1], 0:2] => [[1, 2], [4, 5]]\n",
            "array2d[[0,1]] => [[1, 2, 3], [4, 5, 6]]\n"
          ]
        }
      ]
    },
    {
      "cell_type": "markdown",
      "source": [
        "- 불린 인덱싱(Boolean Indexing)\n",
        " - 데이터 세트: ndarray 타입\n",
        " - 조건 필터링과 검색 동시 가능 > 매우 자주 사용됨\n",
        " - for loop/if else 문보다 훨씬 간단하게 데이터에 조건을 걸어 그 조건에 맞는 데이터만 인덱싱 가능\n",
        "\n",
        " > 방법: ndarray의 인덱스를 지정하는 []내에 조건문을 그대로 기재\n",
        " - ndarray[원하는 필터링 조건]"
      ],
      "metadata": {
        "id": "VOw4YgTipwnD"
      }
    },
    {
      "cell_type": "code",
      "source": [
        "array1d = np.arange(start=1, stop=10)\n",
        "# [ ] 안에 array1d > 5 Boolean indexing을 적용\n",
        "array3 = array1d[array1d > 5]\n",
        "print('array1d > 5 불린 인덱싱 결과 값 :', array3)"
      ],
      "metadata": {
        "colab": {
          "base_uri": "https://localhost:8080/"
        },
        "id": "vIjV6_OTqdF0",
        "outputId": "b952d4aa-d4db-40a4-b7b3-62d412212403"
      },
      "execution_count": 39,
      "outputs": [
        {
          "output_type": "stream",
          "name": "stdout",
          "text": [
            "array1d > 5 불린 인덱싱 결과 값 : [6 7 8 9]\n"
          ]
        }
      ]
    },
    {
      "cell_type": "markdown",
      "source": [
        "> 어떻게 조건 필터링이 이루어져 이런 결과를 내는가?\n",
        "- Step1: ndarray 에 조건식을 붙일 시, 그 조건식의 각각의 답인 False/True로 이뤄진 nadarray 객체 반환됨 \n",
        "- Step2: 이 조건으로 반환된 ndarray 객체를 인덱싱 지정한느 [ ] 에 입력 시, False 값 무시, 'True 값이 있는 위치 인덱스 값' (True 값 자체인 1 저장 X)으로 자동 변환\n",
        "- Step3: 변환되어 저장된  인덱스 위치의 데이터만 반환"
      ],
      "metadata": {
        "id": "aH6EUcxAq7Jg"
      }
    },
    {
      "cell_type": "code",
      "source": [
        "array1d > 5\n",
        "# 결과를 [ ]에 집어넣을 시: True 값인 인덱스 [5,6,7,8]이 만들어짐 \n",
        "# > 이 위치 인덱스에 해당한느 데이터 세트 [6,7,8,9] 반환"
      ],
      "metadata": {
        "colab": {
          "base_uri": "https://localhost:8080/"
        },
        "id": "JRRL-fmAq_1v",
        "outputId": "93fbede2-521f-4df1-9ed6-d3a4d80a1368"
      },
      "execution_count": 40,
      "outputs": [
        {
          "output_type": "execute_result",
          "data": {
            "text/plain": [
              "array([False, False, False, False, False,  True,  True,  True,  True])"
            ]
          },
          "metadata": {},
          "execution_count": 40
        }
      ]
    },
    {
      "cell_type": "code",
      "source": [
        "boolean_indexes = np.array([False, False, False, False, False,  True,  True,  True,  True])\n",
        "array3 = array1d[boolean_indexes]\n",
        "print('불린 인덱스로 필터링 결과 :', array3)\n",
        "# 결과: 위, 아래와 같음"
      ],
      "metadata": {
        "colab": {
          "base_uri": "https://localhost:8080/"
        },
        "id": "ioKUjxPDsUUr",
        "outputId": "69a77234-6f10-45d5-a5d9-2210849366c3"
      },
      "execution_count": 41,
      "outputs": [
        {
          "output_type": "stream",
          "name": "stdout",
          "text": [
            "불린 인덱스로 필터링 결과 : [6 7 8 9]\n"
          ]
        }
      ]
    },
    {
      "cell_type": "code",
      "source": [
        "indexes = np.array([5,6,7,8])\n",
        "array4 = array1d[indexes]\n",
        "print('일반 인덱스로 필터링 결과 :', array4)"
      ],
      "metadata": {
        "colab": {
          "base_uri": "https://localhost:8080/"
        },
        "id": "WK6qC6HWs8Gn",
        "outputId": "3c0d3b6f-1fbe-4a49-a1f0-e1bcc318b215"
      },
      "execution_count": 42,
      "outputs": [
        {
          "output_type": "stream",
          "name": "stdout",
          "text": [
            "일반 인덱스로 필터링 결과 : [6 7 8 9]\n"
          ]
        }
      ]
    },
    {
      "cell_type": "markdown",
      "source": [
        "**7)행렬의 정렬 - sort()와 argsort()**\n",
        "\n",
        "넘파이의 행렬 정렬의 대표적인 방법: np.sort() & ndarray.sort()\n",
        "\n",
        "정렬된 행렬의 인덱스 반환: argsort()"
      ],
      "metadata": {
        "id": "hx68gYf-t3Zh"
      }
    },
    {
      "cell_type": "markdown",
      "source": [
        "- 행렬 정렬\n",
        "\n",
        "1) np.sort() : 원 행렬 그대로 유지한 채, 원 행렬의 정렬된 행렬 반환\n",
        "> 사용법: np.sort(정렬하고자 하는 행렬)\n",
        "\n",
        "2) ndarray.sort() : 원 행렬 자체를 정렬한 형태로 변환, 반환값 = None\n",
        "> 사용법: 정렬하고자 하는 행렬.sort()\n",
        "\n",
        " - 둘 모두 기본적으로 오름차순으로 행렬 내 원소를 정렬"
      ],
      "metadata": {
        "id": "_BCvKXT0uWOI"
      }
    },
    {
      "cell_type": "code",
      "source": [
        "org_array = np.array([ 3, 1, 9, 5])\n",
        "print('원본 행렬:', org_array)\n",
        "#np.sort()로 정렬\n",
        "sort_array1 = np.sort(org_array)\n",
        "print('np.sort() 호출 후 반환된 정렬 행렬:', sort_array1)\n",
        "print('np.sort() 호출 후 원본 행렬:', org_array)\n",
        "# 결과: 원본 행렬 변경하지 않고 정렬된 형태로 반환\n",
        "\n",
        "# ndarray.sort()로 정렬\n",
        "sort_array2 = org_array.sort()\n",
        "print('org_array.sort() 호출 후 반환된 행렬:',sort_array2)\n",
        "print('org_array.sort() 호출 후 원본 행렬:',org_array)\n",
        "# 결과: 원본 행렬 자체를 정렬한 값으로 변환"
      ],
      "metadata": {
        "colab": {
          "base_uri": "https://localhost:8080/"
        },
        "id": "qSDmgCXquV3S",
        "outputId": "16b18211-e8a5-42ec-c704-126366a544ee"
      },
      "execution_count": 43,
      "outputs": [
        {
          "output_type": "stream",
          "name": "stdout",
          "text": [
            "원본 행렬: [3 1 9 5]\n",
            "np.sort() 호출 후 반환된 정렬 행렬: [1 3 5 9]\n",
            "np.sort() 호출 후 원본 행렬: [3 1 9 5]\n",
            "org_array.sort() 호출 후 반환된 행렬: None\n",
            "org_array.sort() 호출 후 원본 행렬: [1 3 5 9]\n"
          ]
        }
      ]
    },
    {
      "cell_type": "markdown",
      "source": [
        " - 내림차순으로 정렬하려면? \n",
        " : [::-1] 적용\n",
        " \n",
        " ex. np.sort()[::-1]"
      ],
      "metadata": {
        "id": "3fyD_yygxnLV"
      }
    },
    {
      "cell_type": "code",
      "source": [
        "sort_array1_desc = np.sort(org_array)[::-1]\n",
        "print ('내림차순으로 정렬:', sort_array1_desc)"
      ],
      "metadata": {
        "colab": {
          "base_uri": "https://localhost:8080/"
        },
        "id": "Ke5YlNaQyF0X",
        "outputId": "84dbb813-64b5-49d6-b17b-6630e6ffb519"
      },
      "execution_count": 44,
      "outputs": [
        {
          "output_type": "stream",
          "name": "stdout",
          "text": [
            "내림차순으로 정렬: [9 5 3 1]\n"
          ]
        }
      ]
    },
    {
      "cell_type": "markdown",
      "source": [
        " - 행렬이 2차원 이상일 경우?\n",
        " : axis축 값 설정 통해 로우 방향, 칼럼 방향으로 정렬 수행 가능"
      ],
      "metadata": {
        "id": "galGLxL1ygUt"
      }
    },
    {
      "cell_type": "code",
      "source": [
        "array2d = np.array([[8,12],\n",
        "                    [7,1 ]])\n",
        "sort_array2d_axis0 = np.sort(array2d, axis=0)\n",
        "print('로우 방향으로 정렬:\\n', sort_array2d_axis0)\n",
        "\n",
        "sort_array2d_axis1 = np.sort(array2d, axis=1)\n",
        "print('칼럼 방향으로 정렬:\\n', sort_array2d_axis1)"
      ],
      "metadata": {
        "colab": {
          "base_uri": "https://localhost:8080/"
        },
        "id": "aMeYEAAxyrXm",
        "outputId": "25e27031-dc8e-4f8d-e288-0c76b93a669a"
      },
      "execution_count": 46,
      "outputs": [
        {
          "output_type": "stream",
          "name": "stdout",
          "text": [
            "로우 방향으로 정렬:\n",
            " [[ 7  1]\n",
            " [ 8 12]]\n",
            "칼럼 방향으로 정렬:\n",
            " [[ 8 12]\n",
            " [ 1  7]]\n"
          ]
        }
      ]
    },
    {
      "cell_type": "markdown",
      "source": [
        "- 정렬된 행렬의 인덱스를 반환하기\n",
        "\n",
        "> np.argsort() : 원본 행렬이 정렬되었을 때, 기존 원본 행렬 원소에 대한 인덱스 필요 시 사용\n",
        " - np.argsort() : 정렬 행렬의 원본 행렬 인덱스를 ndarray 형으로 반환"
      ],
      "metadata": {
        "id": "H7jxaKsL0TxW"
      }
    },
    {
      "cell_type": "code",
      "source": [
        "org_array = np.array([ 3, 1, 9, 5])\n",
        "sort_indices = np.argsort(org_array)\n",
        "print(type(sort_indices))\n",
        "print('행렬 정렬 시 원본 행렬의 인덱스:', sort_indices)"
      ],
      "metadata": {
        "colab": {
          "base_uri": "https://localhost:8080/"
        },
        "id": "wVxJjw-_0Se8",
        "outputId": "cedeaf82-e5ea-4de2-f905-3c2b736a1f57"
      },
      "execution_count": 47,
      "outputs": [
        {
          "output_type": "stream",
          "name": "stdout",
          "text": [
            "<class 'numpy.ndarray'>\n",
            "행렬 정렬 시 원본 행렬의 인덱스: [1 0 3 2]\n"
          ]
        }
      ]
    },
    {
      "cell_type": "markdown",
      "source": [
        " - 내림차순으로 정렬했다면?\n",
        " : [::-1] 적용\n",
        " \n",
        " ex. np.argsort()[::-1]"
      ],
      "metadata": {
        "id": "PXKXJ4mo1Zm3"
      }
    },
    {
      "cell_type": "code",
      "source": [
        "org_array = np.array([ 3, 1, 9, 5])\n",
        "sort_indices_desc = np.argsort(org_array)[::-1]\n",
        "print(' 행렬 내림차순 정렬 시 원본 행렬의 인덱스:', sort_indices_desc)"
      ],
      "metadata": {
        "colab": {
          "base_uri": "https://localhost:8080/"
        },
        "id": "Y_lYELDC18fc",
        "outputId": "66e7cddb-db72-42c4-fd72-c98b4cdd0816"
      },
      "execution_count": 48,
      "outputs": [
        {
          "output_type": "stream",
          "name": "stdout",
          "text": [
            " 행렬 내림차순 정렬 시 원본 행렬의 인덱스: [2 3 0 1]\n"
          ]
        }
      ]
    },
    {
      "cell_type": "markdown",
      "source": [
        " - 넘파이의 ndarray: 메타 데이터 가질 수 X > 실제 값과 그 값이 뜻한느 메타 데이터를 별도의 ndarray로 각각 가져야 함 \n",
        "\n",
        " ex. 학생 이름 / 시험 성적 > 각각의 ndarray\n",
        "\n",
        " - 이때, 어떤 하나의 오름차순/내림차순으로 다른 하나를 출력하고자 할 시, np.argsort(오름차순/내림차순의 기준에 되는 ndarray)에서 반환된 인덱스를 다른 하나에 팬시 인덱스로 적용해 추출 가능\n",
        "  - 넘파이의 데이터 추출에서 많이 사용됨\n"
      ],
      "metadata": {
        "id": "oipDu19U5sj-"
      }
    },
    {
      "cell_type": "code",
      "source": [
        "import numpy as np\n",
        "\n",
        "name_array = np.array(['john', 'Mike', 'Sarah', 'Kate', 'Samuel'])\n",
        "score_array = np.array([78,95,84,98,88])\n",
        "\n",
        "sort_indices_asc = np.argsort(score_array)\n",
        "print('성적 오름차순 정렬 시 score_array의 인덱스:', sort_indices_asc)\n",
        "print('성적 오름차순으로 name_array의 이름 출력:', name_array[sort_indices_asc])"
      ],
      "metadata": {
        "colab": {
          "base_uri": "https://localhost:8080/"
        },
        "id": "ZoNBKiQa6pRY",
        "outputId": "8f241c3a-b1f6-47bd-db71-37d94714683b"
      },
      "execution_count": 49,
      "outputs": [
        {
          "output_type": "stream",
          "name": "stdout",
          "text": [
            "성적 오름차순 정렬 시 score_array의 인덱스: [0 2 4 1 3]\n",
            "성적 오름차순으로 name_array의 이름 출력: ['john' 'Sarah' 'Samuel' 'Mike' 'Kate']\n"
          ]
        }
      ]
    },
    {
      "cell_type": "markdown",
      "source": [
        "**8)행렬의 정렬 - sort()와 argsort()**\n",
        "\n",
        "1) 행렬 내적(행렬 곱)\n",
        "\n",
        "np.dot() : 두 행렬 A와 B의 내적 계산 가능\n",
        "\n",
        "- 두 행렬 A와 B 내적 = 왼쪽 행렬의 로우(행)과 오른쪽 행렬의 칼럼(열)의 원소들을 순차적으로 곱한 뒤 그 결과를 모두 더한 값\n",
        "\n",
        "- 왼쪽 행렬의 열 개수와 오른쪽 행렬의 행 개수가 동일해야 내적 계산 가능 "
      ],
      "metadata": {
        "id": "TiT7Df0s-0Hb"
      }
    },
    {
      "cell_type": "code",
      "source": [
        "A = np.array( [[1,2,3],\n",
        "               [4,5,6]] )\n",
        "B = np.array( [[7,8],\n",
        "               [9,10],\n",
        "               [11,12]] )\n",
        "dot_product = np.dot(A, B)\n",
        "print('행렬 내적 결과:\\n', dot_product)"
      ],
      "metadata": {
        "colab": {
          "base_uri": "https://localhost:8080/"
        },
        "id": "bbwDYYe3_kyR",
        "outputId": "f0445134-610e-4a0b-fc8a-4ef80bc4dd97"
      },
      "execution_count": 51,
      "outputs": [
        {
          "output_type": "stream",
          "name": "stdout",
          "text": [
            "행렬 내적 결과:\n",
            " [[ 58  64]\n",
            " [139 154]]\n"
          ]
        }
      ]
    },
    {
      "cell_type": "markdown",
      "source": [
        "2) 전치 행렬\n",
        "\n",
        "np.transpose(행렬) : 그 행렬의 전치행렬\n",
        "\n",
        "- 전치 행렬 : 원 행렬에서 행과 열 위치를 교환한 원소로 구성한 행렬 ( = A^T)"
      ],
      "metadata": {
        "id": "SS5Ve4z5AGH8"
      }
    },
    {
      "cell_type": "code",
      "source": [
        "A = np.array( [[1,2],\n",
        "               [3,4]] )\n",
        "transpose_mat = np.transpose(A)\n",
        "print('A의 전치 행렬:\\n', transpose_mat)"
      ],
      "metadata": {
        "colab": {
          "base_uri": "https://localhost:8080/"
        },
        "id": "gvaN5XDsAjcd",
        "outputId": "714e563b-ba0e-4413-8e21-3170fb54bd9c"
      },
      "execution_count": 52,
      "outputs": [
        {
          "output_type": "stream",
          "name": "stdout",
          "text": [
            "A의 전치 행렬:\n",
            " [[1 3]\n",
            " [2 4]]\n"
          ]
        }
      ]
    }
  ]
}