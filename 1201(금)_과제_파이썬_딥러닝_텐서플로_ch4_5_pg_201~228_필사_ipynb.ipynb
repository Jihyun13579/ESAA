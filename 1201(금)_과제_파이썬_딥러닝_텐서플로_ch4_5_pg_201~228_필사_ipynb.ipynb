{
  "nbformat": 4,
  "nbformat_minor": 0,
  "metadata": {
    "colab": {
      "provenance": [],
      "authorship_tag": "ABX9TyO1tFBTjz+CCwqLVN/6ps+0",
      "include_colab_link": true
    },
    "kernelspec": {
      "name": "python3",
      "display_name": "Python 3"
    },
    "language_info": {
      "name": "python"
    }
  },
  "cells": [
    {
      "cell_type": "markdown",
      "metadata": {
        "id": "view-in-github",
        "colab_type": "text"
      },
      "source": [
        "<a href=\"https://colab.research.google.com/github/Jihyun13579/ESAA/blob/main/1201(%EA%B8%88)_%EA%B3%BC%EC%A0%9C_%ED%8C%8C%EC%9D%B4%EC%8D%AC_%EB%94%A5%EB%9F%AC%EB%8B%9D_%ED%85%90%EC%84%9C%ED%94%8C%EB%A1%9C_ch4_5_pg_201~228_%ED%95%84%EC%82%AC_ipynb.ipynb\" target=\"_parent\"><img src=\"https://colab.research.google.com/assets/colab-badge.svg\" alt=\"Open In Colab\"/></a>"
      ]
    },
    {
      "cell_type": "markdown",
      "source": [
        "# 1201(금) 과제_파이썬 딥러닝 텐서플로 ch4. 5 pg. 201~228 필사\n",
        "### 2129014 박지현"
      ],
      "metadata": {
        "id": "zCg4GMt_-O29"
      }
    },
    {
      "cell_type": "markdown",
      "source": [
        "# PART 04. 합성곱 신경망(CNN)"
      ],
      "metadata": {
        "id": "uJb5mbUAS7Dv"
      }
    },
    {
      "cell_type": "markdown",
      "source": [
        "## PART 04.05. 개/고양이 분류"
      ],
      "metadata": {
        "id": "o9DHx9c-sR3W"
      }
    },
    {
      "cell_type": "markdown",
      "source": [
        "### 5-1. 분석 준비"
      ],
      "metadata": {
        "id": "2cGOdk4b-iWo"
      }
    },
    {
      "cell_type": "markdown",
      "source": [
        "#### 5-1-1. 데이터셋 다운로드"
      ],
      "metadata": {
        "id": "2zHYOdg-DQov"
      }
    },
    {
      "cell_type": "markdown",
      "source": [
        "#### 5-1-2. 라이브러리 불러오기"
      ],
      "metadata": {
        "id": "9UONrKdSDdWM"
      }
    },
    {
      "cell_type": "code",
      "source": [
        "import tensorflow as tf\n",
        "from tensorflow.keras.preprocessing.image import ImageDataGenerator\n",
        "\n",
        "import numpy as np\n",
        "import matplotlib.pylab as plt"
      ],
      "metadata": {
        "id": "-Xg8igfy-OiY"
      },
      "execution_count": 1,
      "outputs": []
    },
    {
      "cell_type": "code",
      "execution_count": null,
      "metadata": {
        "id": "akqLKwfN-DhQ"
      },
      "outputs": [],
      "source": []
    }
  ]
}